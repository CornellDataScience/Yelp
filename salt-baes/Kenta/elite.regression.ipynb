{
 "cells": [
  {
   "cell_type": "markdown",
   "metadata": {},
   "source": [
    "## Building a Classifier for the Elite Types"
   ]
  },
  {
   "cell_type": "markdown",
   "metadata": {},
   "source": [
    "#### Import libraries"
   ]
  },
  {
   "cell_type": "code",
   "execution_count": 1,
   "metadata": {
    "collapsed": true
   },
   "outputs": [],
   "source": [
    "import json\n",
    "import os\n",
    "import pandas as pd\n",
    "import matplotlib.pyplot as plt\n",
    "import numpy as np"
   ]
  },
  {
   "cell_type": "markdown",
   "metadata": {},
   "source": [
    "#### Load files (might take some time)"
   ]
  },
  {
   "cell_type": "code",
   "execution_count": 2,
   "metadata": {
    "collapsed": false
   },
   "outputs": [],
   "source": [
    "review=[]\n",
    "with open('../../hduser1/Yelp/review.json') as json_file:\n",
    "    for line in json_file:\n",
    "        review.append(json.loads(line))\n",
    "review_df = pd.DataFrame(review)\n",
    "\n",
    "users=[]\n",
    "with open('../../hduser1/Yelp/user.json') as json_file:\n",
    "    for line in json_file:\n",
    "        users.append(json.loads(line))\n",
    "user_df = pd.DataFrame(users)\n",
    "\n",
    "tips=[]\n",
    "with open('../../hduser1/Yelp/tip.json') as json_file:\n",
    "    for line in json_file:\n",
    "        tips.append(json.loads(line))\n",
    "tip_df = pd.DataFrame(tips)\n",
    "\n",
    "business=[]\n",
    "with open('../../hduser1/Yelp/business.json') as json_file:\n",
    "    for line in json_file:\n",
    "        business.append(json.loads(line))\n",
    "business_df = pd.DataFrame(business)"
   ]
  },
  {
   "cell_type": "code",
   "execution_count": 3,
   "metadata": {
    "collapsed": false
   },
   "outputs": [
    {
     "data": {
      "text/html": [
       "<div>\n",
       "<table border=\"1\" class=\"dataframe\">\n",
       "  <thead>\n",
       "    <tr style=\"text-align: right;\">\n",
       "      <th></th>\n",
       "      <th>business_id</th>\n",
       "      <th>cool</th>\n",
       "      <th>date</th>\n",
       "      <th>funny</th>\n",
       "      <th>review_id</th>\n",
       "      <th>stars</th>\n",
       "      <th>text</th>\n",
       "      <th>type</th>\n",
       "      <th>useful</th>\n",
       "      <th>user_id</th>\n",
       "    </tr>\n",
       "  </thead>\n",
       "  <tbody>\n",
       "    <tr>\n",
       "      <th>0</th>\n",
       "      <td>2aFiy99vNLklCx3T_tGS9A</td>\n",
       "      <td>0</td>\n",
       "      <td>2011-10-10</td>\n",
       "      <td>0</td>\n",
       "      <td>NxL8SIC5yqOdnlXCg18IBg</td>\n",
       "      <td>5</td>\n",
       "      <td>If you enjoy service by someone who is as comp...</td>\n",
       "      <td>review</td>\n",
       "      <td>0</td>\n",
       "      <td>KpkOkG6RIf4Ra25Lhhxf1A</td>\n",
       "    </tr>\n",
       "    <tr>\n",
       "      <th>1</th>\n",
       "      <td>2aFiy99vNLklCx3T_tGS9A</td>\n",
       "      <td>0</td>\n",
       "      <td>2010-12-29</td>\n",
       "      <td>0</td>\n",
       "      <td>pXbbIgOXvLuTi_SPs1hQEQ</td>\n",
       "      <td>5</td>\n",
       "      <td>After being on the phone with Verizon Wireless...</td>\n",
       "      <td>review</td>\n",
       "      <td>1</td>\n",
       "      <td>bQ7fQq1otn9hKX-gXRsrgA</td>\n",
       "    </tr>\n",
       "    <tr>\n",
       "      <th>2</th>\n",
       "      <td>2aFiy99vNLklCx3T_tGS9A</td>\n",
       "      <td>0</td>\n",
       "      <td>2011-04-29</td>\n",
       "      <td>0</td>\n",
       "      <td>wslW2Lu4NYylb1jEapAGsw</td>\n",
       "      <td>5</td>\n",
       "      <td>Great service! Corey is very service oriented....</td>\n",
       "      <td>review</td>\n",
       "      <td>0</td>\n",
       "      <td>r1NUhdNmL6yU9Bn-Yx6FTw</td>\n",
       "    </tr>\n",
       "  </tbody>\n",
       "</table>\n",
       "</div>"
      ],
      "text/plain": [
       "              business_id  cool        date  funny               review_id  \\\n",
       "0  2aFiy99vNLklCx3T_tGS9A     0  2011-10-10      0  NxL8SIC5yqOdnlXCg18IBg   \n",
       "1  2aFiy99vNLklCx3T_tGS9A     0  2010-12-29      0  pXbbIgOXvLuTi_SPs1hQEQ   \n",
       "2  2aFiy99vNLklCx3T_tGS9A     0  2011-04-29      0  wslW2Lu4NYylb1jEapAGsw   \n",
       "\n",
       "   stars                                               text    type  useful  \\\n",
       "0      5  If you enjoy service by someone who is as comp...  review       0   \n",
       "1      5  After being on the phone with Verizon Wireless...  review       1   \n",
       "2      5  Great service! Corey is very service oriented....  review       0   \n",
       "\n",
       "                  user_id  \n",
       "0  KpkOkG6RIf4Ra25Lhhxf1A  \n",
       "1  bQ7fQq1otn9hKX-gXRsrgA  \n",
       "2  r1NUhdNmL6yU9Bn-Yx6FTw  "
      ]
     },
     "execution_count": 3,
     "metadata": {},
     "output_type": "execute_result"
    }
   ],
   "source": [
    "review_df.head(3)"
   ]
  },
  {
   "cell_type": "markdown",
   "metadata": {},
   "source": [
    "#### Look up user from user.json and define the elite status"
   ]
  },
  {
   "cell_type": "code",
   "execution_count": 4,
   "metadata": {
    "collapsed": false
   },
   "outputs": [],
   "source": [
    "# dictionary that maps user_id to the index in array\n",
    "user_dict = {}\n",
    "count = 0\n",
    "for u in users:\n",
    "    user_dict[u['user_id']] = count\n",
    "    count += 1"
   ]
  },
  {
   "cell_type": "code",
   "execution_count": 7,
   "metadata": {
    "collapsed": true
   },
   "outputs": [],
   "source": [
    "# helper function for apply\n",
    "def is_elite(x):\n",
    "    # year = pd.to_datetime(x['date']).date().year\n",
    "    year = x['date'].split('-')[0]\n",
    "    user_idx = user_dict[x['user_id']]\n",
    "    return year in users[user_idx]['elite']\n",
    "\n",
    "# helper function for apply\n",
    "def is_future_elite(x):\n",
    "    # year = pd.to_datetime(x['date']).date().year\n",
    "    year = x['date'].split('-')[0]\n",
    "    user_idx = user_dict[x['user_id']]\n",
    "    return str(int(year)+1) in users[user_idx]['elite']"
   ]
  },
  {
   "cell_type": "markdown",
   "metadata": {},
   "source": [
    "Avoid using pd.timestamp!\n",
    "\n",
    "It takes forever. (The cell below still takes long time)\n",
    "\n",
    "Let me know if someone knows better way to code this"
   ]
  },
  {
   "cell_type": "code",
   "execution_count": 8,
   "metadata": {
    "collapsed": false
   },
   "outputs": [],
   "source": [
    "tip_df['by_elite'] = tip_df.apply(is_elite, axis = 1)\n",
    "tip_df['by_future_elite'] = tip_df.apply(is_future_elite, axis = 1)\n",
    "review_df['by_elite'] = review_df.apply(is_elite, axis = 1)\n",
    "review_df['by_future_elite'] = review_df.apply(is_future_elite, axis = 1)"
   ]
  },
  {
   "cell_type": "code",
   "execution_count": 9,
   "metadata": {
    "collapsed": false
   },
   "outputs": [],
   "source": [
    "# user0 : non-elite\n",
    "# user1 : real-elite\n",
    "# user2 : potential-elite\n",
    "# user3 : slack-elite\n",
    "\n",
    "review_type0 = review_df.ix[~((review_df['by_elite'])) & ~((review_df['by_future_elite']))]['business_id'] # non-elites\n",
    "review_type1 = review_df.ix[ (review_df['by_elite']) &  (review_df['by_future_elite'])]['business_id'] # real elites\n",
    "review_type2 = review_df.ix[~(review_df['by_elite']) &  (review_df['by_future_elite'])]['business_id'] # potential\n",
    "review_type3 = review_df.ix[ (review_df['by_elite']) & ~(review_df['by_future_elite'])]['business_id'] # slack\n",
    "\n",
    "type0_r = business_df.ix[business_df.business_id.isin(review_type0)]\n",
    "type1_r = business_df.ix[business_df.business_id.isin(review_type1)]\n",
    "type2_r = business_df.ix[business_df.business_id.isin(review_type2)]\n",
    "type3_r = business_df.ix[business_df.business_id.isin(review_type3)]"
   ]
  },
  {
   "cell_type": "code",
   "execution_count": 10,
   "metadata": {
    "collapsed": false
   },
   "outputs": [],
   "source": [
    "review_df['category'] = 'Non-elite'"
   ]
  },
  {
   "cell_type": "code",
   "execution_count": 11,
   "metadata": {
    "collapsed": false
   },
   "outputs": [],
   "source": [
    "review_df.loc[review_df.ix[((review_df['by_elite'])) & ((review_df['by_future_elite']))].index,['category'] ] = 'Real-elite'\n",
    "review_df.loc[review_df.ix[(~(review_df['by_elite'])) & ((review_df['by_future_elite']))].index,['category'] ] = 'Potential-elite'\n",
    "review_df.loc[review_df.ix[((review_df['by_elite'])) & (~(review_df['by_future_elite']))].index,['category'] ] = 'Slack-elite'"
   ]
  },
  {
   "cell_type": "code",
   "execution_count": 12,
   "metadata": {
    "collapsed": false
   },
   "outputs": [],
   "source": [
    "non_elite_review_id = review_df.ix[review_df['category'] == 'Non-elite']['review_id']\n",
    "real_elite_review_id = review_df.ix[review_df['category'] == 'Real-elite']['review_id']\n",
    "slack_elite_review_id = review_df.ix[review_df['category'] == 'Slack-elite']['review_id']\n",
    "potential_elite_review_id = review_df.ix[review_df['category'] == 'Potential-elite']['review_id']"
   ]
  },
  {
   "cell_type": "code",
   "execution_count": 13,
   "metadata": {
    "collapsed": false
   },
   "outputs": [
    {
     "name": "stdout",
     "output_type": "stream",
     "text": [
      "3232165\n",
      "725732\n",
      "79660\n",
      "115593\n"
     ]
    }
   ],
   "source": [
    "print(len(non_elite_review_id))\n",
    "print(len(real_elite_review_id))\n",
    "print(len(slack_elite_review_id))\n",
    "print(len(potential_elite_review_id))"
   ]
  },
  {
   "cell_type": "code",
   "execution_count": 18,
   "metadata": {
    "collapsed": false
   },
   "outputs": [],
   "source": [
    "# creating pickle for the later use\n",
    "import pickle\n",
    "pickle.dump(non_elite_review_id, open('non_elite_review_id.p','wb'))\n",
    "pickle.dump(real_elite_review_id, open('real_elite_review_id.p','wb'))\n",
    "pickle.dump(slack_elite_review_id, open('slack_elite_review_id.p','wb'))\n",
    "pickle.dump(potential_elite_review_id, open('potential_elite_review_id.p','wb'))"
   ]
  },
  {
   "cell_type": "code",
   "execution_count": 26,
   "metadata": {
    "collapsed": true
   },
   "outputs": [],
   "source": [
    "# example loading them into your local environment\n",
    "test= pickle.load(open('slack_elite_review_id.p','rb'))"
   ]
  },
  {
   "cell_type": "code",
   "execution_count": 23,
   "metadata": {
    "collapsed": true
   },
   "outputs": [],
   "source": [
    "# writing csv for the future use\n",
    "review_df.to_csv('review_w_category.csv', encoding = 'utf-8')"
   ]
  },
  {
   "cell_type": "code",
   "execution_count": 24,
   "metadata": {
    "collapsed": false
   },
   "outputs": [
    {
     "name": "stderr",
     "output_type": "stream",
     "text": [
      "/usr/local/lib/python2.7/dist-packages/IPython/core/interactiveshell.py:2717: DtypeWarning: Columns (0,4,6,11,12) have mixed types. Specify dtype option on import or set low_memory=False.\n",
      "  interactivity=interactivity, compiler=compiler, result=result)\n"
     ]
    }
   ],
   "source": [
    "# eample loading csv file as a pd.DataFrame\n",
    "review_test = pd.read_csv('review_w_category.csv', encoding = 'utf8')"
   ]
  },
  {
   "cell_type": "markdown",
   "metadata": {},
   "source": [
    "#### Tried naive classification (won't work)"
   ]
  },
  {
   "cell_type": "code",
   "execution_count": 39,
   "metadata": {
    "collapsed": true
   },
   "outputs": [],
   "source": [
    "from sklearn.model_selection import train_test_split\n",
    "train_id, test_id, train_label, test_label = train_test_split(review_df['review_id'], review_df['category'], test_size=0.2, random_state=42)"
   ]
  },
  {
   "cell_type": "code",
   "execution_count": 47,
   "metadata": {
    "collapsed": false
   },
   "outputs": [],
   "source": [
    "train = review_df.ix[review_df['review_id'].isin(train_id)]\n",
    "test = review_df.ix[review_df['review_id'].isin(test_id)]"
   ]
  },
  {
   "cell_type": "code",
   "execution_count": 54,
   "metadata": {
    "collapsed": false
   },
   "outputs": [
    {
     "data": {
      "text/plain": [
       "LogisticRegression(C=1.0, class_weight=None, dual=False, fit_intercept=True,\n",
       "          intercept_scaling=1, max_iter=100, multi_class='ovr', n_jobs=1,\n",
       "          penalty='l2', random_state=None, solver='liblinear', tol=0.0001,\n",
       "          verbose=0, warm_start=False)"
      ]
     },
     "execution_count": 54,
     "metadata": {},
     "output_type": "execute_result"
    }
   ],
   "source": [
    "from sklearn.linear_model import LogisticRegression\n",
    "model = LogisticRegression()\n",
    "model.fit(pd.concat([train['cool'], train['funny'], train['stars'], train['useful']], axis=1), train_label)"
   ]
  },
  {
   "cell_type": "code",
   "execution_count": 56,
   "metadata": {
    "collapsed": false
   },
   "outputs": [],
   "source": [
    "prediction = model.predict(pd.concat([test['cool'], test['funny'], test['stars'], test['useful']], axis=1))"
   ]
  },
  {
   "cell_type": "code",
   "execution_count": 57,
   "metadata": {
    "collapsed": false
   },
   "outputs": [
    {
     "data": {
      "text/plain": [
       "0.77824753500355148"
      ]
     },
     "execution_count": 57,
     "metadata": {},
     "output_type": "execute_result"
    }
   ],
   "source": [
    "model.score(pd.concat([train['cool'], train['funny'], train['stars'], train['useful']], axis=1), train_label)"
   ]
  },
  {
   "cell_type": "code",
   "execution_count": 60,
   "metadata": {
    "collapsed": false
   },
   "outputs": [
    {
     "data": {
      "text/plain": [
       "0.77823098130334811"
      ]
     },
     "execution_count": 60,
     "metadata": {},
     "output_type": "execute_result"
    }
   ],
   "source": [
    "from sklearn.metrics import accuracy_score\n",
    "accuracy_score(test_label, prediction)"
   ]
  },
  {
   "cell_type": "code",
   "execution_count": 61,
   "metadata": {
    "collapsed": false
   },
   "outputs": [
    {
     "data": {
      "text/plain": [
       "array([[646422,      0,      0,      0],\n",
       "       [ 23129,      0,      0,      0],\n",
       "       [145019,      0,      0,      0],\n",
       "       [ 16060,      0,      0,      0]])"
      ]
     },
     "execution_count": 61,
     "metadata": {},
     "output_type": "execute_result"
    }
   ],
   "source": [
    "from sklearn.metrics import confusion_matrix\n",
    "confusion_matrix(test_label, prediction)"
   ]
  },
  {
   "cell_type": "markdown",
   "metadata": {},
   "source": [
    "#### To-Do\n",
    "* Over/under sampling\n",
    "* Adding more features"
   ]
  },
  {
   "cell_type": "code",
   "execution_count": null,
   "metadata": {
    "collapsed": true
   },
   "outputs": [],
   "source": []
  }
 ],
 "metadata": {
  "kernelspec": {
   "display_name": "Python 2",
   "language": "python",
   "name": "python2"
  },
  "language_info": {
   "codemirror_mode": {
    "name": "ipython",
    "version": 2
   },
   "file_extension": ".py",
   "mimetype": "text/x-python",
   "name": "python",
   "nbconvert_exporter": "python",
   "pygments_lexer": "ipython2",
   "version": "2.7.6"
  }
 },
 "nbformat": 4,
 "nbformat_minor": 2
}
