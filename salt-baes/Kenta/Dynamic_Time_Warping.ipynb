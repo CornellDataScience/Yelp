{
 "cells": [
  {
   "cell_type": "code",
   "execution_count": 1,
   "metadata": {
    "collapsed": true
   },
   "outputs": [],
   "source": [
    "%matplotlib inline\n",
    "import json\n",
    "import os\n",
    "import pandas as pd\n",
    "import matplotlib.pyplot as plt\n",
    "import numpy as np\n",
    "import pickle"
   ]
  },
  {
   "cell_type": "code",
   "execution_count": 2,
   "metadata": {
    "collapsed": true
   },
   "outputs": [],
   "source": [
    "users=[]\n",
    "with open('../../hduser1/Yelp/user.json') as json_file:\n",
    "    for line in json_file:\n",
    "        users.append(json.loads(line))\n",
    "user_df = pd.DataFrame(users)"
   ]
  },
  {
   "cell_type": "code",
   "execution_count": 3,
   "metadata": {
    "collapsed": false
   },
   "outputs": [
    {
     "data": {
      "text/html": [
       "<div>\n",
       "<table border=\"1\" class=\"dataframe\">\n",
       "  <thead>\n",
       "    <tr style=\"text-align: right;\">\n",
       "      <th></th>\n",
       "      <th>average_stars</th>\n",
       "      <th>compliment_cool</th>\n",
       "      <th>compliment_cute</th>\n",
       "      <th>compliment_funny</th>\n",
       "      <th>compliment_hot</th>\n",
       "      <th>compliment_list</th>\n",
       "      <th>compliment_more</th>\n",
       "      <th>compliment_note</th>\n",
       "      <th>compliment_photos</th>\n",
       "      <th>compliment_plain</th>\n",
       "      <th>...</th>\n",
       "      <th>elite</th>\n",
       "      <th>fans</th>\n",
       "      <th>friends</th>\n",
       "      <th>funny</th>\n",
       "      <th>name</th>\n",
       "      <th>review_count</th>\n",
       "      <th>type</th>\n",
       "      <th>useful</th>\n",
       "      <th>user_id</th>\n",
       "      <th>yelping_since</th>\n",
       "    </tr>\n",
       "  </thead>\n",
       "  <tbody>\n",
       "    <tr>\n",
       "      <th>0</th>\n",
       "      <td>3.59</td>\n",
       "      <td>4192</td>\n",
       "      <td>79</td>\n",
       "      <td>4192</td>\n",
       "      <td>3904</td>\n",
       "      <td>19</td>\n",
       "      <td>305</td>\n",
       "      <td>4705</td>\n",
       "      <td>1347</td>\n",
       "      <td>2617</td>\n",
       "      <td>...</td>\n",
       "      <td>[2017, 2015, 2016, 2014, 2011, 2013, 2012]</td>\n",
       "      <td>298</td>\n",
       "      <td>[iJg9ekPzF9lkMuvjKYX6uA, ctWAuzS04Xu0lke2Rop4l...</td>\n",
       "      <td>12316</td>\n",
       "      <td>Rob</td>\n",
       "      <td>761</td>\n",
       "      <td>user</td>\n",
       "      <td>18456</td>\n",
       "      <td>EZmocAborM6z66rTzeZxzQ</td>\n",
       "      <td>2009-09-12</td>\n",
       "    </tr>\n",
       "  </tbody>\n",
       "</table>\n",
       "<p>1 rows × 23 columns</p>\n",
       "</div>"
      ],
      "text/plain": [
       "   average_stars  compliment_cool  compliment_cute  compliment_funny  \\\n",
       "0           3.59             4192               79              4192   \n",
       "\n",
       "   compliment_hot  compliment_list  compliment_more  compliment_note  \\\n",
       "0            3904               19              305             4705   \n",
       "\n",
       "   compliment_photos  compliment_plain      ...       \\\n",
       "0               1347              2617      ...        \n",
       "\n",
       "                                        elite  fans  \\\n",
       "0  [2017, 2015, 2016, 2014, 2011, 2013, 2012]   298   \n",
       "\n",
       "                                             friends  funny  name  \\\n",
       "0  [iJg9ekPzF9lkMuvjKYX6uA, ctWAuzS04Xu0lke2Rop4l...  12316   Rob   \n",
       "\n",
       "  review_count  type useful                 user_id yelping_since  \n",
       "0          761  user  18456  EZmocAborM6z66rTzeZxzQ    2009-09-12  \n",
       "\n",
       "[1 rows x 23 columns]"
      ]
     },
     "execution_count": 3,
     "metadata": {},
     "output_type": "execute_result"
    }
   ],
   "source": [
    "user_df.head(1)"
   ]
  },
  {
   "cell_type": "code",
   "execution_count": 4,
   "metadata": {
    "collapsed": false
   },
   "outputs": [],
   "source": [
    "relevantUser = user_df.ix[[i != ['None'] for i in user_df['elite']]]"
   ]
  },
  {
   "cell_type": "code",
   "execution_count": 5,
   "metadata": {
    "collapsed": false
   },
   "outputs": [
    {
     "data": {
      "text/html": [
       "<div>\n",
       "<table border=\"1\" class=\"dataframe\">\n",
       "  <thead>\n",
       "    <tr style=\"text-align: right;\">\n",
       "      <th></th>\n",
       "      <th>average_stars</th>\n",
       "      <th>compliment_cool</th>\n",
       "      <th>compliment_cute</th>\n",
       "      <th>compliment_funny</th>\n",
       "      <th>compliment_hot</th>\n",
       "      <th>compliment_list</th>\n",
       "      <th>compliment_more</th>\n",
       "      <th>compliment_note</th>\n",
       "      <th>compliment_photos</th>\n",
       "      <th>compliment_plain</th>\n",
       "      <th>...</th>\n",
       "      <th>elite</th>\n",
       "      <th>fans</th>\n",
       "      <th>friends</th>\n",
       "      <th>funny</th>\n",
       "      <th>name</th>\n",
       "      <th>review_count</th>\n",
       "      <th>type</th>\n",
       "      <th>useful</th>\n",
       "      <th>user_id</th>\n",
       "      <th>yelping_since</th>\n",
       "    </tr>\n",
       "  </thead>\n",
       "  <tbody>\n",
       "    <tr>\n",
       "      <th>0</th>\n",
       "      <td>3.59</td>\n",
       "      <td>4192</td>\n",
       "      <td>79</td>\n",
       "      <td>4192</td>\n",
       "      <td>3904</td>\n",
       "      <td>19</td>\n",
       "      <td>305</td>\n",
       "      <td>4705</td>\n",
       "      <td>1347</td>\n",
       "      <td>2617</td>\n",
       "      <td>...</td>\n",
       "      <td>[2017, 2015, 2016, 2014, 2011, 2013, 2012]</td>\n",
       "      <td>298</td>\n",
       "      <td>[iJg9ekPzF9lkMuvjKYX6uA, ctWAuzS04Xu0lke2Rop4l...</td>\n",
       "      <td>12316</td>\n",
       "      <td>Rob</td>\n",
       "      <td>761</td>\n",
       "      <td>user</td>\n",
       "      <td>18456</td>\n",
       "      <td>EZmocAborM6z66rTzeZxzQ</td>\n",
       "      <td>2009-09-12</td>\n",
       "    </tr>\n",
       "  </tbody>\n",
       "</table>\n",
       "<p>1 rows × 23 columns</p>\n",
       "</div>"
      ],
      "text/plain": [
       "   average_stars  compliment_cool  compliment_cute  compliment_funny  \\\n",
       "0           3.59             4192               79              4192   \n",
       "\n",
       "   compliment_hot  compliment_list  compliment_more  compliment_note  \\\n",
       "0            3904               19              305             4705   \n",
       "\n",
       "   compliment_photos  compliment_plain      ...       \\\n",
       "0               1347              2617      ...        \n",
       "\n",
       "                                        elite  fans  \\\n",
       "0  [2017, 2015, 2016, 2014, 2011, 2013, 2012]   298   \n",
       "\n",
       "                                             friends  funny  name  \\\n",
       "0  [iJg9ekPzF9lkMuvjKYX6uA, ctWAuzS04Xu0lke2Rop4l...  12316   Rob   \n",
       "\n",
       "  review_count  type useful                 user_id yelping_since  \n",
       "0          761  user  18456  EZmocAborM6z66rTzeZxzQ    2009-09-12  \n",
       "\n",
       "[1 rows x 23 columns]"
      ]
     },
     "execution_count": 5,
     "metadata": {},
     "output_type": "execute_result"
    }
   ],
   "source": [
    "relevantUser.head(1)"
   ]
  },
  {
   "cell_type": "code",
   "execution_count": 6,
   "metadata": {
    "collapsed": false
   },
   "outputs": [
    {
     "data": {
      "text/plain": [
       "u'2005'"
      ]
     },
     "execution_count": 6,
     "metadata": {},
     "output_type": "execute_result"
    }
   ],
   "source": [
    "oldest = '2017'\n",
    "for i in relevantUser['elite']:\n",
    "    for j in i:\n",
    "        if j < oldest:\n",
    "            oldest = j\n",
    "oldest"
   ]
  },
  {
   "cell_type": "code",
   "execution_count": 7,
   "metadata": {
    "collapsed": false
   },
   "outputs": [
    {
     "name": "stdout",
     "output_type": "stream",
     "text": [
      "number of users: 49704\n"
     ]
    }
   ],
   "source": [
    "print(\"number of users: {}\").format(relevantUser.shape[0])"
   ]
  },
  {
   "cell_type": "markdown",
   "metadata": {},
   "source": [
    "When considering the elite status, define the earliest time of observation as the yelp-since + 1 to 2016"
   ]
  },
  {
   "cell_type": "code",
   "execution_count": 8,
   "metadata": {
    "collapsed": false
   },
   "outputs": [
    {
     "data": {
      "text/plain": [
       "[u'2012', u'2013']"
      ]
     },
     "execution_count": 8,
     "metadata": {},
     "output_type": "execute_result"
    }
   ],
   "source": [
    "relevantUser['elite'][6]"
   ]
  },
  {
   "cell_type": "code",
   "execution_count": 9,
   "metadata": {
    "collapsed": false
   },
   "outputs": [],
   "source": [
    "def getStatus(i):\n",
    "    user = relevantUser.iloc[i]\n",
    "    first = int(user['yelping_since'].split('-')[0]) + 1\n",
    "    duration = 2017 - first\n",
    "    slack = []\n",
    "    elite = [] \n",
    "    potential = []\n",
    "    non = []\n",
    "    for i in range(duration):\n",
    "        currentY = str(first + i) in user['elite']\n",
    "        nextY = str(first + i + 1) in user['elite']\n",
    "\n",
    "        if currentY and nextY:\n",
    "            elite.append(str(first + i))\n",
    "        elif currentY and not nextY:\n",
    "            slack.append(str(first + i))\n",
    "        elif not currentY and nextY:\n",
    "            potential.append(str(first + i))\n",
    "        elif not currentY and not nextY:\n",
    "            non.append(str(first + i))\n",
    "    return elite, non, potential, slack"
   ]
  },
  {
   "cell_type": "code",
   "execution_count": 10,
   "metadata": {
    "collapsed": false
   },
   "outputs": [
    {
     "data": {
      "text/plain": [
       "(['2009', '2010', '2011', '2012', '2013', '2014', '2015', '2016'],\n",
       " ['2007'],\n",
       " ['2008'],\n",
       " [])"
      ]
     },
     "execution_count": 10,
     "metadata": {},
     "output_type": "execute_result"
    }
   ],
   "source": [
    "getStatus(9)"
   ]
  },
  {
   "cell_type": "code",
   "execution_count": 11,
   "metadata": {
    "collapsed": false
   },
   "outputs": [
    {
     "data": {
      "text/plain": [
       "u'2011-06-09'"
      ]
     },
     "execution_count": 11,
     "metadata": {},
     "output_type": "execute_result"
    }
   ],
   "source": [
    "relevantUser['yelping_since'][6]"
   ]
  },
  {
   "cell_type": "code",
   "execution_count": 12,
   "metadata": {
    "collapsed": false
   },
   "outputs": [
    {
     "data": {
      "text/html": [
       "<div>\n",
       "<table border=\"1\" class=\"dataframe\">\n",
       "  <thead>\n",
       "    <tr style=\"text-align: right;\">\n",
       "      <th></th>\n",
       "      <th>average_stars</th>\n",
       "      <th>compliment_cool</th>\n",
       "      <th>compliment_cute</th>\n",
       "      <th>compliment_funny</th>\n",
       "      <th>compliment_hot</th>\n",
       "      <th>compliment_list</th>\n",
       "      <th>compliment_more</th>\n",
       "      <th>compliment_note</th>\n",
       "      <th>compliment_photos</th>\n",
       "      <th>compliment_plain</th>\n",
       "      <th>...</th>\n",
       "      <th>elite</th>\n",
       "      <th>fans</th>\n",
       "      <th>friends</th>\n",
       "      <th>funny</th>\n",
       "      <th>name</th>\n",
       "      <th>review_count</th>\n",
       "      <th>type</th>\n",
       "      <th>useful</th>\n",
       "      <th>user_id</th>\n",
       "      <th>yelping_since</th>\n",
       "    </tr>\n",
       "  </thead>\n",
       "  <tbody>\n",
       "    <tr>\n",
       "      <th>1025494</th>\n",
       "      <td>3.73</td>\n",
       "      <td>2</td>\n",
       "      <td>0</td>\n",
       "      <td>2</td>\n",
       "      <td>4</td>\n",
       "      <td>1</td>\n",
       "      <td>2</td>\n",
       "      <td>4</td>\n",
       "      <td>1</td>\n",
       "      <td>1</td>\n",
       "      <td>...</td>\n",
       "      <td>[2013, 2012]</td>\n",
       "      <td>1</td>\n",
       "      <td>[OMoBzr4FhDkk7yV8zYtmiw, 4Y81J2Tdq5XAnkeYmCZ2o...</td>\n",
       "      <td>124</td>\n",
       "      <td>Glenn</td>\n",
       "      <td>81</td>\n",
       "      <td>user</td>\n",
       "      <td>132</td>\n",
       "      <td>9-2iTs5ylwCpp1XTynz31g</td>\n",
       "      <td>2012-01-08</td>\n",
       "    </tr>\n",
       "  </tbody>\n",
       "</table>\n",
       "<p>1 rows × 23 columns</p>\n",
       "</div>"
      ],
      "text/plain": [
       "         average_stars  compliment_cool  compliment_cute  compliment_funny  \\\n",
       "1025494           3.73                2                0                 2   \n",
       "\n",
       "         compliment_hot  compliment_list  compliment_more  compliment_note  \\\n",
       "1025494               4                1                2                4   \n",
       "\n",
       "         compliment_photos  compliment_plain      ...              elite  \\\n",
       "1025494                  1                 1      ...       [2013, 2012]   \n",
       "\n",
       "         fans                                            friends funny   name  \\\n",
       "1025494     1  [OMoBzr4FhDkk7yV8zYtmiw, 4Y81J2Tdq5XAnkeYmCZ2o...   124  Glenn   \n",
       "\n",
       "        review_count  type useful                 user_id yelping_since  \n",
       "1025494           81  user    132  9-2iTs5ylwCpp1XTynz31g    2012-01-08  \n",
       "\n",
       "[1 rows x 23 columns]"
      ]
     },
     "execution_count": 12,
     "metadata": {},
     "output_type": "execute_result"
    }
   ],
   "source": [
    "relevantUser.tail(1)"
   ]
  },
  {
   "cell_type": "code",
   "execution_count": 13,
   "metadata": {
    "collapsed": false,
    "scrolled": true
   },
   "outputs": [],
   "source": [
    "status_period = []\n",
    "for i in range(relevantUser.shape[0]):\n",
    "    data = {}\n",
    "    data['user_id'] = relevantUser.iloc[i]['user_id']\n",
    "    e, n, p, s = getStatus(i)\n",
    "    data['elite_period'] = e\n",
    "    data['non-elite_period'] = n\n",
    "    data['potential_period'] = p\n",
    "    data['slack_period'] = s\n",
    "    status_period.append(data)"
   ]
  },
  {
   "cell_type": "code",
   "execution_count": 14,
   "metadata": {
    "collapsed": false
   },
   "outputs": [],
   "source": [
    "status_df = pd.DataFrame(status_period)"
   ]
  },
  {
   "cell_type": "code",
   "execution_count": 15,
   "metadata": {
    "collapsed": false
   },
   "outputs": [],
   "source": [
    "count = []\n",
    "for i in range(status_df.shape[0]):\n",
    "    user = status_df.iloc[i]\n",
    "    if len(user['potential_period']) != 0 and len(user['slack_period']) != 0\\\n",
    "    and len(user['elite_period']) != 0 and len(user['non-elite_period']) != 0:\n",
    "        count.append(i)"
   ]
  },
  {
   "cell_type": "code",
   "execution_count": 16,
   "metadata": {
    "collapsed": false
   },
   "outputs": [
    {
     "data": {
      "text/html": [
       "<div>\n",
       "<table border=\"1\" class=\"dataframe\">\n",
       "  <thead>\n",
       "    <tr style=\"text-align: right;\">\n",
       "      <th></th>\n",
       "      <th>elite_period</th>\n",
       "      <th>non-elite_period</th>\n",
       "      <th>potential_period</th>\n",
       "      <th>slack_period</th>\n",
       "      <th>user_id</th>\n",
       "    </tr>\n",
       "  </thead>\n",
       "  <tbody>\n",
       "    <tr>\n",
       "      <th>11</th>\n",
       "      <td>[2014]</td>\n",
       "      <td>[2011, 2012, 2016]</td>\n",
       "      <td>[2013]</td>\n",
       "      <td>[2015]</td>\n",
       "      <td>0wBTSc0i-QFVDa_uRLzoZg</td>\n",
       "    </tr>\n",
       "    <tr>\n",
       "      <th>21</th>\n",
       "      <td>[2014]</td>\n",
       "      <td>[2012, 2016]</td>\n",
       "      <td>[2013]</td>\n",
       "      <td>[2015]</td>\n",
       "      <td>UrOofvcBl0gAbKPAEaj83A</td>\n",
       "    </tr>\n",
       "    <tr>\n",
       "      <th>38</th>\n",
       "      <td>[2012, 2013, 2014, 2015]</td>\n",
       "      <td>[2010]</td>\n",
       "      <td>[2011]</td>\n",
       "      <td>[2016]</td>\n",
       "      <td>zKFiBqSYgVVmjKwhKsxX7Q</td>\n",
       "    </tr>\n",
       "    <tr>\n",
       "      <th>46</th>\n",
       "      <td>[2011, 2012, 2013, 2014, 2015]</td>\n",
       "      <td>[2008, 2009]</td>\n",
       "      <td>[2010]</td>\n",
       "      <td>[2016]</td>\n",
       "      <td>72s2b4tegZYAV3R0gFzLUQ</td>\n",
       "    </tr>\n",
       "    <tr>\n",
       "      <th>47</th>\n",
       "      <td>[2008]</td>\n",
       "      <td>[2010, 2011, 2012, 2013, 2016]</td>\n",
       "      <td>[2014]</td>\n",
       "      <td>[2009, 2015]</td>\n",
       "      <td>hh-RcRXai0PTQ8tPCXNi7A</td>\n",
       "    </tr>\n",
       "    <tr>\n",
       "      <th>56</th>\n",
       "      <td>[2010]</td>\n",
       "      <td>[2012, 2013, 2014, 2015, 2016]</td>\n",
       "      <td>[2009]</td>\n",
       "      <td>[2011]</td>\n",
       "      <td>6DbvYyAvTtXTmVOAG32Djw</td>\n",
       "    </tr>\n",
       "    <tr>\n",
       "      <th>58</th>\n",
       "      <td>[2012]</td>\n",
       "      <td>[2014, 2015, 2016]</td>\n",
       "      <td>[2011]</td>\n",
       "      <td>[2013]</td>\n",
       "      <td>3vYsjC90S80legSDDTmqcA</td>\n",
       "    </tr>\n",
       "    <tr>\n",
       "      <th>69</th>\n",
       "      <td>[2015]</td>\n",
       "      <td>[2013]</td>\n",
       "      <td>[2014]</td>\n",
       "      <td>[2016]</td>\n",
       "      <td>zk5ao2F3zJQOXRpSTpP6tA</td>\n",
       "    </tr>\n",
       "    <tr>\n",
       "      <th>72</th>\n",
       "      <td>[2012, 2013]</td>\n",
       "      <td>[2010, 2015, 2016]</td>\n",
       "      <td>[2011]</td>\n",
       "      <td>[2014]</td>\n",
       "      <td>GABWrw5Et9jubriKwMUDbw</td>\n",
       "    </tr>\n",
       "    <tr>\n",
       "      <th>74</th>\n",
       "      <td>[2012]</td>\n",
       "      <td>[2016]</td>\n",
       "      <td>[2014]</td>\n",
       "      <td>[2013, 2015]</td>\n",
       "      <td>aU8saUu9QhSFvnYeUsxO-A</td>\n",
       "    </tr>\n",
       "    <tr>\n",
       "      <th>80</th>\n",
       "      <td>[2010]</td>\n",
       "      <td>[2012, 2013, 2014, 2015, 2016]</td>\n",
       "      <td>[2009]</td>\n",
       "      <td>[2011]</td>\n",
       "      <td>arqLGkS1atg-9LLdHi7rUQ</td>\n",
       "    </tr>\n",
       "    <tr>\n",
       "      <th>88</th>\n",
       "      <td>[2014, 2015]</td>\n",
       "      <td>[2008, 2009, 2010, 2011, 2012]</td>\n",
       "      <td>[2013]</td>\n",
       "      <td>[2016]</td>\n",
       "      <td>38V9LFE9gbmqdxACJ98F8g</td>\n",
       "    </tr>\n",
       "    <tr>\n",
       "      <th>91</th>\n",
       "      <td>[2015]</td>\n",
       "      <td>[2012, 2013]</td>\n",
       "      <td>[2014]</td>\n",
       "      <td>[2016]</td>\n",
       "      <td>HkVnslspLbmATUzBs3ZdKQ</td>\n",
       "    </tr>\n",
       "    <tr>\n",
       "      <th>96</th>\n",
       "      <td>[2012]</td>\n",
       "      <td>[2014, 2015, 2016]</td>\n",
       "      <td>[2011]</td>\n",
       "      <td>[2013]</td>\n",
       "      <td>VFcrtQc0wfTABrk7aFKCzw</td>\n",
       "    </tr>\n",
       "    <tr>\n",
       "      <th>97</th>\n",
       "      <td>[2012, 2013, 2014]</td>\n",
       "      <td>[2016]</td>\n",
       "      <td>[2011]</td>\n",
       "      <td>[2015]</td>\n",
       "      <td>uIB8qFzG5E3PUGfiCiUmqg</td>\n",
       "    </tr>\n",
       "  </tbody>\n",
       "</table>\n",
       "</div>"
      ],
      "text/plain": [
       "                      elite_period                non-elite_period  \\\n",
       "11                          [2014]              [2011, 2012, 2016]   \n",
       "21                          [2014]                    [2012, 2016]   \n",
       "38        [2012, 2013, 2014, 2015]                          [2010]   \n",
       "46  [2011, 2012, 2013, 2014, 2015]                    [2008, 2009]   \n",
       "47                          [2008]  [2010, 2011, 2012, 2013, 2016]   \n",
       "56                          [2010]  [2012, 2013, 2014, 2015, 2016]   \n",
       "58                          [2012]              [2014, 2015, 2016]   \n",
       "69                          [2015]                          [2013]   \n",
       "72                    [2012, 2013]              [2010, 2015, 2016]   \n",
       "74                          [2012]                          [2016]   \n",
       "80                          [2010]  [2012, 2013, 2014, 2015, 2016]   \n",
       "88                    [2014, 2015]  [2008, 2009, 2010, 2011, 2012]   \n",
       "91                          [2015]                    [2012, 2013]   \n",
       "96                          [2012]              [2014, 2015, 2016]   \n",
       "97              [2012, 2013, 2014]                          [2016]   \n",
       "\n",
       "   potential_period  slack_period                 user_id  \n",
       "11           [2013]        [2015]  0wBTSc0i-QFVDa_uRLzoZg  \n",
       "21           [2013]        [2015]  UrOofvcBl0gAbKPAEaj83A  \n",
       "38           [2011]        [2016]  zKFiBqSYgVVmjKwhKsxX7Q  \n",
       "46           [2010]        [2016]  72s2b4tegZYAV3R0gFzLUQ  \n",
       "47           [2014]  [2009, 2015]  hh-RcRXai0PTQ8tPCXNi7A  \n",
       "56           [2009]        [2011]  6DbvYyAvTtXTmVOAG32Djw  \n",
       "58           [2011]        [2013]  3vYsjC90S80legSDDTmqcA  \n",
       "69           [2014]        [2016]  zk5ao2F3zJQOXRpSTpP6tA  \n",
       "72           [2011]        [2014]  GABWrw5Et9jubriKwMUDbw  \n",
       "74           [2014]  [2013, 2015]  aU8saUu9QhSFvnYeUsxO-A  \n",
       "80           [2009]        [2011]  arqLGkS1atg-9LLdHi7rUQ  \n",
       "88           [2013]        [2016]  38V9LFE9gbmqdxACJ98F8g  \n",
       "91           [2014]        [2016]  HkVnslspLbmATUzBs3ZdKQ  \n",
       "96           [2011]        [2013]  VFcrtQc0wfTABrk7aFKCzw  \n",
       "97           [2011]        [2015]  uIB8qFzG5E3PUGfiCiUmqg  "
      ]
     },
     "execution_count": 16,
     "metadata": {},
     "output_type": "execute_result"
    }
   ],
   "source": [
    "status_df.iloc[count].head(15)"
   ]
  },
  {
   "cell_type": "code",
   "execution_count": 17,
   "metadata": {
    "collapsed": false
   },
   "outputs": [
    {
     "data": {
      "text/plain": [
       "9388"
      ]
     },
     "execution_count": 17,
     "metadata": {},
     "output_type": "execute_result"
    }
   ],
   "source": [
    "len(count)"
   ]
  },
  {
   "cell_type": "code",
   "execution_count": 18,
   "metadata": {
    "collapsed": true
   },
   "outputs": [],
   "source": [
    "review=[]\n",
    "with open('../../hduser1/Yelp/review.json') as json_file:\n",
    "    for line in json_file:\n",
    "        review.append(json.loads(line))\n",
    "review_df = pd.DataFrame(review)"
   ]
  },
  {
   "cell_type": "code",
   "execution_count": 19,
   "metadata": {
    "collapsed": false
   },
   "outputs": [],
   "source": [
    "sample = review_df.ix[review_df['user_id'] == '0wBTSc0i-QFVDa_uRLzoZg']"
   ]
  },
  {
   "cell_type": "code",
   "execution_count": 20,
   "metadata": {
    "collapsed": false
   },
   "outputs": [
    {
     "data": {
      "text/html": [
       "<div>\n",
       "<table border=\"1\" class=\"dataframe\">\n",
       "  <thead>\n",
       "    <tr style=\"text-align: right;\">\n",
       "      <th></th>\n",
       "      <th>business_id</th>\n",
       "      <th>cool</th>\n",
       "      <th>date</th>\n",
       "      <th>funny</th>\n",
       "      <th>review_id</th>\n",
       "      <th>stars</th>\n",
       "      <th>text</th>\n",
       "      <th>type</th>\n",
       "      <th>useful</th>\n",
       "      <th>user_id</th>\n",
       "    </tr>\n",
       "  </thead>\n",
       "  <tbody>\n",
       "    <tr>\n",
       "      <th>11811</th>\n",
       "      <td>FmZl3emoVxmZVvSsU2l0aQ</td>\n",
       "      <td>0</td>\n",
       "      <td>2014-12-25</td>\n",
       "      <td>0</td>\n",
       "      <td>8TMR9ows7s_BAod40Zv-rQ</td>\n",
       "      <td>4</td>\n",
       "      <td>Sale! 1.00 fleece hats and 2.00 fleece scarves...</td>\n",
       "      <td>review</td>\n",
       "      <td>0</td>\n",
       "      <td>0wBTSc0i-QFVDa_uRLzoZg</td>\n",
       "    </tr>\n",
       "  </tbody>\n",
       "</table>\n",
       "</div>"
      ],
      "text/plain": [
       "                  business_id  cool        date  funny  \\\n",
       "11811  FmZl3emoVxmZVvSsU2l0aQ     0  2014-12-25      0   \n",
       "\n",
       "                    review_id  stars  \\\n",
       "11811  8TMR9ows7s_BAod40Zv-rQ      4   \n",
       "\n",
       "                                                    text    type  useful  \\\n",
       "11811  Sale! 1.00 fleece hats and 2.00 fleece scarves...  review       0   \n",
       "\n",
       "                      user_id  \n",
       "11811  0wBTSc0i-QFVDa_uRLzoZg  "
      ]
     },
     "execution_count": 20,
     "metadata": {},
     "output_type": "execute_result"
    }
   ],
   "source": [
    "sample.head(1)"
   ]
  },
  {
   "cell_type": "code",
   "execution_count": 21,
   "metadata": {
    "collapsed": false
   },
   "outputs": [],
   "source": [
    "def plotData(Uid):\n",
    "    sample = review_df.ix[review_df['user_id'] == Uid]\n",
    "    plot = {}\n",
    "    star = {}\n",
    "    word = {}\n",
    "    for i in range(sample.shape[0]):\n",
    "        date = sample.iloc[i]['date'].split('-')\n",
    "        year = date[0]    \n",
    "        month = date[1]\n",
    "        plot[(int(year),int(month))] = 0\n",
    "\n",
    "    x = plot.keys()\n",
    "    x.sort()\n",
    "    fst = x[0][0]\n",
    "    lst = x[len(x)-1][0]\n",
    "\n",
    "    for i in range(int(lst) - int(fst) + 1):\n",
    "        for j in range(12):\n",
    "            plot[(int(fst) + i, j+1)] = 0\n",
    "            star[(int(fst) + i, j+1)] = 0\n",
    "            word[(int(fst) + i, j+1)] = 0\n",
    "\n",
    "    data = []\n",
    "    stars = []\n",
    "    avg = []\n",
    "    time = []\n",
    "    words = []\n",
    "    avg_words = []\n",
    "\n",
    "    import datetime\n",
    "    for i in range(sample.shape[0]):\n",
    "        date = sample.iloc[i]['date'].split('-')\n",
    "        year = date[0]    \n",
    "        month = date[1]\n",
    "        plot[(int(year),int(month))] += 1\n",
    "        star[(int(year),int(month))] += sample.iloc[i]['stars']\n",
    "        word[(int(year),int(month))] += len(sample.iloc[i]['text'].split(' '))\n",
    "\n",
    "    for i in range(int(lst) - int(fst) + 1):\n",
    "        for j in range(12):\n",
    "            data.append(plot[(int(fst) + i, j+1)])\n",
    "            stars.append(star[(int(fst) + i, j+1)])\n",
    "            words.append(word[(int(fst) + i, j+1)])\n",
    "            if plot[(int(fst) + i, j+1)] != 0:\n",
    "                avg.append(float(star[(int(fst) + i, j+1)]) / float(plot[(int(fst) + i, j+1)]))\n",
    "                avg_words.append(float(word[(int(fst) + i, j+1)]) / float(plot[(int(fst) + i, j+1)]))\n",
    "            else:\n",
    "                avg.append(0)\n",
    "                avg_words.append(0)\n",
    "            time.append(datetime.datetime(int(fst) + i, j+1, 1))\n",
    "    return time, data, stars, avg, words, avg_words\n",
    "\n",
    "# plt.plot(time,stars)\n",
    "# plt.plot(time,data)\n",
    "# plt.plot(time,avg)\n",
    "# plt.plot(time, words)\n",
    "# plt.plot(time, avg_words)"
   ]
  },
  {
   "cell_type": "code",
   "execution_count": 22,
   "metadata": {
    "collapsed": false
   },
   "outputs": [],
   "source": [
    "t,d,s,a,w,a_w = plotData('0wBTSc0i-QFVDa_uRLzoZg')"
   ]
  },
  {
   "cell_type": "code",
   "execution_count": 33,
   "metadata": {
    "collapsed": false
   },
   "outputs": [
    {
     "data": {
      "image/png": "[encoded data removed]",
      "text/plain": [
       "<matplotlib.figure.Figure at 0x7f4c054e6090>"
      ]
     },
     "metadata": {},
     "output_type": "display_data"
    }
   ],
   "source": [
    "plt.xlabel('time')\n",
    "plt.ylabel('review count')\n",
    "plt.title('0wBTSc0i-QFVDa_uRLzoZg')\n",
    "plt.plot(t,d)\n",
    "potential = sample_data.ix[sample_data['user_id'] == '0wBTSc0i-QFVDa_uRLzoZg']['potential_period'].values\n",
    "slack = sample_data.ix[sample_data['user_id'] == '0wBTSc0i-QFVDa_uRLzoZg']['slack_period'].values\n",
    "for i in potential[0]:\n",
    "    plt.axvline(x = datetime.datetime(int(i),1,1), color = 'r')\n",
    "for i in slack[0]:\n",
    "    plt.axvline(x = datetime.datetime(int(i),1,1), color = 'g')"
   ]
  },
  {
   "cell_type": "code",
   "execution_count": 27,
   "metadata": {
    "collapsed": false
   },
   "outputs": [
    {
     "data": {
      "text/plain": [
       "array([['2011']], dtype=object)"
      ]
     },
     "execution_count": 27,
     "metadata": {},
     "output_type": "execute_result"
    },
    {
     "data": {
      "image/png": "[encoded data removed]",
      "text/plain": [
       "<matplotlib.figure.Figure at 0x7f4c053fb810>"
      ]
     },
     "metadata": {},
     "output_type": "display_data"
    }
   ],
   "source": [
    "import datetime\n",
    "t,d,s,a,w,a_w = plotData('uIB8qFzG5E3PUGfiCiUmqg')\n",
    "plt.xlabel('time')\n",
    "plt.ylabel('review count')\n",
    "plt.title('uIB8qFzG5E3PUGfiCiUmqg')\n",
    "plt.close()\n",
    "plt.plot(t,d)\n",
    "potential = sample_data.ix[sample_data['user_id'] == 'uIB8qFzG5E3PUGfiCiUmqg']['potential_period'].values\n",
    "slack = sample_data.ix[sample_data['user_id'] == 'uIB8qFzG5E3PUGfiCiUmqg']['slack_period'].values\n",
    "for i in potential[0]:\n",
    "    plt.axvline(x = datetime.datetime(int(i),1,1), color = 'r')\n",
    "for i in slack[0]:\n",
    "    plt.axvline(x = datetime.datetime(int(i),1,1), color = 'g')"
   ]
  },
  {
   "cell_type": "code",
   "execution_count": 29,
   "metadata": {
    "collapsed": false
   },
   "outputs": [
    {
     "data": {
      "text/plain": [
       "['2013', '2015']"
      ]
     },
     "execution_count": 29,
     "metadata": {},
     "output_type": "execute_result"
    }
   ],
   "source": [
    "sample_data.ix[sample_data['user_id'] == 'aU8saUu9QhSFvnYeUsxO-A']['slack_period'].values[0]"
   ]
  },
  {
   "cell_type": "code",
   "execution_count": 36,
   "metadata": {
    "collapsed": false
   },
   "outputs": [
    {
     "data": {
      "image/png": "[encoded data removed]",
      "text/plain": [
       "<matplotlib.figure.Figure at 0x7f4bfdf73890>"
      ]
     },
     "metadata": {},
     "output_type": "display_data"
    }
   ],
   "source": [
    "sample_data = status_df.iloc[count]\n",
    "for i in range(50):\n",
    "    t = []\n",
    "    d = []\n",
    "    s = [] \n",
    "    a = []\n",
    "    w = []\n",
    "    a_w = []\n",
    "    u_id = sample_data.iloc[i]['user_id']\n",
    "    potential = sample_data.ix[sample_data['user_id'] == u_id]['potential_period'].values\n",
    "    slack = sample_data.ix[sample_data['user_id'] == u_id]['slack_period'].values\n",
    "\n",
    "    t,d,s,a,w,a_w = plotData(u_id)\n",
    "    plt.close()\n",
    "    plt.xlabel('time')\n",
    "    plt.ylabel('review count')\n",
    "    plt.title(u_id)\n",
    "    plt.plot(t,d)\n",
    "    for j in potential[0]:\n",
    "        plt.axvline(x = datetime.datetime(int(j),1,1), color = 'r')\n",
    "    for k in slack[0]:\n",
    "        plt.axvline(x = datetime.datetime(int(k),1,1), color = 'g')\n",
    "    \n",
    "    plt.savefig('images/'+ str(i) +'.png')"
   ]
  },
  {
   "cell_type": "code",
   "execution_count": null,
   "metadata": {
    "collapsed": true
   },
   "outputs": [],
   "source": []
  }
 ],
 "metadata": {
  "kernelspec": {
   "display_name": "Python 2",
   "language": "python",
   "name": "python2"
  },
  "language_info": {
   "codemirror_mode": {
    "name": "ipython",
    "version": 2
   },
   "file_extension": ".py",
   "mimetype": "text/x-python",
   "name": "python",
   "nbconvert_exporter": "python",
   "pygments_lexer": "ipython2",
   "version": "2.7.12"
  }
 },
 "nbformat": 4,
 "nbformat_minor": 2
}
