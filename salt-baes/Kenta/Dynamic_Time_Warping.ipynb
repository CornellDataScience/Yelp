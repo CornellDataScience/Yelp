{
 "cells": [
  {
   "cell_type": "code",
   "execution_count": 1,
   "metadata": {
    "collapsed": true
   },
   "outputs": [],
   "source": [
    "# import libraries\n",
    "%matplotlib inline\n",
    "import json\n",
    "import os\n",
    "import pandas as pd\n",
    "import matplotlib.pyplot as plt\n",
    "import numpy as np\n",
    "import pickle\n",
    "import datetime"
   ]
  },
  {
   "cell_type": "code",
   "execution_count": 2,
   "metadata": {
    "collapsed": false
   },
   "outputs": [],
   "source": [
    "df = pd.read_csv('anomalies.csv', index_col = False)"
   ]
  },
  {
   "cell_type": "code",
   "execution_count": 3,
   "metadata": {
    "collapsed": false
   },
   "outputs": [
    {
     "data": {
      "text/html": [
       "<div>\n",
       "<table border=\"1\" class=\"dataframe\">\n",
       "  <thead>\n",
       "    <tr style=\"text-align: right;\">\n",
       "      <th></th>\n",
       "      <th>Unnamed: 0</th>\n",
       "      <th>negative_spike</th>\n",
       "      <th>positive_spike</th>\n",
       "      <th>user_id</th>\n",
       "      <th>pos_cluster</th>\n",
       "      <th>neg_cluster</th>\n",
       "      <th>kernel_spike</th>\n",
       "      <th>kernel_cluster</th>\n",
       "      <th>normalized_review</th>\n",
       "      <th>time</th>\n",
       "    </tr>\n",
       "  </thead>\n",
       "  <tbody>\n",
       "    <tr>\n",
       "      <th>0</th>\n",
       "      <td>0</td>\n",
       "      <td>[Timestamp('2010-10-01 04:00:00'), Timestamp('...</td>\n",
       "      <td>[Timestamp('2008-11-01 04:00:00'), Timestamp('...</td>\n",
       "      <td>---1lKK3aKOuomHnwAkAow</td>\n",
       "      <td>[0, 1, 1, 1, 1, 1, 1, 2, 2, 2, 3, 4, 4, 4, 4]</td>\n",
       "      <td>[0, 0, 1, 1, 2, 2, 2, 3, 3, 4, 4, 5, 5, 6, 6, ...</td>\n",
       "      <td>[Timestamp('2010-10-01 04:00:00'), Timestamp('...</td>\n",
       "      <td>[0, 0, 0, 0, 0, 0, 1, 1, 1, 1, 1, 1, 2, 2, 2, ...</td>\n",
       "      <td>[ 0.          0.          0.          0.      ...</td>\n",
       "      <td>[datetime.datetime(2008, 1, 1, 0, 0), datetime...</td>\n",
       "    </tr>\n",
       "    <tr>\n",
       "      <th>1</th>\n",
       "      <td>1</td>\n",
       "      <td>[Timestamp('2009-01-01 05:00:00'), Timestamp('...</td>\n",
       "      <td>[Timestamp('2009-07-01 04:00:00'), Timestamp('...</td>\n",
       "      <td>-0IiMAZI2SsQ7VmyzJjokQ</td>\n",
       "      <td>[0, 0, 0, 0, 1, 2, 2, 2, 3, 4, 4, 4]</td>\n",
       "      <td>[0, 0, 1, 1, 1, 1, 2, 2, 3, 3, 3, 4, 4, 4, 4, ...</td>\n",
       "      <td>[Timestamp('2009-07-01 04:00:00'), Timestamp('...</td>\n",
       "      <td>[0, 0, 0, 0, 0, 1, 1, 1, 2, 2, 2, 3]</td>\n",
       "      <td>[ 0.          0.          0.          0.      ...</td>\n",
       "      <td>[datetime.datetime(2009, 1, 1, 0, 0), datetime...</td>\n",
       "    </tr>\n",
       "    <tr>\n",
       "      <th>2</th>\n",
       "      <td>2</td>\n",
       "      <td>[Timestamp('2010-01-01 05:00:00'), Timestamp('...</td>\n",
       "      <td>[Timestamp('2010-08-01 04:00:00'), Timestamp('...</td>\n",
       "      <td>-2UOdDlzg7XLuUuyOrldhA</td>\n",
       "      <td>[0, 0, 0, 1, 1, 1, 1, 2]</td>\n",
       "      <td>[0, 0, 0, 0, 0, 0, 0, 1, 1, 1, 1, 1, 1]</td>\n",
       "      <td>[Timestamp('2010-08-01 04:00:00'), Timestamp('...</td>\n",
       "      <td>[0, 0, 0, 1, 1, 1, 2]</td>\n",
       "      <td>[ 0.          0.          0.          0.      ...</td>\n",
       "      <td>[datetime.datetime(2010, 1, 1, 0, 0), datetime...</td>\n",
       "    </tr>\n",
       "  </tbody>\n",
       "</table>\n",
       "</div>"
      ],
      "text/plain": [
       "   Unnamed: 0                                     negative_spike  \\\n",
       "0           0  [Timestamp('2010-10-01 04:00:00'), Timestamp('...   \n",
       "1           1  [Timestamp('2009-01-01 05:00:00'), Timestamp('...   \n",
       "2           2  [Timestamp('2010-01-01 05:00:00'), Timestamp('...   \n",
       "\n",
       "                                      positive_spike                 user_id  \\\n",
       "0  [Timestamp('2008-11-01 04:00:00'), Timestamp('...  ---1lKK3aKOuomHnwAkAow   \n",
       "1  [Timestamp('2009-07-01 04:00:00'), Timestamp('...  -0IiMAZI2SsQ7VmyzJjokQ   \n",
       "2  [Timestamp('2010-08-01 04:00:00'), Timestamp('...  -2UOdDlzg7XLuUuyOrldhA   \n",
       "\n",
       "                                     pos_cluster  \\\n",
       "0  [0, 1, 1, 1, 1, 1, 1, 2, 2, 2, 3, 4, 4, 4, 4]   \n",
       "1           [0, 0, 0, 0, 1, 2, 2, 2, 3, 4, 4, 4]   \n",
       "2                       [0, 0, 0, 1, 1, 1, 1, 2]   \n",
       "\n",
       "                                         neg_cluster  \\\n",
       "0  [0, 0, 1, 1, 2, 2, 2, 3, 3, 4, 4, 5, 5, 6, 6, ...   \n",
       "1  [0, 0, 1, 1, 1, 1, 2, 2, 3, 3, 3, 4, 4, 4, 4, ...   \n",
       "2            [0, 0, 0, 0, 0, 0, 0, 1, 1, 1, 1, 1, 1]   \n",
       "\n",
       "                                        kernel_spike  \\\n",
       "0  [Timestamp('2010-10-01 04:00:00'), Timestamp('...   \n",
       "1  [Timestamp('2009-07-01 04:00:00'), Timestamp('...   \n",
       "2  [Timestamp('2010-08-01 04:00:00'), Timestamp('...   \n",
       "\n",
       "                                      kernel_cluster  \\\n",
       "0  [0, 0, 0, 0, 0, 0, 1, 1, 1, 1, 1, 1, 2, 2, 2, ...   \n",
       "1               [0, 0, 0, 0, 0, 1, 1, 1, 2, 2, 2, 3]   \n",
       "2                              [0, 0, 0, 1, 1, 1, 2]   \n",
       "\n",
       "                                   normalized_review  \\\n",
       "0  [ 0.          0.          0.          0.      ...   \n",
       "1  [ 0.          0.          0.          0.      ...   \n",
       "2  [ 0.          0.          0.          0.      ...   \n",
       "\n",
       "                                                time  \n",
       "0  [datetime.datetime(2008, 1, 1, 0, 0), datetime...  \n",
       "1  [datetime.datetime(2009, 1, 1, 0, 0), datetime...  \n",
       "2  [datetime.datetime(2010, 1, 1, 0, 0), datetime...  "
      ]
     },
     "execution_count": 3,
     "metadata": {},
     "output_type": "execute_result"
    }
   ],
   "source": [
    "df[:3]"
   ]
  },
  {
   "cell_type": "code",
   "execution_count": 4,
   "metadata": {
    "collapsed": false
   },
   "outputs": [],
   "source": [
    "x = filter(lambda x: not len(x) == 0, df.iloc[0]['normalized_review'].split('[')[1].split(']')[0].split(' '))"
   ]
  },
  {
   "cell_type": "code",
   "execution_count": 5,
   "metadata": {
    "collapsed": false
   },
   "outputs": [
    {
     "data": {
      "text/plain": [
       "[<matplotlib.lines.Line2D at 0x7fe576ce1bd0>]"
      ]
     },
     "execution_count": 5,
     "metadata": {},
     "output_type": "execute_result"
    },
    {
     "data": {
      "image/png": "[encoded data removed]",
      "text/plain": [
       "<matplotlib.figure.Figure at 0x7fe5b424cad0>"
      ]
     },
     "metadata": {},
     "output_type": "display_data"
    }
   ],
   "source": [
    "plt.plot(eval(df.iloc[0]['time']), [float(i) for i in x])"
   ]
  },
  {
   "cell_type": "code",
   "execution_count": 6,
   "metadata": {
    "collapsed": false
   },
   "outputs": [],
   "source": [
    "def DTWDistance(s1, s2,w):\n",
    "    DTW={}\n",
    "    \n",
    "    w = max(w, abs(len(s1)-len(s2)))\n",
    "    \n",
    "    for i in range(-1,len(s1)):\n",
    "        for j in range(-1,len(s2)):\n",
    "            DTW[(i, j)] = float('inf')\n",
    "    DTW[(-1, -1)] = 0\n",
    "  \n",
    "    for i in range(len(s1)):\n",
    "        for j in range(max(0, i-w), min(len(s2), i+w)):\n",
    "            dist= (s1[i]-s2[j])**2\n",
    "            DTW[(i, j)] = dist + min(DTW[(i-1, j)],DTW[(i, j-1)], DTW[(i-1, j-1)])\n",
    "    return np.sqrt(DTW[len(s1)-1, len(s2)-1])"
   ]
  },
  {
   "cell_type": "code",
   "execution_count": 7,
   "metadata": {
    "collapsed": true
   },
   "outputs": [],
   "source": [
    "y = filter(lambda x: not len(x) == 0, df.iloc[4]['normalized_review'].split('[')[1].split(']')[0].split(' '))"
   ]
  },
  {
   "cell_type": "code",
   "execution_count": 8,
   "metadata": {
    "collapsed": false
   },
   "outputs": [
    {
     "data": {
      "text/plain": [
       "[<matplotlib.lines.Line2D at 0x7fe576be0950>]"
      ]
     },
     "execution_count": 8,
     "metadata": {},
     "output_type": "execute_result"
    },
    {
     "data": {
      "image/png": "[encoded data removed]",
      "text/plain": [
       "<matplotlib.figure.Figure at 0x7fe5b424c750>"
      ]
     },
     "metadata": {},
     "output_type": "display_data"
    }
   ],
   "source": [
    "plt.plot(eval(df.iloc[4]['time']), [float(i) for i in y])"
   ]
  },
  {
   "cell_type": "code",
   "execution_count": 9,
   "metadata": {
    "collapsed": true
   },
   "outputs": [],
   "source": [
    "z = filter(lambda x: not len(x) == 0, df.iloc[2]['normalized_review'].split('[')[1].split(']')[0].split(' '))"
   ]
  },
  {
   "cell_type": "code",
   "execution_count": 10,
   "metadata": {
    "collapsed": false
   },
   "outputs": [
    {
     "data": {
      "text/plain": [
       "[<matplotlib.lines.Line2D at 0x7fe576c538d0>]"
      ]
     },
     "execution_count": 10,
     "metadata": {},
     "output_type": "execute_result"
    },
    {
     "data": {
      "image/png": "[encoded data removed]",
      "text/plain": [
       "<matplotlib.figure.Figure at 0x7fe576c329d0>"
      ]
     },
     "metadata": {},
     "output_type": "display_data"
    }
   ],
   "source": [
    "plt.plot(eval(df.iloc[2]['time']), [float(i) for i in z])"
   ]
  },
  {
   "cell_type": "code",
   "execution_count": 11,
   "metadata": {
    "collapsed": true
   },
   "outputs": [],
   "source": [
    "x = [float(i) for i in x]"
   ]
  },
  {
   "cell_type": "code",
   "execution_count": 12,
   "metadata": {
    "collapsed": false
   },
   "outputs": [],
   "source": [
    "y = [float(i) for i in y]"
   ]
  },
  {
   "cell_type": "code",
   "execution_count": 13,
   "metadata": {
    "collapsed": false
   },
   "outputs": [],
   "source": [
    "z = [float(i) for i in z]"
   ]
  },
  {
   "cell_type": "code",
   "execution_count": 14,
   "metadata": {
    "collapsed": false
   },
   "outputs": [
    {
     "data": {
      "text/plain": [
       "0.53009407359413963"
      ]
     },
     "execution_count": 14,
     "metadata": {},
     "output_type": "execute_result"
    }
   ],
   "source": [
    "DTWDistance(z,y,12)"
   ]
  },
  {
   "cell_type": "code",
   "execution_count": 15,
   "metadata": {
    "collapsed": false
   },
   "outputs": [
    {
     "data": {
      "text/plain": [
       "0.59599751751609265"
      ]
     },
     "execution_count": 15,
     "metadata": {},
     "output_type": "execute_result"
    }
   ],
   "source": [
    "DTWDistance(x,y,12)"
   ]
  },
  {
   "cell_type": "code",
   "execution_count": 16,
   "metadata": {
    "collapsed": false
   },
   "outputs": [
    {
     "data": {
      "text/plain": [
       "0.59028533859345511"
      ]
     },
     "execution_count": 16,
     "metadata": {},
     "output_type": "execute_result"
    }
   ],
   "source": [
    "DTWDistance(x,z,12)"
   ]
  },
  {
   "cell_type": "code",
   "execution_count": 17,
   "metadata": {
    "collapsed": true
   },
   "outputs": [],
   "source": [
    "def LB_Keogh(s1,s2,r):\n",
    "    LB_sum=0\n",
    "    for ind,i in enumerate(s1):\n",
    "        \n",
    "        lower_bound=min(s2[(ind-r if ind-r>=0 else 0):(ind+r)])\n",
    "        upper_bound=max(s2[(ind-r if ind-r>=0 else 0):(ind+r)])\n",
    "        \n",
    "        if i>upper_bound:\n",
    "            LB_sum=LB_sum+(i-upper_bound)**2\n",
    "        elif i<lower_bound:\n",
    "            LB_sum=LB_sum+(i-lower_bound)**2\n",
    "    \n",
    "    return np.sqrt(LB_sum)"
   ]
  },
  {
   "cell_type": "code",
   "execution_count": 18,
   "metadata": {
    "collapsed": false
   },
   "outputs": [
    {
     "data": {
      "text/plain": [
       "0.08941927999999999"
      ]
     },
     "execution_count": 18,
     "metadata": {},
     "output_type": "execute_result"
    }
   ],
   "source": [
    "LB_Keogh(x,y,120)"
   ]
  },
  {
   "cell_type": "code",
   "execution_count": 19,
   "metadata": {
    "collapsed": false
   },
   "outputs": [
    {
     "data": {
      "text/plain": [
       "0.0"
      ]
     },
     "execution_count": 19,
     "metadata": {},
     "output_type": "execute_result"
    }
   ],
   "source": [
    "LB_Keogh(y,z,120)"
   ]
  },
  {
   "cell_type": "code",
   "execution_count": 20,
   "metadata": {
    "collapsed": false
   },
   "outputs": [
    {
     "data": {
      "text/plain": [
       "0.02894773000000006"
      ]
     },
     "execution_count": 20,
     "metadata": {},
     "output_type": "execute_result"
    }
   ],
   "source": [
    "LB_Keogh(z,x,120)"
   ]
  },
  {
   "cell_type": "code",
   "execution_count": 21,
   "metadata": {
    "collapsed": true
   },
   "outputs": [],
   "source": [
    "import random\n",
    "\n",
    "def k_means_clust(data,num_clust,num_iter,w=12):\n",
    "    centroids=random.sample(data,num_clust)\n",
    "    counter=0\n",
    "    for n in range(num_iter):\n",
    "        counter+=1\n",
    "        print counter\n",
    "        assignments={}\n",
    "        #assign data points to clusters\n",
    "        for ind,i in enumerate(data):\n",
    "            min_dist=float('inf')\n",
    "            closest_clust=None\n",
    "            for c_ind,j in enumerate(centroids):\n",
    "                if LB_Keogh(i,j,120)<min_dist:\n",
    "                    cur_dist=DTWDistance(i,j,w)\n",
    "                    if cur_dist<min_dist:\n",
    "                        min_dist=cur_dist\n",
    "                        closest_clust=c_ind\n",
    "            if closest_clust in assignments:\n",
    "                assignments[closest_clust].append(ind)\n",
    "            else:\n",
    "                assignments[closest_clust]=[]\n",
    "    \n",
    "        #recalculate centroids of clusters\n",
    "        for key in assignments:\n",
    "            clust_sum=0\n",
    "            for k in assignments[key]:\n",
    "                clust_sum= clust_sum + data[k]\n",
    "            centroids[key]=[m/len(assignments[key]) for m in clust_sum]\n",
    "    \n",
    "    return centroids"
   ]
  },
  {
   "cell_type": "code",
   "execution_count": 22,
   "metadata": {
    "collapsed": true
   },
   "outputs": [],
   "source": [
    "def preprocess(row):\n",
    "    y = filter(lambda x: not len(x) == 0, row.split('[')[1].split(']')[0].split(' '))\n",
    "    return [float(i) for i in y]"
   ]
  },
  {
   "cell_type": "code",
   "execution_count": 23,
   "metadata": {
    "collapsed": true
   },
   "outputs": [],
   "source": [
    "def getMedian(beg, end, time, review):\n",
    "    temp = []\n",
    "    while(beg < len(time) and time[beg] <= end):\n",
    "        temp.append(review[beg])\n",
    "        beg+=1\n",
    "    temp.sort()\n",
    "    return temp"
   ]
  },
  {
   "cell_type": "code",
   "execution_count": 173,
   "metadata": {
    "collapsed": false
   },
   "outputs": [],
   "source": [
    "def step_plot(time, spikes, k_c, review):\n",
    "    step_plot = []\n",
    "    current = 0\n",
    "    while current < len(time):\n",
    "        # if the current position is the head of spike then append 1 till the cluster ends,\n",
    "        # move index to the end of spike and \n",
    "        # slice the array \n",
    "     \n",
    "        if (not len(spikes) == 0 and time[current] == spikes[0]):\n",
    "            label = k_c[0]\n",
    "            index = 0\n",
    "            \n",
    "            # get when to end \n",
    "            while(not len(k_c) == 0 and index < len(k_c) and label == k_c[index]):\n",
    "                index += 1\n",
    "            try:\n",
    "                end = spikes[index-1]\n",
    "            except:\n",
    "                end = spikes[0]\n",
    "    \n",
    "            med = getMedian(current, end, time, review)\n",
    "\n",
    "            i = current\n",
    "            while(i < len(time) and time[i] <= end):\n",
    "                step_plot.append(np.mean(med))\n",
    "#                 step_plot.append(1.0)\n",
    "                i+=1\n",
    "            if index == len(k_c):\n",
    "                spikes = []\n",
    "                k_c = []\n",
    "            else:\n",
    "                spikes = spikes[index:]\n",
    "                k_c = k_c[index:]\n",
    "\n",
    "            current = i\n",
    "      \n",
    "        # if the current position is not the head of spike then append 0 \n",
    "        else:\n",
    "            step_plot.append(0.0)\n",
    "            current += 1\n",
    "    return step_plot     "
   ]
  },
  {
   "cell_type": "code",
   "execution_count": 183,
   "metadata": {
    "collapsed": false
   },
   "outputs": [],
   "source": [
    "def get_step(user):\n",
    "    k_c = eval(df.iloc[user]['kernel_cluster'])\n",
    "    test = df.iloc[user]['kernel_spike'].split('[')[1].split(']')[0].split(', ')\n",
    "    dates = [i.split('Timestamp')[1].split('(')[1].split(')')[0].split(' ')[0].split('\\'')[1] for i in test]\n",
    "    spikes = [datetime.datetime.strptime(date, \"%Y-%m-%d\").date() for date in dates]\n",
    "    spikes = [(ti.year, ti.month) for ti in spikes]\n",
    "    if len(k_c) < len(spikes):\n",
    "        k_c = []\n",
    "        for i in range(len(spikes)):\n",
    "            k_c.append(0)\n",
    "    t = eval(df.iloc[user]['time'])\n",
    "    time = [(time.year, time.month) for time in t]\n",
    "    review = preprocess(df.iloc[user]['normalized_review'])\n",
    "    x = filter(lambda x: not len(x) == 0, df.iloc[user]['normalized_review'].split('[')[1].split(']')[0].split(' '))\n",
    "    y = step_plot(time, spikes, k_c, review)\n",
    "#     plt.plot(t,x, alpha = 0.8)\n",
    "#     plt.plot(t,y, alpha = 0.4)\n",
    "    \n",
    "    return y"
   ]
  },
  {
   "cell_type": "code",
   "execution_count": 26,
   "metadata": {
    "collapsed": false
   },
   "outputs": [
    {
     "data": {
      "image/png": "[encoded data removed]",
      "text/plain": [
       "<matplotlib.figure.Figure at 0x7fe576a65090>"
      ]
     },
     "metadata": {},
     "output_type": "display_data"
    }
   ],
   "source": [
    "y3 = get_step(661)"
   ]
  },
  {
   "cell_type": "code",
   "execution_count": 27,
   "metadata": {
    "collapsed": false
   },
   "outputs": [
    {
     "data": {
      "text/plain": [
       "0.79185876548516154"
      ]
     },
     "execution_count": 27,
     "metadata": {},
     "output_type": "execute_result"
    }
   ],
   "source": [
    "DTWDistance(y,y3,60)"
   ]
  },
  {
   "cell_type": "code",
   "execution_count": 554,
   "metadata": {
    "collapsed": false
   },
   "outputs": [
    {
     "data": {
      "text/plain": [
       "0.45535936420432099"
      ]
     },
     "execution_count": 554,
     "metadata": {},
     "output_type": "execute_result"
    }
   ],
   "source": [
    "DTWDistance(y3,y2,60)"
   ]
  },
  {
   "cell_type": "code",
   "execution_count": 184,
   "metadata": {
    "collapsed": false
   },
   "outputs": [
    {
     "name": "stdout",
     "output_type": "stream",
     "text": [
      "0\n",
      "10\n",
      "20\n",
      "30\n",
      "40\n",
      "50\n",
      "60\n",
      "70\n",
      "80\n",
      "90\n"
     ]
    }
   ],
   "source": [
    "affinity = {}\n",
    "for i in range(100):\n",
    "    affinity[i] = {}\n",
    "    if i%10==0:\n",
    "            print(i)\n",
    "    for j in range(i, 100):\n",
    "        yi = get_step(i)        \n",
    "        yj = get_step(j)\n",
    "        affinity[i][j] = DTWDistance(yi,yj,60)        \n",
    "        if affinity[i][j] == float('inf'):\n",
    "            affinity[i][j] = DTWDistance(yj,yi,60)"
   ]
  },
  {
   "cell_type": "code",
   "execution_count": 185,
   "metadata": {
    "collapsed": false
   },
   "outputs": [],
   "source": [
    "mat = []\n",
    "for i in affinity:\n",
    "    ith = []\n",
    "    for j in affinity:\n",
    "        try:\n",
    "            ith.append(affinity[i][j])\n",
    "        except:\n",
    "            ith.append(affinity[j][i])\n",
    "    mat.append(ith)"
   ]
  },
  {
   "cell_type": "code",
   "execution_count": 71,
   "metadata": {
    "collapsed": false
   },
   "outputs": [],
   "source": [
    "aff = np.matrix(mat)"
   ]
  },
  {
   "cell_type": "code",
   "execution_count": 72,
   "metadata": {
    "collapsed": false
   },
   "outputs": [],
   "source": [
    "from sklearn.cluster import DBSCAN\n",
    "pred = DBSCAN(min_samples=2).fit_predict(aff)"
   ]
  },
  {
   "cell_type": "code",
   "execution_count": 186,
   "metadata": {
    "collapsed": false
   },
   "outputs": [],
   "source": [
    "from scipy.cluster import hierarchy\n",
    "from scipy.spatial.distance import squareform\n",
    "dists = squareform(mat)"
   ]
  },
  {
   "cell_type": "code",
   "execution_count": 187,
   "metadata": {
    "collapsed": false
   },
   "outputs": [],
   "source": [
    "Z = hierarchy.linkage(dists)"
   ]
  },
  {
   "cell_type": "code",
   "execution_count": 188,
   "metadata": {
    "collapsed": false
   },
   "outputs": [
    {
     "data": {
      "image/png": "[encoded data removed]",
      "text/plain": [
       "<matplotlib.figure.Figure at 0x7fe556f6ef50>"
      ]
     },
     "metadata": {},
     "output_type": "display_data"
    }
   ],
   "source": [
    "plt.figure(figsize = (30,20))\n",
    "_ = hierarchy.dendrogram(Z)"
   ]
  },
  {
   "cell_type": "code",
   "execution_count": 189,
   "metadata": {
    "collapsed": false
   },
   "outputs": [],
   "source": [
    "from sklearn.cluster import SpectralClustering\n",
    "cluster = 3\n",
    "pred = SpectralClustering(cluster).fit_predict(mat2)"
   ]
  },
  {
   "cell_type": "code",
   "execution_count": 191,
   "metadata": {
    "collapsed": false
   },
   "outputs": [],
   "source": [
    "cluster_dict = {}\n",
    "for i in range(cluster):\n",
    "    cluster_dict[i] = []\n",
    "for  i,p in enumerate(pred):\n",
    "    cluster_dict[p].append(i)"
   ]
  },
  {
   "cell_type": "code",
   "execution_count": 145,
   "metadata": {
    "collapsed": false
   },
   "outputs": [
    {
     "data": {
      "image/png": "[encoded data removed]",
      "text/plain": [
       "<matplotlib.figure.Figure at 0x7fe56e951110>"
      ]
     },
     "metadata": {},
     "output_type": "display_data"
    }
   ],
   "source": [
    "y = get_step(1)"
   ]
  },
  {
   "cell_type": "code",
   "execution_count": 146,
   "metadata": {
    "collapsed": false
   },
   "outputs": [
    {
     "data": {
      "image/png": "[encoded data removed]",
      "text/plain": [
       "<matplotlib.figure.Figure at 0x7fe55705d3d0>"
      ]
     },
     "metadata": {},
     "output_type": "display_data"
    }
   ],
   "source": [
    "y = get_step(6)"
   ]
  },
  {
   "cell_type": "code",
   "execution_count": 147,
   "metadata": {
    "collapsed": false
   },
   "outputs": [
    {
     "data": {
      "image/png": "[encoded data removed]",
      "text/plain": [
       "<matplotlib.figure.Figure at 0x7fe55705d550>"
      ]
     },
     "metadata": {},
     "output_type": "display_data"
    }
   ],
   "source": [
    "y = get_step(7)"
   ]
  },
  {
   "cell_type": "code",
   "execution_count": 148,
   "metadata": {
    "collapsed": false
   },
   "outputs": [
    {
     "data": {
      "image/png": "[encoded data removed]",
      "text/plain": [
       "<matplotlib.figure.Figure at 0x7fe55705d810>"
      ]
     },
     "metadata": {},
     "output_type": "display_data"
    }
   ],
   "source": [
    "y = get_step(10)"
   ]
  },
  {
   "cell_type": "code",
   "execution_count": 152,
   "metadata": {
    "collapsed": false
   },
   "outputs": [
    {
     "name": "stdout",
     "output_type": "stream",
     "text": [
      "0\n",
      "10\n",
      "20\n",
      "30\n",
      "40\n",
      "50\n",
      "60\n",
      "70\n",
      "80\n",
      "90\n"
     ]
    }
   ],
   "source": [
    "affinity2 = {}\n",
    "for i in range(100):\n",
    "    affinity2[i] = {}\n",
    "    if i%10==0:\n",
    "            print(i)\n",
    "    for j in range(i, 100):\n",
    "        yi = get_step(i)        \n",
    "        yj = get_step(j)\n",
    "        affinity2[i][j] = DTWDistance(yi,yj,60)        \n",
    "        if affinity2[i][j] == float('inf'):\n",
    "            affinity2[i][j] = DTWDistance(yj,yi,60)"
   ]
  },
  {
   "cell_type": "code",
   "execution_count": 153,
   "metadata": {
    "collapsed": true
   },
   "outputs": [],
   "source": [
    "mat2 = []\n",
    "for i in affinity2:\n",
    "    ith = []\n",
    "    for j in affinity2:\n",
    "        try:\n",
    "            ith.append(affinity2[i][j])\n",
    "        except:\n",
    "            ith.append(affinity2[j][i])\n",
    "    mat2.append(ith)"
   ]
  },
  {
   "cell_type": "code",
   "execution_count": 162,
   "metadata": {
    "collapsed": false
   },
   "outputs": [
    {
     "data": {
      "text/plain": [
       "array([-1, -1, -1, -1, -1, -1, -1, -1, -1, -1, -1, -1, -1, -1, -1, -1, -1,\n",
       "       -1, -1, -1, -1, -1, -1, -1, -1, -1, -1, -1, -1, -1, -1, -1, -1, -1,\n",
       "       -1, -1, -1, -1, -1, -1, -1, -1, -1, -1, -1, -1, -1, -1, -1, -1, -1,\n",
       "       -1, -1, -1, -1, -1, -1, -1, -1, -1, -1, -1, -1, -1, -1, -1, -1, -1,\n",
       "       -1, -1, -1, -1, -1, -1, -1, -1, -1, -1, -1, -1, -1, -1, -1, -1, -1,\n",
       "       -1, -1, -1, -1, -1, -1, -1, -1, -1, -1, -1, -1, -1, -1, -1])"
      ]
     },
     "execution_count": 162,
     "metadata": {},
     "output_type": "execute_result"
    }
   ],
   "source": [
    "pred"
   ]
  },
  {
   "cell_type": "code",
   "execution_count": 190,
   "metadata": {
    "collapsed": false
   },
   "outputs": [
    {
     "data": {
      "text/plain": [
       "array([0, 0, 2, 2, 1, 2, 0, 0, 0, 0, 0, 0, 0, 1, 1, 0, 0, 0, 2, 2, 0, 0, 0,\n",
       "       0, 1, 1, 0, 0, 1, 0, 0, 0, 0, 0, 0, 0, 0, 2, 0, 0, 0, 1, 0, 0, 2, 0,\n",
       "       0, 0, 0, 0, 0, 1, 2, 0, 0, 1, 2, 2, 0, 0, 0, 0, 2, 0, 2, 1, 0, 0, 0,\n",
       "       0, 0, 0, 0, 0, 0, 2, 0, 0, 0, 0, 0, 2, 0, 0, 2, 0, 0, 0, 0, 1, 1, 0,\n",
       "       2, 1, 0, 0, 2, 2, 0, 0], dtype=int32)"
      ]
     },
     "execution_count": 190,
     "metadata": {},
     "output_type": "execute_result"
    }
   ],
   "source": [
    "pred"
   ]
  },
  {
   "cell_type": "code",
   "execution_count": 179,
   "metadata": {
    "collapsed": false
   },
   "outputs": [
    {
     "data": {
      "image/png": "[encoded data removed]",
      "text/plain": [
       "<matplotlib.figure.Figure at 0x7fe556fd0310>"
      ]
     },
     "metadata": {},
     "output_type": "display_data"
    }
   ],
   "source": [
    "y = get_step(3)"
   ]
  },
  {
   "cell_type": "code",
   "execution_count": 180,
   "metadata": {
    "collapsed": false
   },
   "outputs": [
    {
     "data": {
      "image/png": "[encoded data removed]",
      "text/plain": [
       "<matplotlib.figure.Figure at 0x7fe56e2e1210>"
      ]
     },
     "metadata": {},
     "output_type": "display_data"
    }
   ],
   "source": [
    "y = get_step(5)"
   ]
  },
  {
   "cell_type": "code",
   "execution_count": 181,
   "metadata": {
    "collapsed": false
   },
   "outputs": [
    {
     "data": {
      "image/png": "[encoded data removed]",
      "text/plain": [
       "<matplotlib.figure.Figure at 0x7fe56e2e1690>"
      ]
     },
     "metadata": {},
     "output_type": "display_data"
    }
   ],
   "source": [
    "y = get_step(18)"
   ]
  },
  {
   "cell_type": "code",
   "execution_count": 182,
   "metadata": {
    "collapsed": false
   },
   "outputs": [
    {
     "data": {
      "image/png": "[encoded data removed]",
      "text/plain": [
       "<matplotlib.figure.Figure at 0x7fe5419c6390>"
      ]
     },
     "metadata": {},
     "output_type": "display_data"
    }
   ],
   "source": [
    "y = get_step(19)"
   ]
  },
  {
   "cell_type": "code",
   "execution_count": 192,
   "metadata": {
    "collapsed": false
   },
   "outputs": [
    {
     "data": {
      "text/plain": [
       "{0: [0,\n",
       "  1,\n",
       "  6,\n",
       "  7,\n",
       "  8,\n",
       "  9,\n",
       "  10,\n",
       "  11,\n",
       "  12,\n",
       "  15,\n",
       "  16,\n",
       "  17,\n",
       "  20,\n",
       "  21,\n",
       "  22,\n",
       "  23,\n",
       "  26,\n",
       "  27,\n",
       "  29,\n",
       "  30,\n",
       "  31,\n",
       "  32,\n",
       "  33,\n",
       "  34,\n",
       "  35,\n",
       "  36,\n",
       "  38,\n",
       "  39,\n",
       "  40,\n",
       "  42,\n",
       "  43,\n",
       "  45,\n",
       "  46,\n",
       "  47,\n",
       "  48,\n",
       "  49,\n",
       "  50,\n",
       "  53,\n",
       "  54,\n",
       "  58,\n",
       "  59,\n",
       "  60,\n",
       "  61,\n",
       "  63,\n",
       "  66,\n",
       "  67,\n",
       "  68,\n",
       "  69,\n",
       "  70,\n",
       "  71,\n",
       "  72,\n",
       "  73,\n",
       "  74,\n",
       "  76,\n",
       "  77,\n",
       "  78,\n",
       "  79,\n",
       "  80,\n",
       "  82,\n",
       "  83,\n",
       "  85,\n",
       "  86,\n",
       "  87,\n",
       "  88,\n",
       "  91,\n",
       "  94,\n",
       "  95,\n",
       "  98,\n",
       "  99],\n",
       " 1: [4, 13, 14, 24, 25, 28, 41, 51, 55, 65, 89, 90, 93],\n",
       " 2: [2, 3, 5, 18, 19, 37, 44, 52, 56, 57, 62, 64, 75, 81, 84, 92, 96, 97]}"
      ]
     },
     "execution_count": 192,
     "metadata": {},
     "output_type": "execute_result"
    }
   ],
   "source": [
    "cluster_dict"
   ]
  },
  {
   "cell_type": "code",
   "execution_count": null,
   "metadata": {
    "collapsed": true
   },
   "outputs": [],
   "source": [
    "y = get_step(4)"
   ]
  },
  {
   "cell_type": "code",
   "execution_count": null,
   "metadata": {
    "collapsed": true
   },
   "outputs": [],
   "source": []
  }
 ],
 "metadata": {
  "kernelspec": {
   "display_name": "Python 2",
   "language": "python",
   "name": "python2"
  },
  "language_info": {
   "codemirror_mode": {
    "name": "ipython",
    "version": 2
   },
   "file_extension": ".py",
   "mimetype": "text/x-python",
   "name": "python",
   "nbconvert_exporter": "python",
   "pygments_lexer": "ipython2",
   "version": "2.7.12"
  }
 },
 "nbformat": 4,
 "nbformat_minor": 2
}
