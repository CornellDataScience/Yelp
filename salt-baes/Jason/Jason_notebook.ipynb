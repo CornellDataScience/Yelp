{
 "cells": [
  {
   "cell_type": "markdown",
   "metadata": {},
   "source": [
    "Week 2: looked at how reviews change over time for top businesses, consider using different metrics for average stars, things like rolling average or the average for the last n period of time. "
   ]
  },
  {
   "cell_type": "code",
   "execution_count": null,
   "metadata": {
    "collapsed": false
   },
   "outputs": [],
   "source": [
    "import json\n",
    "import pickle\n",
    "import numpy as np\n",
    "import matplotlib.pyplot as plt\n",
    "import datetime as datetime"
   ]
  },
  {
   "cell_type": "code",
   "execution_count": null,
   "metadata": {
    "collapsed": true
   },
   "outputs": [],
   "source": [
    "business_review_dict = pickle.load(open(\"business_reviews.pickle\", \"rb\"))"
   ]
  },
  {
   "cell_type": "code",
   "execution_count": null,
   "metadata": {
    "collapsed": false
   },
   "outputs": [],
   "source": [
    "datetime.datetime(2016, 12, 1)"
   ]
  },
  {
   "cell_type": "code",
   "execution_count": null,
   "metadata": {
    "collapsed": false
   },
   "outputs": [],
   "source": [
    "relevant = {}\n",
    "business_info = {}\n",
    "with open(\"yelp_academic_dataset_business.json\") as f:\n",
    "    for line in f:\n",
    "        json_line = json.loads(line)\n",
    "\n",
    "        city = json_line[\"city\"]\n",
    "        business = json_line[\"business_id\"]\n",
    "        reviews = business_review_dict[business]\n",
    "        num_reviews = len(reviews)\n",
    "        avg_star = sum(reviews)/float(num_reviews)\n",
    "        \n",
    "        if city == \"Phoenix\":\n",
    "            if num_reviews > 1500 and \"Restaurants\" in json_line[\"categories\"]:\n",
    "                print(json_line[\"name\"])\n",
    "                relevant[business] = []\n",
    "                business_info[business] = json_line"
   ]
  },
  {
   "cell_type": "code",
   "execution_count": null,
   "metadata": {
    "collapsed": true
   },
   "outputs": [],
   "source": [
    "with open(\"yelp_academic_dataset_review.json\") as f:\n",
    "    for line in f:\n",
    "        json_line = json.loads(line)\n",
    "        if json_line[\"business_id\"] in relevant:\n",
    "            relevant[json_line[\"business_id\"]].append(json_line)"
   ]
  },
  {
   "cell_type": "code",
   "execution_count": null,
   "metadata": {
    "collapsed": false
   },
   "outputs": [],
   "source": [
    "for b_id, reviews in relevant.items():\n",
    "    counter = 0\n",
    "    business = business_info[b_id]\n",
    "    name = business[\"name\"]\n",
    "    sorted_reviews = sorted(reviews, key=lambda x: datetime.datetime.strptime(x['date'], '%Y-%m-%d'))\n",
    "    seen_stars = []\n",
    "    \n",
    "    x = []\n",
    "    avg = []\n",
    "    \n",
    "    x_interval = []\n",
    "    avg_interval = []\n",
    "    interval = 50\n",
    "    \n",
    "    date_to_count = {}\n",
    "    date_to_reviews = {}\n",
    "    for rev in sorted_reviews:\n",
    "        date = datetime.datetime.strptime(rev['date'], '%Y-%m-%d')\n",
    "        month = int(date.strftime('%m'))\n",
    "        year = int(date.strftime('%Y'))\n",
    "        if (year, month) in date_to_count:\n",
    "            date_to_count[(year, month)] += 1\n",
    "            date_to_reviews[(year, month)].append(rev[\"stars\"])\n",
    "        else:\n",
    "            date_to_count[(year, month)] = 1\n",
    "            date_to_reviews[(year, month)] = [rev[\"stars\"]]\n",
    "        \n",
    "        counter += 1\n",
    "        stars = rev[\"stars\"]\n",
    "        seen_stars.append(stars)\n",
    "        x.append(len(seen_stars))\n",
    "        avg.append(np.average(np.array(seen_stars)))\n",
    "        \n",
    "        if counter % interval == 0:\n",
    "            x_interval.append(int(counter/interval))\n",
    "            avg_int = np.average(np.array(seen_stars[-interval::]))\n",
    "            avg_interval.append(avg_int)\n",
    "    \n",
    "    dates = []\n",
    "    counts = []\n",
    "    y = []\n",
    "    for date, count in sorted(date_to_count.items(), key=lambda x:x[0]):\n",
    "        formatted_date = datetime.datetime(date[0], date[1], 1)\n",
    "        y.append(np.average(np.array(date_to_reviews[date])))\n",
    "        dates.append(formatted_date)\n",
    "        counts.append(count)\n",
    "    sc = plt.scatter(dates, counts, c=y)\n",
    "    plt.gray()\n",
    "    plt.colorbar(sc)\n",
    "    plt.title(name + \" reviews per month\")\n",
    "    plt.xlabel(\"Date\")\n",
    "    plt.ylabel(\"Number of Reviews\")\n",
    "    plt.show()\n",
    "            \n",
    "    plt.plot(x, avg)\n",
    "    plt.title(name)\n",
    "    plt.xlabel(\"Reviews Over Time\")\n",
    "    plt.ylabel(\"Average Stars\")\n",
    "    plt.show()\n",
    "    \n",
    "    plt.scatter(x_interval, avg_interval)\n",
    "    plt.plot(np.unique(x_interval), np.poly1d(np.polyfit(x_interval, avg_interval, 1))(np.unique(x_interval)))\n",
    "    plt.title(name + \" with review interval \" + str(interval))\n",
    "    plt.xlabel(\"Review Interval\")\n",
    "    plt.ylabel(\"Average Stars Over Interval\")\n",
    "    plt.show()"
   ]
  },
  {
   "cell_type": "markdown",
   "metadata": {},
   "source": [
    "Week 3: Tried to create a new price metric from the $-$$$$ scales and words mentioned in the text. "
   ]
  },
  {
   "cell_type": "code",
   "execution_count": null,
   "metadata": {
    "collapsed": false
   },
   "outputs": [],
   "source": [
    "import json\n",
    "import pickle\n",
    "import numpy as np\n",
    "from nltk.corpus import wordnet as wn\n",
    "import re"
   ]
  },
  {
   "cell_type": "code",
   "execution_count": null,
   "metadata": {
    "collapsed": false
   },
   "outputs": [],
   "source": [
    "counter = 0\n",
    "total = 0\n",
    "with open(\"yelp_academic_dataset_business.json\") as f:\n",
    "    for line in f:\n",
    "        total += 1\n",
    "        json_line = json.loads(line)\n",
    "        if json_line[\"attributes\"]:\n",
    "            for att in json_line[\"attributes\"]:\n",
    "                m = re.match(r\"RestaurantsPriceRange2:\\s(\\d)\", att)\n",
    "                if m:\n",
    "                    counter += 1\n",
    "print(counter, total)"
   ]
  },
  {
   "cell_type": "code",
   "execution_count": null,
   "metadata": {
    "collapsed": false
   },
   "outputs": [],
   "source": [
    "business_review_dict = pickle.load(open(\"business_reviews.pickle\", \"rb\"))"
   ]
  },
  {
   "cell_type": "code",
   "execution_count": null,
   "metadata": {
    "collapsed": false
   },
   "outputs": [],
   "source": [
    "businesses = {}\n",
    "size = 10000\n",
    "count = 0\n",
    "with open(\"yelp_academic_dataset_business.json\") as f:\n",
    "    if count < size:\n",
    "        count += 1\n",
    "        for line in f:\n",
    "            json_line = json.loads(line)\n",
    "            cats = json_line[\"categories\"]\n",
    "            if cats and \"Restaurants\" in json_line[\"categories\"]:\n",
    "                bus = json_line[\"business_id\"]\n",
    "                businesses[bus] = [json_line, []]"
   ]
  },
  {
   "cell_type": "code",
   "execution_count": null,
   "metadata": {
    "collapsed": false
   },
   "outputs": [],
   "source": [
    "with open(\"yelp_academic_dataset_review.json\") as f:\n",
    "    for line in f:\n",
    "        json_line = json.loads(line)\n",
    "        bus = json_line[\"business_id\"]\n",
    "        if bus in businesses:\n",
    "            businesses[bus][1].append(json_line)"
   ]
  },
  {
   "cell_type": "code",
   "execution_count": null,
   "metadata": {
    "collapsed": false
   },
   "outputs": [],
   "source": [
    "cheap_words = {\"cheap\", \"inexpensive\"}\n",
    "exp_words = {\"expensive\", \"pricy\", \"pricey\", \"costly\"}\n",
    "\n",
    "cheap_adj = {\"low\", \"good\", \"fair\"}\n",
    "exp_adj = {\"bad\", \"high\", \"poor\"}\n",
    "\n",
    "\n",
    "# for s in wn.synsets(\"costly\", pos=wn.ADJ):\n",
    "#     print (s, s.lemma_names())\n",
    "    \n",
    "sent_list = []    \n",
    "\n",
    "for bus, (b_info, reviews) in businesses.items():\n",
    "    total = len(reviews)\n",
    "    cheap_count = 0\n",
    "    exp_count = 0\n",
    "    for review in reviews:\n",
    "        text = review[\"text\"].split()\n",
    "        for ind, word in enumerate(text):\n",
    "            if word == \"price\" and ind > 0:\n",
    "                if text[ind - 1] in cheap_adj:\n",
    "                    cheap_count += 1\n",
    "                elif text[ind - 1] in exp_adj:\n",
    "                    exp_count += 1\n",
    "            elif word in cheap_words:\n",
    "                if ind > 0 and text[ind - 1] == \"not\":\n",
    "                    exp_count += 1\n",
    "                else:\n",
    "                    cheap_count += 1\n",
    "            elif word in exp_words:\n",
    "                if ind > 0 and text[ind - 1] == \"not\":\n",
    "                    cheap_count += 1\n",
    "                else:\n",
    "                    exp_count += 1\n",
    "    sent_list.append((b_info, total, cheap_count, exp_count))    "
   ]
  },
  {
   "cell_type": "code",
   "execution_count": null,
   "metadata": {
    "collapsed": false
   },
   "outputs": [],
   "source": [
    "dollar_dict = {1: 8.0, 2: 20.0, 3: 45.0, 4: 70.0}\n",
    "range_dict = {1: 5.0, 2: 19.0, 3: 29.0, 4: 50.0}\n",
    "for (b_info, total, cheap_count, exp_count) in sent_list[100:200]:\n",
    "    if b_info[\"attributes\"]:\n",
    "        price = None\n",
    "        for att in b_info[\"attributes\"]:\n",
    "            m = re.match(r\"RestaurantsPriceRange2:\\s(\\d)\", att)\n",
    "            if m:\n",
    "                price = int(m.group(1))\n",
    "        if price:\n",
    "            adjusted = dollar_dict[price] - range_dict[price]*float(cheap_count)/total + range_dict[price]*float(exp_count)/total\n",
    "            print(price, adjusted, total, cheap_count, exp_count)"
   ]
  },
  {
   "cell_type": "markdown",
   "metadata": {},
   "source": [
    "Week 4: look at votes over time and work on the ML implementation\n",
    "\n",
    "other features: num fans, num friends, yelping since"
   ]
  },
  {
   "cell_type": "code",
   "execution_count": 1,
   "metadata": {
    "collapsed": true
   },
   "outputs": [],
   "source": [
    "import numpy as np\n",
    "import json\n",
    "import matplotlib.pyplot as plt\n",
    "import datetime as datetime\n",
    "from sklearn.ensemble import RandomForestClassifier\n",
    "from sklearn.linear_model import LogisticRegression\n",
    "from sklearn.neighbors import KNeighborsClassifier"
   ]
  },
  {
   "cell_type": "code",
   "execution_count": 2,
   "metadata": {
    "collapsed": false
   },
   "outputs": [
    {
     "name": "stdout",
     "output_type": "stream",
     "text": [
      "[u'yelping_since', u'useful', u'compliment_photos', u'compliment_list', u'compliment_funny', u'funny', u'review_count', u'friends', u'fans', u'type', u'compliment_note', u'compliment_plain', u'compliment_writer', u'compliment_cute', u'average_stars', u'user_id', u'compliment_more', u'elite', u'compliment_hot', u'cool', u'name', u'compliment_profile', u'compliment_cool']\n"
     ]
    }
   ],
   "source": [
    "with open(\"yelp_academic_dataset_user.json\") as f:\n",
    "    for l in f:\n",
    "        line = json.loads(l)\n",
    "        print(line.keys())\n",
    "        break"
   ]
  },
  {
   "cell_type": "code",
   "execution_count": 2,
   "metadata": {
    "collapsed": false
   },
   "outputs": [],
   "source": [
    "years_to_count = {}\n",
    "with open(\"yelp_academic_dataset_user.json\") as f:\n",
    "    for line in f:\n",
    "        json_line = json.loads(line)\n",
    "        elites = json_line[\"elite\"]\n",
    "        if \"None\" not in elites:\n",
    "            for yr in elites:\n",
    "                yr_int = int(yr)\n",
    "                if yr_int in years_to_count:\n",
    "                    years_to_count[yr_int] += 1\n",
    "                else:\n",
    "                    years_to_count[yr_int] = 1"
   ]
  },
  {
   "cell_type": "code",
   "execution_count": 3,
   "metadata": {
    "collapsed": false
   },
   "outputs": [
    {
     "name": "stdout",
     "output_type": "stream",
     "text": [
      "[2017, 2016, 2015, 2014, 2013, 2012, 2011, 2010, 2009, 2008, 2007, 2006, 2005]\n"
     ]
    },
    {
     "data": {
      "image/png": "[encoded data removed]",
      "text/plain": [
       "<matplotlib.figure.Figure at 0xa059a90>"
      ]
     },
     "metadata": {},
     "output_type": "display_data"
    }
   ],
   "source": [
    "items = years_to_count.items()\n",
    "sorted_items = sorted(items, key=lambda x:x[0], reverse=True)\n",
    "years = [year for (year, count) in sorted_items]\n",
    "counts = [count for (year, count) in sorted_items]\n",
    "print years\n",
    "plt.plot(years, counts)\n",
    "plt.title(\"Number of Elites per Year\")\n",
    "plt.xlabel(\"Year\")\n",
    "plt.ylabel(\"Number of Elites\")\n",
    "plt.show()"
   ]
  },
  {
   "cell_type": "code",
   "execution_count": 5,
   "metadata": {
    "collapsed": true
   },
   "outputs": [],
   "source": [
    "def generate_features(feature_order):\n",
    "    features = []\n",
    "    labels = []\n",
    "    with open(\"yelp_academic_dataset_user.json\") as f:\n",
    "        for l in f:\n",
    "            line = json.loads(l)\n",
    "            elites = line[\"elite\"]\n",
    "            feature = [line[feat] for feat in feature_order]\n",
    "            features.append(feature)\n",
    "            if \"None\" in elites:\n",
    "                labels.append(0)\n",
    "            else:\n",
    "                labels.append(1)\n",
    "    return features, labels\n",
    "\n",
    "def run_random_forests(features, labels):\n",
    "    seventy_mark = seventy_percent(features)\n",
    "    clf = RandomForestClassifier()\n",
    "    clf.fit(features[:seventy_mark], labels[:seventy_mark])\n",
    "\n",
    "    preds = clf.predict(features[seventy_mark:])\n",
    "    return preds, labels[seventy_mark:], clf.feature_importances_\n",
    "\n",
    "def run_logistic_regression(features, labels):\n",
    "    seventy_mark = seventy_percent(features)\n",
    "    clf = LogisticRegression()\n",
    "    clf.fit(features[:seventy_mark], labels[:seventy_mark])\n",
    "\n",
    "    preds = clf.predict(features[seventy_mark:])\n",
    "    return preds, labels[seventy_mark:], clf.coef_\n",
    "    \n",
    "def accuracy(actual, preds):\n",
    "    correct = 0.0\n",
    "    for ind, pred in enumerate(preds):\n",
    "        if pred == actual[ind]:\n",
    "            correct += 1\n",
    "    return correct/len(actual)\n",
    "\n",
    "def precision(actual, preds, val):\n",
    "    num = 0.0\n",
    "    den = 0.0\n",
    "    for ind, pred in enumerate(preds):\n",
    "        if pred == val:\n",
    "            den += 1\n",
    "            if actual[ind] == val:\n",
    "                num += 1\n",
    "    return num/den\n",
    "\n",
    "def recall(actual, preds, val):\n",
    "    num = 0.0\n",
    "    den = 0.0\n",
    "    for ind, act in enumerate(actual):\n",
    "        if act == val:\n",
    "            den += 1\n",
    "            if preds[ind] == val:\n",
    "                num += 1\n",
    "    return num/den\n",
    "\n",
    "def f1(p, r):\n",
    "    return 2*p*r/(p+r)\n",
    "\n",
    "def print_scores(actual, preds):\n",
    "    print(\"Accuracy = \" + str(accuracy(actual, preds)))\n",
    "    p = precision(actual, preds, 1)\n",
    "    r = recall(actual, preds, 1)\n",
    "    f = f1(p, r)\n",
    "    print(\"Elite: Precision = \" + str(p) + \", Recall = \" + str(r) +\", F-1 score = \" + str(f))\n",
    "    \n",
    "    p = precision(actual, preds, 0)\n",
    "    r = recall(actual, preds, 0)\n",
    "    f = f1(p, r)\n",
    "    print(\"Non-Elite: Precision = \" + str(p) + \", Recall = \" + str(r) +\", F-1 score = \" + str(f) + \"\\n\")\n",
    "\n",
    "def seventy_percent(features):\n",
    "    return int(0.7*len(features))"
   ]
  },
  {
   "cell_type": "code",
   "execution_count": null,
   "metadata": {
    "collapsed": false
   },
   "outputs": [],
   "source": [
    "which_features = [\"useful\", \"compliment_photos\", \"compliment_list\", \"compliment_funny\",\n",
    "                  \"funny\", \"compliment_note\", \"compliment_plain\", \"compliment_writer\",\n",
    "                  \"compliment_cute\", \"compliment_more\", \"compliment_hot\", \"cool\", \n",
    "                  \"compliment_profile\", \"compliment_cool\"]\n",
    "\n",
    "features, labels = generate_features(which_features)\n",
    "preds, actual, importances = run_random_forests(features, labels)\n",
    "print(\"accuracy\", accuracy(actual, preds))\n",
    "\n",
    "for ind, importance in sorted(enumerate(importances), key=lambda x:x[1], reverse=True):\n",
    "    print(which_features[ind], importance)"
   ]
  },
  {
   "cell_type": "code",
   "execution_count": null,
   "metadata": {
    "collapsed": false
   },
   "outputs": [],
   "source": [
    "which_features = [\"useful\", \"compliment_photos\", \"compliment_list\", \"compliment_funny\",\n",
    "                  \"funny\", \"compliment_note\", \"compliment_plain\", \"compliment_writer\",\n",
    "                  \"compliment_cute\", \"compliment_more\", \"compliment_hot\", \"cool\", \n",
    "                  \"compliment_profile\", \"compliment_cool\", \"review_count\"]\n",
    "\n",
    "features, labels = generate_features(which_features)\n",
    "preds, actual, importances = run_random_forests(features, labels)\n",
    "print(\"accuracy\", accuracy(actual, preds))\n",
    "print(\"precision of elite\", precision(actual, preds, 1))\n",
    "print(\"recall of elite\", recall(actual, preds, 1))\n",
    "print(\"precision of non-elite\", precision(actual, preds, 0))\n",
    "print(\"recall of non-elite\", recall(actual, preds, 0))\n",
    "\n",
    "for ind, importance in sorted(enumerate(importances), key=lambda x:x[1], reverse=True):\n",
    "    print(which_features[ind], importance)"
   ]
  },
  {
   "cell_type": "markdown",
   "metadata": {},
   "source": [
    "Created the ML functionality for predicting if a user has been elite at any point or not in their entire yelping career. In the end, we get around 98-99% accuracy on if a user has ever been elite."
   ]
  },
  {
   "cell_type": "code",
   "execution_count": 6,
   "metadata": {
    "collapsed": false
   },
   "outputs": [
    {
     "name": "stdout",
     "output_type": "stream",
     "text": [
      "[u'funny', u'user_id', u'review_id', u'text', u'business_id', u'stars', u'date', u'useful', u'type', u'cool']\n"
     ]
    }
   ],
   "source": [
    "with open(\"yelp_academic_dataset_review.json\") as f:\n",
    "    for l in f:\n",
    "        line = json.loads(l)\n",
    "        print(line.keys())\n",
    "        break"
   ]
  },
  {
   "cell_type": "code",
   "execution_count": 7,
   "metadata": {
    "collapsed": true
   },
   "outputs": [],
   "source": [
    "user_to_reviews = {}\n",
    "with open(\"yelp_academic_dataset_review.json\") as f:\n",
    "    for l in f:\n",
    "        line = json.loads(l)\n",
    "        user = line[\"user_id\"]\n",
    "        if user in user_to_reviews:\n",
    "            user_to_reviews[user].append(line)\n",
    "        else:\n",
    "            user_to_reviews[user] = [line]"
   ]
  },
  {
   "cell_type": "code",
   "execution_count": 8,
   "metadata": {
    "collapsed": false
   },
   "outputs": [],
   "source": [
    "user_to_years = {}\n",
    "with open(\"yelp_academic_dataset_user.json\") as f:\n",
    "    for l in f:\n",
    "        line = json.loads(l)\n",
    "        elites = line[\"elite\"]\n",
    "        if \"None\" not in elites:\n",
    "            years = {int(yr) for yr in elites}\n",
    "            user_to_years[line[\"user_id\"]] = years"
   ]
  },
  {
   "cell_type": "code",
   "execution_count": 9,
   "metadata": {
    "collapsed": false
   },
   "outputs": [],
   "source": [
    "elite_years = set(years_to_count.keys())\n",
    "features = []\n",
    "labels = []\n",
    "\n",
    "elite_avg_stars = []\n",
    "elite_avg_cool = []\n",
    "elite_avg_useful = []\n",
    "elite_avg_funny = []\n",
    "elite_avg_reviews = []\n",
    "\n",
    "non_avg_stars = []\n",
    "non_avg_cool = []\n",
    "non_avg_useful = []\n",
    "non_avg_funny = []\n",
    "non_avg_reviews = []\n",
    "\n",
    "for user, reviews in user_to_reviews.items():\n",
    "    year_to_reviews = {}\n",
    "    for line in reviews:\n",
    "        date = datetime.datetime.strptime(line['date'], '%Y-%m-%d')\n",
    "        year = int(date.strftime('%Y'))\n",
    "        if year in elite_years:\n",
    "            if year in year_to_reviews:\n",
    "                year_to_reviews[year].append(line)\n",
    "            else:\n",
    "                year_to_reviews[year] = [line]\n",
    "    \n",
    "    elite_before = 0\n",
    "    for year, reviews in sorted(year_to_reviews.items(), key=lambda x:x[0]):\n",
    "        feat = []\n",
    "        \n",
    "        n_funny = 0.0\n",
    "        n_cool = 0.0\n",
    "        n_useful = 0.0\n",
    "        n_stars = 0.0\n",
    "        n_reviews = len(reviews)\n",
    "        for review in reviews:\n",
    "            n_funny += review[\"funny\"]\n",
    "            n_cool += review[\"cool\"]\n",
    "            n_useful += review[\"useful\"]\n",
    "            n_stars += review[\"stars\"]\n",
    "        feat.extend([year, elite_before, n_reviews, n_funny, n_cool, n_useful, n_stars/n_reviews])\n",
    "        features.append(feat)\n",
    "        \n",
    "        if user in user_to_years and year in user_to_years[user]:\n",
    "            labels.append(1)\n",
    "            elite_before = 1\n",
    "            elite_avg_stars.append(n_stars/n_reviews)\n",
    "            elite_avg_cool.append(n_cool)\n",
    "            elite_avg_useful.append(n_useful)\n",
    "            elite_avg_funny.append(n_funny)\n",
    "            elite_avg_reviews.append(n_reviews)\n",
    "        else:\n",
    "            labels.append(0)\n",
    "            non_avg_stars.append(n_stars/n_reviews)\n",
    "            non_avg_cool.append(n_cool)\n",
    "            non_avg_useful.append(n_useful)\n",
    "            non_avg_funny.append(n_funny)\n",
    "            non_avg_reviews.append(n_reviews)"
   ]
  },
  {
   "cell_type": "code",
   "execution_count": 10,
   "metadata": {
    "collapsed": false
   },
   "outputs": [
    {
     "name": "stdout",
     "output_type": "stream",
     "text": [
      "Random Forests\n",
      "Accuracy = 0.973626451509\n",
      "Elite: Precision = 0.753349573691, Recall = 0.488326189939, F-1 score = 0.592554574694\n",
      "Non-Elite: Precision = 0.979380435845, Recall = 0.99346444404, F-1 score = 0.986372167544\n",
      "\n",
      "('elite_before', 0.34324957250486632)\n",
      "('n_useful', 0.14884308185120462)\n",
      "('n_cool', 0.1359397050289502)\n",
      "('avg_star', 0.12214524815403049)\n",
      "('n_funny', 0.10290060142675798)\n",
      "('n_reviews', 0.080651559724834995)\n",
      "('year', 0.066270231309355429)\n"
     ]
    }
   ],
   "source": [
    "which_features = [\"year\", \"elite_before\", \"n_reviews\", \"n_funny\", \"n_cool\", \"n_useful\", \"avg_star\"]\n",
    "\n",
    "years = [x[0] for x in features]\n",
    "indices = np.argsort(years)\n",
    "s_features = [features[i] for i in indices]\n",
    "s_labels = [labels[i] for i in indices]\n",
    "preds, actual, importances = run_random_forests(s_features, s_labels)\n",
    "\n",
    "print(\"Random Forests\")\n",
    "print_scores(actual, preds)\n",
    "for ind, importance in sorted(enumerate(importances), key=lambda x:x[1], reverse=True):\n",
    "    print(which_features[ind], importance)"
   ]
  },
  {
   "cell_type": "code",
   "execution_count": 11,
   "metadata": {
    "collapsed": false
   },
   "outputs": [
    {
     "name": "stdout",
     "output_type": "stream",
     "text": [
      "Logistic Regression\n",
      "Accuracy = 0.977889894643\n",
      "Elite: Precision = 0.817608000656, Recall = 0.562485901196, F-1 score = 0.666466205606\n",
      "Non-Elite: Precision = 0.982340649285, Recall = 0.994870683594, F-1 score = 0.988565963612\n",
      "\n",
      "('elite_before', 4.5419293252492059)\n",
      "('avg_star', 0.086312649312602685)\n",
      "('n_reviews', 0.046685777825964253)\n",
      "('n_cool', 0.03521930347804874)\n",
      "('n_useful', 0.012337948384416677)\n",
      "('year', -0.0019780395225400082)\n",
      "('n_funny', -0.014789482718830091)\n"
     ]
    }
   ],
   "source": [
    "which_features = [\"year\", \"elite_before\", \"n_reviews\", \"n_funny\", \"n_cool\", \"n_useful\", \"avg_star\"]\n",
    "\n",
    "preds, actual, importances = run_logistic_regression(s_features, s_labels)\n",
    "\n",
    "print(\"Logistic Regression\")\n",
    "print_scores(actual, preds)\n",
    "for ind, importance in sorted(enumerate(importances[0]), key=lambda x:x[1], reverse=True):\n",
    "    print(which_features[ind], importance)"
   ]
  },
  {
   "cell_type": "code",
   "execution_count": 12,
   "metadata": {
    "collapsed": false
   },
   "outputs": [
    {
     "data": {
      "image/png": "[encoded data removed]",
      "text/plain": [
       "<matplotlib.figure.Figure at 0x9ef2b38>"
      ]
     },
     "metadata": {},
     "output_type": "display_data"
    },
    {
     "data": {
      "image/png": "[encoded data removed]",
      "text/plain": [
       "<matplotlib.figure.Figure at 0x3dab1be48>"
      ]
     },
     "metadata": {},
     "output_type": "display_data"
    }
   ],
   "source": [
    "elite_avgs = (np.average(elite_avg_stars), np.average(elite_avg_cool), np.average(elite_avg_useful),\n",
    "              np.average(elite_avg_funny), np.average(elite_avg_reviews))\n",
    "non_avgs = (np.average(non_avg_stars), np.average(non_avg_cool), np.average(non_avg_useful),\n",
    "              np.average(non_avg_funny), np.average(non_avg_reviews))\n",
    "\n",
    "elite_stds = (np.std(elite_avg_stars), np.std(elite_avg_cool), np.std(elite_avg_useful),\n",
    "              np.std(elite_avg_funny), np.std(elite_avg_reviews))\n",
    "non_stds = (np.std(non_avg_stars), np.std(non_avg_cool), np.std(non_avg_useful),\n",
    "              np.std(non_avg_funny), np.std(non_avg_reviews))\n",
    "\n",
    "n_groups = 5\n",
    "\n",
    "fig, ax = plt.subplots()\n",
    "index = np.arange(n_groups)\n",
    "bar_width = 0.35\n",
    "opacity = 0.5\n",
    "error_config = {'ecolor': '0.3'}\n",
    "\n",
    "elite = plt.bar(index, elite_avgs, bar_width, alpha=opacity, color='r', label='Elite')\n",
    "non = plt.bar(index + bar_width, non_avgs, bar_width, alpha=opacity, color='b', label='Non-elite')\n",
    "\n",
    "# elite = plt.bar(index, elite_avgs, bar_width, alpha=opacity, color='r', \n",
    "#                 yerr=elite_stds, error_kw=error_config, label='Elite')\n",
    "# non = plt.bar(index + bar_width, non_avgs, bar_width, alpha=opacity, color='b', \n",
    "#               yerr=non_stds, error_kw=error_config, label='Non-elite')\n",
    "\n",
    "plt.ylabel('Values')\n",
    "plt.title('Averages for Elites vs Non-elites')\n",
    "plt.xticks(index + bar_width / 2, ('Stars', 'Cool', 'Useful', 'Funny', 'Reviews/Year'))\n",
    "plt.legend()\n",
    "plt.show()\n",
    "\n",
    "fig, ax = plt.subplots()\n",
    "error_config = {'ecolor': '0.3'}\n",
    "\n",
    "elite = plt.bar(index, elite_stds, bar_width, alpha=opacity, color='r',\n",
    "                 error_kw=error_config, label='Elite')\n",
    "non = plt.bar(index + bar_width, non_stds, bar_width, alpha=opacity, color='b',\n",
    "                 error_kw=error_config, label='Non-elite')\n",
    "\n",
    "plt.ylabel('Values')\n",
    "plt.title('Standard Deviations for Elites vs Non-elites')\n",
    "plt.xticks(index + bar_width / 2, ('Stars', 'Cool', 'Useful', 'Funny', 'Reviews/Year'))\n",
    "plt.legend()\n",
    "plt.show()"
   ]
  },
  {
   "cell_type": "markdown",
   "metadata": {},
   "source": [
    "Week 5: NLP ideas: add most useful bag of words features\n",
    "also, look at tips"
   ]
  },
  {
   "cell_type": "code",
   "execution_count": 13,
   "metadata": {
    "collapsed": false
   },
   "outputs": [
    {
     "name": "stdout",
     "output_type": "stream",
     "text": [
      "{u'user_id': u'zcTZk7OG8ovAmh_fenH21g', u'text': u'Get here early enough to have dinner.', u'business_id': u'tJRDll5yqpZwehenzE2cSg', u'likes': 0, u'date': u'2012-07-15', u'type': u'tip'}\n"
     ]
    }
   ],
   "source": [
    "with open(\"yelp_academic_dataset_tip.json\") as f:\n",
    "    for l in f:\n",
    "        line = json.loads(l)\n",
    "        print line\n",
    "        break"
   ]
  },
  {
   "cell_type": "code",
   "execution_count": 14,
   "metadata": {
    "collapsed": false
   },
   "outputs": [],
   "source": [
    "user_to_tips = {}\n",
    "with open(\"yelp_academic_dataset_tip.json\") as f:\n",
    "    for l in f:\n",
    "        line = json.loads(l)\n",
    "        user = line[\"user_id\"]\n",
    "        if user in user_to_tips:\n",
    "            user_to_tips[user].append(line)\n",
    "        else:\n",
    "            user_to_tips[user] = [line]"
   ]
  },
  {
   "cell_type": "code",
   "execution_count": 15,
   "metadata": {
    "collapsed": false
   },
   "outputs": [],
   "source": [
    "elite_years = set(years_to_count.keys())\n",
    "tip_features = []\n",
    "tip_labels = []\n",
    "\n",
    "for user, reviews in user_to_reviews.items():\n",
    "    year_to_reviews = {}\n",
    "    for line in reviews:\n",
    "        date = datetime.datetime.strptime(line['date'], '%Y-%m-%d')\n",
    "        year = int(date.strftime('%Y'))\n",
    "        if year in elite_years:\n",
    "            if year in year_to_reviews:\n",
    "                year_to_reviews[year].append(line)\n",
    "            else:\n",
    "                year_to_reviews[year] = [line]\n",
    "    if user in user_to_tips:\n",
    "        tips = user_to_tips[user]            \n",
    "        year_to_tips = {}\n",
    "        for line in tips:\n",
    "            date = datetime.datetime.strptime(line['date'], '%Y-%m-%d')\n",
    "            year = int(date.strftime('%Y'))\n",
    "            if year in elite_years:\n",
    "                if year in year_to_tips:\n",
    "                    year_to_tips[year].append(line)\n",
    "                else:\n",
    "                    year_to_tips[year] = [line]\n",
    "    \n",
    "    elite_before = 0\n",
    "    for year, reviews in sorted(year_to_reviews.items(), key=lambda x:x[0]):\n",
    "        feat = []\n",
    "        \n",
    "        n_funny = 0.0\n",
    "        n_cool = 0.0\n",
    "        n_useful = 0.0\n",
    "        n_stars = 0.0\n",
    "        n_reviews = len(reviews)\n",
    "        for review in reviews:\n",
    "            n_funny += review[\"funny\"]\n",
    "            n_cool += review[\"cool\"]\n",
    "            n_useful += review[\"useful\"]\n",
    "            n_stars += review[\"stars\"]\n",
    "        \n",
    "        n_tip_likes = 0.0\n",
    "        n_tips = 0.0\n",
    "        if user in user_to_tips:\n",
    "            if year in year_to_tips:\n",
    "                for tip in year_to_tips[year]:\n",
    "                    n_tips += 1.0\n",
    "                    n_tip_likes += tip[\"likes\"]\n",
    "        \n",
    "        feat.extend([year, elite_before, n_reviews, n_funny, n_cool, n_useful, n_stars/n_reviews, n_tip_likes, n_tips])\n",
    "        tip_features.append(feat)\n",
    "        \n",
    "        if user in user_to_years and year in user_to_years[user]:\n",
    "            tip_labels.append(1)\n",
    "            elite_before = 1\n",
    "        else:\n",
    "            tip_labels.append(0)"
   ]
  },
  {
   "cell_type": "code",
   "execution_count": 16,
   "metadata": {
    "collapsed": false
   },
   "outputs": [
    {
     "name": "stdout",
     "output_type": "stream",
     "text": [
      "Random Forests\n",
      "Accuracy = 0.97430860241\n",
      "Elite: Precision = 0.777717391304, Recall = 0.484209339048, F-1 score = 0.596830251634\n",
      "Non-Elite: Precision = 0.979235957709, Recall = 0.994342767433, F-1 score = 0.986731544837\n",
      "\n",
      "('elite_before', 0.33217064744690639)\n",
      "('n_useful', 0.1338020258822345)\n",
      "('n_cool', 0.12841204815172644)\n",
      "('avg_star', 0.10958960838000076)\n",
      "('n_funny', 0.10905127853363436)\n",
      "('n_reviews', 0.084624466799863893)\n",
      "('year', 0.060550244939616492)\n",
      "('n_tips', 0.038668543235105726)\n",
      "('n_tip_likes', 0.0031311366309114143)\n"
     ]
    }
   ],
   "source": [
    "which_features = [\"year\", \"elite_before\", \"n_reviews\", \"n_funny\", \"n_cool\", \"n_useful\", \"avg_star\", \"n_tip_likes\", \"n_tips\"]\n",
    "tip_years = [x[0] for x in tip_features]\n",
    "tip_indices = np.argsort(tip_years)\n",
    "s_tip_features = [tip_features[i] for i in tip_indices]\n",
    "s_tip_labels = [tip_labels[i] for i in tip_indices]\n",
    "preds, actual, importances = run_random_forests(s_tip_features, s_tip_labels)\n",
    "\n",
    "print(\"Random Forests\")\n",
    "print_scores(actual, preds)\n",
    "for ind, importance in sorted(enumerate(importances), key=lambda x:x[1], reverse=True):\n",
    "    print(which_features[ind], importance)"
   ]
  },
  {
   "cell_type": "code",
   "execution_count": 17,
   "metadata": {
    "collapsed": false
   },
   "outputs": [
    {
     "name": "stdout",
     "output_type": "stream",
     "text": [
      "Logistic Regression\n",
      "Accuracy = 0.977885465092\n",
      "Elite: Precision = 0.817578092974, Recall = 0.56237311076, F-1 score = 0.666377092452\n",
      "Non-Elite: Precision = 0.982336177148, Recall = 0.994870683594, F-1 score = 0.988563699108\n",
      "\n",
      "('elite_before', 4.6960395887501871)\n",
      "('avg_star', 0.081370338600248046)\n",
      "('n_reviews', 0.046617708449141017)\n",
      "('n_cool', 0.035846038882174837)\n",
      "('n_useful', 0.012882594056089297)\n",
      "('n_tips', -0.00014977847290761795)\n",
      "('year', -0.0019803232461623665)\n",
      "('n_funny', -0.015432386085838037)\n",
      "('n_tip_likes', -0.19483767436897498)\n"
     ]
    }
   ],
   "source": [
    "preds, actual, importances = run_logistic_regression(s_tip_features, s_tip_labels)\n",
    "\n",
    "print(\"Logistic Regression\")\n",
    "print_scores(actual, preds)\n",
    "for ind, importance in sorted(enumerate(importances[0]), key=lambda x:x[1], reverse=True):\n",
    "    print(which_features[ind], importance)"
   ]
  },
  {
   "cell_type": "markdown",
   "metadata": {
    "collapsed": true
   },
   "source": [
    "Now, try to incorporate text features"
   ]
  },
  {
   "cell_type": "code",
   "execution_count": 1,
   "metadata": {
    "collapsed": true
   },
   "outputs": [],
   "source": [
    "from sklearn.feature_extraction.text import TfidfVectorizer"
   ]
  },
  {
   "cell_type": "code",
   "execution_count": 26,
   "metadata": {
    "collapsed": true
   },
   "outputs": [],
   "source": [
    "revs = []\n",
    "for (user, reviews) in user_to_reviews.items():\n",
    "    for review in reviews:\n",
    "        revs.append(review[\"text\"])"
   ]
  },
  {
   "cell_type": "code",
   "execution_count": 30,
   "metadata": {
    "collapsed": false
   },
   "outputs": [
    {
     "data": {
      "text/plain": [
       "[u'amazing',\n",
       " u'bar',\n",
       " u'best',\n",
       " u'better',\n",
       " u'came',\n",
       " u'chicken',\n",
       " u'come',\n",
       " u'day',\n",
       " u'definitely',\n",
       " u'delicious',\n",
       " u'did',\n",
       " u'didn',\n",
       " u'don',\n",
       " u'experience',\n",
       " u'food',\n",
       " u'friendly',\n",
       " u'going',\n",
       " u'good',\n",
       " u'got',\n",
       " u'great',\n",
       " u'just',\n",
       " u'know',\n",
       " u'like',\n",
       " u'little',\n",
       " u'love',\n",
       " u'make',\n",
       " u'menu',\n",
       " u'new',\n",
       " u'nice',\n",
       " u'night',\n",
       " u'order',\n",
       " u'ordered',\n",
       " u'people',\n",
       " u'place',\n",
       " u'pretty',\n",
       " u'really',\n",
       " u'restaurant',\n",
       " u'right',\n",
       " u'said',\n",
       " u'say',\n",
       " u'service',\n",
       " u'staff',\n",
       " u'think',\n",
       " u'time',\n",
       " u'try',\n",
       " u've',\n",
       " u'wait',\n",
       " u'want',\n",
       " u'way',\n",
       " u'went']"
      ]
     },
     "execution_count": 30,
     "metadata": {},
     "output_type": "execute_result"
    }
   ],
   "source": [
    "tfidf = TfidfVectorizer(min_df=50, max_df=0.5, max_features=50, stop_words=\"english\")\n",
    "tfidf.fit(revs)\n",
    "\n",
    "tfidf.get_feature_names()"
   ]
  },
  {
   "cell_type": "code",
   "execution_count": 33,
   "metadata": {
    "collapsed": false
   },
   "outputs": [
    {
     "name": "stdout",
     "output_type": "stream",
     "text": [
      "10000\n",
      "20000\n",
      "30000\n",
      "40000\n",
      "50000\n",
      "60000\n",
      "70000\n",
      "80000\n",
      "90000\n",
      "100000\n",
      "110000\n",
      "120000\n",
      "130000\n",
      "140000\n",
      "150000\n"
     ]
    },
    {
     "ename": "KeyboardInterrupt",
     "evalue": "",
     "output_type": "error",
     "traceback": [
      "\u001b[0;31m---------------------------------------------------------------------------\u001b[0m",
      "\u001b[0;31mKeyboardInterrupt\u001b[0m                         Traceback (most recent call last)",
      "\u001b[0;32m<ipython-input-33-b1985d37d3b6>\u001b[0m in \u001b[0;36m<module>\u001b[0;34m()\u001b[0m\n\u001b[1;32m     31\u001b[0m             \u001b[0mn_useful\u001b[0m \u001b[1;33m+=\u001b[0m \u001b[0mreview\u001b[0m\u001b[1;33m[\u001b[0m\u001b[1;34m\"useful\"\u001b[0m\u001b[1;33m]\u001b[0m\u001b[1;33m\u001b[0m\u001b[0m\n\u001b[1;32m     32\u001b[0m             \u001b[0mn_stars\u001b[0m \u001b[1;33m+=\u001b[0m \u001b[0mreview\u001b[0m\u001b[1;33m[\u001b[0m\u001b[1;34m\"stars\"\u001b[0m\u001b[1;33m]\u001b[0m\u001b[1;33m\u001b[0m\u001b[0m\n\u001b[0;32m---> 33\u001b[0;31m             \u001b[0mtfidf_feats\u001b[0m \u001b[1;33m+=\u001b[0m \u001b[0mtfidf\u001b[0m\u001b[1;33m.\u001b[0m\u001b[0mtransform\u001b[0m\u001b[1;33m(\u001b[0m\u001b[1;33m[\u001b[0m\u001b[0mreview\u001b[0m\u001b[1;33m[\u001b[0m\u001b[1;34m\"text\"\u001b[0m\u001b[1;33m]\u001b[0m\u001b[1;33m]\u001b[0m\u001b[1;33m)\u001b[0m\u001b[1;33m\u001b[0m\u001b[0m\n\u001b[0m\u001b[1;32m     34\u001b[0m         \u001b[0mfeat\u001b[0m\u001b[1;33m.\u001b[0m\u001b[0mextend\u001b[0m\u001b[1;33m(\u001b[0m\u001b[1;33m[\u001b[0m\u001b[0myear\u001b[0m\u001b[1;33m,\u001b[0m \u001b[0melite_before\u001b[0m\u001b[1;33m,\u001b[0m \u001b[0mn_reviews\u001b[0m\u001b[1;33m,\u001b[0m \u001b[0mn_funny\u001b[0m\u001b[1;33m,\u001b[0m \u001b[0mn_cool\u001b[0m\u001b[1;33m,\u001b[0m \u001b[0mn_useful\u001b[0m\u001b[1;33m,\u001b[0m \u001b[0mn_stars\u001b[0m\u001b[1;33m/\u001b[0m\u001b[0mn_reviews\u001b[0m\u001b[1;33m]\u001b[0m\u001b[1;33m)\u001b[0m\u001b[1;33m\u001b[0m\u001b[0m\n\u001b[1;32m     35\u001b[0m         \u001b[0mfeat\u001b[0m\u001b[1;33m.\u001b[0m\u001b[0mextend\u001b[0m\u001b[1;33m(\u001b[0m\u001b[0mnp\u001b[0m\u001b[1;33m.\u001b[0m\u001b[0marray\u001b[0m\u001b[1;33m(\u001b[0m\u001b[0mtfidf_feats\u001b[0m\u001b[1;33m)\u001b[0m\u001b[1;33m[\u001b[0m\u001b[1;36m0\u001b[0m\u001b[1;33m]\u001b[0m\u001b[1;33m)\u001b[0m\u001b[1;33m\u001b[0m\u001b[0m\n",
      "\u001b[0;32mC:\\Users\\jtlia\\Anaconda2\\lib\\site-packages\\sklearn\\feature_extraction\\text.pyc\u001b[0m in \u001b[0;36mtransform\u001b[0;34m(self, raw_documents, copy)\u001b[0m\n\u001b[1;32m   1378\u001b[0m         \u001b[0mcheck_is_fitted\u001b[0m\u001b[1;33m(\u001b[0m\u001b[0mself\u001b[0m\u001b[1;33m,\u001b[0m \u001b[1;34m'_tfidf'\u001b[0m\u001b[1;33m,\u001b[0m \u001b[1;34m'The tfidf vector is not fitted'\u001b[0m\u001b[1;33m)\u001b[0m\u001b[1;33m\u001b[0m\u001b[0m\n\u001b[1;32m   1379\u001b[0m \u001b[1;33m\u001b[0m\u001b[0m\n\u001b[0;32m-> 1380\u001b[0;31m         \u001b[0mX\u001b[0m \u001b[1;33m=\u001b[0m \u001b[0msuper\u001b[0m\u001b[1;33m(\u001b[0m\u001b[0mTfidfVectorizer\u001b[0m\u001b[1;33m,\u001b[0m \u001b[0mself\u001b[0m\u001b[1;33m)\u001b[0m\u001b[1;33m.\u001b[0m\u001b[0mtransform\u001b[0m\u001b[1;33m(\u001b[0m\u001b[0mraw_documents\u001b[0m\u001b[1;33m)\u001b[0m\u001b[1;33m\u001b[0m\u001b[0m\n\u001b[0m\u001b[1;32m   1381\u001b[0m         \u001b[1;32mreturn\u001b[0m \u001b[0mself\u001b[0m\u001b[1;33m.\u001b[0m\u001b[0m_tfidf\u001b[0m\u001b[1;33m.\u001b[0m\u001b[0mtransform\u001b[0m\u001b[1;33m(\u001b[0m\u001b[0mX\u001b[0m\u001b[1;33m,\u001b[0m \u001b[0mcopy\u001b[0m\u001b[1;33m=\u001b[0m\u001b[0mFalse\u001b[0m\u001b[1;33m)\u001b[0m\u001b[1;33m\u001b[0m\u001b[0m\n",
      "\u001b[0;32mC:\\Users\\jtlia\\Anaconda2\\lib\\site-packages\\sklearn\\feature_extraction\\text.pyc\u001b[0m in \u001b[0;36mtransform\u001b[0;34m(self, raw_documents)\u001b[0m\n\u001b[1;32m    891\u001b[0m \u001b[1;33m\u001b[0m\u001b[0m\n\u001b[1;32m    892\u001b[0m         \u001b[1;31m# use the same matrix-building strategy as fit_transform\u001b[0m\u001b[1;33m\u001b[0m\u001b[1;33m\u001b[0m\u001b[0m\n\u001b[0;32m--> 893\u001b[0;31m         \u001b[0m_\u001b[0m\u001b[1;33m,\u001b[0m \u001b[0mX\u001b[0m \u001b[1;33m=\u001b[0m \u001b[0mself\u001b[0m\u001b[1;33m.\u001b[0m\u001b[0m_count_vocab\u001b[0m\u001b[1;33m(\u001b[0m\u001b[0mraw_documents\u001b[0m\u001b[1;33m,\u001b[0m \u001b[0mfixed_vocab\u001b[0m\u001b[1;33m=\u001b[0m\u001b[0mTrue\u001b[0m\u001b[1;33m)\u001b[0m\u001b[1;33m\u001b[0m\u001b[0m\n\u001b[0m\u001b[1;32m    894\u001b[0m         \u001b[1;32mif\u001b[0m \u001b[0mself\u001b[0m\u001b[1;33m.\u001b[0m\u001b[0mbinary\u001b[0m\u001b[1;33m:\u001b[0m\u001b[1;33m\u001b[0m\u001b[0m\n\u001b[1;32m    895\u001b[0m             \u001b[0mX\u001b[0m\u001b[1;33m.\u001b[0m\u001b[0mdata\u001b[0m\u001b[1;33m.\u001b[0m\u001b[0mfill\u001b[0m\u001b[1;33m(\u001b[0m\u001b[1;36m1\u001b[0m\u001b[1;33m)\u001b[0m\u001b[1;33m\u001b[0m\u001b[0m\n",
      "\u001b[0;32mC:\\Users\\jtlia\\Anaconda2\\lib\\site-packages\\sklearn\\feature_extraction\\text.pyc\u001b[0m in \u001b[0;36m_count_vocab\u001b[0;34m(self, raw_documents, fixed_vocab)\u001b[0m\n\u001b[1;32m    760\u001b[0m         \u001b[1;32mfor\u001b[0m \u001b[0mdoc\u001b[0m \u001b[1;32min\u001b[0m \u001b[0mraw_documents\u001b[0m\u001b[1;33m:\u001b[0m\u001b[1;33m\u001b[0m\u001b[0m\n\u001b[1;32m    761\u001b[0m             \u001b[0mfeature_counter\u001b[0m \u001b[1;33m=\u001b[0m \u001b[1;33m{\u001b[0m\u001b[1;33m}\u001b[0m\u001b[1;33m\u001b[0m\u001b[0m\n\u001b[0;32m--> 762\u001b[0;31m             \u001b[1;32mfor\u001b[0m \u001b[0mfeature\u001b[0m \u001b[1;32min\u001b[0m \u001b[0manalyze\u001b[0m\u001b[1;33m(\u001b[0m\u001b[0mdoc\u001b[0m\u001b[1;33m)\u001b[0m\u001b[1;33m:\u001b[0m\u001b[1;33m\u001b[0m\u001b[0m\n\u001b[0m\u001b[1;32m    763\u001b[0m                 \u001b[1;32mtry\u001b[0m\u001b[1;33m:\u001b[0m\u001b[1;33m\u001b[0m\u001b[0m\n\u001b[1;32m    764\u001b[0m                     \u001b[0mfeature_idx\u001b[0m \u001b[1;33m=\u001b[0m \u001b[0mvocabulary\u001b[0m\u001b[1;33m[\u001b[0m\u001b[0mfeature\u001b[0m\u001b[1;33m]\u001b[0m\u001b[1;33m\u001b[0m\u001b[0m\n",
      "\u001b[0;32mC:\\Users\\jtlia\\Anaconda2\\lib\\site-packages\\sklearn\\feature_extraction\\text.pyc\u001b[0m in \u001b[0;36m<lambda>\u001b[0;34m(doc)\u001b[0m\n\u001b[1;32m    239\u001b[0m \u001b[1;33m\u001b[0m\u001b[0m\n\u001b[1;32m    240\u001b[0m             return lambda doc: self._word_ngrams(\n\u001b[0;32m--> 241\u001b[0;31m                 tokenize(preprocess(self.decode(doc))), stop_words)\n\u001b[0m\u001b[1;32m    242\u001b[0m \u001b[1;33m\u001b[0m\u001b[0m\n\u001b[1;32m    243\u001b[0m         \u001b[1;32melse\u001b[0m\u001b[1;33m:\u001b[0m\u001b[1;33m\u001b[0m\u001b[0m\n",
      "\u001b[0;32mC:\\Users\\jtlia\\Anaconda2\\lib\\site-packages\\sklearn\\feature_extraction\\text.pyc\u001b[0m in \u001b[0;36m_word_ngrams\u001b[0;34m(self, tokens, stop_words)\u001b[0m\n\u001b[1;32m    128\u001b[0m         \u001b[1;31m# handle stop words\u001b[0m\u001b[1;33m\u001b[0m\u001b[1;33m\u001b[0m\u001b[0m\n\u001b[1;32m    129\u001b[0m         \u001b[1;32mif\u001b[0m \u001b[0mstop_words\u001b[0m \u001b[1;32mis\u001b[0m \u001b[1;32mnot\u001b[0m \u001b[0mNone\u001b[0m\u001b[1;33m:\u001b[0m\u001b[1;33m\u001b[0m\u001b[0m\n\u001b[0;32m--> 130\u001b[0;31m             \u001b[0mtokens\u001b[0m \u001b[1;33m=\u001b[0m \u001b[1;33m[\u001b[0m\u001b[0mw\u001b[0m \u001b[1;32mfor\u001b[0m \u001b[0mw\u001b[0m \u001b[1;32min\u001b[0m \u001b[0mtokens\u001b[0m \u001b[1;32mif\u001b[0m \u001b[0mw\u001b[0m \u001b[1;32mnot\u001b[0m \u001b[1;32min\u001b[0m \u001b[0mstop_words\u001b[0m\u001b[1;33m]\u001b[0m\u001b[1;33m\u001b[0m\u001b[0m\n\u001b[0m\u001b[1;32m    131\u001b[0m \u001b[1;33m\u001b[0m\u001b[0m\n\u001b[1;32m    132\u001b[0m         \u001b[1;31m# handle token n-grams\u001b[0m\u001b[1;33m\u001b[0m\u001b[1;33m\u001b[0m\u001b[0m\n",
      "\u001b[0;31mKeyboardInterrupt\u001b[0m: "
     ]
    }
   ],
   "source": [
    "elite_years = set(years_to_count.keys())\n",
    "features = []\n",
    "labels = []\n",
    "counter = 0\n",
    "for user, reviews in user_to_reviews.items():\n",
    "    year_to_reviews = {}\n",
    "    for line in reviews:\n",
    "        date = datetime.datetime.strptime(line['date'], '%Y-%m-%d')\n",
    "        year = int(date.strftime('%Y'))\n",
    "        if year in elite_years:\n",
    "            if year in year_to_reviews:\n",
    "                year_to_reviews[year].append(line)\n",
    "            else:\n",
    "                year_to_reviews[year] = [line]\n",
    "    \n",
    "    elite_before = 0\n",
    "    for year, reviews in sorted(year_to_reviews.items(), key=lambda x:x[0]):\n",
    "        counter += 1\n",
    "        if counter % 10000 == 0:\n",
    "            print counter\n",
    "        feat = []\n",
    "        n_funny = 0.0\n",
    "        n_cool = 0.0\n",
    "        n_useful = 0.0\n",
    "        n_stars = 0.0\n",
    "        n_reviews = len(reviews)\n",
    "        tfidf_feats = np.zeros(50)\n",
    "        for review in reviews:\n",
    "            n_funny += review[\"funny\"]\n",
    "            n_cool += review[\"cool\"]\n",
    "            n_useful += review[\"useful\"]\n",
    "            n_stars += review[\"stars\"]\n",
    "            tfidf_feats += tfidf.transform([review[\"text\"]])\n",
    "        feat.extend([year, elite_before, n_reviews, n_funny, n_cool, n_useful, n_stars/n_reviews])\n",
    "        feat.extend(np.array(tfidf_feats)[0])\n",
    "        features.append(feat)\n",
    "        \n",
    "        if user in user_to_years and year in user_to_years[user]:\n",
    "            labels.append(1)\n",
    "        else:\n",
    "            labels.append(0)"
   ]
  },
  {
   "cell_type": "code",
   "execution_count": null,
   "metadata": {
    "collapsed": true
   },
   "outputs": [],
   "source": [
    "years = [x[0] for x in features]\n",
    "indices = np.argsort(years)\n",
    "s_features = [features[i] for i in indices]\n",
    "s_labels = [labels[i] for i in indices]\n",
    "preds, actual, importances = run_random_forests(s_features, s_labels)\n",
    "print_scores(actual, preds)"
   ]
  }
 ],
 "metadata": {
  "anaconda-cloud": {},
  "kernelspec": {
   "display_name": "Python [Root]",
   "language": "python",
   "name": "Python [Root]"
  },
  "language_info": {
   "codemirror_mode": {
    "name": "ipython",
    "version": 2
   },
   "file_extension": ".py",
   "mimetype": "text/x-python",
   "name": "python",
   "nbconvert_exporter": "python",
   "pygments_lexer": "ipython2",
   "version": "2.7.12"
  }
 },
 "nbformat": 4,
 "nbformat_minor": 2
}
