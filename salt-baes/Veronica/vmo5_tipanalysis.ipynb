{
 "cells": [
  {
   "cell_type": "code",
   "execution_count": 1,
   "metadata": {
    "collapsed": false
   },
   "outputs": [
    {
     "name": "stdout",
     "output_type": "stream",
     "text": [
      "Populating the interactive namespace from numpy and matplotlib\n"
     ]
    }
   ],
   "source": [
    "%pylab inline\n",
    "import csv\n",
    "import json\n",
    "import numpy as np\n",
    "from collections import defaultdict, OrderedDict\n",
    "import matplotlib.pyplot as plt\n",
    "from scipy.stats import pearsonr,spearmanr,linregress\n",
    "import math\n",
    "import plotly.plotly as py\n",
    "import pandas as pd\n",
    "import plotly.graph_objs as go\n",
    "\n",
    "import yelphelpers_vmo5 #make sure this is in your directory!"
   ]
  },
  {
   "cell_type": "code",
   "execution_count": null,
   "metadata": {
    "collapsed": true
   },
   "outputs": [],
   "source": [
    "users=[]\n",
    "with open('user.json') as json_file:\n",
    "    for line in json_file:\n",
    "        users.append(json.loads(line))"
   ]
  },
  {
   "cell_type": "code",
   "execution_count": null,
   "metadata": {
    "collapsed": true
   },
   "outputs": [],
   "source": [
    "business=[]\n",
    "with open('business.json') as json_file:\n",
    "    for line in json_file:\n",
    "        business.append(json.loads(line))"
   ]
  },
  {
   "cell_type": "code",
   "execution_count": null,
   "metadata": {
    "collapsed": true
   },
   "outputs": [],
   "source": [
    "tip=[]\n",
    "with open('tip.json') as json_file:\n",
    "    for line in json_file:\n",
    "        tip.append(json.loads(line))"
   ]
  },
  {
   "cell_type": "code",
   "execution_count": null,
   "metadata": {
    "collapsed": true
   },
   "outputs": [],
   "source": [
    "#Getting list of possible years\n",
    "yearspossible=set()\n",
    "for eachuser in range(len(users)):\n",
    "    year_began = users[eachuser][u'yelping_since'][0:4]\n",
    "    yearspossible.add(year_began)\n",
    "yearspossible = sorted(list(yearspossible))"
   ]
  },
  {
   "cell_type": "code",
   "execution_count": null,
   "metadata": {
    "collapsed": true
   },
   "outputs": [],
   "source": [
    "pattern2009 = ElitePatternof4(u'2009', u'2010', users)\n",
    "pattern2010 = ElitePatternof4(u'2010', u'2011', users)\n",
    "pattern2011 = ElitePatternof4(u'2011', u'2012', users)\n",
    "pattern2012 = ElitePatternof4(u'2012', u'2013', users)\n",
    "pattern2013 = ElitePatternof4(u'2013', u'2014', users)\n",
    "pattern2014 = ElitePatternof4(u'2014', u'2015', users)\n",
    "pattern2015 = ElitePatternof4(u'2015', u'2016', users)\n",
    "pattern2016 = ElitePatternof4(u'2016', u'2017', users)"
   ]
  },
  {
   "cell_type": "code",
   "execution_count": null,
   "metadata": {
    "collapsed": true
   },
   "outputs": [],
   "source": [
    "#Get the counts for EN, EE, NE, NN for each year\n",
    "print pattern2009\n",
    "print pattern2010\n",
    "print pattern2011\n",
    "print pattern2012\n",
    "print pattern2013\n",
    "print pattern2014\n",
    "print pattern2015\n",
    "print pattern2016"
   ]
  },
  {
   "cell_type": "code",
   "execution_count": null,
   "metadata": {
    "collapsed": true
   },
   "outputs": [],
   "source": [
    "ENusercounts = [pattern2009[0],pattern2010[0],pattern2011[0],pattern2012[0],\n",
    "                pattern2013[0],pattern2014[0],pattern2015[0],pattern2016[0]]\n",
    "EEusercounts = [pattern2009[1],pattern2010[1],pattern2011[1],pattern2012[1],\n",
    "                pattern2013[1],pattern2014[1],pattern2015[1],pattern2016[1]]\n",
    "NEusercounts = [pattern2009[2],pattern2010[2],pattern2011[2],pattern2012[2],\n",
    "                pattern2013[2],pattern2014[2],pattern2015[2],pattern2016[2]]\n",
    "NNusercounts = [pattern2009[3],pattern2010[3],pattern2011[3],pattern2012[3],\n",
    "                pattern2013[3],pattern2014[3],pattern2015[3],pattern2016[3]]"
   ]
  },
  {
   "cell_type": "code",
   "execution_count": null,
   "metadata": {
    "collapsed": true
   },
   "outputs": [],
   "source": [
    "plt.title('What User Group Counts Look Like Per Year')\n",
    "plt.plot(range(8), EEusercounts, label='Elite/Elite')\n",
    "plt.plot(range(8), NEusercounts, label='Non-Elite/Elite')\n",
    "plt.plot(range(8), ENusercounts, label='Elite/Non-Elite')\n",
    "plt.plot(range(8), NNusercounts, label='Non-Elite/Non-Elite')\n",
    "plt.xticks(range(8), yearspossible[5:13], rotation='horizontal')\n",
    "plt.legend(bbox_to_anchor=(1.05, 1), loc=2, borderaxespad=0.)\n",
    "plt.show()"
   ]
  },
  {
   "cell_type": "code",
   "execution_count": null,
   "metadata": {
    "collapsed": true
   },
   "outputs": [],
   "source": [
    "#Get the percentages for EN, EE, NE, NN for each year\n",
    "print [round(i/1029432.,4) for i in pattern2009]\n",
    "print [round(i/1029432.,4) for i in pattern2010]\n",
    "print [round(i/1029432.,4) for i in pattern2011]\n",
    "print [round(i/1029432.,4) for i in pattern2012]\n",
    "print [round(i/1029432.,4) for i in pattern2013]\n",
    "print [round(i/1029432.,4) for i in pattern2014]\n",
    "print [round(i/1029432.,4) for i in pattern2015]\n",
    "print [round(i/1029432.,4) for i in pattern2016]"
   ]
  },
  {
   "cell_type": "code",
   "execution_count": null,
   "metadata": {
    "collapsed": true
   },
   "outputs": [],
   "source": [
    "#Get user ID lists for EN, EE, NE, NN for each year\n",
    "userpattern09 = UserPatternList(u'2009', u'2010', users)\n",
    "userpattern10 = UserPatternList(u'2010', u'2011', users)\n",
    "userpattern11 = UserPatternList(u'2011', u'2012', users)\n",
    "userpattern12 = UserPatternList(u'2012', u'2013', users)\n",
    "userpattern13 = UserPatternList(u'2013', u'2014', users)\n",
    "userpattern14 = UserPatternList(u'2014', u'2015', users)\n",
    "userpattern15 = UserPatternList(u'2015', u'2016', users)\n",
    "userpattern16 = UserPatternList(u'2016', u'2017', users)"
   ]
  },
  {
   "cell_type": "code",
   "execution_count": 3,
   "metadata": {
    "collapsed": true
   },
   "outputs": [],
   "source": [
    "#Next step: matching the tips from each year to the (EN, EE, NE, NN) users of that year\n",
    "#NOTE: This will take a while to run each of these."
   ]
  },
  {
   "cell_type": "code",
   "execution_count": null,
   "metadata": {
    "collapsed": true
   },
   "outputs": [],
   "source": [
    "tipsEN09 = getTipElites(tipyears[5], userpattern09[0]) #2009\n",
    "tipsEE09 = getTipElites(tipyears[5], userpattern09[1]) #2009\n",
    "tipsNE09 = getTipElites(tipyears[5], userpattern09[2]) #2009\n",
    "tipsNN09 = getTipElites(tipyears[5], userpattern09[3]) #2009"
   ]
  },
  {
   "cell_type": "code",
   "execution_count": null,
   "metadata": {
    "collapsed": true
   },
   "outputs": [],
   "source": [
    "tipsEN10 = getTipElites(tipyears[6], userpattern10[0]) #2010\n",
    "tipsEE10 = getTipElites(tipyears[6], userpattern10[1]) #2010\n",
    "tipsNE10 = getTipElites(tipyears[6], userpattern10[2]) #2010\n",
    "tipsNN10 = getTipElites(tipyears[6], userpattern10[3]) #2010"
   ]
  },
  {
   "cell_type": "code",
   "execution_count": null,
   "metadata": {
    "collapsed": true
   },
   "outputs": [],
   "source": [
    "tipsEN11 = getTipElites(tipyears[7], userpattern11[0]) #2011\n",
    "tipsEE11 = getTipElites(tipyears[7], userpattern11[1]) #2011\n",
    "tipsNE11 = getTipElites(tipyears[7], userpattern11[2]) #2011\n",
    "tipsNN11 = getTipElites(tipyears[7], userpattern11[3]) #2011"
   ]
  },
  {
   "cell_type": "code",
   "execution_count": null,
   "metadata": {
    "collapsed": true
   },
   "outputs": [],
   "source": [
    "tipsEN12 = getTipElites(tipyears[8], userpattern12[0]) #2012\n",
    "tipsEE12 = getTipElites(tipyears[8], userpattern12[1]) #2012\n",
    "tipsNE12 = getTipElites(tipyears[8], userpattern12[2]) #2012\n",
    "tipsNN12 = getTipElites(tipyears[8], userpattern12[3]) #2012"
   ]
  },
  {
   "cell_type": "code",
   "execution_count": null,
   "metadata": {
    "collapsed": true
   },
   "outputs": [],
   "source": [
    "tipsEN13 = getTipElites(tipyears[9], userpattern13[0]) #2013\n",
    "tipsEE13 = getTipElites(tipyears[9], userpattern13[1]) #2013\n",
    "tipsNE13 = getTipElites(tipyears[9], userpattern13[2]) #2013\n",
    "tipsNN13 = getTipElites(tipyears[9], userpattern13[3]) #2013"
   ]
  },
  {
   "cell_type": "code",
   "execution_count": null,
   "metadata": {
    "collapsed": true
   },
   "outputs": [],
   "source": [
    "tipsEN14 = getTipElites(tipyears[10], userpattern14[0]) #2014\n",
    "tipsEE14 = getTipElites(tipyears[10], userpattern14[1]) #2014\n",
    "tipsNE14 = getTipElites(tipyears[10], userpattern14[2]) #2014\n",
    "tipsNN14 = getTipElites(tipyears[10], userpattern14[3]) #2014"
   ]
  },
  {
   "cell_type": "code",
   "execution_count": null,
   "metadata": {
    "collapsed": true
   },
   "outputs": [],
   "source": [
    "tipsEN15 = getTipElites(tipyears[11], userpattern15[0]) #2015\n",
    "tipsEE15 = getTipElites(tipyears[11], userpattern15[1]) #2015\n",
    "tipsNE15 = getTipElites(tipyears[11], userpattern15[2]) #2015\n",
    "tipsNN15 = getTipElites(tipyears[11], userpattern15[3]) #2015"
   ]
  },
  {
   "cell_type": "code",
   "execution_count": null,
   "metadata": {
    "collapsed": true
   },
   "outputs": [],
   "source": [
    "tipsEN16 = getTipElites(tipyears[12], userpattern16[0]) #2016\n",
    "tipsEE16 = getTipElites(tipyears[12], userpattern16[1]) #2016\n",
    "tipsNE16 = getTipElites(tipyears[12], userpattern16[2]) #2016\n",
    "tipsNN16 = getTipElites(tipyears[12], userpattern16[3]) #2016"
   ]
  },
  {
   "cell_type": "code",
   "execution_count": null,
   "metadata": {
    "collapsed": true
   },
   "outputs": [],
   "source": [
    "#Get tip counts (i.e. length of user ID lists) for each of the individual groups: EN, EE, NE, NN \n",
    "\n",
    "tipsEEyears = ([0,0,0,0,0]+[len(tipsEE09), len(tipsEE10), len(tipsEE11), len(tipsEE12), len(tipsEE13), len(tipsEE14),\n",
    " len(tipsEE15), len(tipsEE16)])\n",
    "\n",
    "tipsNEyears = ([0,0,0,0,0]+[len(tipsNE09), len(tipsNE10), len(tipsNE11), len(tipsNE12), len(tipsNE13), len(tipsNE14),\n",
    " len(tipsNE15), len(tipsNE16)])\n",
    "\n",
    "tipsENyears = ([0,0,0,0,0]+[len(tipsEN09), len(tipsEN10), len(tipsEN11), len(tipsEN12), len(tipsEN13), len(tipsEN14),\n",
    " len(tipsEN15), len(tipsEN16)])\n",
    "\n",
    "tipsNNyears = ([0,0,0,0,0]+[len(tipsNN09), len(tipsNN10), len(tipsNN11), len(tipsNN12), len(tipsNN13), len(tipsNN14),\n",
    " len(tipsNN15), len(tipsNN16)])\n",
    "\n",
    "print tipsEEyears\n",
    "print tipsNEyears\n",
    "print tipsENyears\n",
    "print tipsNNyears"
   ]
  },
  {
   "cell_type": "code",
   "execution_count": null,
   "metadata": {
    "collapsed": true
   },
   "outputs": [],
   "source": [
    "plt.title('What Total Tips Looks like for User Groups: EE, NE, EN, NN')\n",
    "plt.plot(yearspossible[:13], tipsEEyears, label='Total tips for Elite/Elite Group')\n",
    "plt.plot(yearspossible[:13], tipsNEyears, label='Total tips for Non-Elite/Elite Group')\n",
    "plt.plot(yearspossible[:13], tipsENyears, label='Total tips from Elite/Non-Elite Group')\n",
    "plt.plot(yearspossible[:13], tipsNNyears, label='Total tips from Non-Elite/Non-Elite Group')\n",
    "plt.legend(bbox_to_anchor=(1.05, 1), loc=2, borderaxespad=0.)\n",
    "plt.show()"
   ]
  },
  {
   "cell_type": "code",
   "execution_count": null,
   "metadata": {
    "collapsed": true
   },
   "outputs": [],
   "source": [
    "#What is the average tips-per-user for the four user groups?\n",
    "tipsEN_TPU=([0,0,0,0,0]+[round(len(tipsEN09)/float(len(userpattern09[0])),4),\n",
    "                round(len(tipsEN10)/float(len(userpattern10[0])),4),\n",
    "                round(len(tipsEN11)/float(len(userpattern11[0])),4),\n",
    "                round(len(tipsEN12)/float(len(userpattern12[0])),4),\n",
    "                round(len(tipsEN13)/float(len(userpattern13[0])),4),\n",
    "                round(len(tipsEN14)/float(len(userpattern14[0])),4),\n",
    "                round(len(tipsEN15)/float(len(userpattern15[0])),4),\n",
    "                round(len(tipsEN16)/float(len(userpattern16[0])),4)])\n",
    "\n",
    "tipsEE_TPU=([0,0,0,0,0]+[round(len(tipsEE09)/float(len(userpattern09[1])),4),\n",
    "                round(len(tipsEE10)/float(len(userpattern10[1])),4),\n",
    "                round(len(tipsEE11)/float(len(userpattern11[1])),4),\n",
    "                round(len(tipsEE12)/float(len(userpattern12[1])),4),\n",
    "                round(len(tipsEE13)/float(len(userpattern13[1])),4),\n",
    "                round(len(tipsEE14)/float(len(userpattern14[1])),4),\n",
    "                round(len(tipsEE15)/float(len(userpattern15[1])),4),\n",
    "                round(len(tipsEE16)/float(len(userpattern16[1])),4)])\n",
    "\n",
    "tipsNE_TPU=([0,0,0,0,0]+[round(len(tipsNE09)/float(len(userpattern09[2])),4),\n",
    "                round(len(tipsNE10)/float(len(userpattern10[2])),4),\n",
    "                round(len(tipsNE11)/float(len(userpattern11[2])),4),\n",
    "                round(len(tipsNE12)/float(len(userpattern12[2])),4),\n",
    "                round(len(tipsNE13)/float(len(userpattern13[2])),4),\n",
    "                round(len(tipsNE14)/float(len(userpattern14[2])),4),\n",
    "                round(len(tipsNE15)/float(len(userpattern15[2])),4),\n",
    "                round(len(tipsNE16)/float(len(userpattern16[2])),4)])\n",
    "\n",
    "tipsNN_TPU=([0,0,0,0,0]+[round(len(tipsNN09)/float(len(userpattern09[3])),4),\n",
    "                round(len(tipsNN10)/float(len(userpattern10[3])),4),\n",
    "                round(len(tipsNN11)/float(len(userpattern11[3])),4),\n",
    "                round(len(tipsNN12)/float(len(userpattern12[3])),4),\n",
    "                round(len(tipsNN13)/float(len(userpattern13[3])),4),\n",
    "                round(len(tipsNN14)/float(len(userpattern14[3])),4),\n",
    "                round(len(tipsNN15)/float(len(userpattern15[3])),4),\n",
    "                round(len(tipsNN16)/float(len(userpattern16[3])),4)])\n",
    "\n",
    "print 'Elite/Non-Elite Tips-Per-User: ', tipsEN_TPU\n",
    "print 'Elite/Elite Tips-Per-User: ', tipsEE_TPU\n",
    "print 'Non-Elite/Elite Tips-Per-User: ', tipsNE_TPU\n",
    "print 'Non-Elite/Non-Elite Tips-Per-User: ', tipsNN_TPU"
   ]
  },
  {
   "cell_type": "code",
   "execution_count": null,
   "metadata": {
    "collapsed": true
   },
   "outputs": [],
   "source": [
    "plt.title('What TPU Averages Looks like for User Groups: EE, NE, EN, NN')\n",
    "plt.plot(yearspossible[:13], tipsEE_TPU, label='TPU for Elite/Elite Group')\n",
    "plt.plot(yearspossible[:13], tipsNE_TPU, label='TPU for Non-Elite/Elite Group')\n",
    "plt.plot(yearspossible[:13], tipsEN_TPU, label='TPU from Elite/Non-Elite Group')\n",
    "plt.plot(yearspossible[:13], tipsNN_TPU, label='TPU from Non-Elite/Non-Elite Group')\n",
    "plt.legend(bbox_to_anchor=(1.05, 1), loc=2, borderaxespad=0.)\n",
    "plt.show()"
   ]
  },
  {
   "cell_type": "code",
   "execution_count": null,
   "metadata": {
    "collapsed": true
   },
   "outputs": [],
   "source": [
    "#Combine the results of the matching tips to user groups for each user group.\n",
    "allEEtips = [tipsEE09, tipsEE10, tipsEE11, tipsEE12, tipsEE13, tipsEE14, tipsEE15, tipsEE16]\n",
    "allENtips = [tipsEN09, tipsEN10, tipsEN11, tipsEN12, tipsEN13, tipsEN14, tipsEN15, tipsEN16]\n",
    "allNEtips = [tipsNE09, tipsNE10, tipsNE11, tipsNE12, tipsNE13, tipsNE14, tipsNE15, tipsNE16]\n",
    "allNNtips = [tipsNN09, tipsNN10, tipsNN11, tipsNN12, tipsNN13, tipsNN14, tipsNN15, tipsNN16]"
   ]
  },
  {
   "cell_type": "code",
   "execution_count": null,
   "metadata": {
    "collapsed": true
   },
   "outputs": [],
   "source": [
    "#Get the number of tips that each user gave (in dictionary form):"
   ]
  },
  {
   "cell_type": "code",
   "execution_count": null,
   "metadata": {
    "collapsed": true
   },
   "outputs": [],
   "source": [
    "EEx = getAllUniqueCounts(allEEtips)"
   ]
  },
  {
   "cell_type": "code",
   "execution_count": null,
   "metadata": {
    "collapsed": true
   },
   "outputs": [],
   "source": [
    "ENx = getAllUniqueCounts(allENtips)"
   ]
  },
  {
   "cell_type": "code",
   "execution_count": null,
   "metadata": {
    "collapsed": true
   },
   "outputs": [],
   "source": [
    "NEx = getAllUniqueCounts(allNEtips)"
   ]
  },
  {
   "cell_type": "code",
   "execution_count": null,
   "metadata": {
    "collapsed": true
   },
   "outputs": [],
   "source": [
    "NNx = getAllUniqueCounts(allNNtips)"
   ]
  },
  {
   "cell_type": "code",
   "execution_count": null,
   "metadata": {
    "collapsed": true
   },
   "outputs": [],
   "source": [
    "#Look at the distribution of users that only gave 1 tip per year, 2 tips per year, ..., 5 tips per year.\n",
    "#For the individual user groups: EE, NE, EN\n",
    "EEonetimers = [0,0,0,0,0]+getParticularCount(EEx, 1)\n",
    "EEtwotimers = [0,0,0,0,0]+getParticularCount(EEx, 2)\n",
    "EEthreetimers = [0,0,0,0,0]+getParticularCount(EEx, 3)\n",
    "EEfourtimers = [0,0,0,0,0]+getParticularCount(EEx, 4)\n",
    "EEfivetimers = [0,0,0,0,0]+getParticularCount(EEx, 5)\n",
    "\n",
    "NEonetimers = [0,0,0,0,0]+getParticularCount(NEx, 1)\n",
    "NEtwotimers = [0,0,0,0,0]+getParticularCount(NEx, 2)\n",
    "NEthreetimers = [0,0,0,0,0]+getParticularCount(NEx, 3)\n",
    "NEfourtimers = [0,0,0,0,0]+getParticularCount(NEx, 4)\n",
    "NEfivetimers = [0,0,0,0,0]+getParticularCount(NEx, 5)\n",
    "\n",
    "ENonetimers = [0,0,0,0,0]+getParticularCount(ENx, 1)\n",
    "ENtwotimers = [0,0,0,0,0]+getParticularCount(ENx, 2)\n",
    "ENthreetimers = [0,0,0,0,0]+getParticularCount(ENx, 3)\n",
    "ENfourtimers = [0,0,0,0,0]+getParticularCount(ENx, 4)\n",
    "ENfivetimers = [0,0,0,0,0]+getParticularCount(ENx, 5)\n",
    "\n",
    "NNonetimers = [0,0,0,0,0]+getParticularCount(NNx, 1)\n",
    "NNtwotimers = [0,0,0,0,0]+getParticularCount(NNx, 2)\n",
    "NNthreetimers = [0,0,0,0,0]+getParticularCount(NNx, 3)\n",
    "NNfourtimers = [0,0,0,0,0]+getParticularCount(NNx, 4)\n",
    "NNfivetimers = [0,0,0,0,0]+getParticularCount(NNx, 5)"
   ]
  },
  {
   "cell_type": "code",
   "execution_count": null,
   "metadata": {
    "collapsed": true
   },
   "outputs": [],
   "source": [
    "#SCATTERPLOTS of x number of tips per year for the different user groups.\n",
    "plt.scatter(yearspossible[:13], EEonetimers, color='#2E86C1', label='1x tip-givers')\n",
    "plt.scatter(yearspossible[:13], EEtwotimers, color='#F39C12', label='2x tip-givers')\n",
    "plt.scatter(yearspossible[:13], EEthreetimers, color='#E74C3C', label='3x tip-givers')\n",
    "plt.scatter(yearspossible[:13], EEfourtimers, color='#17A589', label='4x tip-givers')\n",
    "plt.scatter(yearspossible[:13], EEfivetimers, color='#FFC300', label='5x tip-givers')\n",
    "plt.legend(bbox_to_anchor=(1.05, 1), loc=2, borderaxespad=0.)\n",
    "plt.title('Count of Elite/Elite Users Giving # of Tips each Year')\n",
    "plt.ylim(-50, 2000)\n",
    "plt.show()\n",
    "\n",
    "plt.scatter(yearspossible[:13], ENonetimers, color='#2E86C1', label='1x tip-givers')\n",
    "plt.scatter(yearspossible[:13], ENtwotimers, color='#F39C12', label='2x tip-givers')\n",
    "plt.scatter(yearspossible[:13], ENthreetimers, color='#E74C3C', label='3x tip-givers')\n",
    "plt.scatter(yearspossible[:13], ENfourtimers, color='#17A589', label='4x tip-givers')\n",
    "plt.scatter(yearspossible[:13], ENfivetimers, color='#FFC300', label='5x tip-givers')\n",
    "plt.legend(bbox_to_anchor=(1.05, 1), loc=2, borderaxespad=0.)\n",
    "plt.title('Count of Elite/Non-Elite Users Giving # of Tips each Year')\n",
    "plt.ylim(-50, 500)\n",
    "plt.show()\n",
    "\n",
    "plt.scatter(yearspossible[:13], NEonetimers, color='#2E86C1', label='1x tip-givers')\n",
    "plt.scatter(yearspossible[:13], NEtwotimers, color='#F39C12', label='2x tip-givers')\n",
    "plt.scatter(yearspossible[:13], NEthreetimers, color='#E74C3C', label='3x tip-givers')\n",
    "plt.scatter(yearspossible[:13], NEfourtimers, color='#17A589', label='4x tip-givers')\n",
    "plt.scatter(yearspossible[:13], NEfivetimers, color='#FFC300', label='5x tip-givers')\n",
    "plt.legend(bbox_to_anchor=(1.05, 1), loc=2, borderaxespad=0.)\n",
    "plt.title('Count of Non-Elite/Elite Users Giving # of Tips each Year')\n",
    "plt.ylim(-50, 500)\n",
    "plt.show()\n",
    "\n",
    "plt.scatter(yearspossible[:13], NNonetimers, color='#2E86C1', label='1x tip-givers')\n",
    "plt.scatter(yearspossible[:13], NNtwotimers, color='#F39C12', label='2x tip-givers')\n",
    "plt.scatter(yearspossible[:13], NNthreetimers, color='#E74C3C', label='3x tip-givers')\n",
    "plt.scatter(yearspossible[:13], NNfourtimers, color='#17A589', label='4x tip-givers')\n",
    "plt.scatter(yearspossible[:13], NNfivetimers, color='#FFC300', label='5x tip-givers')\n",
    "plt.legend(bbox_to_anchor=(1.05, 1), loc=2, borderaxespad=0.)\n",
    "plt.title('Count of Non-Elite/Non-Elite Users Giving # of Tips each Year')\n",
    "plt.ylim(-50, 500)\n",
    "plt.show()"
   ]
  },
  {
   "cell_type": "code",
   "execution_count": null,
   "metadata": {
    "collapsed": true
   },
   "outputs": [],
   "source": [
    "EEtipcounts=[]\n",
    "for year in yearspossible:\n",
    "    countvals=[]\n",
    "    for k in EEx[year].keys():\n",
    "        countvals.append(EEx[year][k])\n",
    "    EEtipcounts.append(countvals)\n",
    "    \n",
    "ENtipcounts=[]\n",
    "for year in yearspossible:\n",
    "    countvals=[]\n",
    "    for k in ENx[year].keys():\n",
    "        countvals.append(ENx[year][k])\n",
    "    ENtipcounts.append(countvals)\n",
    "    \n",
    "NEtipcounts=[]\n",
    "for year in yearspossible:\n",
    "    countvals=[]\n",
    "    for k in NEx[year].keys():\n",
    "        countvals.append(NEx[year][k])\n",
    "    NEtipcounts.append(countvals)\n",
    "    \n",
    "NNtipcounts=[]\n",
    "for year in yearspossible:\n",
    "    countvals=[]\n",
    "    for k in NNx[year].keys():\n",
    "        countvals.append(NNx[year][k])\n",
    "    NNtipcounts.append(countvals)"
   ]
  },
  {
   "cell_type": "code",
   "execution_count": null,
   "metadata": {
    "collapsed": true
   },
   "outputs": [],
   "source": [
    "#BOXPLOTS of number of tips per year for the different user groups.\n",
    "plt.figure(figsize=(8,6))\n",
    "plt.title('Distribution of Tips Given per Elite/Elite User per Year')\n",
    "plt.boxplot(EEtipcounts[5:])\n",
    "plt.show()\n",
    "\n",
    "plt.figure(figsize=(8,6))\n",
    "plt.title('Distribution of Tips Given per Elite/Non-Elite User per Year')\n",
    "plt.boxplot(ENtipcounts[5:])\n",
    "plt.show()\n",
    "\n",
    "plt.figure(figsize=(8,6))\n",
    "plt.title('Distribution of Elite Tips Given per Non-Elite/Elite User per Year')\n",
    "plt.boxplot(NEtipcounts[5:])\n",
    "plt.show()\n",
    "\n",
    "plt.figure(figsize=(8,6))\n",
    "plt.title('Distribution of Elite Tips Given per Non-Elite/Non-Elite User per Year')\n",
    "plt.boxplot(NNtipcounts[5:])\n",
    "plt.show()"
   ]
  }
 ],
 "metadata": {
  "anaconda-cloud": {},
  "kernelspec": {
   "display_name": "Python [Root]",
   "language": "python",
   "name": "Python [Root]"
  },
  "language_info": {
   "codemirror_mode": {
    "name": "ipython",
    "version": 2
   },
   "file_extension": ".py",
   "mimetype": "text/x-python",
   "name": "python",
   "nbconvert_exporter": "python",
   "pygments_lexer": "ipython2",
   "version": "2.7.12"
  }
 },
 "nbformat": 4,
 "nbformat_minor": 2
}
