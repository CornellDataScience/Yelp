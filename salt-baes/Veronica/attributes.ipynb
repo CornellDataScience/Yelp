{
 "cells": [
  {
   "cell_type": "code",
   "execution_count": 2,
   "metadata": {
    "collapsed": false
   },
   "outputs": [
    {
     "name": "stdout",
     "output_type": "stream",
     "text": [
      "Populating the interactive namespace from numpy and matplotlib\n"
     ]
    }
   ],
   "source": [
    "%pylab inline\n",
    "import csv\n",
    "import json\n",
    "import numpy as np\n",
    "from collections import defaultdict\n",
    "import matplotlib.pyplot as plt"
   ]
  },
  {
   "cell_type": "code",
   "execution_count": 4,
   "metadata": {
    "collapsed": false
   },
   "outputs": [],
   "source": [
    "business=[]\n",
    "with open('business.json') as json_file:\n",
    "    for line in json_file:\n",
    "        business.append(json.loads(line))"
   ]
  },
  {
   "cell_type": "code",
   "execution_count": 34,
   "metadata": {
    "collapsed": true
   },
   "outputs": [],
   "source": [
    "#HELPER FUNCTIONS\n",
    "def getValues(attribute):\n",
    "    '''String parser that breaks down attribute and value.\n",
    "    Returns attribute string and associated unlisted value.'''\n",
    "    start = 0\n",
    "    name = attribute[:attribute.find(':')]\n",
    "    if attribute.count(':') == 1:\n",
    "        coltuples = [[name, attribute[attribute.find(':')+2:]]]\n",
    "    else:\n",
    "        start = attribute.find(':')+3\n",
    "        coltuples=[]\n",
    "        s = attribute[start:]\n",
    "        for colon in range(attribute.count(':')-1):\n",
    "            commaindex = s.find(',')\n",
    "            colindex = s.find(':')\n",
    "            newname = name+'-'+s[:colindex]\n",
    "            coltuples.append([newname, s[colindex+2:commaindex]])\n",
    "            s = s[commaindex+2:]\n",
    "    return coltuples\n",
    "\n",
    "def modifywithNAs(dictionaryvalue, attributelist):\n",
    "    '''Provide dictionary value for the business (i.e. the list of attributes it actually has data for) \n",
    "    and the list of possible attributes. Returns dictionary with modified original list of attributes with fill-ins\n",
    "    for the missing data.'''\n",
    "    dictatts=defaultdict(dict)\n",
    "    for value in dictionaryvalue: #a list of attributes for the business\n",
    "        dictatts[value[0]]=value[1]    \n",
    "    for attribute in attributelist:\n",
    "        if attribute not in dictatts.keys():\n",
    "            dictatts[attribute] = 'NA'  \n",
    "    return dictatts"
   ]
  },
  {
   "cell_type": "code",
   "execution_count": 35,
   "metadata": {
    "collapsed": false
   },
   "outputs": [],
   "source": [
    "def getAllAttributes(businessfile, city):\n",
    "    '''Given a business.json subset, will return attribute list to be of size 72.\n",
    "    Preconditions: city is a valid city in the business dataset, businessfile is business.json read into Python.'''\n",
    "    attributelist = []\n",
    "    for x in range(len(business)):\n",
    "        if business[x][u'city'] == city and (type(business[x][u'attributes']) == list):\n",
    "            for y in business[x][u'attributes']:\n",
    "                if y not in attributelist:\n",
    "                    attributelist.append(y)\n",
    "    unlistedatts = []\n",
    "    for item in attributelist:\n",
    "        newitem = getValues(item)\n",
    "        unlistedatts.append(newitem)\n",
    "    allattributes=[]\n",
    "    for item in unlistedatts:\n",
    "        if item[0] not in allattributes:\n",
    "            if len(item) == 1:\n",
    "                allattributes.append(item[0][0])\n",
    "            elif len(item) > 2:\n",
    "                for item2 in item:\n",
    "                    if item2[0] not in allattributes:\n",
    "                        allattributes.append(item2[0])                  \n",
    "    return allattributes\n",
    "\n",
    "def transformAttributes(businessfile, attributelist, city):\n",
    "    '''Returns transformed dictionary: key is business_id, values is attribute list of length 72.\n",
    "    Preconditions: businessfile is business.json read into Python, attribute list of length 72 with all possible,\n",
    "    city is a valid city in the business dataset.'''\n",
    "    business2 = businessfile\n",
    "    testlist = []\n",
    "    #Transforming business_id + attributes into accessible file\n",
    "    for x in range(len(business2)):\n",
    "        if business2[x][u'city'] == city:\n",
    "            temp=[(business2[x][u'business_id'])]\n",
    "            if type(business2[x][u'attributes']) == list:\n",
    "                temp2=[]\n",
    "                for y in business2[x][u'attributes']:\n",
    "                    temp2.append(y)\n",
    "                temp.append(temp2)\n",
    "            else:\n",
    "                temp.append([])\n",
    "            testlist.append(temp)\n",
    "    for business in range(len(testlist)):\n",
    "        attributes = testlist[business][1]\n",
    "        if attributes != []:\n",
    "            temp = []\n",
    "            for att in attributes:\n",
    "                newatt = getValues(att)\n",
    "                for new in newatt:\n",
    "                    temp.append(new)\n",
    "            testlist[business][1] = temp \n",
    "    attributedict = {}\n",
    "    for business in range(len(testlist)):\n",
    "        attributedict[testlist[business][0]] = testlist[business][1]\n",
    "    #Now to fill the dictionary with NA values if data is not there\n",
    "    for ids in attributedict.keys():\n",
    "        v = attributedict[ids]\n",
    "        attributedict[ids] = modifywithNAs(v, allattributes)\n",
    "    return attributedict"
   ]
  },
  {
   "cell_type": "code",
   "execution_count": null,
   "metadata": {
    "collapsed": true
   },
   "outputs": [],
   "source": [
    "#TO WRITE CSV FILE\n",
    "with open('dict6.2.csv', 'wb') as csv_file:\n",
    "    writer = csv.writer(csv_file)\n",
    "    for key, value in attributedict.items():\n",
    "        for attribute, value2 in value.items():\n",
    "            writer.writerow([key, attribute, value2])"
   ]
  },
  {
   "cell_type": "code",
   "execution_count": 36,
   "metadata": {
    "collapsed": false
   },
   "outputs": [],
   "source": [
    "allattributes = getAllAttributes(business, 'Edinburgh')\n",
    "transformed = transformAttributes(business, allattributes, 'Edinburgh')"
   ]
  },
  {
   "cell_type": "code",
   "execution_count": 42,
   "metadata": {
    "collapsed": false
   },
   "outputs": [],
   "source": [
    "attributevalues=defaultdict(dict)\n",
    "for y in allattributes:\n",
    "    attlist=set()\n",
    "    for x in transformed.keys():\n",
    "        attlist.add(transformed[x][y])\n",
    "    attributevalues[y] = attlist"
   ]
  },
  {
   "cell_type": "code",
   "execution_count": 43,
   "metadata": {
    "collapsed": false
   },
   "outputs": [
    {
     "data": {
      "text/plain": [
       "defaultdict(dict,\n",
       "            {u'AcceptsInsurance': {u'False', 'NA', u'True'},\n",
       "             u'AgesAllowed': {u'18plus', 'NA', u'allages'},\n",
       "             u'Alcohol': {'NA', u'beer_and_wine', u'full_bar', u'none'},\n",
       "             u\"Ambience-'casual'\": {u'False', 'NA', u'True'},\n",
       "             u\"Ambience-'classy'\": {u'False', 'NA', u'True'},\n",
       "             u\"Ambience-'hipster'\": {u'False', 'NA', u'True'},\n",
       "             u\"Ambience-'intimate'\": {u'False', 'NA', u'True'},\n",
       "             u\"Ambience-'romantic'\": {u'False', 'NA', u'True'},\n",
       "             u\"Ambience-'touristy'\": {u'False', 'NA', u'True'},\n",
       "             u\"Ambience-'trendy'\": {u'False', 'NA', u'True'},\n",
       "             u\"Ambience-'upscale'\": {u'False', 'NA', u'True'},\n",
       "             u'BYOBCorkage': {'NA', u'yes_free'},\n",
       "             u\"BestNights-'friday'\": {u'False', 'NA', u'True'},\n",
       "             u\"BestNights-'monday'\": {u'False', 'NA', u'True'},\n",
       "             u\"BestNights-'saturday'\": {u'False', 'NA', u'True'},\n",
       "             u\"BestNights-'sunday'\": {u'False', 'NA', u'True'},\n",
       "             u\"BestNights-'thursday'\": {u'False', 'NA', u'True'},\n",
       "             u\"BestNights-'tuesday'\": {u'False', 'NA', u'True'},\n",
       "             u\"BestNights-'wednesday'\": {u'False', 'NA', u'True'},\n",
       "             u'BikeParking': {u'False', 'NA', u'True'},\n",
       "             u'BusinessAcceptsBitcoin': {u'False', 'NA', u'True'},\n",
       "             u'BusinessAcceptsCreditCards': {u'False', 'NA', u'True'},\n",
       "             u\"BusinessParking-'garage'\": {u'False', 'NA', u'True'},\n",
       "             u\"BusinessParking-'lot'\": {u'False', 'NA', u'True'},\n",
       "             u\"BusinessParking-'street'\": {u'False', 'NA', u'True'},\n",
       "             u\"BusinessParking-'valet'\": {u'False', 'NA'},\n",
       "             u'ByAppointmentOnly': {u'False', 'NA', u'True'},\n",
       "             u'Caters': {u'False', 'NA', u'True'},\n",
       "             u'CoatCheck': {u'False', 'NA', u'True'},\n",
       "             u\"DietaryRestrictions-'dairy-free'\": {u'False', 'NA'},\n",
       "             u\"DietaryRestrictions-'gluten-free'\": {u'False', 'NA'},\n",
       "             u\"DietaryRestrictions-'halal'\": {u'False', 'NA'},\n",
       "             u\"DietaryRestrictions-'kosher'\": {u'False', 'NA'},\n",
       "             u\"DietaryRestrictions-'soy-free'\": {u'False', 'NA'},\n",
       "             u\"DietaryRestrictions-'vegan'\": {u'False', 'NA', u'True'},\n",
       "             u\"DietaryRestrictions-'vegetarian'\": {u'False', 'NA'},\n",
       "             u'DogsAllowed': {u'False', 'NA', u'True'},\n",
       "             u'DriveThru': {u'False', 'NA', u'True'},\n",
       "             u'GoodForDancing': {u'False', 'NA', u'True'},\n",
       "             u'GoodForKids': {u'False', 'NA', u'True'},\n",
       "             u\"GoodForMeal-'breakfast'\": {u'False', 'NA', u'True'},\n",
       "             u\"GoodForMeal-'brunch'\": {u'False', 'NA', u'True'},\n",
       "             u\"GoodForMeal-'dessert'\": {u'False', 'NA', u'True'},\n",
       "             u\"GoodForMeal-'dinner'\": {u'False', 'NA', u'True'},\n",
       "             u\"GoodForMeal-'latenight'\": {u'False', 'NA', u'True'},\n",
       "             u\"GoodForMeal-'lunch'\": {u'False', 'NA', u'True'},\n",
       "             u\"HairSpecializesIn-'coloring'\": {u'False', 'NA', u'True'},\n",
       "             u\"HairSpecializesIn-'curly'\": {'NA', u'True'},\n",
       "             u\"HairSpecializesIn-'extensions'\": {u'False', 'NA', u'True'},\n",
       "             u\"HairSpecializesIn-'kids'\": {u'False', 'NA', u'True'},\n",
       "             u\"HairSpecializesIn-'perms'\": {u'False', 'NA', u'True'},\n",
       "             u'HappyHour': {u'False', 'NA', u'True'},\n",
       "             u'HasTV': {u'False', 'NA', u'True'},\n",
       "             u\"Music-'background_music'\": {u'False', 'NA', u'True'},\n",
       "             u\"Music-'dj'\": {u'False', 'NA', u'True'},\n",
       "             u\"Music-'jukebox'\": {u'False', 'NA', u'True'},\n",
       "             u\"Music-'karaoke'\": {u'False', 'NA', u'True'},\n",
       "             u\"Music-'live'\": {u'False', 'NA', u'True'},\n",
       "             u\"Music-'no_music'\": {u'False', 'NA'},\n",
       "             u\"Music-'video'\": {u'False', 'NA', u'True'},\n",
       "             u'NoiseLevel': {'NA',\n",
       "              u'average',\n",
       "              u'loud',\n",
       "              u'quiet',\n",
       "              u'very_loud'},\n",
       "             u'OutdoorSeating': {u'False', 'NA', u'True'},\n",
       "             u'RestaurantsAttire': {'NA', u'casual', u'dressy', u'formal'},\n",
       "             u'RestaurantsDelivery': {u'False', 'NA', u'True'},\n",
       "             u'RestaurantsGoodForGroups': {u'False', 'NA', u'True'},\n",
       "             u'RestaurantsPriceRange2': {u'1', u'2', u'3', u'4', 'NA'},\n",
       "             u'RestaurantsReservations': {u'False', 'NA', u'True'},\n",
       "             u'RestaurantsTableService': {u'False', 'NA', u'True'},\n",
       "             u'RestaurantsTakeOut': {u'False', 'NA', u'True'},\n",
       "             u'Smoking': {'NA', u'no', u'outdoor', u'yes'},\n",
       "             u'WheelchairAccessible': {u'False', 'NA', u'True'},\n",
       "             u'WiFi': {'NA', u'free', u'no', u'paid'}})"
      ]
     },
     "execution_count": 43,
     "metadata": {},
     "output_type": "execute_result"
    }
   ],
   "source": [
    "attributevalues"
   ]
  },
  {
   "cell_type": "code",
   "execution_count": null,
   "metadata": {
    "collapsed": true
   },
   "outputs": [],
   "source": []
  }
 ],
 "metadata": {
  "kernelspec": {
   "display_name": "Python [Root]",
   "language": "python",
   "name": "Python [Root]"
  },
  "language_info": {
   "codemirror_mode": {
    "name": "ipython",
    "version": 2
   },
   "file_extension": ".py",
   "mimetype": "text/x-python",
   "name": "python",
   "nbconvert_exporter": "python",
   "pygments_lexer": "ipython2",
   "version": "2.7.12"
  }
 },
 "nbformat": 4,
 "nbformat_minor": 0
}
