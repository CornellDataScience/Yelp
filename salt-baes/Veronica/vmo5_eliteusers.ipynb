{
 "cells": [
  {
   "cell_type": "code",
   "execution_count": 1,
   "metadata": {
    "collapsed": false
   },
   "outputs": [
    {
     "name": "stdout",
     "output_type": "stream",
     "text": [
      "Populating the interactive namespace from numpy and matplotlib\n"
     ]
    }
   ],
   "source": [
    "%pylab inline\n",
    "import csv\n",
    "import json\n",
    "import numpy as np\n",
    "from collections import defaultdict, OrderedDict\n",
    "import matplotlib.pyplot as plt\n",
    "from scipy.stats import pearsonr,spearmanr,linregress\n",
    "import math\n",
    "import plotly.plotly as py\n",
    "import pandas as pd\n",
    "import plotly.graph_objs as go"
   ]
  },
  {
   "cell_type": "code",
   "execution_count": 3,
   "metadata": {
    "collapsed": false
   },
   "outputs": [],
   "source": [
    "users=[]\n",
    "with open('user.json') as json_file:\n",
    "    for line in json_file:\n",
    "        users.append(json.loads(line))"
   ]
  },
  {
   "cell_type": "code",
   "execution_count": 2,
   "metadata": {
    "collapsed": true
   },
   "outputs": [],
   "source": [
    "business=[]\n",
    "with open('business.json') as json_file:\n",
    "    for line in json_file:\n",
    "        business.append(json.loads(line))"
   ]
  },
  {
   "cell_type": "code",
   "execution_count": 5,
   "metadata": {
    "collapsed": false
   },
   "outputs": [],
   "source": [
    "tip=[]\n",
    "with open('tip.json') as json_file:\n",
    "    for line in json_file:\n",
    "        tip.append(json.loads(line))"
   ]
  },
  {
   "cell_type": "code",
   "execution_count": 179,
   "metadata": {
    "collapsed": false
   },
   "outputs": [
    {
     "data": {
      "text/plain": [
       "{u'business_id': u'tJRDll5yqpZwehenzE2cSg',\n",
       " u'date': u'2012-07-15',\n",
       " u'likes': 0,\n",
       " u'text': u'Get here early enough to have dinner.',\n",
       " u'type': u'tip',\n",
       " u'user_id': u'zcTZk7OG8ovAmh_fenH21g'}"
      ]
     },
     "execution_count": 179,
     "metadata": {},
     "output_type": "execute_result"
    }
   ],
   "source": [
    "tip[0]"
   ]
  },
  {
   "cell_type": "code",
   "execution_count": 7,
   "metadata": {
    "collapsed": false
   },
   "outputs": [
    {
     "data": {
      "text/plain": [
       "[u'2017', u'2015', u'2016', u'2014', u'2011', u'2013', u'2012']"
      ]
     },
     "execution_count": 7,
     "metadata": {},
     "output_type": "execute_result"
    }
   ],
   "source": [
    "users[0][u'elite']"
   ]
  },
  {
   "cell_type": "markdown",
   "metadata": {},
   "source": [
    "Break down elite users by putting together:\n",
    "\n",
    "- yelping_since year, review_count, friends, useful/funny/cool votes, fans, compliments, avg stars (from user.json)\n",
    "- review text, review stars, review date, review funny/useful/cool (from review.json)\n",
    "- tips, date, likes (from tips.json)\n",
    "\n",
    "To identify and separate the following:\n",
    "1. Identify pre-elite years and reviews.\n",
    "2. Identify post-elite years and reviews.\n",
    "\n",
    "Possible combinations for elite / non-elite buckets:\n",
    "- Non-elite\n",
    "- Non-elite / Elite\n",
    "- Non-elite / Elite / Non-elite\n",
    "- Non-elite / Elite / Non-elite / Elite\n",
    "- Etc."
   ]
  },
  {
   "cell_type": "markdown",
   "metadata": {},
   "source": [
    "# Questions to Answer\n",
    "\n",
    "1. Can we assume that the requirements were the same for choosing elites over all possible years?\n"
   ]
  },
  {
   "cell_type": "code",
   "execution_count": 8,
   "metadata": {
    "collapsed": true
   },
   "outputs": [],
   "source": [
    "yearspossible=set()\n",
    "for eachuser in range(len(users)):\n",
    "    year_began = users[eachuser][u'yelping_since'][0:4]\n",
    "    yearspossible.add(year_began)\n",
    "yearspossible = sorted(list(yearspossible))"
   ]
  },
  {
   "cell_type": "code",
   "execution_count": 9,
   "metadata": {
    "collapsed": false
   },
   "outputs": [
    {
     "name": "stdout",
     "output_type": "stream",
     "text": [
      "[u'2004', u'2005', u'2006', u'2007', u'2008', u'2009', u'2010', u'2011', u'2012', u'2013', u'2014', u'2015', u'2016', u'2017']\n"
     ]
    }
   ],
   "source": [
    "print yearspossible\n",
    "year_began = '2017' #has index 13 #14-13 = 1\n",
    "year_began = '2009' #has index 5 #14-5 = 9"
   ]
  },
  {
   "cell_type": "code",
   "execution_count": 10,
   "metadata": {
    "collapsed": false
   },
   "outputs": [],
   "source": [
    "percentelite = []\n",
    "elitecounter=0\n",
    "usercounter=0\n",
    "for eachuser in range(len(users)):\n",
    "    elite = users[eachuser][u'elite']\n",
    "    if elite[0] != u'None':\n",
    "        year_began = users[eachuser][u'yelping_since'][0:4]\n",
    "        poss_yelping = (len(yearspossible)) - yearspossible.index(year_began)\n",
    "        elitelen = len(users[eachuser][u'elite'])\n",
    "        percentelite.append(elitelen / float(poss_yelping))\n",
    "        elitecounter+=1\n",
    "    usercounter+=1\n",
    "    #elitearray = users[eachuser][u'elite']\n",
    "    #for year in elitearray:"
   ]
  },
  {
   "cell_type": "code",
   "execution_count": 11,
   "metadata": {
    "collapsed": false
   },
   "outputs": [
    {
     "name": "stdout",
     "output_type": "stream",
     "text": [
      "49704\n",
      "1029432\n"
     ]
    }
   ],
   "source": [
    "print elitecounter\n",
    "print usercounter"
   ]
  },
  {
   "cell_type": "code",
   "execution_count": 10,
   "metadata": {
    "collapsed": false
   },
   "outputs": [
    {
     "data": {
      "text/plain": [
       "(array([ 3934.,  7741.,  7685.,  6509.,  5969.,  4699.,  4036.,  3574.,\n",
       "         2785.,  2772.]),\n",
       " array([ 0.07142857,  0.16428571,  0.25714286,  0.35      ,  0.44285714,\n",
       "         0.53571429,  0.62857143,  0.72142857,  0.81428571,  0.90714286,  1.        ]),\n",
       " <a list of 10 Patch objects>)"
      ]
     },
     "execution_count": 10,
     "metadata": {},
     "output_type": "execute_result"
    },
    {
     "data": {
      "image/png": "[encoded data removed]",
      "text/plain": [
       "<matplotlib.figure.Figure at 0x3622b9490>"
      ]
     },
     "metadata": {},
     "output_type": "display_data"
    }
   ],
   "source": [
    "#What percent of the time are users \"elite\"?\n",
    "hist(percentelite)"
   ]
  },
  {
   "cell_type": "code",
   "execution_count": 12,
   "metadata": {
    "collapsed": true
   },
   "outputs": [],
   "source": [
    "#What percent of tips are coming from elite users in years 2004-2017?\n",
    "\n",
    "def getElites(users):\n",
    "    '''Returns list of elite users for that year.'''\n",
    "    elitelist = []\n",
    "    selectyears = [u'2004', u'2005', u'2006', u'2007', u'2008', u'2009', u'2010', \n",
    "                   u'2011', u'2012', u'2013', u'2014', u'2015', u'2016', u'2017']\n",
    "    for x in range(len(selectyears)):\n",
    "        xyear=[]\n",
    "        for eachuser in range(len(users)):\n",
    "            elite = users[eachuser][u'elite']\n",
    "            if elite[0] != u'None':\n",
    "                if selectyears[x] in elite:\n",
    "                    xyear.append(users[eachuser][u'user_id'])\n",
    "        elitelist.append(xyear)\n",
    "    return elitelist\n",
    "\n",
    "def getNonElites(users):\n",
    "    '''Returns list of elite users for that year.'''\n",
    "    nonelitelist = []\n",
    "    selectyears = [u'2004', u'2005', u'2006', u'2007', u'2008', u'2009', u'2010', \n",
    "                   u'2011', u'2012', u'2013', u'2014', u'2015', u'2016', u'2017']\n",
    "    for x in range(len(selectyears)):\n",
    "        xyear=[]\n",
    "        for eachuser in range(len(users)):\n",
    "            elite = users[eachuser][u'elite']\n",
    "            if selectyears[x] not in elite:\n",
    "                xyear.append(users[eachuser][u'user_id'])\n",
    "        nonelitelist.append(xyear)\n",
    "    return nonelitelist"
   ]
  },
  {
   "cell_type": "code",
   "execution_count": 15,
   "metadata": {
    "collapsed": false
   },
   "outputs": [
    {
     "name": "stdout",
     "output_type": "stream",
     "text": [
      "5\n"
     ]
    }
   ],
   "source": [
    "elites = getElites(users)"
   ]
  },
  {
   "cell_type": "code",
   "execution_count": 40,
   "metadata": {
    "collapsed": true
   },
   "outputs": [],
   "source": [
    "nonelites = getNonElites(users)"
   ]
  },
  {
   "cell_type": "code",
   "execution_count": 41,
   "metadata": {
    "collapsed": false
   },
   "outputs": [
    {
     "name": "stdout",
     "output_type": "stream",
     "text": [
      "[1029432, 1029294, 1028551, 1027080, 1025822, 1022922, 1019036, 1016360, 1011860, 1009882, 1009407, 1004423, 1000586, 1006804]\n"
     ]
    }
   ],
   "source": [
    "len_elites=[]\n",
    "for x in elites:\n",
    "    len_elites.append(len(x))\n",
    "    \n",
    "len_nonelites=[]\n",
    "for y in nonelites:\n",
    "    len_nonelites.append(len(y))\n",
    "print len_nonelites"
   ]
  },
  {
   "cell_type": "code",
   "execution_count": 45,
   "metadata": {
    "collapsed": false
   },
   "outputs": [
    {
     "data": {
      "image/png": "[encoded data removed]",
      "text/plain": [
       "<matplotlib.figure.Figure at 0x3d8cb5190>"
      ]
     },
     "metadata": {},
     "output_type": "display_data"
    }
   ],
   "source": [
    "f, ax = plt.subplots(2, sharex=True)\n",
    "ax[0].plot(yearspossible, len_elites)\n",
    "ax[1].plot(yearspossible, len_nonelites, color='r')\n",
    "plt.show()"
   ]
  },
  {
   "cell_type": "code",
   "execution_count": 68,
   "metadata": {
    "collapsed": false
   },
   "outputs": [],
   "source": [
    "#946600 tips, what percent of them belong to elite users?\n",
    "\n",
    "def groupTipsbyYear(tip):\n",
    "    tyears = []\n",
    "    selectyears = [u'2004', u'2005', u'2006', u'2007', u'2008', u'2009', u'2010', \n",
    "                   u'2011', u'2012', u'2013', u'2014', u'2015', u'2016', u'2017']\n",
    "    for x in selectyears:\n",
    "        xyear=[]\n",
    "        for t in range(len(tip)):\n",
    "            yeargiven = tip[t][u'date'][0:4]\n",
    "            if x == yeargiven:\n",
    "                xyear.append(tip[t][u'user_id'])\n",
    "        tyears.append(xyear)\n",
    "    return tyears\n",
    "\n",
    "def getTipElites(tipyears, elites):\n",
    "    elitetipcounts=[]\n",
    "    tipyears=sorted(tipyears)\n",
    "    elites=sorted(elites)\n",
    "    for tips in tipyears:\n",
    "        if tips in elites:\n",
    "            elitetipcounts.append(tips)\n",
    "    return elitetipcounts"
   ]
  },
  {
   "cell_type": "code",
   "execution_count": 69,
   "metadata": {
    "collapsed": false
   },
   "outputs": [],
   "source": [
    "tipyears = groupTipsbyYear(tip)"
   ]
  },
  {
   "cell_type": "code",
   "execution_count": 117,
   "metadata": {
    "collapsed": true
   },
   "outputs": [],
   "source": [
    "tipelites5 = getTipElites(tipyears[5], elites[5]) #2009"
   ]
  },
  {
   "cell_type": "code",
   "execution_count": 54,
   "metadata": {
    "collapsed": false
   },
   "outputs": [],
   "source": [
    "tipelites6 = getTipElites(tipyears[6], elites[6]) #2010"
   ]
  },
  {
   "cell_type": "code",
   "execution_count": 55,
   "metadata": {
    "collapsed": true
   },
   "outputs": [],
   "source": [
    "tipelites7 = getTipElites(tipyears[7], elites[7]) #2011"
   ]
  },
  {
   "cell_type": "code",
   "execution_count": 57,
   "metadata": {
    "collapsed": false
   },
   "outputs": [],
   "source": [
    "tipelites8 = getTipElites(tipyears[8], elites[8]) #2012"
   ]
  },
  {
   "cell_type": "code",
   "execution_count": 60,
   "metadata": {
    "collapsed": true
   },
   "outputs": [],
   "source": [
    "tipelites9 = getTipElites(tipyears[9], elites[9]) #2013"
   ]
  },
  {
   "cell_type": "code",
   "execution_count": 61,
   "metadata": {
    "collapsed": true
   },
   "outputs": [],
   "source": [
    "tipelites10 = getTipElites(tipyears[10], elites[10]) #2014"
   ]
  },
  {
   "cell_type": "code",
   "execution_count": 62,
   "metadata": {
    "collapsed": true
   },
   "outputs": [],
   "source": [
    "tipelites11 = getTipElites(tipyears[11], elites[11]) #2015"
   ]
  },
  {
   "cell_type": "code",
   "execution_count": 63,
   "metadata": {
    "collapsed": true
   },
   "outputs": [],
   "source": [
    "tipelites12 = getTipElites(tipyears[12], elites[12]) #2016"
   ]
  },
  {
   "cell_type": "code",
   "execution_count": 64,
   "metadata": {
    "collapsed": true
   },
   "outputs": [],
   "source": [
    "tipelites13 = getTipElites(tipyears[13], elites[13]) #2017"
   ]
  },
  {
   "cell_type": "code",
   "execution_count": 23,
   "metadata": {
    "collapsed": false
   },
   "outputs": [],
   "source": [
    "len_tipyears=[]\n",
    "for x in tipyears:\n",
    "    len_tipyears.append(len(x))"
   ]
  },
  {
   "cell_type": "code",
   "execution_count": 95,
   "metadata": {
    "collapsed": false
   },
   "outputs": [
    {
     "name": "stdout",
     "output_type": "stream",
     "text": [
      "[0, 0, 0, 0, 0, 912, 40371, 141422, 179214, 161283, 158001, 125512, 133568, 6317]\n",
      "[0, 138, 881, 2352, 3610, 6510, 10396, 13072, 17572, 19550, 20025, 25009, 28846, 22628]\n",
      "[0, 0, 0, 0, 0, 287, 9928, 30462, 46004, 36981, 28927, 26247, 30965, 1442]\n",
      "[0, 0, 0, 0, 0, 0.31469298245614036, 0.24591910034430656, 0.21539788717455557, 0.25669869541442075, 0.22929260988448877, 0.18308111973974847, 0.20911944674612787, 0.2318294801149976, 0.22827291435808136]\n"
     ]
    }
   ],
   "source": [
    "print len_tipyears\n",
    "print len_elites\n",
    "print len_tipsfromelites\n",
    "print percent_tipsfromelites"
   ]
  },
  {
   "cell_type": "code",
   "execution_count": 130,
   "metadata": {
    "collapsed": false
   },
   "outputs": [
    {
     "ename": "NameError",
     "evalue": "name 'tipelites5' is not defined",
     "output_type": "error",
     "traceback": [
      "\u001b[0;31m---------------------------------------------------------------------------\u001b[0m",
      "\u001b[0;31mNameError\u001b[0m                                 Traceback (most recent call last)",
      "\u001b[0;32m<ipython-input-130-dbcf20ae681d>\u001b[0m in \u001b[0;36m<module>\u001b[0;34m()\u001b[0m\n\u001b[1;32m      1\u001b[0m len_tipsfromelites = ([0, 0, 0, 0, 0] +\n\u001b[0;32m----> 2\u001b[0;31m [len(tipelites5), len(tipelites6), len(tipelites7), len(tipelites8), len(tipelites9), len(tipelites10),\n\u001b[0m\u001b[1;32m      3\u001b[0m  len(tipelites11), len(tipelites12), len(tipelites13)])\n\u001b[1;32m      4\u001b[0m \u001b[0;34m\u001b[0m\u001b[0m\n\u001b[1;32m      5\u001b[0m \u001b[0mpercent_tipsfromelites\u001b[0m \u001b[0;34m=\u001b[0m \u001b[0;34m[\u001b[0m\u001b[0;34m]\u001b[0m\u001b[0;34m\u001b[0m\u001b[0m\n",
      "\u001b[0;31mNameError\u001b[0m: name 'tipelites5' is not defined"
     ]
    }
   ],
   "source": [
    "len_tipsfromelites = ([0, 0, 0, 0, 0] +\n",
    "[len(tipelites5), len(tipelites6), len(tipelites7), len(tipelites8), len(tipelites9), len(tipelites10),\n",
    " len(tipelites11), len(tipelites12), len(tipelites13)])\n",
    "\n",
    "percent_tipsfromelites = []\n",
    "for x in range(14):\n",
    "    if len_tipyears[x] != 0:\n",
    "        percent_tipsfromelites.append(len_tipsfromelites[x]/float(len_tipyears[x]))\n",
    "    else:\n",
    "        percent_tipsfromelites.append(0)"
   ]
  },
  {
   "cell_type": "code",
   "execution_count": 131,
   "metadata": {
    "collapsed": false
   },
   "outputs": [
    {
     "ename": "NameError",
     "evalue": "name 'len_tipyears' is not defined",
     "output_type": "error",
     "traceback": [
      "\u001b[0;31m---------------------------------------------------------------------------\u001b[0m",
      "\u001b[0;31mNameError\u001b[0m                                 Traceback (most recent call last)",
      "\u001b[0;32m<ipython-input-131-8f1cf385860d>\u001b[0m in \u001b[0;36m<module>\u001b[0;34m()\u001b[0m\n\u001b[0;32m----> 1\u001b[0;31m \u001b[0mplt\u001b[0m\u001b[0;34m.\u001b[0m\u001b[0mplot\u001b[0m\u001b[0;34m(\u001b[0m\u001b[0myearspossible\u001b[0m\u001b[0;34m,\u001b[0m \u001b[0mlen_tipyears\u001b[0m\u001b[0;34m,\u001b[0m \u001b[0mlabel\u001b[0m\u001b[0;34m=\u001b[0m\u001b[0;34m'Total tips per year'\u001b[0m\u001b[0;34m)\u001b[0m\u001b[0;34m\u001b[0m\u001b[0m\n\u001b[0m\u001b[1;32m      2\u001b[0m \u001b[0mplt\u001b[0m\u001b[0;34m.\u001b[0m\u001b[0mplot\u001b[0m\u001b[0;34m(\u001b[0m\u001b[0myearspossible\u001b[0m\u001b[0;34m,\u001b[0m \u001b[0mlen_elites\u001b[0m\u001b[0;34m,\u001b[0m \u001b[0mlabel\u001b[0m\u001b[0;34m=\u001b[0m\u001b[0;34m'Total amount of elites per year'\u001b[0m\u001b[0;34m)\u001b[0m\u001b[0;34m\u001b[0m\u001b[0m\n\u001b[1;32m      3\u001b[0m \u001b[0mplt\u001b[0m\u001b[0;34m.\u001b[0m\u001b[0mplot\u001b[0m\u001b[0;34m(\u001b[0m\u001b[0myearspossible\u001b[0m\u001b[0;34m,\u001b[0m \u001b[0mlen_tipsfromelites\u001b[0m\u001b[0;34m,\u001b[0m \u001b[0mlabel\u001b[0m\u001b[0;34m=\u001b[0m\u001b[0;34m'Number of tips from elites'\u001b[0m\u001b[0;34m)\u001b[0m\u001b[0;34m\u001b[0m\u001b[0m\n\u001b[1;32m      4\u001b[0m \u001b[0mplt\u001b[0m\u001b[0;34m.\u001b[0m\u001b[0mlegend\u001b[0m\u001b[0;34m(\u001b[0m\u001b[0mbbox_to_anchor\u001b[0m\u001b[0;34m=\u001b[0m\u001b[0;34m(\u001b[0m\u001b[0;36m1.05\u001b[0m\u001b[0;34m,\u001b[0m \u001b[0;36m1\u001b[0m\u001b[0;34m)\u001b[0m\u001b[0;34m,\u001b[0m \u001b[0mloc\u001b[0m\u001b[0;34m=\u001b[0m\u001b[0;36m2\u001b[0m\u001b[0;34m,\u001b[0m \u001b[0mborderaxespad\u001b[0m\u001b[0;34m=\u001b[0m\u001b[0;36m0.\u001b[0m\u001b[0;34m)\u001b[0m\u001b[0;34m\u001b[0m\u001b[0m\n\u001b[1;32m      5\u001b[0m \u001b[0mplt\u001b[0m\u001b[0;34m.\u001b[0m\u001b[0mshow\u001b[0m\u001b[0;34m(\u001b[0m\u001b[0;34m)\u001b[0m\u001b[0;34m\u001b[0m\u001b[0m\n",
      "\u001b[0;31mNameError\u001b[0m: name 'len_tipyears' is not defined"
     ]
    }
   ],
   "source": [
    "plt.plot(yearspossible, len_tipyears, label='Total tips per year')\n",
    "plt.plot(yearspossible, len_elites, label='Total amount of elites per year')\n",
    "plt.plot(yearspossible, len_tipsfromelites, label='Number of tips from elites')\n",
    "plt.legend(bbox_to_anchor=(1.05, 1), loc=2, borderaxespad=0.)\n",
    "plt.show()"
   ]
  },
  {
   "cell_type": "code",
   "execution_count": 90,
   "metadata": {
    "collapsed": false
   },
   "outputs": [
    {
     "data": {
      "text/plain": [
       "(0, 1.0)"
      ]
     },
     "execution_count": 90,
     "metadata": {},
     "output_type": "execute_result"
    },
    {
     "data": {
      "image/png": "[encoded data removed]",
      "text/plain": [
       "<matplotlib.figure.Figure at 0x3da283790>"
      ]
     },
     "metadata": {},
     "output_type": "display_data"
    }
   ],
   "source": [
    "#How many of these tips are coming from the same individuals?\n",
    "plt.plot(yearspossible, percent_tipsfromelites)\n",
    "plt.ylim(0, 1.0)"
   ]
  },
  {
   "cell_type": "code",
   "execution_count": 132,
   "metadata": {
    "collapsed": false
   },
   "outputs": [],
   "source": [
    "def getEachUniqueCounts(tipelites_list):\n",
    "    counts = defaultdict(int)\n",
    "    for ID in tipelites_list:\n",
    "        counts[ID] +=1\n",
    "    return counts"
   ]
  },
  {
   "cell_type": "code",
   "execution_count": 133,
   "metadata": {
    "collapsed": true
   },
   "outputs": [],
   "source": [
    "def getAllUniqueCounts(tipelites_list):\n",
    "    results = defaultdict(dict)\n",
    "    selectyears = [u'2009', u'2010', u'2011', u'2012', u'2013', u'2014', u'2015', u'2016', u'2017']\n",
    "    for x in range(len(tipelites_list)):\n",
    "        for ID in tipelites_list[x]:\n",
    "            year = selectyears[x]\n",
    "            if ID in results[year].keys():\n",
    "                results[year][ID] +=1\n",
    "            else:\n",
    "                results[year][ID] = 1\n",
    "    return results"
   ]
  },
  {
   "cell_type": "code",
   "execution_count": 109,
   "metadata": {
    "collapsed": true
   },
   "outputs": [],
   "source": [
    "alltips = [tipelites5, tipelites6, tipelites7, tipelites8, tipelites9, \n",
    "           tipelites10, tipelites11, tipelites12, tipelites13]"
   ]
  },
  {
   "cell_type": "code",
   "execution_count": 150,
   "metadata": {
    "collapsed": false
   },
   "outputs": [],
   "source": [
    "x = getAllUniqueCounts(alltips)"
   ]
  },
  {
   "cell_type": "code",
   "execution_count": 152,
   "metadata": {
    "collapsed": false
   },
   "outputs": [
    {
     "name": "stdout",
     "output_type": "stream",
     "text": [
      "[0, 0, 0, 0, 0, 58, 1080, 2505, 3887, 3621, 3514, 3947, 4740, 660]\n"
     ]
    }
   ],
   "source": [
    "print [len(x[a].keys()) for a in yearspossible]"
   ]
  },
  {
   "cell_type": "code",
   "execution_count": 181,
   "metadata": {
    "collapsed": false
   },
   "outputs": [],
   "source": [
    "tipcounts=[]\n",
    "for year in yearspossible:\n",
    "    countvals=[]\n",
    "    for k in x[year].keys():\n",
    "        countvals.append(x[year][k])\n",
    "    tipcounts.append(countvals)"
   ]
  },
  {
   "cell_type": "code",
   "execution_count": 196,
   "metadata": {
    "collapsed": false
   },
   "outputs": [
    {
     "data": {
      "image/png": "[encoded data removed]",
      "text/plain": [
       "<matplotlib.figure.Figure at 0x3e74ce910>"
      ]
     },
     "metadata": {},
     "output_type": "display_data"
    }
   ],
   "source": [
    "plt.hist(tipcounts[5], 50)\n",
    "plt.hist(tipcounts[6], 100)\n",
    "plt.show()"
   ]
  },
  {
   "cell_type": "code",
   "execution_count": 147,
   "metadata": {
    "collapsed": false
   },
   "outputs": [],
   "source": [
    "def getParticularCount(dictionaryx, value):\n",
    "    tipcounts=[]\n",
    "    selectyears = [u'2009', u'2010', u'2011', u'2012', u'2013', u'2014', u'2015', u'2016'] #u'2017\n",
    "    for a in selectyears:\n",
    "        count = 0\n",
    "        for k in dictionaryx[a].keys():\n",
    "            if dictionaryx[a][k] == value:\n",
    "                count+=1\n",
    "        tipcounts.append(count)\n",
    "    return tipcounts\n",
    "\n",
    "def getParticularPercentCount(dictionaryx, value):\n",
    "    percentcounts=[]\n",
    "    selectyears = [u'2009', u'2010', u'2011', u'2012', u'2013', u'2014', u'2015', u'2016'] #u'2017\n",
    "    for a in selectyears:\n",
    "        count = 0\n",
    "        length = len(dictionaryx[a].keys())\n",
    "        for k in dictionaryx[a].keys():\n",
    "            if dictionaryx[a][k] == value:\n",
    "                count+=1\n",
    "        percentcounts.append(round(count/float(length), 4))\n",
    "    return percentcounts"
   ]
  },
  {
   "cell_type": "code",
   "execution_count": 214,
   "metadata": {
    "collapsed": false
   },
   "outputs": [],
   "source": [
    "onetimers = getParticularCount(x, 1)\n",
    "twotimers = getParticularCount(x, 2)\n",
    "threetimers = getParticularCount(x, 3)\n",
    "fourtimers = getParticularCount(x, 4)\n",
    "fivetimers = getParticularCount(x, 5)\n",
    "\n",
    "onetimersp = getParticularPercentCount(x, 1)\n",
    "twotimersp = getParticularPercentCount(x, 2)\n",
    "threetimersp = getParticularPercentCount(x, 3)\n",
    "fourtimersp = getParticularPercentCount(x, 4)\n",
    "fivetimersp = getParticularPercentCount(x, 5)"
   ]
  },
  {
   "cell_type": "code",
   "execution_count": 215,
   "metadata": {
    "collapsed": false
   },
   "outputs": [
    {
     "name": "stdout",
     "output_type": "stream",
     "text": [
      "[26, 324, 703, 1153, 1263, 1269, 1546, 1860, 415]\n",
      "[0.4483, 0.3, 0.2806, 0.2966, 0.3488, 0.3611, 0.3917, 0.3924, 0.6288]\n"
     ]
    }
   ],
   "source": [
    "print onetimers\n",
    "print onetimersp"
   ]
  },
  {
   "cell_type": "code",
   "execution_count": 225,
   "metadata": {
    "collapsed": false
   },
   "outputs": [
    {
     "data": {
      "image/png": "[encoded data removed]",
      "text/plain": [
       "<matplotlib.figure.Figure at 0x3e95dd550>"
      ]
     },
     "metadata": {},
     "output_type": "display_data"
    }
   ],
   "source": [
    "plt.figure(figsize=(8,5))\n",
    "plt.scatter(yearspossible[5:], onetimers, color='#2E86C1', label='1x tip-givers')\n",
    "plt.scatter(yearspossible[5:], twotimers, color='#F39C12', label='2x tip-givers')\n",
    "plt.scatter(yearspossible[5:], threetimers, color='#E74C3C', label='3x tip-givers')\n",
    "plt.scatter(yearspossible[5:], fourtimers, color='#17A589', label='4x tip-givers')\n",
    "plt.scatter(yearspossible[5:], fivetimers, color='#FFC300', label='5x tip-givers')\n",
    "plt.legend(bbox_to_anchor=(1.05, 1), loc=2, borderaxespad=0.)\n",
    "plt.title('Count of Yelp Elite Users Giving # of Tips each Year')\n",
    "plt.ylim(-50, 2000)\n",
    "plt.show()"
   ]
  },
  {
   "cell_type": "code",
   "execution_count": 226,
   "metadata": {
    "collapsed": false
   },
   "outputs": [
    {
     "data": {
      "image/png": "[encoded data removed]",
      "text/plain": [
       "<matplotlib.figure.Figure at 0x3e977f790>"
      ]
     },
     "metadata": {},
     "output_type": "display_data"
    }
   ],
   "source": [
    "plt.figure(figsize=(8,5))\n",
    "plt.scatter(yearspossible[5:], onetimersp, color='#2E86C1', label='1x tip-givers')\n",
    "plt.scatter(yearspossible[5:], twotimersp, color='#F39C12', label='2x tip-givers')\n",
    "plt.scatter(yearspossible[5:], threetimersp, color='#E74C3C', label='3x tip-givers')\n",
    "plt.scatter(yearspossible[5:], fourtimersp, color='#17A589', label='4x tip-givers')\n",
    "plt.scatter(yearspossible[5:], fivetimersp, color='#FFC300', label='5x tip-givers')\n",
    "plt.legend(bbox_to_anchor=(1.05, 1), loc=2, borderaxespad=0.)\n",
    "plt.title('Percent of Elite Tips Coming from Elite Users Giving # of Tips each Year')\n",
    "plt.ylim(-0.05, 1.0)\n",
    "plt.show()"
   ]
  },
  {
   "cell_type": "code",
   "execution_count": 240,
   "metadata": {
    "collapsed": false
   },
   "outputs": [
    {
     "data": {
      "image/png": "[encoded data removed]",
      "text/plain": [
       "<matplotlib.figure.Figure at 0x3e807f150>"
      ]
     },
     "metadata": {},
     "output_type": "display_data"
    }
   ],
   "source": [
    "years = ['2009', '2010', '2011', '2012', '2013', '2014', '2015', '2016', '2017']\n",
    "plt.figure(figsize=(10,6))\n",
    "plt.title('Distribution of Elite Tips Given per Elite User per Year')\n",
    "plt.boxplot(tipcounts[5:])\n",
    "#plt.xticks(years)\n",
    "plt.show()"
   ]
  },
  {
   "cell_type": "markdown",
   "metadata": {},
   "source": [
    "Now to do the same thing, but with non-elite users."
   ]
  },
  {
   "cell_type": "code",
   "execution_count": 241,
   "metadata": {
    "collapsed": false
   },
   "outputs": [
    {
     "ename": "KeyboardInterrupt",
     "evalue": "",
     "output_type": "error",
     "traceback": [
      "\u001b[0;31m---------------------------------------------------------------------------\u001b[0m",
      "\u001b[0;31mKeyboardInterrupt\u001b[0m                         Traceback (most recent call last)",
      "\u001b[0;32m<ipython-input-241-f9067d534eef>\u001b[0m in \u001b[0;36m<module>\u001b[0;34m()\u001b[0m\n\u001b[0;32m----> 1\u001b[0;31m \u001b[0mtipnonelites5\u001b[0m \u001b[0;34m=\u001b[0m \u001b[0mgetTipElites\u001b[0m\u001b[0;34m(\u001b[0m\u001b[0mtipyears\u001b[0m\u001b[0;34m[\u001b[0m\u001b[0;36m5\u001b[0m\u001b[0;34m]\u001b[0m\u001b[0;34m,\u001b[0m \u001b[0mnonelites\u001b[0m\u001b[0;34m[\u001b[0m\u001b[0;36m5\u001b[0m\u001b[0;34m]\u001b[0m\u001b[0;34m)\u001b[0m \u001b[0;31m#2009\u001b[0m\u001b[0;34m\u001b[0m\u001b[0m\n\u001b[0m",
      "\u001b[0;32m<ipython-input-51-86e6527b69ef>\u001b[0m in \u001b[0;36mgetTipElites\u001b[0;34m(tipyears, elites)\u001b[0m\n\u001b[1;32m     19\u001b[0m     \u001b[0melites\u001b[0m\u001b[0;34m=\u001b[0m\u001b[0msorted\u001b[0m\u001b[0;34m(\u001b[0m\u001b[0melites\u001b[0m\u001b[0;34m)\u001b[0m\u001b[0;34m\u001b[0m\u001b[0m\n\u001b[1;32m     20\u001b[0m     \u001b[0;32mfor\u001b[0m \u001b[0mtips\u001b[0m \u001b[0;32min\u001b[0m \u001b[0mtipyears\u001b[0m\u001b[0;34m:\u001b[0m\u001b[0;34m\u001b[0m\u001b[0m\n\u001b[0;32m---> 21\u001b[0;31m         \u001b[0;32mif\u001b[0m \u001b[0mtips\u001b[0m \u001b[0;32min\u001b[0m \u001b[0melites\u001b[0m\u001b[0;34m:\u001b[0m\u001b[0;34m\u001b[0m\u001b[0m\n\u001b[0m\u001b[1;32m     22\u001b[0m             \u001b[0melitetipcounts\u001b[0m\u001b[0;34m.\u001b[0m\u001b[0mappend\u001b[0m\u001b[0;34m(\u001b[0m\u001b[0mtips\u001b[0m\u001b[0;34m)\u001b[0m\u001b[0;34m\u001b[0m\u001b[0m\n\u001b[1;32m     23\u001b[0m     \u001b[0;32mreturn\u001b[0m \u001b[0melitetipcounts\u001b[0m\u001b[0;34m\u001b[0m\u001b[0m\n",
      "\u001b[0;31mKeyboardInterrupt\u001b[0m: "
     ]
    }
   ],
   "source": [
    "#randomly sample nonelites, because we have way too many nonelites to measure.\n",
    "tipnonelites5 = getTipElites(tipyears[5], nonelites[5]) #2009"
   ]
  },
  {
   "cell_type": "code",
   "execution_count": 244,
   "metadata": {
    "collapsed": false
   },
   "outputs": [
    {
     "name": "stdout",
     "output_type": "stream",
     "text": [
      "[6510, 10396, 13072, 17572, 19550, 20025, 25009, 28846, 22628]\n",
      "[1022922, 1019036, 1016360, 1011860, 1009882, 1009407, 1004423, 1000586, 1006804]\n"
     ]
    }
   ],
   "source": [
    "print len_elites[5:]\n",
    "print len_nonelites[5:]"
   ]
  },
  {
   "cell_type": "code",
   "execution_count": 246,
   "metadata": {
    "collapsed": true
   },
   "outputs": [],
   "source": [
    "#Have to randomly sample the same amount per year of non-elites as elites"
   ]
  },
  {
   "cell_type": "markdown",
   "metadata": {
    "collapsed": true
   },
   "source": [
    "Tuesday April 11th:\n",
    "Descriptive Statistics working with Tips and Identifying Elite Patterns"
   ]
  },
  {
   "cell_type": "code",
   "execution_count": null,
   "metadata": {
    "collapsed": true
   },
   "outputs": [],
   "source": [
    "def ElitePatternof4(thisyear, nextyear, users):\n",
    "    '''Returns elite pattern in following list: \n",
    "    (1) elite this year | non-elite next year E.N.\n",
    "    (2) elite this year | elite next year E.E.\n",
    "    (3) non-elite this year | elite next year N.E.\n",
    "    (4) non-elite this year | non-elite next year N.N. '''\n",
    "    \n",
    "    patternlist = [0, 0, 0, 0] #EN, EE, NE, NN\n",
    "    for eachuser in range(len(users)):\n",
    "        elite = users[eachuser][u'elite']\n",
    "        if elite[0] != u'None':\n",
    "            if (thisyear in elite) and (nextyear not in elite):\n",
    "                patternlist[0]+=1\n",
    "            elif (thisyear in elite) and (nextyear in elite):\n",
    "                patternlist[1]+=1\n",
    "            elif (thisyear not in elite) and (nextyear in elite):\n",
    "                patternlist[2]+=1\n",
    "            else:\n",
    "                patternlist[3]+=1 \n",
    "        elif elite[0] == u'None':\n",
    "            patternlist[3]+=1 \n",
    "    return patternlist"
   ]
  },
  {
   "cell_type": "markdown",
   "metadata": {},
   "source": [
    "Let's look at tips from EE, NE, and EN users from 2009:"
   ]
  },
  {
   "cell_type": "code",
   "execution_count": 75,
   "metadata": {
    "collapsed": true
   },
   "outputs": [],
   "source": [
    "def UserPatternList(thisyear, nextyear, users):\n",
    "    '''Returns lists of elite/non-elite users in following order: \n",
    "    (1) elite this year | non-elite next year E.N.\n",
    "    (2) elite this year | elite next year E.E.\n",
    "    (3) non-elite this year | elite next year N.E.'''\n",
    "    \n",
    "    patternlist = [[], [], []] #EN, EE, NE\n",
    "    for eachuser in range(len(users)):\n",
    "        elite = users[eachuser][u'elite']\n",
    "        if elite[0] != u'None':\n",
    "            if (thisyear in elite) and (nextyear not in elite):\n",
    "                patternlist[0].append(users[eachuser][u'user_id'])\n",
    "            elif (thisyear in elite) and (nextyear in elite):\n",
    "                patternlist[1].append(users[eachuser][u'user_id'])\n",
    "            elif (thisyear not in elite) and (nextyear in elite):\n",
    "                patternlist[2].append(users[eachuser][u'user_id'])\n",
    "    return patternlist"
   ]
  },
  {
   "cell_type": "code",
   "execution_count": 57,
   "metadata": {
    "collapsed": false
   },
   "outputs": [
    {
     "name": "stdout",
     "output_type": "stream",
     "text": [
      "[0.0011, 0.0052, 0.0049, 0.9888]\n",
      "[0.002, 0.0081, 0.0046, 0.9853]\n",
      "[0.0025, 0.0102, 0.0069, 0.9804]\n",
      "[0.0026, 0.0145, 0.0045, 0.9784]\n",
      "[0.0044, 0.0146, 0.0048, 0.9762]\n",
      "[0.0036, 0.0158, 0.0085, 0.9721]\n",
      "[0.0041, 0.0202, 0.0078, 0.9679]\n",
      "[0.0063, 0.0217, 0.0003, 0.9717]\n"
     ]
    }
   ],
   "source": [
    "pattern2009 = ElitePatternof4(u'2009', u'2010', users)\n",
    "pattern2010 = ElitePatternof4(u'2010', u'2011', users)\n",
    "pattern2011 = ElitePatternof4(u'2011', u'2012', users)\n",
    "pattern2012 = ElitePatternof4(u'2012', u'2013', users)\n",
    "pattern2013 = ElitePatternof4(u'2013', u'2014', users)\n",
    "pattern2014 = ElitePatternof4(u'2014', u'2015', users)\n",
    "pattern2015 = ElitePatternof4(u'2015', u'2016', users)\n",
    "pattern2016 = ElitePatternof4(u'2016', u'2017', users)"
   ]
  },
  {
   "cell_type": "code",
   "execution_count": null,
   "metadata": {
    "collapsed": true
   },
   "outputs": [],
   "source": [
    "print pattern2009\n",
    "print pattern2010\n",
    "print pattern2011\n",
    "print pattern2012\n",
    "print pattern2013\n",
    "print pattern2014\n",
    "print pattern2015\n",
    "print pattern2016"
   ]
  },
  {
   "cell_type": "code",
   "execution_count": 58,
   "metadata": {
    "collapsed": false
   },
   "outputs": [
    {
     "name": "stdout",
     "output_type": "stream",
     "text": [
      "[0.0011, 0.0052, 0.0049, 0.9888]\n",
      "[0.002, 0.0081, 0.0046, 0.9853]\n",
      "[0.0025, 0.0102, 0.0069, 0.9804]\n",
      "[0.0026, 0.0145, 0.0045, 0.9784]\n",
      "[0.0044, 0.0146, 0.0048, 0.9762]\n",
      "[0.0036, 0.0158, 0.0085, 0.9721]\n",
      "[0.0041, 0.0202, 0.0078, 0.9679]\n",
      "[0.0063, 0.0217, 0.0003, 0.9717]\n"
     ]
    }
   ],
   "source": [
    "print [round(i/1029432.,4) for i in pattern2009]\n",
    "print [round(i/1029432.,4) for i in pattern2010]\n",
    "print [round(i/1029432.,4) for i in pattern2011]\n",
    "print [round(i/1029432.,4) for i in pattern2012]\n",
    "print [round(i/1029432.,4) for i in pattern2013]\n",
    "print [round(i/1029432.,4) for i in pattern2014]\n",
    "print [round(i/1029432.,4) for i in pattern2015]\n",
    "print [round(i/1029432.,4) for i in pattern2016]"
   ]
  },
  {
   "cell_type": "code",
   "execution_count": 65,
   "metadata": {
    "collapsed": false
   },
   "outputs": [],
   "source": [
    "userpattern09 = UserPatternList(u'2009', u'2010', users)\n",
    "userpattern10 = UserPatternList(u'2010', u'2011', users)\n",
    "userpattern11 = UserPatternList(u'2011', u'2012', users)\n",
    "userpattern12 = UserPatternList(u'2012', u'2013', users)\n",
    "userpattern13 = UserPatternList(u'2013', u'2014', users)\n",
    "userpattern14 = UserPatternList(u'2014', u'2015', users)\n",
    "userpattern15 = UserPatternList(u'2015', u'2016', users)\n",
    "userpattern16 = UserPatternList(u'2016', u'2017', users)"
   ]
  },
  {
   "cell_type": "code",
   "execution_count": 66,
   "metadata": {
    "collapsed": false
   },
   "outputs": [
    {
     "name": "stdout",
     "output_type": "stream",
     "text": [
      "1118 5392 5004\n"
     ]
    }
   ],
   "source": [
    "print len(userpattern09[0]),len(userpattern09[1]),len(userpattern09[2])"
   ]
  },
  {
   "cell_type": "code",
   "execution_count": 72,
   "metadata": {
    "collapsed": false
   },
   "outputs": [],
   "source": [
    "tipsEN09 = getTipElites(tipyears[5], userpattern09[0]) #2009\n",
    "tipsEE09 = getTipElites(tipyears[5], userpattern09[1]) #2009\n",
    "tipsNE09 = getTipElites(tipyears[5], userpattern09[2]) #2009"
   ]
  },
  {
   "cell_type": "code",
   "execution_count": 76,
   "metadata": {
    "collapsed": true
   },
   "outputs": [],
   "source": [
    "tipsEN10 = getTipElites(tipyears[6], userpattern10[0]) #2010\n",
    "tipsEE10 = getTipElites(tipyears[6], userpattern10[1]) #2010\n",
    "tipsNE10 = getTipElites(tipyears[6], userpattern10[2]) #2010"
   ]
  },
  {
   "cell_type": "code",
   "execution_count": 78,
   "metadata": {
    "collapsed": true
   },
   "outputs": [],
   "source": [
    "tipsEN11 = getTipElites(tipyears[7], userpattern11[0]) #2011\n",
    "tipsEE11 = getTipElites(tipyears[7], userpattern11[1]) #2011\n",
    "tipsNE11 = getTipElites(tipyears[7], userpattern11[2]) #2011"
   ]
  },
  {
   "cell_type": "code",
   "execution_count": 80,
   "metadata": {
    "collapsed": true
   },
   "outputs": [],
   "source": [
    "tipsEN12 = getTipElites(tipyears[8], userpattern12[0]) #2012\n",
    "tipsEE12 = getTipElites(tipyears[8], userpattern12[1]) #2012\n",
    "tipsNE12 = getTipElites(tipyears[8], userpattern12[2]) #2012"
   ]
  },
  {
   "cell_type": "code",
   "execution_count": 82,
   "metadata": {
    "collapsed": true
   },
   "outputs": [],
   "source": [
    "tipsEN13 = getTipElites(tipyears[9], userpattern13[0]) #2013\n",
    "tipsEE13 = getTipElites(tipyears[9], userpattern13[1]) #2013\n",
    "tipsNE13 = getTipElites(tipyears[9], userpattern13[2]) #2013"
   ]
  },
  {
   "cell_type": "code",
   "execution_count": 84,
   "metadata": {
    "collapsed": true
   },
   "outputs": [],
   "source": [
    "tipsEN14 = getTipElites(tipyears[10], userpattern14[0]) #2014\n",
    "tipsEE14 = getTipElites(tipyears[10], userpattern14[1]) #2014\n",
    "tipsNE14 = getTipElites(tipyears[10], userpattern14[2]) #2014"
   ]
  },
  {
   "cell_type": "code",
   "execution_count": 87,
   "metadata": {
    "collapsed": true
   },
   "outputs": [],
   "source": [
    "tipsEN15 = getTipElites(tipyears[11], userpattern15[0]) #2015\n",
    "tipsEE15 = getTipElites(tipyears[11], userpattern15[1]) #2015\n",
    "tipsNE15 = getTipElites(tipyears[11], userpattern15[2]) #2015"
   ]
  },
  {
   "cell_type": "code",
   "execution_count": 89,
   "metadata": {
    "collapsed": true
   },
   "outputs": [],
   "source": [
    "tipsEN16 = getTipElites(tipyears[12], userpattern16[0]) #2016\n",
    "tipsEE16 = getTipElites(tipyears[12], userpattern16[1]) #2016\n",
    "tipsNE16 = getTipElites(tipyears[12], userpattern16[2]) #2016"
   ]
  },
  {
   "cell_type": "code",
   "execution_count": 90,
   "metadata": {
    "collapsed": false
   },
   "outputs": [
    {
     "name": "stdout",
     "output_type": "stream",
     "text": [
      "5 282 29\n",
      "920 9008 1942\n",
      "4659 25803 6375\n",
      "4336 41668 4938\n",
      "4496 32485 4053\n",
      "2729 26198 5695\n",
      "2229 24018 3804\n",
      "2879 28086 358\n"
     ]
    }
   ],
   "source": [
    "print len(tipsEN09),len(tipsEE09),len(tipsNE09)\n",
    "print len(tipsEN10),len(tipsEE10),len(tipsNE10)\n",
    "print len(tipsEN11),len(tipsEE11),len(tipsNE11)\n",
    "print len(tipsEN12),len(tipsEE12),len(tipsNE12)\n",
    "print len(tipsEN13),len(tipsEE13),len(tipsNE13)\n",
    "print len(tipsEN14),len(tipsEE14),len(tipsNE14)\n",
    "print len(tipsEN15),len(tipsEE15),len(tipsNE15)\n",
    "print len(tipsEN16),len(tipsEE16),len(tipsNE16)"
   ]
  },
  {
   "cell_type": "code",
   "execution_count": null,
   "metadata": {
    "collapsed": true
   },
   "outputs": [],
   "source": [
    "#lentips = [912, 40371, 141422, 179214, 161283, 158001, 125512, 133568, 6317]"
   ]
  },
  {
   "cell_type": "code",
   "execution_count": 108,
   "metadata": {
    "collapsed": true
   },
   "outputs": [],
   "source": [
    "tipsEEyears = ([0,0,0,0,0]+[len(tipsEE09), len(tipsEE10), len(tipsEE11), len(tipsEE12), len(tipsEE13), len(tipsEE14),\n",
    " len(tipsEE15), len(tipsEE16)])\n",
    "\n",
    "tipsNEyears = ([0,0,0,0,0]+[len(tipsNE09), len(tipsNE10), len(tipsNE11), len(tipsNE12), len(tipsNE13), len(tipsNE14),\n",
    " len(tipsNE15), len(tipsNE16)])\n",
    "\n",
    "tipsENyears = ([0,0,0,0,0]+[len(tipsEN09), len(tipsEN10), len(tipsEN11), len(tipsEN12), len(tipsEN13), len(tipsEN14),\n",
    " len(tipsEN15), len(tipsEN16)])"
   ]
  },
  {
   "cell_type": "code",
   "execution_count": 109,
   "metadata": {
    "collapsed": false
   },
   "outputs": [
    {
     "name": "stdout",
     "output_type": "stream",
     "text": [
      "[0, 0, 0, 0, 0, 282, 9008, 25803, 41668, 32485, 26198, 24018, 28086]\n",
      "[0, 0, 0, 0, 0, 29, 1942, 6375, 4938, 4053, 5695, 3804, 358]\n",
      "[0, 0, 0, 0, 0, 5, 920, 4659, 4336, 4496, 2729, 2229, 2879]\n",
      "[u'2009', u'2010', u'2011', u'2012', u'2013', u'2014', u'2015', u'2016']\n"
     ]
    }
   ],
   "source": [
    "print tipsEEyears\n",
    "print tipsNEyears\n",
    "print tipsENyears\n",
    "print yearspossible[5:13]"
   ]
  },
  {
   "cell_type": "code",
   "execution_count": 111,
   "metadata": {
    "collapsed": false
   },
   "outputs": [
    {
     "data": {
      "image/png": "[encoded data removed]",
      "text/plain": [
       "<matplotlib.figure.Figure at 0x3d9b12bd0>"
      ]
     },
     "metadata": {},
     "output_type": "display_data"
    }
   ],
   "source": [
    "plt.plot(yearspossible[:13], tipsEEyears, label='Total tips for Elite/Elite Group')\n",
    "plt.plot(yearspossible[:13], tipsNEyears, label='Total tips for Non-Elite/Elite Group')\n",
    "plt.plot(yearspossible[:13], tipsENyears, label='Total tips from Elite/Non-Elite Group')\n",
    "plt.legend(bbox_to_anchor=(1.05, 1), loc=2, borderaxespad=0.)\n",
    "plt.show()"
   ]
  },
  {
   "cell_type": "code",
   "execution_count": 127,
   "metadata": {
    "collapsed": false
   },
   "outputs": [],
   "source": [
    "tipsEN_TPU=([0,0,0,0,0]+[round(len(tipsEN09)/float(len(userpattern09[0])),4),\n",
    "                round(len(tipsEN10)/float(len(userpattern10[0])),4),\n",
    "                round(len(tipsEN11)/float(len(userpattern11[0])),4),\n",
    "                round(len(tipsEN12)/float(len(userpattern12[0])),4),\n",
    "                round(len(tipsEN13)/float(len(userpattern13[0])),4),\n",
    "                round(len(tipsEN14)/float(len(userpattern14[0])),4),\n",
    "                round(len(tipsEN15)/float(len(userpattern15[0])),4),\n",
    "                round(len(tipsEN16)/float(len(userpattern16[0])),4)])\n",
    "\n",
    "tipsEE_TPU=([0,0,0,0,0]+[round(len(tipsEE09)/float(len(userpattern09[1])),4),\n",
    "                round(len(tipsEE10)/float(len(userpattern10[1])),4),\n",
    "                round(len(tipsEE11)/float(len(userpattern11[1])),4),\n",
    "                round(len(tipsEE12)/float(len(userpattern12[1])),4),\n",
    "                round(len(tipsEE13)/float(len(userpattern13[1])),4),\n",
    "                round(len(tipsEE14)/float(len(userpattern14[1])),4),\n",
    "                round(len(tipsEE15)/float(len(userpattern15[1])),4),\n",
    "                round(len(tipsEE16)/float(len(userpattern16[1])),4)])\n",
    "\n",
    "tipsNE_TPU=([0,0,0,0,0]+[round(len(tipsNE09)/float(len(userpattern09[2])),4),\n",
    "                round(len(tipsNE10)/float(len(userpattern10[2])),4),\n",
    "                round(len(tipsNE11)/float(len(userpattern11[2])),4),\n",
    "                round(len(tipsNE12)/float(len(userpattern12[2])),4),\n",
    "                round(len(tipsNE13)/float(len(userpattern13[2])),4),\n",
    "                round(len(tipsNE14)/float(len(userpattern14[2])),4),\n",
    "                round(len(tipsNE15)/float(len(userpattern15[2])),4),\n",
    "                round(len(tipsNE16)/float(len(userpattern16[2])),4)])"
   ]
  },
  {
   "cell_type": "code",
   "execution_count": 128,
   "metadata": {
    "collapsed": false
   },
   "outputs": [
    {
     "name": "stdout",
     "output_type": "stream",
     "text": [
      "Elite/Non-Elite Tips-Per-User:  [0, 0, 0, 0, 0, 0.0045, 0.4381, 1.7789, 1.6161, 0.9973, 0.7312, 0.533, 0.4421]\n",
      "Elite/Elite Tips-Per-User:  [0, 0, 0, 0, 0, 0.0523, 1.0858, 2.4685, 2.7986, 2.1596, 1.6079, 1.1532, 1.2575]\n",
      "Non-Elite/Elite Tips-Per-User:  [0, 0, 0, 0, 0, 0.0058, 0.4066, 0.8955, 1.0594, 0.8134, 0.6534, 0.4744, 1.2177]\n"
     ]
    }
   ],
   "source": [
    "print 'Elite/Non-Elite Tips-Per-User: ', tipsEN_TPU\n",
    "print 'Elite/Elite Tips-Per-User: ', tipsEE_TPU\n",
    "print 'Non-Elite/Elite Tips-Per-User: ', tipsNE_TPU"
   ]
  },
  {
   "cell_type": "code",
   "execution_count": 129,
   "metadata": {
    "collapsed": false
   },
   "outputs": [
    {
     "data": {
      "image/png": "[encoded data removed]",
      "text/plain": [
       "<matplotlib.figure.Figure at 0x3d9afbed0>"
      ]
     },
     "metadata": {},
     "output_type": "display_data"
    }
   ],
   "source": [
    "plt.plot(yearspossible[:13], tipsEE_TPU, label='TPU for Elite/Elite Group')\n",
    "plt.plot(yearspossible[:13], tipsNE_TPU, label='TPU for Non-Elite/Elite Group')\n",
    "plt.plot(yearspossible[:13], tipsEN_TPU, label='TPU from Elite/Non-Elite Group')\n",
    "plt.legend(bbox_to_anchor=(1.05, 1), loc=2, borderaxespad=0.)\n",
    "plt.show()"
   ]
  },
  {
   "cell_type": "code",
   "execution_count": 148,
   "metadata": {
    "collapsed": true
   },
   "outputs": [],
   "source": [
    "allEEtips = [tipsEE09, tipsEE10, tipsEE11, tipsEE12, tipsEE13, tipsEE14, tipsEE15, tipsEE16]"
   ]
  },
  {
   "cell_type": "code",
   "execution_count": 149,
   "metadata": {
    "collapsed": false
   },
   "outputs": [],
   "source": [
    "allENtips = [tipsEN09, tipsEN10, tipsEN11, tipsEN12, tipsEN13, tipsEN14, tipsEN15, tipsEN16]"
   ]
  },
  {
   "cell_type": "code",
   "execution_count": 150,
   "metadata": {
    "collapsed": true
   },
   "outputs": [],
   "source": [
    "allNEtips = [tipsNE09, tipsNE10, tipsNE11, tipsNE12, tipsNE13, tipsNE14, tipsNE15, tipsNE16]"
   ]
  },
  {
   "cell_type": "code",
   "execution_count": 151,
   "metadata": {
    "collapsed": true
   },
   "outputs": [],
   "source": [
    "EEx = getAllUniqueCounts(allEEtips)"
   ]
  },
  {
   "cell_type": "code",
   "execution_count": 152,
   "metadata": {
    "collapsed": true
   },
   "outputs": [],
   "source": [
    "ENx = getAllUniqueCounts(allENtips)"
   ]
  },
  {
   "cell_type": "code",
   "execution_count": 153,
   "metadata": {
    "collapsed": true
   },
   "outputs": [],
   "source": [
    "NEx = getAllUniqueCounts(allNEtips)"
   ]
  },
  {
   "cell_type": "code",
   "execution_count": 167,
   "metadata": {
    "collapsed": false
   },
   "outputs": [],
   "source": [
    "EEonetimers = [0,0,0,0,0]+getParticularCount(EEx, 1)\n",
    "EEtwotimers = [0,0,0,0,0]+getParticularCount(EEx, 2)\n",
    "EEthreetimers = [0,0,0,0,0]+getParticularCount(EEx, 3)\n",
    "EEfourtimers = [0,0,0,0,0]+getParticularCount(EEx, 4)\n",
    "EEfivetimers = [0,0,0,0,0]+getParticularCount(EEx, 5)\n",
    "\n",
    "NEonetimers = [0,0,0,0,0]+getParticularCount(NEx, 1)\n",
    "NEtwotimers = [0,0,0,0,0]+getParticularCount(NEx, 2)\n",
    "NEthreetimers = [0,0,0,0,0]+getParticularCount(NEx, 3)\n",
    "NEfourtimers = [0,0,0,0,0]+getParticularCount(NEx, 4)\n",
    "NEfivetimers = [0,0,0,0,0]+getParticularCount(NEx, 5)\n",
    "\n",
    "ENonetimers = [0,0,0,0,0]+getParticularCount(ENx, 1)\n",
    "ENtwotimers = [0,0,0,0,0]+getParticularCount(ENx, 2)\n",
    "ENthreetimers = [0,0,0,0,0]+getParticularCount(ENx, 3)\n",
    "ENfourtimers = [0,0,0,0,0]+getParticularCount(ENx, 4)\n",
    "ENfivetimers = [0,0,0,0,0]+getParticularCount(ENx, 5)\n",
    "\n",
    "#EEonetimersp = getParticularPercentCount(EEx, 1)\n",
    "#EEtwotimersp = getParticularPercentCount(EEx, 2)\n",
    "#EEthreetimersp = getParticularPercentCount(EEx, 3)\n",
    "#EEfourtimersp = getParticularPercentCount(EEx, 4)\n",
    "#EEfivetimersp = getParticularPercentCount(EEx, 5)"
   ]
  },
  {
   "cell_type": "code",
   "execution_count": 175,
   "metadata": {
    "collapsed": false
   },
   "outputs": [
    {
     "data": {
      "image/png": "[encoded data removed]",
      "text/plain": [
       "<matplotlib.figure.Figure at 0x3dd51f890>"
      ]
     },
     "metadata": {},
     "output_type": "display_data"
    },
    {
     "data": {
      "image/png": "[encoded data removed]",
      "text/plain": [
       "<matplotlib.figure.Figure at 0x3dd80d610>"
      ]
     },
     "metadata": {},
     "output_type": "display_data"
    },
    {
     "data": {
      "image/png": "[encoded data removed]",
      "text/plain": [
       "<matplotlib.figure.Figure at 0x3dda94910>"
      ]
     },
     "metadata": {},
     "output_type": "display_data"
    }
   ],
   "source": [
    "plt.scatter(yearspossible[:13], EEonetimers, color='#2E86C1', label='1x tip-givers')\n",
    "plt.scatter(yearspossible[:13], EEtwotimers, color='#F39C12', label='2x tip-givers')\n",
    "plt.scatter(yearspossible[:13], EEthreetimers, color='#E74C3C', label='3x tip-givers')\n",
    "plt.scatter(yearspossible[:13], EEfourtimers, color='#17A589', label='4x tip-givers')\n",
    "plt.scatter(yearspossible[:13], EEfivetimers, color='#FFC300', label='5x tip-givers')\n",
    "plt.legend(bbox_to_anchor=(1.05, 1), loc=2, borderaxespad=0.)\n",
    "plt.title('Count of Elite/Elite Users Giving # of Tips each Year')\n",
    "plt.ylim(-50, 2000)\n",
    "plt.show()\n",
    "\n",
    "plt.scatter(yearspossible[:13], ENonetimers, color='#2E86C1', label='1x tip-givers')\n",
    "plt.scatter(yearspossible[:13], ENtwotimers, color='#F39C12', label='2x tip-givers')\n",
    "plt.scatter(yearspossible[:13], ENthreetimers, color='#E74C3C', label='3x tip-givers')\n",
    "plt.scatter(yearspossible[:13], ENfourtimers, color='#17A589', label='4x tip-givers')\n",
    "plt.scatter(yearspossible[:13], ENfivetimers, color='#FFC300', label='5x tip-givers')\n",
    "plt.legend(bbox_to_anchor=(1.05, 1), loc=2, borderaxespad=0.)\n",
    "plt.title('Count of Elite/Non-Elite Users Giving # of Tips each Year')\n",
    "plt.ylim(-50, 500)\n",
    "plt.show()\n",
    "\n",
    "plt.scatter(yearspossible[:13], NEonetimers, color='#2E86C1', label='1x tip-givers')\n",
    "plt.scatter(yearspossible[:13], NEtwotimers, color='#F39C12', label='2x tip-givers')\n",
    "plt.scatter(yearspossible[:13], NEthreetimers, color='#E74C3C', label='3x tip-givers')\n",
    "plt.scatter(yearspossible[:13], NEfourtimers, color='#17A589', label='4x tip-givers')\n",
    "plt.scatter(yearspossible[:13], NEfivetimers, color='#FFC300', label='5x tip-givers')\n",
    "plt.legend(bbox_to_anchor=(1.05, 1), loc=2, borderaxespad=0.)\n",
    "plt.title('Count of Non-Elite/Elite Users Giving # of Tips each Year')\n",
    "plt.ylim(-50, 500)\n",
    "plt.show()"
   ]
  },
  {
   "cell_type": "code",
   "execution_count": null,
   "metadata": {
    "collapsed": true
   },
   "outputs": [],
   "source": []
  }
 ],
 "metadata": {
  "anaconda-cloud": {},
  "kernelspec": {
   "display_name": "Python [Root]",
   "language": "python",
   "name": "Python [Root]"
  },
  "language_info": {
   "codemirror_mode": {
    "name": "ipython",
    "version": 2
   },
   "file_extension": ".py",
   "mimetype": "text/x-python",
   "name": "python",
   "nbconvert_exporter": "python",
   "pygments_lexer": "ipython2",
   "version": "2.7.12"
  }
 },
 "nbformat": 4,
 "nbformat_minor": 0
}
