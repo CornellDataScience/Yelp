{
 "cells": [
  {
   "cell_type": "code",
   "execution_count": 3,
   "metadata": {
    "collapsed": false
   },
   "outputs": [
    {
     "name": "stdout",
     "output_type": "stream",
     "text": [
      "Populating the interactive namespace from numpy and matplotlib\n"
     ]
    }
   ],
   "source": [
    "%pylab inline\n",
    "import csv\n",
    "import json\n",
    "import numpy as np\n",
    "from collections import defaultdict, OrderedDict\n",
    "import matplotlib.pyplot as plt\n",
    "from scipy.stats import pearsonr,spearmanr,linregress\n",
    "import math\n",
    "import plotly.plotly as py\n",
    "import pandas as pd\n",
    "import plotly.graph_objs as go"
   ]
  },
  {
   "cell_type": "code",
   "execution_count": 7,
   "metadata": {
    "collapsed": false
   },
   "outputs": [],
   "source": [
    "users=[]\n",
    "with open('user.json') as json_file:\n",
    "    for line in json_file:\n",
    "        users.append(json.loads(line))"
   ]
  },
  {
   "cell_type": "code",
   "execution_count": 8,
   "metadata": {
    "collapsed": true
   },
   "outputs": [],
   "source": [
    "business=[]\n",
    "with open('business.json') as json_file:\n",
    "    for line in json_file:\n",
    "        business.append(json.loads(line))"
   ]
  },
  {
   "cell_type": "code",
   "execution_count": 4,
   "metadata": {
    "collapsed": false
   },
   "outputs": [],
   "source": [
    "tip=[]\n",
    "with open('tip.json') as json_file:\n",
    "    for line in json_file:\n",
    "        tip.append(json.loads(line))"
   ]
  },
  {
   "cell_type": "code",
   "execution_count": 55,
   "metadata": {
    "collapsed": false
   },
   "outputs": [
    {
     "data": {
      "text/plain": [
       "{u'business_id': u'dAa0hB2yrnHzVmsCkN4YvQ',\n",
       " u'date': u'2014-06-20',\n",
       " u'likes': 0,\n",
       " u'text': u'Nice place. Great staff.  A fixture in the township forever',\n",
       " u'type': u'tip',\n",
       " u'user_id': u'oaYhjqBbh18ZhU0bpyzSuw'}"
      ]
     },
     "execution_count": 55,
     "metadata": {},
     "output_type": "execute_result"
    }
   ],
   "source": [
    "tip[2]"
   ]
  },
  {
   "cell_type": "code",
   "execution_count": 9,
   "metadata": {
    "collapsed": false
   },
   "outputs": [
    {
     "data": {
      "text/plain": [
       "[u'2017', u'2015', u'2016', u'2014', u'2011', u'2013', u'2012']"
      ]
     },
     "execution_count": 9,
     "metadata": {},
     "output_type": "execute_result"
    }
   ],
   "source": [
    "users[0][u'elite']"
   ]
  },
  {
   "cell_type": "markdown",
   "metadata": {},
   "source": [
    "Break down elite users by putting together:\n",
    "\n",
    "- yelping_since year, review_count, friends, useful/funny/cool votes, fans, compliments, avg stars (from user.json)\n",
    "- review text, review stars, review date, review funny/useful/cool (from review.json)\n",
    "- tips, date, likes (from tips.json)\n",
    "\n",
    "To identify and separate the following:\n",
    "1. Identify pre-elite years and reviews.\n",
    "2. Identify post-elite years and reviews.\n",
    "\n",
    "Possible combinations for elite / non-elite buckets:\n",
    "- Non-elite\n",
    "- Non-elite / Elite\n",
    "- Non-elite / Elite / Non-elite\n",
    "- Non-elite / Elite / Non-elite / Elite\n",
    "- Etc."
   ]
  },
  {
   "cell_type": "markdown",
   "metadata": {},
   "source": [
    "# Questions to Answer\n",
    "\n",
    "1. Can we assume that the requirements were the same for choosing elites over all possible years?\n"
   ]
  },
  {
   "cell_type": "code",
   "execution_count": 32,
   "metadata": {
    "collapsed": true
   },
   "outputs": [],
   "source": [
    "yearspossible=set()\n",
    "for eachuser in range(len(users)):\n",
    "    year_began = users[eachuser][u'yelping_since'][0:4]\n",
    "    yearspossible.add(year_began)\n",
    "yearspossible = sorted(list(yearspossible))"
   ]
  },
  {
   "cell_type": "code",
   "execution_count": 14,
   "metadata": {
    "collapsed": false
   },
   "outputs": [
    {
     "name": "stdout",
     "output_type": "stream",
     "text": [
      "[u'2004', u'2005', u'2006', u'2007', u'2008', u'2009', u'2010', u'2011', u'2012', u'2013', u'2014', u'2015', u'2016', u'2017']\n"
     ]
    }
   ],
   "source": [
    "print yearspossible\n",
    "year_began = '2017' #has index 13 #14-13 = 1\n",
    "year_began = '2009' #has index 5 #14-5 = 9"
   ]
  },
  {
   "cell_type": "code",
   "execution_count": 25,
   "metadata": {
    "collapsed": false
   },
   "outputs": [],
   "source": [
    "percentelite = []\n",
    "elitecounter=0\n",
    "usercounter=0\n",
    "for eachuser in range(len(users)):\n",
    "    elite = users[eachuser][u'elite']\n",
    "    if elite[0] != u'None':\n",
    "        year_began = users[eachuser][u'yelping_since'][0:4]\n",
    "        poss_yelping = (len(yearspossible)) - yearspossible.index(year_began)\n",
    "        elitelen = len(users[eachuser][u'elite'])\n",
    "        percentelite.append(elitelen / float(poss_yelping))\n",
    "        elitecounter+=1\n",
    "    usercounter+=1\n",
    "    #elitearray = users[eachuser][u'elite']\n",
    "    #for year in elitearray:"
   ]
  },
  {
   "cell_type": "code",
   "execution_count": 26,
   "metadata": {
    "collapsed": false
   },
   "outputs": [
    {
     "name": "stdout",
     "output_type": "stream",
     "text": [
      "49704\n",
      "1029432\n"
     ]
    }
   ],
   "source": [
    "print elitecounter\n",
    "print usercounter"
   ]
  },
  {
   "cell_type": "code",
   "execution_count": 27,
   "metadata": {
    "collapsed": false
   },
   "outputs": [
    {
     "data": {
      "text/plain": [
       "(array([ 3934.,  7741.,  7685.,  6509.,  5969.,  4699.,  4036.,  3574.,\n",
       "         2785.,  2772.]),\n",
       " array([ 0.07142857,  0.16428571,  0.25714286,  0.35      ,  0.44285714,\n",
       "         0.53571429,  0.62857143,  0.72142857,  0.81428571,  0.90714286,  1.        ]),\n",
       " <a list of 10 Patch objects>)"
      ]
     },
     "execution_count": 27,
     "metadata": {},
     "output_type": "execute_result"
    },
    {
     "data": {
      "image/png": "[encoded data removed]",
      "text/plain": [
       "<matplotlib.figure.Figure at 0x3479a3290>"
      ]
     },
     "metadata": {},
     "output_type": "display_data"
    }
   ],
   "source": [
    "#What percent of the time are users \"elite\"?\n",
    "hist(percentelite)"
   ]
  },
  {
   "cell_type": "code",
   "execution_count": 76,
   "metadata": {
    "collapsed": true
   },
   "outputs": [],
   "source": [
    "#What percent of tips are coming from elite users in years 2004-2017?\n",
    "\n",
    "def getElites(users):\n",
    "    '''Returns list of elite users for that year.'''\n",
    "    elitelist = []\n",
    "    selectyears = [u'2004', u'2005', u'2006', u'2007', u'2008', u'2009', u'2010', \n",
    "                   u'2011', u'2012', u'2013', u'2014', u'2015', u'2016', u'2017']\n",
    "    for x in range(len(selectyears)):\n",
    "        xyear=[]\n",
    "        for eachuser in range(len(users)):\n",
    "            elite = users[eachuser][u'elite']\n",
    "            if elite[0] != u'None':\n",
    "                if selectyears[x] in elite:\n",
    "                    xyear.append(users[eachuser][u'user_id'])\n",
    "        elitelist.append(xyear)\n",
    "    return elitelist"
   ]
  },
  {
   "cell_type": "code",
   "execution_count": 77,
   "metadata": {
    "collapsed": false
   },
   "outputs": [],
   "source": [
    "elites = getElites(users)"
   ]
  },
  {
   "cell_type": "code",
   "execution_count": null,
   "metadata": {
    "collapsed": true
   },
   "outputs": [],
   "source": []
  },
  {
   "cell_type": "code",
   "execution_count": 48,
   "metadata": {
    "collapsed": true
   },
   "outputs": [],
   "source": [
    "len_elites=[]\n",
    "for x in elites:\n",
    "    len_elites.append(len(x))"
   ]
  },
  {
   "cell_type": "code",
   "execution_count": 50,
   "metadata": {
    "collapsed": false
   },
   "outputs": [
    {
     "data": {
      "text/plain": [
       "[<matplotlib.lines.Line2D at 0x3d65f7110>]"
      ]
     },
     "execution_count": 50,
     "metadata": {},
     "output_type": "execute_result"
    },
    {
     "data": {
      "image/png": "[encoded data removed]",
      "text/plain": [
       "<matplotlib.figure.Figure at 0x3d1ffc990>"
      ]
     },
     "metadata": {},
     "output_type": "display_data"
    }
   ],
   "source": [
    "plt.plot(yearspossible, len_elites)"
   ]
  },
  {
   "cell_type": "code",
   "execution_count": 97,
   "metadata": {
    "collapsed": false
   },
   "outputs": [],
   "source": [
    "#946600 tips, what percent of them belong to elite users?\n",
    "\n",
    "def groupTipsbyYear(tip):\n",
    "    tipyears = []\n",
    "    selectyears = [u'2004', u'2005', u'2006', u'2007', u'2008', u'2009', u'2010', \n",
    "                   u'2011', u'2012', u'2013', u'2014', u'2015', u'2016', u'2017']\n",
    "    for x in range(len(selectyears)):\n",
    "        xyear=[]\n",
    "        for eachtip in tip:\n",
    "            yeargiven = eachtip[u'date'][0:4]\n",
    "            if selectyears[x] == yeargiven:\n",
    "                xyear.append(eachtip)\n",
    "        tipyears.append(xyear)\n",
    "    return tipyears\n",
    "\n",
    "def getTipElites(tipyears, elites):\n",
    "    elitetipcounts=[]\n",
    "    for x in range(len(elites)):\n",
    "        tipcount=0\n",
    "        for eachelite in elites[x]:\n",
    "            if eachelite in tipyears[x]:\n",
    "                tipcount+=1\n",
    "        elitetipcounts.append(tipcount)\n",
    "    return elitetipcounts"
   ]
  },
  {
   "cell_type": "code",
   "execution_count": 82,
   "metadata": {
    "collapsed": true
   },
   "outputs": [],
   "source": [
    "tipyears = groupTipsbyYear(tip)"
   ]
  },
  {
   "cell_type": "code",
   "execution_count": 86,
   "metadata": {
    "collapsed": false
   },
   "outputs": [],
   "source": [
    "len_tipyears=[]\n",
    "for x in tipyears:\n",
    "    len_tipyears.append(len(x))"
   ]
  },
  {
   "cell_type": "code",
   "execution_count": null,
   "metadata": {
    "collapsed": false
   },
   "outputs": [],
   "source": [
    "tipelites = getTipElites(tipyears, elites)"
   ]
  },
  {
   "cell_type": "code",
   "execution_count": 94,
   "metadata": {
    "collapsed": false
   },
   "outputs": [
    {
     "ename": "NameError",
     "evalue": "name 'tipelites' is not defined",
     "output_type": "error",
     "traceback": [
      "\u001b[0;31m---------------------------------------------------------------------------\u001b[0m",
      "\u001b[0;31mNameError\u001b[0m                                 Traceback (most recent call last)",
      "\u001b[0;32m<ipython-input-94-3284bdbca73c>\u001b[0m in \u001b[0;36m<module>\u001b[0;34m()\u001b[0m\n\u001b[0;32m----> 1\u001b[0;31m \u001b[0mtipelites\u001b[0m\u001b[0;34m\u001b[0m\u001b[0m\n\u001b[0m",
      "\u001b[0;31mNameError\u001b[0m: name 'tipelites' is not defined"
     ]
    }
   ],
   "source": [
    "tipelites"
   ]
  },
  {
   "cell_type": "code",
   "execution_count": null,
   "metadata": {
    "collapsed": true
   },
   "outputs": [],
   "source": []
  }
 ],
 "metadata": {
  "anaconda-cloud": {},
  "kernelspec": {
   "display_name": "Python [Root]",
   "language": "python",
   "name": "Python [Root]"
  },
  "language_info": {
   "codemirror_mode": {
    "name": "ipython",
    "version": 2
   },
   "file_extension": ".py",
   "mimetype": "text/x-python",
   "name": "python",
   "nbconvert_exporter": "python",
   "pygments_lexer": "ipython2",
   "version": "2.7.12"
  }
 },
 "nbformat": 4,
 "nbformat_minor": 0
}
