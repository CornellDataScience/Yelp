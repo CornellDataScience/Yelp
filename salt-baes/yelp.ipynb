{
 "cells": [
  {
   "cell_type": "code",
   "execution_count": 2,
   "metadata": {
    "collapsed": true
   },
   "outputs": [],
   "source": [
    "import pandas as pd\n",
    "import json\n",
    "import numpy as np\n",
    "import matplotlib.pyplot as plt"
   ]
  },
  {
   "cell_type": "code",
   "execution_count": 20,
   "metadata": {
    "collapsed": true
   },
   "outputs": [],
   "source": [
    "# https://github.com/CornellDataScience/Yelp"
   ]
  },
  {
   "cell_type": "code",
   "execution_count": 4,
   "metadata": {
    "collapsed": true
   },
   "outputs": [],
   "source": [
    "data=pd.read_csv(\"yelp_academic_dataset_tip.csv\")"
   ]
  },
  {
   "cell_type": "code",
   "execution_count": 5,
   "metadata": {
    "collapsed": false
   },
   "outputs": [
    {
     "data": {
      "text/html": [
       "<div>\n",
       "<table border=\"1\" class=\"dataframe\">\n",
       "  <thead>\n",
       "    <tr style=\"text-align: right;\">\n",
       "      <th></th>\n",
       "      <th>business_id</th>\n",
       "      <th>date</th>\n",
       "      <th>likes</th>\n",
       "      <th>text</th>\n",
       "      <th>type</th>\n",
       "      <th>user_id</th>\n",
       "    </tr>\n",
       "  </thead>\n",
       "  <tbody>\n",
       "    <tr>\n",
       "      <th>0</th>\n",
       "      <td>tJRDll5yqpZwehenzE2cSg</td>\n",
       "      <td>2012-07-15</td>\n",
       "      <td>0</td>\n",
       "      <td>Get here early enough to have dinner.</td>\n",
       "      <td>tip</td>\n",
       "      <td>zcTZk7OG8ovAmh_fenH21g</td>\n",
       "    </tr>\n",
       "    <tr>\n",
       "      <th>1</th>\n",
       "      <td>jH19V2I9fIslnNhDzPmdkA</td>\n",
       "      <td>2015-08-12</td>\n",
       "      <td>0</td>\n",
       "      <td>Great breakfast large portions and friendly wa...</td>\n",
       "      <td>tip</td>\n",
       "      <td>ZcLKXikTHYOnYt5VYRO5sg</td>\n",
       "    </tr>\n",
       "    <tr>\n",
       "      <th>2</th>\n",
       "      <td>dAa0hB2yrnHzVmsCkN4YvQ</td>\n",
       "      <td>2014-06-20</td>\n",
       "      <td>0</td>\n",
       "      <td>Nice place. Great staff.  A fixture in the tow...</td>\n",
       "      <td>tip</td>\n",
       "      <td>oaYhjqBbh18ZhU0bpyzSuw</td>\n",
       "    </tr>\n",
       "  </tbody>\n",
       "</table>\n",
       "</div>"
      ],
      "text/plain": [
       "              business_id        date  likes  \\\n",
       "0  tJRDll5yqpZwehenzE2cSg  2012-07-15      0   \n",
       "1  jH19V2I9fIslnNhDzPmdkA  2015-08-12      0   \n",
       "2  dAa0hB2yrnHzVmsCkN4YvQ  2014-06-20      0   \n",
       "\n",
       "                                                text type  \\\n",
       "0              Get here early enough to have dinner.  tip   \n",
       "1  Great breakfast large portions and friendly wa...  tip   \n",
       "2  Nice place. Great staff.  A fixture in the tow...  tip   \n",
       "\n",
       "                  user_id  \n",
       "0  zcTZk7OG8ovAmh_fenH21g  \n",
       "1  ZcLKXikTHYOnYt5VYRO5sg  \n",
       "2  oaYhjqBbh18ZhU0bpyzSuw  "
      ]
     },
     "execution_count": 5,
     "metadata": {},
     "output_type": "execute_result"
    }
   ],
   "source": [
    "data.head(3)"
   ]
  },
  {
   "cell_type": "code",
   "execution_count": 6,
   "metadata": {
    "collapsed": false
   },
   "outputs": [
    {
     "data": {
      "text/html": [
       "<div>\n",
       "<table border=\"1\" class=\"dataframe\">\n",
       "  <thead>\n",
       "    <tr style=\"text-align: right;\">\n",
       "      <th></th>\n",
       "      <th>likes</th>\n",
       "    </tr>\n",
       "  </thead>\n",
       "  <tbody>\n",
       "    <tr>\n",
       "      <th>count</th>\n",
       "      <td>946600.000000</td>\n",
       "    </tr>\n",
       "    <tr>\n",
       "      <th>mean</th>\n",
       "      <td>0.016907</td>\n",
       "    </tr>\n",
       "    <tr>\n",
       "      <th>std</th>\n",
       "      <td>0.147131</td>\n",
       "    </tr>\n",
       "    <tr>\n",
       "      <th>min</th>\n",
       "      <td>0.000000</td>\n",
       "    </tr>\n",
       "    <tr>\n",
       "      <th>25%</th>\n",
       "      <td>0.000000</td>\n",
       "    </tr>\n",
       "    <tr>\n",
       "      <th>50%</th>\n",
       "      <td>0.000000</td>\n",
       "    </tr>\n",
       "    <tr>\n",
       "      <th>75%</th>\n",
       "      <td>0.000000</td>\n",
       "    </tr>\n",
       "    <tr>\n",
       "      <th>max</th>\n",
       "      <td>15.000000</td>\n",
       "    </tr>\n",
       "  </tbody>\n",
       "</table>\n",
       "</div>"
      ],
      "text/plain": [
       "               likes\n",
       "count  946600.000000\n",
       "mean        0.016907\n",
       "std         0.147131\n",
       "min         0.000000\n",
       "25%         0.000000\n",
       "50%         0.000000\n",
       "75%         0.000000\n",
       "max        15.000000"
      ]
     },
     "execution_count": 6,
     "metadata": {},
     "output_type": "execute_result"
    }
   ],
   "source": [
    "data.describe()"
   ]
  },
  {
   "cell_type": "code",
   "execution_count": 7,
   "metadata": {
    "collapsed": false
   },
   "outputs": [
    {
     "data": {
      "text/plain": [
       "type\n",
       "tip    0.016907\n",
       "Name: likes, dtype: float64"
      ]
     },
     "execution_count": 7,
     "metadata": {},
     "output_type": "execute_result"
    }
   ],
   "source": [
    "data.groupby([\"type\"])[\"likes\"].mean()"
   ]
  },
  {
   "cell_type": "code",
   "execution_count": 8,
   "metadata": {
    "collapsed": true
   },
   "outputs": [],
   "source": [
    "import csv\n",
    "import json\n",
    "import numpy as np\n",
    "from collections import defaultdict\n",
    "import matplotlib.pyplot as plt"
   ]
  },
  {
   "cell_type": "code",
   "execution_count": 9,
   "metadata": {
    "collapsed": false
   },
   "outputs": [],
   "source": [
    "user=[]\n",
    "count=0\n",
    "with open('yelp_academic_dataset_user.json',encoding=\"utf8\") as json_file:\n",
    "    for line in json_file:\n",
    "        if count <50000:\n",
    "            user.append(json.loads(line))\n",
    "            count=count+1\n"
   ]
  },
  {
   "cell_type": "code",
   "execution_count": 10,
   "metadata": {
    "collapsed": true
   },
   "outputs": [],
   "source": [
    "data_user=pd.DataFrame(user)"
   ]
  },
  {
   "cell_type": "code",
   "execution_count": 11,
   "metadata": {
    "collapsed": false
   },
   "outputs": [],
   "source": [
    "#list(data_user)"
   ]
  },
  {
   "cell_type": "code",
   "execution_count": 12,
   "metadata": {
    "collapsed": false
   },
   "outputs": [
    {
     "data": {
      "text/plain": [
       "946600"
      ]
     },
     "execution_count": 12,
     "metadata": {},
     "output_type": "execute_result"
    }
   ],
   "source": [
    "business=[]\n",
    "with open('yelp_academic_dataset_tip.json',encoding=\"utf8\") as json_file:\n",
    "    for line in json_file:\n",
    "        business.append(json.loads(line))\n",
    "       \n",
    "len(business)"
   ]
  },
  {
   "cell_type": "code",
   "execution_count": 13,
   "metadata": {
    "collapsed": false
   },
   "outputs": [
    {
     "data": {
      "text/plain": [
       "[{'business_id': 'tJRDll5yqpZwehenzE2cSg',\n",
       "  'date': '2012-07-15',\n",
       "  'likes': 0,\n",
       "  'text': 'Get here early enough to have dinner.',\n",
       "  'type': 'tip',\n",
       "  'user_id': 'zcTZk7OG8ovAmh_fenH21g'},\n",
       " {'business_id': 'jH19V2I9fIslnNhDzPmdkA',\n",
       "  'date': '2015-08-12',\n",
       "  'likes': 0,\n",
       "  'text': 'Great breakfast large portions and friendly waitress. I highly recommend it',\n",
       "  'type': 'tip',\n",
       "  'user_id': 'ZcLKXikTHYOnYt5VYRO5sg'},\n",
       " {'business_id': 'dAa0hB2yrnHzVmsCkN4YvQ',\n",
       "  'date': '2014-06-20',\n",
       "  'likes': 0,\n",
       "  'text': 'Nice place. Great staff.  A fixture in the township forever',\n",
       "  'type': 'tip',\n",
       "  'user_id': 'oaYhjqBbh18ZhU0bpyzSuw'},\n",
       " {'business_id': 'dAa0hB2yrnHzVmsCkN4YvQ',\n",
       "  'date': '2016-10-12',\n",
       "  'likes': 0,\n",
       "  'text': 'Happy hour 5-7 Monday - Friday',\n",
       "  'type': 'tip',\n",
       "  'user_id': 'ulQ8Nyj7jCUR8M83SUMoRQ'},\n",
       " {'business_id': 'SqW3igh1_Png336VIb5DUA',\n",
       "  'date': '2016-07-03',\n",
       "  'likes': 0,\n",
       "  'text': \"Come early on Sunday's to avoid the rush\",\n",
       "  'type': 'tip',\n",
       "  'user_id': 'ulQ8Nyj7jCUR8M83SUMoRQ'},\n",
       " {'business_id': 'KNpcPGqDORDdvtekXd348w',\n",
       "  'date': '2016-01-07',\n",
       "  'likes': 0,\n",
       "  'text': 'Love their soup!',\n",
       "  'type': 'tip',\n",
       "  'user_id': 'ulQ8Nyj7jCUR8M83SUMoRQ'},\n",
       " {'business_id': 'KNpcPGqDORDdvtekXd348w',\n",
       "  'date': '2016-05-22',\n",
       "  'likes': 0,\n",
       "  'text': 'Soups are fantastic!',\n",
       "  'type': 'tip',\n",
       "  'user_id': 'ulQ8Nyj7jCUR8M83SUMoRQ'},\n",
       " {'business_id': 'KNpcPGqDORDdvtekXd348w',\n",
       "  'date': '2016-06-09',\n",
       "  'likes': 0,\n",
       "  'text': 'Thursday night is $5 burger night',\n",
       "  'type': 'tip',\n",
       "  'user_id': 'ulQ8Nyj7jCUR8M83SUMoRQ'},\n",
       " {'business_id': '8qNOI6Q1-rJrvWWD5Btz6w',\n",
       "  'date': '2016-06-01',\n",
       "  'likes': 0,\n",
       "  'text': 'Very good for lunch, bread and soup are excellent',\n",
       "  'type': 'tip',\n",
       "  'user_id': 'ulQ8Nyj7jCUR8M83SUMoRQ'},\n",
       " {'business_id': '8qNOI6Q1-rJrvWWD5Btz6w',\n",
       "  'date': '2016-06-14',\n",
       "  'likes': 0,\n",
       "  'text': 'Tuesday spaghetti special  all day $5.59 includes soup or salad and bread',\n",
       "  'type': 'tip',\n",
       "  'user_id': 'ulQ8Nyj7jCUR8M83SUMoRQ'}]"
      ]
     },
     "execution_count": 13,
     "metadata": {},
     "output_type": "execute_result"
    }
   ],
   "source": [
    "business[0:10]"
   ]
  },
  {
   "cell_type": "code",
   "execution_count": 14,
   "metadata": {
    "collapsed": false
   },
   "outputs": [],
   "source": [
    "data=pd.DataFrame(business)"
   ]
  },
  {
   "cell_type": "code",
   "execution_count": 15,
   "metadata": {
    "collapsed": false
   },
   "outputs": [
    {
     "data": {
      "text/html": [
       "<div>\n",
       "<table border=\"1\" class=\"dataframe\">\n",
       "  <thead>\n",
       "    <tr style=\"text-align: right;\">\n",
       "      <th></th>\n",
       "      <th>business_id</th>\n",
       "      <th>date</th>\n",
       "      <th>likes</th>\n",
       "      <th>text</th>\n",
       "      <th>type</th>\n",
       "      <th>user_id</th>\n",
       "    </tr>\n",
       "  </thead>\n",
       "  <tbody>\n",
       "    <tr>\n",
       "      <th>0</th>\n",
       "      <td>tJRDll5yqpZwehenzE2cSg</td>\n",
       "      <td>2012-07-15</td>\n",
       "      <td>0</td>\n",
       "      <td>Get here early enough to have dinner.</td>\n",
       "      <td>tip</td>\n",
       "      <td>zcTZk7OG8ovAmh_fenH21g</td>\n",
       "    </tr>\n",
       "    <tr>\n",
       "      <th>1</th>\n",
       "      <td>jH19V2I9fIslnNhDzPmdkA</td>\n",
       "      <td>2015-08-12</td>\n",
       "      <td>0</td>\n",
       "      <td>Great breakfast large portions and friendly wa...</td>\n",
       "      <td>tip</td>\n",
       "      <td>ZcLKXikTHYOnYt5VYRO5sg</td>\n",
       "    </tr>\n",
       "    <tr>\n",
       "      <th>2</th>\n",
       "      <td>dAa0hB2yrnHzVmsCkN4YvQ</td>\n",
       "      <td>2014-06-20</td>\n",
       "      <td>0</td>\n",
       "      <td>Nice place. Great staff.  A fixture in the tow...</td>\n",
       "      <td>tip</td>\n",
       "      <td>oaYhjqBbh18ZhU0bpyzSuw</td>\n",
       "    </tr>\n",
       "  </tbody>\n",
       "</table>\n",
       "</div>"
      ],
      "text/plain": [
       "              business_id        date  likes  \\\n",
       "0  tJRDll5yqpZwehenzE2cSg  2012-07-15      0   \n",
       "1  jH19V2I9fIslnNhDzPmdkA  2015-08-12      0   \n",
       "2  dAa0hB2yrnHzVmsCkN4YvQ  2014-06-20      0   \n",
       "\n",
       "                                                text type  \\\n",
       "0              Get here early enough to have dinner.  tip   \n",
       "1  Great breakfast large portions and friendly wa...  tip   \n",
       "2  Nice place. Great staff.  A fixture in the tow...  tip   \n",
       "\n",
       "                  user_id  \n",
       "0  zcTZk7OG8ovAmh_fenH21g  \n",
       "1  ZcLKXikTHYOnYt5VYRO5sg  \n",
       "2  oaYhjqBbh18ZhU0bpyzSuw  "
      ]
     },
     "execution_count": 15,
     "metadata": {},
     "output_type": "execute_result"
    }
   ],
   "source": [
    "data.head(3)"
   ]
  },
  {
   "cell_type": "code",
   "execution_count": 16,
   "metadata": {
    "collapsed": false
   },
   "outputs": [
    {
     "data": {
      "text/plain": [
       "count    946600.000000\n",
       "mean          0.016907\n",
       "std           0.147131\n",
       "min           0.000000\n",
       "25%           0.000000\n",
       "50%           0.000000\n",
       "75%           0.000000\n",
       "max          15.000000\n",
       "Name: likes, dtype: float64"
      ]
     },
     "execution_count": 16,
     "metadata": {},
     "output_type": "execute_result"
    }
   ],
   "source": [
    "data[\"likes\"].describe()"
   ]
  },
  {
   "cell_type": "code",
   "execution_count": 17,
   "metadata": {
    "collapsed": false
   },
   "outputs": [
    {
     "data": {
      "text/html": [
       "<div>\n",
       "<table border=\"1\" class=\"dataframe\">\n",
       "  <thead>\n",
       "    <tr style=\"text-align: right;\">\n",
       "      <th></th>\n",
       "      <th>business_id</th>\n",
       "      <th>date</th>\n",
       "      <th>likes</th>\n",
       "      <th>text</th>\n",
       "      <th>type</th>\n",
       "      <th>user_id</th>\n",
       "    </tr>\n",
       "  </thead>\n",
       "  <tbody>\n",
       "    <tr>\n",
       "      <th>0</th>\n",
       "      <td>tJRDll5yqpZwehenzE2cSg</td>\n",
       "      <td>2012-07-15</td>\n",
       "      <td>0</td>\n",
       "      <td>Get here early enough to have dinner.</td>\n",
       "      <td>tip</td>\n",
       "      <td>zcTZk7OG8ovAmh_fenH21g</td>\n",
       "    </tr>\n",
       "    <tr>\n",
       "      <th>1</th>\n",
       "      <td>jH19V2I9fIslnNhDzPmdkA</td>\n",
       "      <td>2015-08-12</td>\n",
       "      <td>0</td>\n",
       "      <td>Great breakfast large portions and friendly wa...</td>\n",
       "      <td>tip</td>\n",
       "      <td>ZcLKXikTHYOnYt5VYRO5sg</td>\n",
       "    </tr>\n",
       "    <tr>\n",
       "      <th>2</th>\n",
       "      <td>dAa0hB2yrnHzVmsCkN4YvQ</td>\n",
       "      <td>2014-06-20</td>\n",
       "      <td>0</td>\n",
       "      <td>Nice place. Great staff.  A fixture in the tow...</td>\n",
       "      <td>tip</td>\n",
       "      <td>oaYhjqBbh18ZhU0bpyzSuw</td>\n",
       "    </tr>\n",
       "    <tr>\n",
       "      <th>3</th>\n",
       "      <td>dAa0hB2yrnHzVmsCkN4YvQ</td>\n",
       "      <td>2016-10-12</td>\n",
       "      <td>0</td>\n",
       "      <td>Happy hour 5-7 Monday - Friday</td>\n",
       "      <td>tip</td>\n",
       "      <td>ulQ8Nyj7jCUR8M83SUMoRQ</td>\n",
       "    </tr>\n",
       "  </tbody>\n",
       "</table>\n",
       "</div>"
      ],
      "text/plain": [
       "              business_id       date  likes  \\\n",
       "0  tJRDll5yqpZwehenzE2cSg 2012-07-15      0   \n",
       "1  jH19V2I9fIslnNhDzPmdkA 2015-08-12      0   \n",
       "2  dAa0hB2yrnHzVmsCkN4YvQ 2014-06-20      0   \n",
       "3  dAa0hB2yrnHzVmsCkN4YvQ 2016-10-12      0   \n",
       "\n",
       "                                                text type  \\\n",
       "0              Get here early enough to have dinner.  tip   \n",
       "1  Great breakfast large portions and friendly wa...  tip   \n",
       "2  Nice place. Great staff.  A fixture in the tow...  tip   \n",
       "3                     Happy hour 5-7 Monday - Friday  tip   \n",
       "\n",
       "                  user_id  \n",
       "0  zcTZk7OG8ovAmh_fenH21g  \n",
       "1  ZcLKXikTHYOnYt5VYRO5sg  \n",
       "2  oaYhjqBbh18ZhU0bpyzSuw  \n",
       "3  ulQ8Nyj7jCUR8M83SUMoRQ  "
      ]
     },
     "execution_count": 17,
     "metadata": {},
     "output_type": "execute_result"
    }
   ],
   "source": [
    "# formatter la colonne datetime\n",
    "data[\"date\"]=pd.to_datetime(data[\"date\"],format=\"%Y/%m/%d\")\n",
    "data.head(4)"
   ]
  },
  {
   "cell_type": "code",
   "execution_count": 18,
   "metadata": {
    "collapsed": true
   },
   "outputs": [],
   "source": [
    "data[\"winter\"]=data[\"date\"].apply(lambda x: x.month in (12,1,2)).astype(int)\n",
    "data[\"spring\"]=data[\"date\"].apply(lambda x: x.month in (3,4,5)).astype(int)\n",
    "data[\"summer\"]=data[\"date\"].apply(lambda x: x.month in (6,7,8)).astype(int) \n",
    "data[\"autumn\"]=data[\"date\"].apply(lambda x: x.month in (9,10,11)).astype(int)"
   ]
  },
  {
   "cell_type": "code",
   "execution_count": 20,
   "metadata": {
    "collapsed": false
   },
   "outputs": [
    {
     "data": {
      "text/html": [
       "<div>\n",
       "<table border=\"1\" class=\"dataframe\">\n",
       "  <thead>\n",
       "    <tr style=\"text-align: right;\">\n",
       "      <th></th>\n",
       "      <th>business_id</th>\n",
       "      <th>date</th>\n",
       "      <th>likes</th>\n",
       "      <th>text</th>\n",
       "      <th>type</th>\n",
       "      <th>user_id</th>\n",
       "      <th>winter</th>\n",
       "      <th>spring</th>\n",
       "      <th>summer</th>\n",
       "      <th>autumn</th>\n",
       "    </tr>\n",
       "  </thead>\n",
       "  <tbody>\n",
       "    <tr>\n",
       "      <th>0</th>\n",
       "      <td>tJRDll5yqpZwehenzE2cSg</td>\n",
       "      <td>2012-07-15</td>\n",
       "      <td>0</td>\n",
       "      <td>Get here early enough to have dinner.</td>\n",
       "      <td>tip</td>\n",
       "      <td>zcTZk7OG8ovAmh_fenH21g</td>\n",
       "      <td>0</td>\n",
       "      <td>0</td>\n",
       "      <td>1</td>\n",
       "      <td>0</td>\n",
       "    </tr>\n",
       "  </tbody>\n",
       "</table>\n",
       "</div>"
      ],
      "text/plain": [
       "              business_id       date  likes  \\\n",
       "0  tJRDll5yqpZwehenzE2cSg 2012-07-15      0   \n",
       "\n",
       "                                    text type                 user_id  winter  \\\n",
       "0  Get here early enough to have dinner.  tip  zcTZk7OG8ovAmh_fenH21g       0   \n",
       "\n",
       "   spring  summer  autumn  \n",
       "0       0       1       0  "
      ]
     },
     "execution_count": 20,
     "metadata": {},
     "output_type": "execute_result"
    }
   ],
   "source": [
    "data.head(1)"
   ]
  },
  {
   "cell_type": "code",
   "execution_count": 21,
   "metadata": {
    "collapsed": false
   },
   "outputs": [],
   "source": [
    "# 0 is Monday, 6 is Sunday\n",
    "data['dayofweek'] = data.date.dt.dayofweek"
   ]
  },
  {
   "cell_type": "code",
   "execution_count": 22,
   "metadata": {
    "collapsed": false
   },
   "outputs": [],
   "source": [
    "data=data.sort_values(by='date');"
   ]
  },
  {
   "cell_type": "code",
   "execution_count": 23,
   "metadata": {
    "collapsed": true
   },
   "outputs": [],
   "source": [
    "# variable (\"timediff\")\n",
    "earliest = data[\"date\"].min()\n",
    "data['timediff'] = data['date'].apply(lambda x: x - earliest).astype('timedelta64[D]').astype(int) + 1"
   ]
  },
  {
   "cell_type": "code",
   "execution_count": 24,
   "metadata": {
    "collapsed": false
   },
   "outputs": [
    {
     "data": {
      "text/html": [
       "<div>\n",
       "<table border=\"1\" class=\"dataframe\">\n",
       "  <thead>\n",
       "    <tr style=\"text-align: right;\">\n",
       "      <th></th>\n",
       "      <th>business_id</th>\n",
       "      <th>date</th>\n",
       "      <th>likes</th>\n",
       "      <th>text</th>\n",
       "      <th>type</th>\n",
       "      <th>user_id</th>\n",
       "      <th>winter</th>\n",
       "      <th>spring</th>\n",
       "      <th>summer</th>\n",
       "      <th>autumn</th>\n",
       "      <th>dayofweek</th>\n",
       "      <th>timediff</th>\n",
       "    </tr>\n",
       "  </thead>\n",
       "  <tbody>\n",
       "    <tr>\n",
       "      <th>192682</th>\n",
       "      <td>uIE9H0cz2AvxorEqy5cZ0w</td>\n",
       "      <td>2017-01-20</td>\n",
       "      <td>0</td>\n",
       "      <td>They've upgraded their TVs and look in the bar...</td>\n",
       "      <td>tip</td>\n",
       "      <td>_iSOjBuFHuRVTkMqqteAgA</td>\n",
       "      <td>1</td>\n",
       "      <td>0</td>\n",
       "      <td>0</td>\n",
       "      <td>0</td>\n",
       "      <td>4</td>\n",
       "      <td>2838</td>\n",
       "    </tr>\n",
       "    <tr>\n",
       "      <th>386421</th>\n",
       "      <td>hEsLl030Ncw10VKCD6g-dg</td>\n",
       "      <td>2017-01-20</td>\n",
       "      <td>0</td>\n",
       "      <td>All you can eat pancakes!</td>\n",
       "      <td>tip</td>\n",
       "      <td>gCiyPyXnwTNpmee9krJfxQ</td>\n",
       "      <td>1</td>\n",
       "      <td>0</td>\n",
       "      <td>0</td>\n",
       "      <td>0</td>\n",
       "      <td>4</td>\n",
       "      <td>2838</td>\n",
       "    </tr>\n",
       "  </tbody>\n",
       "</table>\n",
       "</div>"
      ],
      "text/plain": [
       "                   business_id       date  likes  \\\n",
       "192682  uIE9H0cz2AvxorEqy5cZ0w 2017-01-20      0   \n",
       "386421  hEsLl030Ncw10VKCD6g-dg 2017-01-20      0   \n",
       "\n",
       "                                                     text type  \\\n",
       "192682  They've upgraded their TVs and look in the bar...  tip   \n",
       "386421                          All you can eat pancakes!  tip   \n",
       "\n",
       "                       user_id  winter  spring  summer  autumn  dayofweek  \\\n",
       "192682  _iSOjBuFHuRVTkMqqteAgA       1       0       0       0          4   \n",
       "386421  gCiyPyXnwTNpmee9krJfxQ       1       0       0       0          4   \n",
       "\n",
       "        timediff  \n",
       "192682      2838  \n",
       "386421      2838  "
      ]
     },
     "execution_count": 24,
     "metadata": {},
     "output_type": "execute_result"
    }
   ],
   "source": [
    "data.tail(2)"
   ]
  },
  {
   "cell_type": "code",
   "execution_count": 25,
   "metadata": {
    "collapsed": false
   },
   "outputs": [
    {
     "data": {
      "image/png": "[encoded data removed]",
      "text/plain": [
       "<matplotlib.figure.Figure at 0x1640972b4a8>"
      ]
     },
     "metadata": {},
     "output_type": "display_data"
    }
   ],
   "source": [
    "x=data[\"timediff\"]\n",
    "plt.hist(x, 50, facecolor='green', alpha=0.5)\n",
    "plt.show()"
   ]
  },
  {
   "cell_type": "code",
   "execution_count": 26,
   "metadata": {
    "collapsed": false
   },
   "outputs": [],
   "source": [
    "data[\"text\"]=data['text'].str.lower()"
   ]
  },
  {
   "cell_type": "code",
   "execution_count": 27,
   "metadata": {
    "collapsed": false
   },
   "outputs": [
    {
     "data": {
      "text/plain": [
       "'get here early enough to have dinner.'"
      ]
     },
     "execution_count": 27,
     "metadata": {},
     "output_type": "execute_result"
    }
   ],
   "source": [
    "data[\"text\"][0]"
   ]
  },
  {
   "cell_type": "markdown",
   "metadata": {},
   "source": [
    "## filter the bad comments (only 0.2% of the data so it won't run forever) : dataset is \"data1\""
   ]
  },
  {
   "cell_type": "code",
   "execution_count": 29,
   "metadata": {
    "collapsed": false
   },
   "outputs": [],
   "source": [
    "list1=[\"nothing bad\",\"not bad\",\"isn't bad\",\"ain't bad\"]\n",
    "list2=[\"bad\",\"terrible\",\"not good\",\"not nice\",\"not very good\",\"ugly\",\"gross\",\"avoid\",\"stink\",\"awful\",\"alarming\",\"deplorable\",\"disgusting\",\"average\",\"unpleasant\",\"poor\"]\n",
    "\n",
    "l=[]\n",
    "\n",
    "data1=data.sample(frac=0.002,replace=False)\n",
    "for i in range(len(data1)):\n",
    "    if any(word in data1[\"text\"].iloc[[i]].to_string() for word in list1):\n",
    "        l.append(0)\n",
    "    elif any(word in data1[\"text\"].iloc[[i]].to_string() for word in list2):\n",
    "        l.append(1)\n",
    "    else:\n",
    "        l.append(0)"
   ]
  },
  {
   "cell_type": "markdown",
   "metadata": {},
   "source": [
    "## good comments "
   ]
  },
  {
   "cell_type": "code",
   "execution_count": 30,
   "metadata": {
    "collapsed": true
   },
   "outputs": [],
   "source": [
    "ll=[]\n",
    "\n",
    "list3=[\"nice\",\"excellent\",\"good\",\"beautiful\",\"great\",\"delicious\",\"outstanding\",\"outstanding\",\"awesome\",\"extra\",\"healthy\",\"gorgeous\"]\n",
    "ll=[]\n",
    "for i in range(len(data1)):\n",
    "    if any(word in data1[\"text\"].iloc[[i]].to_string() for word in list1):\n",
    "        ll.append(0)\n",
    "    elif any(word in data1[\"text\"].iloc[[i]].to_string() for word in list2):\n",
    "        ll.append(0)\n",
    "    elif any(word in data1[\"text\"].iloc[[i]].to_string() for word in list3):\n",
    "        ll.append(1)\n",
    "    else:\n",
    "        ll.append(0)"
   ]
  },
  {
   "cell_type": "markdown",
   "metadata": {},
   "source": [
    "# try"
   ]
  },
  {
   "cell_type": "code",
   "execution_count": 31,
   "metadata": {
    "collapsed": false
   },
   "outputs": [],
   "source": [
    "data1[\"bad_comment\"]=l"
   ]
  },
  {
   "cell_type": "code",
   "execution_count": 32,
   "metadata": {
    "collapsed": true
   },
   "outputs": [],
   "source": [
    "data1[\"good_comment\"]=ll"
   ]
  },
  {
   "cell_type": "markdown",
   "metadata": {},
   "source": [
    "## check the dataset with bad comments "
   ]
  },
  {
   "cell_type": "code",
   "execution_count": 34,
   "metadata": {
    "collapsed": false
   },
   "outputs": [
    {
     "data": {
      "text/html": [
       "<div>\n",
       "<table border=\"1\" class=\"dataframe\">\n",
       "  <thead>\n",
       "    <tr style=\"text-align: right;\">\n",
       "      <th></th>\n",
       "      <th>business_id</th>\n",
       "      <th>date</th>\n",
       "      <th>likes</th>\n",
       "      <th>text</th>\n",
       "      <th>type</th>\n",
       "      <th>user_id</th>\n",
       "      <th>winter</th>\n",
       "      <th>spring</th>\n",
       "      <th>summer</th>\n",
       "      <th>autumn</th>\n",
       "      <th>dayofweek</th>\n",
       "      <th>timediff</th>\n",
       "      <th>bad_comment</th>\n",
       "      <th>good_comment</th>\n",
       "    </tr>\n",
       "  </thead>\n",
       "  <tbody>\n",
       "    <tr>\n",
       "      <th>834801</th>\n",
       "      <td>LnIO_JtoDS1xLfTHWuV_ug</td>\n",
       "      <td>2014-09-12</td>\n",
       "      <td>0</td>\n",
       "      <td>salsa, awful and old tasting, service terrible...</td>\n",
       "      <td>tip</td>\n",
       "      <td>fmXpSKwBtAm7haVSW5iATQ</td>\n",
       "      <td>0</td>\n",
       "      <td>0</td>\n",
       "      <td>0</td>\n",
       "      <td>1</td>\n",
       "      <td>4</td>\n",
       "      <td>1977</td>\n",
       "      <td>1</td>\n",
       "      <td>0</td>\n",
       "    </tr>\n",
       "    <tr>\n",
       "      <th>814800</th>\n",
       "      <td>RgqetGtygIGTHYhysPLktw</td>\n",
       "      <td>2015-03-01</td>\n",
       "      <td>0</td>\n",
       "      <td>below average food and bad service!</td>\n",
       "      <td>tip</td>\n",
       "      <td>BY_5_nk6kCIEbnXimiW2QQ</td>\n",
       "      <td>0</td>\n",
       "      <td>1</td>\n",
       "      <td>0</td>\n",
       "      <td>0</td>\n",
       "      <td>6</td>\n",
       "      <td>2147</td>\n",
       "      <td>1</td>\n",
       "      <td>0</td>\n",
       "    </tr>\n",
       "    <tr>\n",
       "      <th>66267</th>\n",
       "      <td>Mbat8t9X0zPrpxd1mEGRcw</td>\n",
       "      <td>2015-05-14</td>\n",
       "      <td>0</td>\n",
       "      <td>terrible service and nasty food! manager awful...</td>\n",
       "      <td>tip</td>\n",
       "      <td>Z4xC3Fdpd9joZNaLmF6kJQ</td>\n",
       "      <td>0</td>\n",
       "      <td>1</td>\n",
       "      <td>0</td>\n",
       "      <td>0</td>\n",
       "      <td>3</td>\n",
       "      <td>2221</td>\n",
       "      <td>1</td>\n",
       "      <td>0</td>\n",
       "    </tr>\n",
       "    <tr>\n",
       "      <th>638472</th>\n",
       "      <td>g62SlImzhs6_1t-knPjd8w</td>\n",
       "      <td>2016-01-03</td>\n",
       "      <td>0</td>\n",
       "      <td>poor service, waited 15 minutes just for water...</td>\n",
       "      <td>tip</td>\n",
       "      <td>0ho8dx3GoaQytKNPNOrZ4A</td>\n",
       "      <td>1</td>\n",
       "      <td>0</td>\n",
       "      <td>0</td>\n",
       "      <td>0</td>\n",
       "      <td>6</td>\n",
       "      <td>2455</td>\n",
       "      <td>1</td>\n",
       "      <td>0</td>\n",
       "    </tr>\n",
       "    <tr>\n",
       "      <th>184872</th>\n",
       "      <td>t53w4JlkxTau-G-TzhSWog</td>\n",
       "      <td>2010-12-15</td>\n",
       "      <td>0</td>\n",
       "      <td>never had bad service here before today...</td>\n",
       "      <td>tip</td>\n",
       "      <td>wzCmGYsfmT-gLLIan9aIfA</td>\n",
       "      <td>1</td>\n",
       "      <td>0</td>\n",
       "      <td>0</td>\n",
       "      <td>0</td>\n",
       "      <td>2</td>\n",
       "      <td>610</td>\n",
       "      <td>1</td>\n",
       "      <td>0</td>\n",
       "    </tr>\n",
       "  </tbody>\n",
       "</table>\n",
       "</div>"
      ],
      "text/plain": [
       "                   business_id       date  likes  \\\n",
       "834801  LnIO_JtoDS1xLfTHWuV_ug 2014-09-12      0   \n",
       "814800  RgqetGtygIGTHYhysPLktw 2015-03-01      0   \n",
       "66267   Mbat8t9X0zPrpxd1mEGRcw 2015-05-14      0   \n",
       "638472  g62SlImzhs6_1t-knPjd8w 2016-01-03      0   \n",
       "184872  t53w4JlkxTau-G-TzhSWog 2010-12-15      0   \n",
       "\n",
       "                                                     text type  \\\n",
       "834801  salsa, awful and old tasting, service terrible...  tip   \n",
       "814800                below average food and bad service!  tip   \n",
       "66267   terrible service and nasty food! manager awful...  tip   \n",
       "638472  poor service, waited 15 minutes just for water...  tip   \n",
       "184872         never had bad service here before today...  tip   \n",
       "\n",
       "                       user_id  winter  spring  summer  autumn  dayofweek  \\\n",
       "834801  fmXpSKwBtAm7haVSW5iATQ       0       0       0       1          4   \n",
       "814800  BY_5_nk6kCIEbnXimiW2QQ       0       1       0       0          6   \n",
       "66267   Z4xC3Fdpd9joZNaLmF6kJQ       0       1       0       0          3   \n",
       "638472  0ho8dx3GoaQytKNPNOrZ4A       1       0       0       0          6   \n",
       "184872  wzCmGYsfmT-gLLIan9aIfA       1       0       0       0          2   \n",
       "\n",
       "        timediff  bad_comment  good_comment  \n",
       "834801      1977            1             0  \n",
       "814800      2147            1             0  \n",
       "66267       2221            1             0  \n",
       "638472      2455            1             0  \n",
       "184872       610            1             0  "
      ]
     },
     "execution_count": 34,
     "metadata": {},
     "output_type": "execute_result"
    }
   ],
   "source": [
    "data1[data1[\"bad_comment\"]==1].head(5)"
   ]
  },
  {
   "cell_type": "markdown",
   "metadata": {},
   "source": [
    "### export data"
   ]
  },
  {
   "cell_type": "code",
   "execution_count": 35,
   "metadata": {
    "collapsed": true
   },
   "outputs": [],
   "source": [
    "#data1.to_csv(\"2percent_with_all_features.csv\",encoding=\"utf-8\")"
   ]
  },
  {
   "cell_type": "code",
   "execution_count": 36,
   "metadata": {
    "collapsed": false
   },
   "outputs": [
    {
     "data": {
      "text/html": [
       "<div>\n",
       "<table border=\"1\" class=\"dataframe\">\n",
       "  <thead>\n",
       "    <tr style=\"text-align: right;\">\n",
       "      <th></th>\n",
       "      <th>business_id</th>\n",
       "      <th>date</th>\n",
       "      <th>likes</th>\n",
       "      <th>text</th>\n",
       "      <th>type</th>\n",
       "      <th>user_id</th>\n",
       "      <th>winter</th>\n",
       "      <th>spring</th>\n",
       "      <th>summer</th>\n",
       "      <th>autumn</th>\n",
       "      <th>dayofweek</th>\n",
       "      <th>timediff</th>\n",
       "      <th>bad</th>\n",
       "      <th>bad_comment</th>\n",
       "    </tr>\n",
       "  </thead>\n",
       "  <tbody>\n",
       "    <tr>\n",
       "      <th>729046</th>\n",
       "      <td>pucWlGXJZ4kdAxQN2jkIpA</td>\n",
       "      <td>2012-09-21</td>\n",
       "      <td>0</td>\n",
       "      <td>go through front entrance. accidentally went t...</td>\n",
       "      <td>tip</td>\n",
       "      <td>TEwBaV0WxQON_pNOCRh6wg</td>\n",
       "      <td>0</td>\n",
       "      <td>0</td>\n",
       "      <td>0</td>\n",
       "      <td>1</td>\n",
       "      <td>4</td>\n",
       "      <td>1256</td>\n",
       "      <td>go through front entrance. accidentally went t...</td>\n",
       "      <td>0</td>\n",
       "    </tr>\n",
       "  </tbody>\n",
       "</table>\n",
       "</div>"
      ],
      "text/plain": [
       "                   business_id       date  likes  \\\n",
       "729046  pucWlGXJZ4kdAxQN2jkIpA 2012-09-21      0   \n",
       "\n",
       "                                                     text type  \\\n",
       "729046  go through front entrance. accidentally went t...  tip   \n",
       "\n",
       "                       user_id  winter  spring  summer  autumn  dayofweek  \\\n",
       "729046  TEwBaV0WxQON_pNOCRh6wg       0       0       0       1          4   \n",
       "\n",
       "        timediff                                                bad  \\\n",
       "729046      1256  go through front entrance. accidentally went t...   \n",
       "\n",
       "        bad_comment  \n",
       "729046            0  "
      ]
     },
     "execution_count": 36,
     "metadata": {},
     "output_type": "execute_result"
    }
   ],
   "source": [
    "data1.head(1)"
   ]
  },
  {
   "cell_type": "code",
   "execution_count": null,
   "metadata": {
    "collapsed": true
   },
   "outputs": [],
   "source": [
    "\"\"\"\n",
    "for i in range(len(data1)):\n",
    "    if any(word in data1[\"text\"].iloc[[i]].to_string() for word in list1):\n",
    "        l.append(0)\n",
    "    elif any(word in data1[\"text\"].iloc[[i]].to_string() for word in list2):\n",
    "        l.append(1)\n",
    "    else:\n",
    "        l.append(0)\n",
    "\"\"\""
   ]
  },
  {
   "cell_type": "code",
   "execution_count": 39,
   "metadata": {
    "collapsed": false
   },
   "outputs": [],
   "source": [
    "l_clos=[\"clos\",\"empty\"]\n",
    "l_closeto=[\"close to\",\"close at\"]\n",
    "l=[]\n",
    "count=0\n",
    "for i in range(len(data1)):\n",
    "    if any(word in data1[\"text\"].iloc[[i]].to_string() for word in l_closeto):\n",
    "        l.append(0)\n",
    "    elif any(word in data1[\"text\"].iloc[[i]].to_string() for word in l_clos):\n",
    "        l.append(1)\n",
    "    else:\n",
    "        l.append(0)"
   ]
  },
  {
   "cell_type": "code",
   "execution_count": 40,
   "metadata": {
    "collapsed": false
   },
   "outputs": [],
   "source": [
    "data1[\"closed\"]=l"
   ]
  },
  {
   "cell_type": "markdown",
   "metadata": {},
   "source": [
    "### export"
   ]
  },
  {
   "cell_type": "code",
   "execution_count": 42,
   "metadata": {
    "collapsed": true
   },
   "outputs": [],
   "source": [
    "#data1.to_csv(\"2percent_with_all_features.csv\",encoding=\"utf-8\")"
   ]
  },
  {
   "cell_type": "code",
   "execution_count": 46,
   "metadata": {
    "collapsed": false
   },
   "outputs": [
    {
     "data": {
      "text/html": [
       "<div>\n",
       "<table border=\"1\" class=\"dataframe\">\n",
       "  <thead>\n",
       "    <tr style=\"text-align: right;\">\n",
       "      <th></th>\n",
       "      <th>business_id</th>\n",
       "      <th>date</th>\n",
       "      <th>likes</th>\n",
       "      <th>text</th>\n",
       "      <th>type</th>\n",
       "      <th>user_id</th>\n",
       "      <th>winter</th>\n",
       "      <th>spring</th>\n",
       "      <th>summer</th>\n",
       "      <th>autumn</th>\n",
       "      <th>dayofweek</th>\n",
       "      <th>timediff</th>\n",
       "      <th>bad_comment</th>\n",
       "      <th>good_comment</th>\n",
       "      <th>closed</th>\n",
       "    </tr>\n",
       "  </thead>\n",
       "  <tbody>\n",
       "    <tr>\n",
       "      <th>528770</th>\n",
       "      <td>lYMBCn3zvn_zsCmCBAUZxQ</td>\n",
       "      <td>2014-06-08</td>\n",
       "      <td>0</td>\n",
       "      <td>this restaurant is closed</td>\n",
       "      <td>tip</td>\n",
       "      <td>L_O0mcR9ALWwoXw_e-1y0A</td>\n",
       "      <td>0</td>\n",
       "      <td>0</td>\n",
       "      <td>1</td>\n",
       "      <td>0</td>\n",
       "      <td>6</td>\n",
       "      <td>1881</td>\n",
       "      <td>0</td>\n",
       "      <td>0</td>\n",
       "      <td>1</td>\n",
       "    </tr>\n",
       "  </tbody>\n",
       "</table>\n",
       "</div>"
      ],
      "text/plain": [
       "                   business_id       date  likes                       text  \\\n",
       "528770  lYMBCn3zvn_zsCmCBAUZxQ 2014-06-08      0  this restaurant is closed   \n",
       "\n",
       "       type                 user_id  winter  spring  summer  autumn  \\\n",
       "528770  tip  L_O0mcR9ALWwoXw_e-1y0A       0       0       1       0   \n",
       "\n",
       "        dayofweek  timediff  bad_comment  good_comment  closed  \n",
       "528770          6      1881            0             0       1  "
      ]
     },
     "execution_count": 46,
     "metadata": {},
     "output_type": "execute_result"
    }
   ],
   "source": [
    "data1[data1[\"closed\"]==1].head(1)"
   ]
  },
  {
   "cell_type": "code",
   "execution_count": 47,
   "metadata": {
    "collapsed": false
   },
   "outputs": [],
   "source": [
    "data_byid=data1[[\"business_id\",\"bad_comment\",\"good_comment\",\"closed\"]]\n",
    "data_byid=data_byid.groupby(\"business_id\").sum()"
   ]
  },
  {
   "cell_type": "code",
   "execution_count": 48,
   "metadata": {
    "collapsed": false
   },
   "outputs": [
    {
     "data": {
      "text/html": [
       "<div>\n",
       "<table border=\"1\" class=\"dataframe\">\n",
       "  <thead>\n",
       "    <tr style=\"text-align: right;\">\n",
       "      <th></th>\n",
       "      <th>bad_comment</th>\n",
       "      <th>good_comment</th>\n",
       "      <th>closed</th>\n",
       "    </tr>\n",
       "    <tr>\n",
       "      <th>business_id</th>\n",
       "      <th></th>\n",
       "      <th></th>\n",
       "      <th></th>\n",
       "    </tr>\n",
       "  </thead>\n",
       "  <tbody>\n",
       "    <tr>\n",
       "      <th>--9e1ONYQuAa-CB_Rrw7Tw</th>\n",
       "      <td>0</td>\n",
       "      <td>0</td>\n",
       "      <td>0</td>\n",
       "    </tr>\n",
       "    <tr>\n",
       "      <th>--cZ6Hhc9F7VkKXxHMVZSQ</th>\n",
       "      <td>0</td>\n",
       "      <td>0</td>\n",
       "      <td>0</td>\n",
       "    </tr>\n",
       "    <tr>\n",
       "      <th>-0mm8pqBSIOYZQHeo8XnkA</th>\n",
       "      <td>0</td>\n",
       "      <td>0</td>\n",
       "      <td>0</td>\n",
       "    </tr>\n",
       "  </tbody>\n",
       "</table>\n",
       "</div>"
      ],
      "text/plain": [
       "                        bad_comment  good_comment  closed\n",
       "business_id                                              \n",
       "--9e1ONYQuAa-CB_Rrw7Tw            0             0       0\n",
       "--cZ6Hhc9F7VkKXxHMVZSQ            0             0       0\n",
       "-0mm8pqBSIOYZQHeo8XnkA            0             0       0"
      ]
     },
     "execution_count": 48,
     "metadata": {},
     "output_type": "execute_result"
    }
   ],
   "source": [
    "data_byid.head(3)"
   ]
  },
  {
   "cell_type": "code",
   "execution_count": 56,
   "metadata": {
    "collapsed": false
   },
   "outputs": [
    {
     "data": {
      "text/html": [
       "<div>\n",
       "<table border=\"1\" class=\"dataframe\">\n",
       "  <thead>\n",
       "    <tr style=\"text-align: right;\">\n",
       "      <th></th>\n",
       "      <th>bad_comment</th>\n",
       "      <th>good_comment</th>\n",
       "      <th>closed</th>\n",
       "    </tr>\n",
       "    <tr>\n",
       "      <th>business_id</th>\n",
       "      <th></th>\n",
       "      <th></th>\n",
       "      <th></th>\n",
       "    </tr>\n",
       "  </thead>\n",
       "  <tbody>\n",
       "    <tr>\n",
       "      <th>-BS4aZAQm9u41YnB9MUASA</th>\n",
       "      <td>0</td>\n",
       "      <td>0</td>\n",
       "      <td>1</td>\n",
       "    </tr>\n",
       "    <tr>\n",
       "      <th>4lgsEQ_ceLhnPiikEPdULQ</th>\n",
       "      <td>0</td>\n",
       "      <td>0</td>\n",
       "      <td>1</td>\n",
       "    </tr>\n",
       "    <tr>\n",
       "      <th>66VUcHJlDmRANxSb9skvMA</th>\n",
       "      <td>0</td>\n",
       "      <td>0</td>\n",
       "      <td>1</td>\n",
       "    </tr>\n",
       "    <tr>\n",
       "      <th>89uU51kOiQXbJHVA3C6XMQ</th>\n",
       "      <td>0</td>\n",
       "      <td>0</td>\n",
       "      <td>1</td>\n",
       "    </tr>\n",
       "    <tr>\n",
       "      <th>A8CbZwWOPsd_9wrJlv94Lw</th>\n",
       "      <td>0</td>\n",
       "      <td>0</td>\n",
       "      <td>1</td>\n",
       "    </tr>\n",
       "  </tbody>\n",
       "</table>\n",
       "</div>"
      ],
      "text/plain": [
       "                        bad_comment  good_comment  closed\n",
       "business_id                                              \n",
       "-BS4aZAQm9u41YnB9MUASA            0             0       1\n",
       "4lgsEQ_ceLhnPiikEPdULQ            0             0       1\n",
       "66VUcHJlDmRANxSb9skvMA            0             0       1\n",
       "89uU51kOiQXbJHVA3C6XMQ            0             0       1\n",
       "A8CbZwWOPsd_9wrJlv94Lw            0             0       1"
      ]
     },
     "execution_count": 56,
     "metadata": {},
     "output_type": "execute_result"
    }
   ],
   "source": [
    "data_byid[data_byid[\"closed\"]>0].head()"
   ]
  },
  {
   "cell_type": "code",
   "execution_count": 57,
   "metadata": {
    "collapsed": false
   },
   "outputs": [],
   "source": [
    "data_closed=data1[[\"business_id\",\"closed\"]]"
   ]
  },
  {
   "cell_type": "code",
   "execution_count": 58,
   "metadata": {
    "collapsed": false
   },
   "outputs": [],
   "source": [
    "data_closed=data_closed[data_closed[\"closed\"]>0]"
   ]
  },
  {
   "cell_type": "code",
   "execution_count": 59,
   "metadata": {
    "collapsed": false
   },
   "outputs": [],
   "source": [
    "data_closed=data_closed.groupby(\"business_id\").sum();"
   ]
  },
  {
   "cell_type": "code",
   "execution_count": 60,
   "metadata": {
    "collapsed": false
   },
   "outputs": [
    {
     "data": {
      "text/html": [
       "<div>\n",
       "<table border=\"1\" class=\"dataframe\">\n",
       "  <thead>\n",
       "    <tr style=\"text-align: right;\">\n",
       "      <th></th>\n",
       "      <th>closed</th>\n",
       "    </tr>\n",
       "  </thead>\n",
       "  <tbody>\n",
       "    <tr>\n",
       "      <th>count</th>\n",
       "      <td>20.0</td>\n",
       "    </tr>\n",
       "    <tr>\n",
       "      <th>mean</th>\n",
       "      <td>1.0</td>\n",
       "    </tr>\n",
       "    <tr>\n",
       "      <th>std</th>\n",
       "      <td>0.0</td>\n",
       "    </tr>\n",
       "    <tr>\n",
       "      <th>min</th>\n",
       "      <td>1.0</td>\n",
       "    </tr>\n",
       "    <tr>\n",
       "      <th>25%</th>\n",
       "      <td>1.0</td>\n",
       "    </tr>\n",
       "    <tr>\n",
       "      <th>50%</th>\n",
       "      <td>1.0</td>\n",
       "    </tr>\n",
       "    <tr>\n",
       "      <th>75%</th>\n",
       "      <td>1.0</td>\n",
       "    </tr>\n",
       "    <tr>\n",
       "      <th>max</th>\n",
       "      <td>1.0</td>\n",
       "    </tr>\n",
       "  </tbody>\n",
       "</table>\n",
       "</div>"
      ],
      "text/plain": [
       "       closed\n",
       "count    20.0\n",
       "mean      1.0\n",
       "std       0.0\n",
       "min       1.0\n",
       "25%       1.0\n",
       "50%       1.0\n",
       "75%       1.0\n",
       "max       1.0"
      ]
     },
     "execution_count": 60,
     "metadata": {},
     "output_type": "execute_result"
    }
   ],
   "source": [
    "data_closed.describe()"
   ]
  },
  {
   "cell_type": "code",
   "execution_count": 61,
   "metadata": {
    "collapsed": false
   },
   "outputs": [
    {
     "data": {
      "text/html": [
       "<div>\n",
       "<table border=\"1\" class=\"dataframe\">\n",
       "  <thead>\n",
       "    <tr style=\"text-align: right;\">\n",
       "      <th></th>\n",
       "      <th>business_id</th>\n",
       "      <th>date</th>\n",
       "      <th>likes</th>\n",
       "      <th>text</th>\n",
       "      <th>type</th>\n",
       "      <th>user_id</th>\n",
       "      <th>winter</th>\n",
       "      <th>spring</th>\n",
       "      <th>summer</th>\n",
       "      <th>autumn</th>\n",
       "      <th>dayofweek</th>\n",
       "      <th>timediff</th>\n",
       "      <th>bad_comment</th>\n",
       "      <th>good_comment</th>\n",
       "      <th>closed</th>\n",
       "    </tr>\n",
       "  </thead>\n",
       "  <tbody>\n",
       "    <tr>\n",
       "      <th>757445</th>\n",
       "      <td>9XcWAcp1dCpcLcHTBENn-Q</td>\n",
       "      <td>2013-02-21</td>\n",
       "      <td>0</td>\n",
       "      <td>some of the best tom yum noodle soup in town!</td>\n",
       "      <td>tip</td>\n",
       "      <td>W6CdNfqkQby6tSLJHJH4Tw</td>\n",
       "      <td>1</td>\n",
       "      <td>0</td>\n",
       "      <td>0</td>\n",
       "      <td>0</td>\n",
       "      <td>3</td>\n",
       "      <td>1409</td>\n",
       "      <td>0</td>\n",
       "      <td>0</td>\n",
       "      <td>0</td>\n",
       "    </tr>\n",
       "  </tbody>\n",
       "</table>\n",
       "</div>"
      ],
      "text/plain": [
       "                   business_id       date  likes  \\\n",
       "757445  9XcWAcp1dCpcLcHTBENn-Q 2013-02-21      0   \n",
       "\n",
       "                                                 text type  \\\n",
       "757445  some of the best tom yum noodle soup in town!  tip   \n",
       "\n",
       "                       user_id  winter  spring  summer  autumn  dayofweek  \\\n",
       "757445  W6CdNfqkQby6tSLJHJH4Tw       1       0       0       0          3   \n",
       "\n",
       "        timediff  bad_comment  good_comment  closed  \n",
       "757445      1409            0             0       0  "
      ]
     },
     "execution_count": 61,
     "metadata": {},
     "output_type": "execute_result"
    }
   ],
   "source": [
    "data1.head(1)"
   ]
  },
  {
   "cell_type": "code",
   "execution_count": 62,
   "metadata": {
    "collapsed": false
   },
   "outputs": [
    {
     "data": {
      "image/png": "[encoded data removed]",
      "text/plain": [
       "<matplotlib.figure.Figure at 0x1640d1157b8>"
      ]
     },
     "metadata": {},
     "output_type": "display_data"
    }
   ],
   "source": [
    "cas_1=data1[data1[\"winter\"]==1][\"bad_comment\"]\n",
    "cas_2=data1[data1[\"spring\"]==1][\"bad_comment\"]\n",
    "cas_3=data1[data1[\"summer\"]==1][\"bad_comment\"]\n",
    "cas_4=data1[data1[\"autumn\"]==1][\"bad_comment\"]\n",
    "\n",
    "reg_1=data1[data1[\"winter\"]==1][\"good_comment\"]\n",
    "reg_2=data1[data1[\"spring\"]==1][\"good_comment\"]\n",
    "reg_3=data1[data1[\"summer\"]==1][\"good_comment\"]\n",
    "reg_4=data1[data1[\"autumn\"]==1][\"good_comment\"]\n",
    "\n",
    "\n",
    "fig = plt.figure()\n",
    "ax = fig.add_subplot(111)\n",
    "\n",
    "\n",
    "N = 4\n",
    "casual = [cas_1.sum(), cas_2.sum(),cas_3.sum(),cas_4.sum()]\n",
    "registered = [reg_1.sum(), reg_2.sum(),reg_3.sum(),reg_4.sum()]\n",
    "\n",
    "\n",
    "ind = np.arange(N)                \n",
    "width = 0.35                      \n",
    "\n",
    "\n",
    "rects1 = ax.bar(ind, casual, width,\n",
    "                color='blue',alpha=0.5,\n",
    "                error_kw=dict(elinewidth=2,ecolor='green'))\n",
    "\n",
    "rects2 = ax.bar(ind+width, registered, width,\n",
    "                    color='green',alpha=0.5,\n",
    "                    error_kw=dict(elinewidth=2,ecolor='blue'))\n",
    "\n",
    "\n",
    "ax.set_xlim(-width,len(ind)+width)\n",
    "ax.set_ylim(0,200)\n",
    "ax.set_ylabel('count')\n",
    "ax.set_title('bad and good for the 4 seasons')\n",
    "xTickMarks = [\"winter\",\"spring\",\"summer\",\"autumn\"]\n",
    "ax.set_xticks(ind+width)\n",
    "xtickNames = ax.set_xticklabels(xTickMarks)\n",
    "plt.setp(xtickNames, rotation=45, fontsize=10)\n",
    "\n",
    "## add a legend\n",
    "ax.legend( (rects1[0], rects2[0]), ('bad review', 'good review') )\n",
    "\n",
    "plt.show()"
   ]
  },
  {
   "cell_type": "code",
   "execution_count": 63,
   "metadata": {
    "collapsed": false
   },
   "outputs": [
    {
     "data": {
      "text/html": [
       "<div>\n",
       "<table border=\"1\" class=\"dataframe\">\n",
       "  <thead>\n",
       "    <tr style=\"text-align: right;\">\n",
       "      <th></th>\n",
       "      <th>closed</th>\n",
       "    </tr>\n",
       "    <tr>\n",
       "      <th>business_id</th>\n",
       "      <th></th>\n",
       "    </tr>\n",
       "  </thead>\n",
       "  <tbody>\n",
       "    <tr>\n",
       "      <th>-BS4aZAQm9u41YnB9MUASA</th>\n",
       "      <td>1</td>\n",
       "    </tr>\n",
       "    <tr>\n",
       "      <th>4lgsEQ_ceLhnPiikEPdULQ</th>\n",
       "      <td>1</td>\n",
       "    </tr>\n",
       "    <tr>\n",
       "      <th>66VUcHJlDmRANxSb9skvMA</th>\n",
       "      <td>1</td>\n",
       "    </tr>\n",
       "    <tr>\n",
       "      <th>89uU51kOiQXbJHVA3C6XMQ</th>\n",
       "      <td>1</td>\n",
       "    </tr>\n",
       "    <tr>\n",
       "      <th>A8CbZwWOPsd_9wrJlv94Lw</th>\n",
       "      <td>1</td>\n",
       "    </tr>\n",
       "  </tbody>\n",
       "</table>\n",
       "</div>"
      ],
      "text/plain": [
       "                        closed\n",
       "business_id                   \n",
       "-BS4aZAQm9u41YnB9MUASA       1\n",
       "4lgsEQ_ceLhnPiikEPdULQ       1\n",
       "66VUcHJlDmRANxSb9skvMA       1\n",
       "89uU51kOiQXbJHVA3C6XMQ       1\n",
       "A8CbZwWOPsd_9wrJlv94Lw       1"
      ]
     },
     "execution_count": 63,
     "metadata": {},
     "output_type": "execute_result"
    }
   ],
   "source": [
    "data_closed.head()"
   ]
  },
  {
   "cell_type": "code",
   "execution_count": null,
   "metadata": {
    "collapsed": true
   },
   "outputs": [],
   "source": []
  }
 ],
 "metadata": {
  "anaconda-cloud": {},
  "kernelspec": {
   "display_name": "Python [default]",
   "language": "python",
   "name": "python3"
  },
  "language_info": {
   "codemirror_mode": {
    "name": "ipython",
    "version": 3
   },
   "file_extension": ".py",
   "mimetype": "text/x-python",
   "name": "python",
   "nbconvert_exporter": "python",
   "pygments_lexer": "ipython3",
   "version": "3.5.2"
  }
 },
 "nbformat": 4,
 "nbformat_minor": 1
}
