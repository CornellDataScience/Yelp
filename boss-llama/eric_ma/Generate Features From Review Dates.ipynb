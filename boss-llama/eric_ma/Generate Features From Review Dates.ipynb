{
 "cells": [
  {
   "cell_type": "code",
   "execution_count": 1,
   "metadata": {
    "collapsed": true
   },
   "outputs": [],
   "source": [
    "from datetime import datetime\n",
    "import os\n",
    "import numpy\n",
    "from pyspark.sql.functions import *\n",
    "from pyspark.sql.types import DateType\n",
    "spark_home = os.environ.get('SPARK_HOME', None)\n",
    "\n",
    "import plotly\n",
    "plotly.tools.set_credentials_file(username='amcire96', api_key='sej35ud4YbSOfIshhhZg')\n",
    "# print(plotly.__version__)\n",
    "\n",
    "import plotly.plotly as py\n",
    "from plotly.graph_objs import *\n",
    "import plotly.figure_factory as FF\n",
    "import requests\n",
    "requests.packages.urllib3.disable_warnings()\n"
   ]
  },
  {
   "cell_type": "code",
   "execution_count": 2,
   "metadata": {
    "collapsed": false
   },
   "outputs": [
    {
     "name": "stdout",
     "output_type": "stream",
     "text": [
      "4153150\n",
      "root\n",
      " |-- business_id: string (nullable = true)\n",
      " |-- cool: long (nullable = true)\n",
      " |-- date: string (nullable = true)\n",
      " |-- funny: long (nullable = true)\n",
      " |-- review_id: string (nullable = true)\n",
      " |-- stars: long (nullable = true)\n",
      " |-- text: string (nullable = true)\n",
      " |-- type: string (nullable = true)\n",
      " |-- useful: long (nullable = true)\n",
      " |-- user_id: string (nullable = true)\n",
      "\n"
     ]
    }
   ],
   "source": [
    "review = spark.read.json(\"/user/hduser1/Yelp/review.json\").repartition(300)\n",
    "\n",
    "print(review.count())\n",
    "review.printSchema()\n",
    "# review.head(10)"
   ]
  },
  {
   "cell_type": "code",
   "execution_count": 3,
   "metadata": {
    "collapsed": false
   },
   "outputs": [
    {
     "name": "stdout",
     "output_type": "stream",
     "text": [
      "144072\n",
      "root\n",
      " |-- address: string (nullable = true)\n",
      " |-- attributes: array (nullable = true)\n",
      " |    |-- element: string (containsNull = true)\n",
      " |-- business_id: string (nullable = true)\n",
      " |-- categories: array (nullable = true)\n",
      " |    |-- element: string (containsNull = true)\n",
      " |-- city: string (nullable = true)\n",
      " |-- hours: array (nullable = true)\n",
      " |    |-- element: string (containsNull = true)\n",
      " |-- is_open: long (nullable = true)\n",
      " |-- latitude: double (nullable = true)\n",
      " |-- longitude: double (nullable = true)\n",
      " |-- name: string (nullable = true)\n",
      " |-- neighborhood: string (nullable = true)\n",
      " |-- postal_code: string (nullable = true)\n",
      " |-- review_count: long (nullable = true)\n",
      " |-- stars: double (nullable = true)\n",
      " |-- state: string (nullable = true)\n",
      " |-- type: string (nullable = true)\n",
      "\n"
     ]
    }
   ],
   "source": [
    "business = spark.read.json(\"/user/hduser1/Yelp/business.json\").repartition(300)\n",
    "\n",
    "print(business.count())\n",
    "business.printSchema()"
   ]
  },
  {
   "cell_type": "code",
   "execution_count": 4,
   "metadata": {
    "collapsed": false
   },
   "outputs": [
    {
     "name": "stdout",
     "output_type": "stream",
     "text": [
      "106685\n",
      "root\n",
      " |-- business_id: string (nullable = true)\n",
      "\n"
     ]
    }
   ],
   "source": [
    "valid_businesses = business.select(\"business_id\").where(col(\"review_count\") >= 5)\n",
    "\n",
    "print(valid_businesses.count())\n",
    "valid_businesses.printSchema()"
   ]
  },
  {
   "cell_type": "code",
   "execution_count": 5,
   "metadata": {
    "collapsed": false
   },
   "outputs": [
    {
     "name": "stdout",
     "output_type": "stream",
     "text": [
      "4025504\n",
      "root\n",
      " |-- business_id: string (nullable = true)\n",
      " |-- date: string (nullable = true)\n",
      "\n"
     ]
    }
   ],
   "source": [
    "valid_reviews = (valid_businesses.alias(\"t1\").join(review.alias(\"t2\"), col(\"t1.business_id\") == col(\"t2.business_id\"), \"left\")\n",
    "                 .select([\"t1.business_id\", \"t2.date\"]))\n",
    "\n",
    "print(valid_reviews.count())\n",
    "valid_reviews.printSchema()"
   ]
  },
  {
   "cell_type": "code",
   "execution_count": 6,
   "metadata": {
    "collapsed": false
   },
   "outputs": [
    {
     "data": {
      "text/plain": [
       "[Row(business_id=u'--9e1ONYQuAa-CB_Rrw7Tw', date=datetime.date(2015, 9, 6)),\n",
       " Row(business_id=u'--9e1ONYQuAa-CB_Rrw7Tw', date=datetime.date(2016, 2, 14)),\n",
       " Row(business_id=u'--9e1ONYQuAa-CB_Rrw7Tw', date=datetime.date(2016, 12, 28)),\n",
       " Row(business_id=u'--9e1ONYQuAa-CB_Rrw7Tw', date=datetime.date(2010, 4, 19)),\n",
       " Row(business_id=u'--9e1ONYQuAa-CB_Rrw7Tw', date=datetime.date(2013, 6, 18))]"
      ]
     },
     "execution_count": 6,
     "metadata": {},
     "output_type": "execute_result"
    }
   ],
   "source": [
    "conv_to_date = udf(lambda date_str: datetime.strptime(date_str, '%Y-%m-%d'), DateType())\n",
    "review_dates = valid_reviews.withColumn(\"date_obj\", conv_to_date(col(\"date\"))).select([col(\"business_id\"), col(\"date_obj\").alias(\"date\")])\n",
    "\n",
    "# review.dates.cast(DateType).alias(\"date\")\n",
    "# review_dates = review.select([col(\"business_id\"), col(\"date\").cast(DateType).alias(\"date\")])\n",
    "\n",
    "# review_dates = (review.withColumn(\"date\", col(\"date\").cast(\"timestamp\"))\n",
    "#                 .groupBy(\"business_id\")\n",
    "#                 .agg(max(\"date\")).alias(\"most_recent_date\"))\n",
    "\n",
    "review_dates.head(5)"
   ]
  },
  {
   "cell_type": "code",
   "execution_count": 7,
   "metadata": {
    "collapsed": false
   },
   "outputs": [
    {
     "data": {
      "text/plain": [
       "[Row(business_id=u'18ol4DIHGnqMMKfDblBLHA', review_count=5),\n",
       " Row(business_id=u'-PF_w4OxpzHTzGyULWWaSw', review_count=5),\n",
       " Row(business_id=u'1NbNo3v8XO9Sze_nqG2fyg', review_count=5),\n",
       " Row(business_id=u'2nx9qXnVkgf9ZR6RHn33TQ', review_count=5),\n",
       " Row(business_id=u'3swjoD8A_7_0nJa_r36xCA', review_count=5),\n",
       " Row(business_id=u'65iIzq80WQ1nMqj_rLWNYQ', review_count=5),\n",
       " Row(business_id=u'6A6jlv6LP0SyXf4UzfIwvA', review_count=5),\n",
       " Row(business_id=u'6UbcMDyimSHpPJGkMOQftw', review_count=5),\n",
       " Row(business_id=u'8EZZKsZ9Iuwz7Lem9NfN_w', review_count=5),\n",
       " Row(business_id=u'8W_qw1d7z2xwZyB5RU8GUg', review_count=5)]"
      ]
     },
     "execution_count": 7,
     "metadata": {},
     "output_type": "execute_result"
    }
   ],
   "source": [
    "valid_business_date_count = review_dates.groupby(\"business_id\").agg(count(\"date\").alias(\"review_count\")).orderBy(\"review_count\")\n",
    "\n",
    "valid_business_date_count.head(10)"
   ]
  },
  {
   "cell_type": "code",
   "execution_count": 8,
   "metadata": {
    "collapsed": false
   },
   "outputs": [
    {
     "data": {
      "text/plain": [
       "[Row(business_id=u'YeCZ17qKPRHg_UUBoZ8CEQ', most_recent_review=datetime.date(2006, 8, 8)),\n",
       " Row(business_id=u'X_qqvaCL9zPxDf_Xp150nQ', most_recent_review=datetime.date(2007, 5, 5)),\n",
       " Row(business_id=u'T1-kPPbyO2kDiHVqgikCjQ', most_recent_review=datetime.date(2007, 5, 17)),\n",
       " Row(business_id=u'uz77ng57t-sFnEjKbTAPrQ', most_recent_review=datetime.date(2007, 8, 10)),\n",
       " Row(business_id=u'XVj_qD6hz4OJprt1bOAjWA', most_recent_review=datetime.date(2007, 8, 22)),\n",
       " Row(business_id=u'JSxxur20MpmL1DBUdQVf1w', most_recent_review=datetime.date(2007, 8, 24)),\n",
       " Row(business_id=u'hJgAUo66s6v0ndqeMdW2mw', most_recent_review=datetime.date(2007, 10, 2)),\n",
       " Row(business_id=u'2_-1k5i1R2Rfs-mHcme8kg', most_recent_review=datetime.date(2007, 10, 6)),\n",
       " Row(business_id=u'KLJmSYpq81fy0gXri-tAAw', most_recent_review=datetime.date(2007, 10, 15)),\n",
       " Row(business_id=u'HlwbuZnJubtHBfXlxWDXpw', most_recent_review=datetime.date(2007, 10, 30)),\n",
       " Row(business_id=u'yQfiIg-HDflMzBKOfyTqQA', most_recent_review=datetime.date(2007, 11, 14)),\n",
       " Row(business_id=u'Da6G8TVoc_5WOTkYfQfT6A', most_recent_review=datetime.date(2007, 11, 30)),\n",
       " Row(business_id=u'WTbT0t3BDM_3FYSh2aowgA', most_recent_review=datetime.date(2007, 11, 30)),\n",
       " Row(business_id=u'y-5xgUA-5TblxftyC6VjVw', most_recent_review=datetime.date(2007, 12, 7)),\n",
       " Row(business_id=u'Zre_2loI4PmebQWYKFS3PA', most_recent_review=datetime.date(2007, 12, 13)),\n",
       " Row(business_id=u'w55JY2w3ZhTh4hZxAPWTzw', most_recent_review=datetime.date(2007, 12, 15)),\n",
       " Row(business_id=u'F5TvnRmiR3VWC6l03SefcQ', most_recent_review=datetime.date(2007, 12, 17)),\n",
       " Row(business_id=u'9LwvVV5aU7KK4RpjrI-sYA', most_recent_review=datetime.date(2007, 12, 26)),\n",
       " Row(business_id=u'vAil0EGCFi7qjB6yprQLCw', most_recent_review=datetime.date(2008, 1, 4)),\n",
       " Row(business_id=u'o4SzHUykUO9sw8pWZVEB9Q', most_recent_review=datetime.date(2008, 1, 17))]"
      ]
     },
     "execution_count": 8,
     "metadata": {},
     "output_type": "execute_result"
    }
   ],
   "source": [
    "most_recent_dates = (review_dates.groupby(\"business_id\").agg(max(\"date\").alias(\"most_recent_review\"))\n",
    "                     .orderBy(\"most_recent_review\", ascending=[1]))\n",
    "\n",
    "most_recent_dates.head(20)"
   ]
  },
  {
   "cell_type": "code",
   "execution_count": 9,
   "metadata": {
    "collapsed": false
   },
   "outputs": [
    {
     "data": {
      "text/plain": [
       "[Row(business_id=u'--6MefnULPED_I942VcFNA', date=datetime.date(2008, 8, 7), date2=datetime.date(2010, 11, 25), DaysDiff=840),\n",
       " Row(business_id=u'--6MefnULPED_I942VcFNA', date=datetime.date(2010, 11, 25), date2=datetime.date(2010, 12, 6), DaysDiff=11),\n",
       " Row(business_id=u'--6MefnULPED_I942VcFNA', date=datetime.date(2010, 12, 6), date2=datetime.date(2010, 12, 22), DaysDiff=16),\n",
       " Row(business_id=u'--6MefnULPED_I942VcFNA', date=datetime.date(2010, 12, 22), date2=datetime.date(2011, 1, 8), DaysDiff=17),\n",
       " Row(business_id=u'--6MefnULPED_I942VcFNA', date=datetime.date(2011, 1, 8), date2=datetime.date(2011, 5, 30), DaysDiff=142),\n",
       " Row(business_id=u'--6MefnULPED_I942VcFNA', date=datetime.date(2011, 5, 30), date2=datetime.date(2012, 4, 15), DaysDiff=321),\n",
       " Row(business_id=u'--6MefnULPED_I942VcFNA', date=datetime.date(2012, 4, 15), date2=datetime.date(2013, 9, 17), DaysDiff=520),\n",
       " Row(business_id=u'--6MefnULPED_I942VcFNA', date=datetime.date(2013, 9, 17), date2=datetime.date(2014, 1, 29), DaysDiff=134),\n",
       " Row(business_id=u'--6MefnULPED_I942VcFNA', date=datetime.date(2014, 1, 29), date2=datetime.date(2014, 8, 15), DaysDiff=198),\n",
       " Row(business_id=u'--6MefnULPED_I942VcFNA', date=datetime.date(2014, 8, 15), date2=datetime.date(2014, 11, 19), DaysDiff=96),\n",
       " Row(business_id=u'--6MefnULPED_I942VcFNA', date=datetime.date(2014, 11, 19), date2=datetime.date(2015, 1, 3), DaysDiff=45),\n",
       " Row(business_id=u'--6MefnULPED_I942VcFNA', date=datetime.date(2015, 1, 3), date2=datetime.date(2015, 1, 4), DaysDiff=1),\n",
       " Row(business_id=u'--6MefnULPED_I942VcFNA', date=datetime.date(2015, 1, 4), date2=datetime.date(2015, 1, 6), DaysDiff=2),\n",
       " Row(business_id=u'--6MefnULPED_I942VcFNA', date=datetime.date(2015, 1, 6), date2=datetime.date(2015, 2, 22), DaysDiff=47),\n",
       " Row(business_id=u'--6MefnULPED_I942VcFNA', date=datetime.date(2015, 2, 22), date2=datetime.date(2015, 5, 17), DaysDiff=84),\n",
       " Row(business_id=u'--6MefnULPED_I942VcFNA', date=datetime.date(2015, 5, 17), date2=datetime.date(2015, 7, 16), DaysDiff=60),\n",
       " Row(business_id=u'--6MefnULPED_I942VcFNA', date=datetime.date(2015, 7, 16), date2=datetime.date(2015, 8, 5), DaysDiff=20),\n",
       " Row(business_id=u'--6MefnULPED_I942VcFNA', date=datetime.date(2015, 8, 5), date2=datetime.date(2015, 9, 28), DaysDiff=54),\n",
       " Row(business_id=u'--6MefnULPED_I942VcFNA', date=datetime.date(2015, 9, 28), date2=datetime.date(2016, 4, 2), DaysDiff=187),\n",
       " Row(business_id=u'--6MefnULPED_I942VcFNA', date=datetime.date(2016, 4, 2), date2=datetime.date(2016, 5, 10), DaysDiff=38)]"
      ]
     },
     "execution_count": 9,
     "metadata": {},
     "output_type": "execute_result"
    }
   ],
   "source": [
    "review_dates.createOrReplaceTempView(\"review_dates\")\n",
    "\n",
    "review_date_diffs = spark.sql(\"\"\"\n",
    "SELECT  t1.business_id, \n",
    "        t1.date, \n",
    "        MIN(t2.date) AS date2, \n",
    "        DATEDIFF(MIN(t2.Date), t1.Date) AS DaysDiff\n",
    "FROM    review_dates t1\n",
    "        LEFT JOIN review_dates t2\n",
    "            ON t1.business_id = t2.business_id\n",
    "            AND t2.date > t1.date\n",
    "GROUP BY t1.business_id, t1.date\n",
    "ORDER BY t1.business_id, t1.date ASC\n",
    "\"\"\")\n",
    "\n",
    "review_date_diffs.head(20)"
   ]
  },
  {
   "cell_type": "code",
   "execution_count": 10,
   "metadata": {
    "collapsed": false
   },
   "outputs": [
    {
     "data": {
      "text/plain": [
       "[Row(business_id=u'-5-YYvq8Pel6aHt7Wu_IHA'),\n",
       " Row(business_id=u'ZpKOX5N0avg5lmSi3ndc4w'),\n",
       " Row(business_id=u'2WJ4s3PcLN4PI-WUGIS9IQ'),\n",
       " Row(business_id=u'bzLSsQ0Sbxt_BjlURH7l-A'),\n",
       " Row(business_id=u'nMIkE3p4BzAA9Pd3H8yJfQ'),\n",
       " Row(business_id=u'rX93JUIxtTFC3p6Y1eaUCQ'),\n",
       " Row(business_id=u'JF1SNzrkiQdlGYOwtOjl9w'),\n",
       " Row(business_id=u'2px0fsTfKb-9iiESw9c2Lg'),\n",
       " Row(business_id=u'27nF2tLrwH5GyhojeFIs_w'),\n",
       " Row(business_id=u'rwMsL9BhGDG6r0J5zJEpYQ')]"
      ]
     },
     "execution_count": 10,
     "metadata": {},
     "output_type": "execute_result"
    }
   ],
   "source": [
    "valid_business_datediff = (review_date_diffs.groupby(\"business_id\").agg(count(\"DaysDiff\").alias(\"num_day_diffs\"))\n",
    "                           .where(col(\"num_day_diffs\") >= 2).orderBy(\"num_day_diffs\").select(\"business_id\"))\n",
    "\n",
    "valid_business_datediff.head(10)\n",
    "\n"
   ]
  },
  {
   "cell_type": "code",
   "execution_count": 11,
   "metadata": {
    "collapsed": false
   },
   "outputs": [
    {
     "name": "stdout",
     "output_type": "stream",
     "text": [
      "root\n",
      " |-- business_id: string (nullable = true)\n",
      " |-- date: date (nullable = true)\n",
      " |-- date2: date (nullable = true)\n",
      " |-- DaysDiff: integer (nullable = true)\n",
      "\n"
     ]
    },
    {
     "data": {
      "text/plain": [
       "[Row(business_id=u'--9e1ONYQuAa-CB_Rrw7Tw', date=datetime.date(2005, 4, 27), date2=datetime.date(2006, 1, 7), DaysDiff=255),\n",
       " Row(business_id=u'--9e1ONYQuAa-CB_Rrw7Tw', date=datetime.date(2006, 1, 7), date2=datetime.date(2006, 1, 20), DaysDiff=13),\n",
       " Row(business_id=u'--9e1ONYQuAa-CB_Rrw7Tw', date=datetime.date(2006, 1, 20), date2=datetime.date(2006, 3, 7), DaysDiff=46),\n",
       " Row(business_id=u'--9e1ONYQuAa-CB_Rrw7Tw', date=datetime.date(2006, 3, 7), date2=datetime.date(2006, 3, 23), DaysDiff=16),\n",
       " Row(business_id=u'--9e1ONYQuAa-CB_Rrw7Tw', date=datetime.date(2006, 3, 23), date2=datetime.date(2006, 5, 27), DaysDiff=65),\n",
       " Row(business_id=u'--9e1ONYQuAa-CB_Rrw7Tw', date=datetime.date(2006, 5, 27), date2=datetime.date(2006, 7, 15), DaysDiff=49),\n",
       " Row(business_id=u'--9e1ONYQuAa-CB_Rrw7Tw', date=datetime.date(2006, 7, 15), date2=datetime.date(2006, 7, 27), DaysDiff=12),\n",
       " Row(business_id=u'--9e1ONYQuAa-CB_Rrw7Tw', date=datetime.date(2006, 7, 27), date2=datetime.date(2006, 9, 14), DaysDiff=49),\n",
       " Row(business_id=u'--9e1ONYQuAa-CB_Rrw7Tw', date=datetime.date(2006, 9, 14), date2=datetime.date(2006, 9, 19), DaysDiff=5),\n",
       " Row(business_id=u'--9e1ONYQuAa-CB_Rrw7Tw', date=datetime.date(2006, 9, 19), date2=datetime.date(2006, 9, 23), DaysDiff=4)]"
      ]
     },
     "execution_count": 11,
     "metadata": {},
     "output_type": "execute_result"
    }
   ],
   "source": [
    "valid_review_date_diffs = (valid_business_datediff.alias(\"t1\")\n",
    "                           .join(review_date_diffs.alias(\"t2\"), col(\"t1.business_id\")==col(\"t2.business_id\"))\n",
    "                           .select([\"t2.\"+c for c in review_date_diffs.columns]))\n",
    "valid_review_date_diffs.printSchema()\n",
    "valid_review_date_diffs.head(10)"
   ]
  },
  {
   "cell_type": "code",
   "execution_count": 31,
   "metadata": {
    "collapsed": false
   },
   "outputs": [
    {
     "data": {
      "text/plain": [
       "[Row(business_id=u'sQfM2b9GmNzfJs6tiAPbzA', mean_days_diff=1.0, stddev_days_diff=0.0),\n",
       " Row(business_id=u'wnInrkth3_KXLxI9SniU2g', mean_days_diff=1.0, stddev_days_diff=0.0),\n",
       " Row(business_id=u'D9UIFXYDjvpfu0desRKXzg', mean_days_diff=1.0, stddev_days_diff=0.0),\n",
       " Row(business_id=u'BsDf3L7p_O4tEvllQGOq2A', mean_days_diff=1.0, stddev_days_diff=0.0),\n",
       " Row(business_id=u'1QU21VZX6oFQHmRCbC9Kcw', mean_days_diff=1.0, stddev_days_diff=0.0),\n",
       " Row(business_id=u'c5CWmwh0-WFIjn8_V2DECQ', mean_days_diff=1.0, stddev_days_diff=0.0),\n",
       " Row(business_id=u'Uiwgr1m6qgpVWP_AOr7-UA', mean_days_diff=1.0, stddev_days_diff=0.0),\n",
       " Row(business_id=u'nAE1llsVp39g_HgO0fOUuQ', mean_days_diff=1.0, stddev_days_diff=0.0),\n",
       " Row(business_id=u'yY_AmOiFF09Ph7EkKC9RzA', mean_days_diff=1.0, stddev_days_diff=0.0),\n",
       " Row(business_id=u'LGSoe8Gb7pmRmmDjqSbYIQ', mean_days_diff=1.0, stddev_days_diff=0.0),\n",
       " Row(business_id=u'mU3vlAVzTxgmZUu6F4XixA', mean_days_diff=1.0, stddev_days_diff=0.0),\n",
       " Row(business_id=u'MuaUtNrlJwJwZ8EGpBf6Tg', mean_days_diff=1.0, stddev_days_diff=0.0),\n",
       " Row(business_id=u'G7aY-t3rcZyZEQ0ZdYMe-A', mean_days_diff=1.0, stddev_days_diff=0.0),\n",
       " Row(business_id=u'OZEpz2S7kKaa_8vQz2ATqQ', mean_days_diff=1.0, stddev_days_diff=0.0),\n",
       " Row(business_id=u'IqXWpiyd6sAAtQrboDUe5g', mean_days_diff=1.0, stddev_days_diff=0.0),\n",
       " Row(business_id=u'yBmDNVdEzW1ARUXYlKACIw', mean_days_diff=1.0, stddev_days_diff=0.0),\n",
       " Row(business_id=u'RESDUcs7fIiihp38-d6_6g', mean_days_diff=1.0459619172685488, stddev_days_diff=0.2216629685141692),\n",
       " Row(business_id=u'cYwJA2A6I12KNkm2rtXd5g', mean_days_diff=1.0530410183875532, stddev_days_diff=0.2452982118843685),\n",
       " Row(business_id=u'lwxYmWqjmEZ0ukCsXC9Pfg', mean_days_diff=1.1081081081081081, stddev_days_diff=0.39326156010301166),\n",
       " Row(business_id=u'QJatAcxYgK1Zp9BRZMAx7g', mean_days_diff=1.1124260355029585, stddev_days_diff=0.3914940447998424)]"
      ]
     },
     "execution_count": 31,
     "metadata": {},
     "output_type": "execute_result"
    }
   ],
   "source": [
    "valid_review_date_diffs.createOrReplaceTempView(\"valid_review_date_diffs\")\n",
    "# review_diff_stats = spark.sql(\"SELECT t1.business_id, MIN(t1.DaysDiff) AS min_days_diff FROM review_date_diffs t1 GROUP By t1.business_id\")\n",
    "review_diff_stats = spark.sql(\"\"\"\n",
    "SELECT t1.business_id, MEAN(t1.DaysDiff) AS mean_days_diff, STDDEV(t1.DaysDiff) AS stddev_days_diff\n",
    "FROM valid_review_date_diffs t1\n",
    "GROUP BY t1.business_id\n",
    "ORDER BY mean_days_diff\n",
    "\"\"\")\n",
    "\n",
    "review_diff_stats.head(20)"
   ]
  },
  {
   "cell_type": "code",
   "execution_count": 13,
   "metadata": {
    "collapsed": false
   },
   "outputs": [],
   "source": [
    "review_diff_stats_df = review_diff_stats.toPandas()\n"
   ]
  },
  {
   "cell_type": "code",
   "execution_count": null,
   "metadata": {
    "collapsed": false
   },
   "outputs": [],
   "source": [
    "review_diff_stats_mean_data = Data([Histogram(x=review_diff_stats_df[\"mean_days_diff\"])])\n",
    "\n",
    "layout = Layout(\n",
    "    xaxis=dict(\n",
    "        title='Mean Days Between Reviews',\n",
    "        titlefont=dict(\n",
    "            family='Arial, sans-serif',\n",
    "            size=18,\n",
    "            color='grey'\n",
    "        ),\n",
    "    ),\n",
    "    yaxis=dict(\n",
    "        title='Number of Businesses',\n",
    "        titlefont=dict(\n",
    "            family='Arial, sans-serif',\n",
    "            size=18,\n",
    "            color='grey'\n",
    "        ),\n",
    "    )\n",
    ")\n",
    "fig = Figure(data=review_diff_stats_mean_data, layout=layout)\n",
    "py.iplot(fig)"
   ]
  },
  {
   "cell_type": "code",
   "execution_count": null,
   "metadata": {
    "collapsed": false
   },
   "outputs": [],
   "source": [
    "review_diff_stats_stddev_data = Data([Histogram(x=review_diff_stats_df[\"stddev_days_diff\"])])\n",
    "layout = Layout(\n",
    "    xaxis=dict(\n",
    "        title='Stddev of Days Between Reviews',\n",
    "        titlefont=dict(\n",
    "            family='Arial, sans-serif',\n",
    "            size=18,\n",
    "            color='grey'\n",
    "        ),\n",
    "    ),\n",
    "    yaxis=dict(\n",
    "        title='Number of Businesses',\n",
    "        titlefont=dict(\n",
    "            family='Arial, sans-serif',\n",
    "            size=18,\n",
    "            color='grey'\n",
    "        ),\n",
    "    )\n",
    ")\n",
    "fig = Figure(data=review_diff_stats_stddev_data, layout=layout)\n",
    "py.iplot(fig)"
   ]
  },
  {
   "cell_type": "code",
   "execution_count": 16,
   "metadata": {
    "collapsed": false
   },
   "outputs": [
    {
     "name": "stdout",
     "output_type": "stream",
     "text": [
      "                   business_id  mean_days_diff  stddev_days_diff\n",
      "0       yY_AmOiFF09Ph7EkKC9RzA        1.000000          0.000000\n",
      "253     V-vwFZAlLRMXqCQKKVBM4g        2.000000          0.000000\n",
      "250     jQ-kmllrSXcIJN7At3Dvkw        2.000000          0.000000\n",
      "15      D9UIFXYDjvpfu0desRKXzg        1.000000          0.000000\n",
      "13      nAE1llsVp39g_HgO0fOUuQ        1.000000          0.000000\n",
      "12      OZEpz2S7kKaa_8vQz2ATqQ        1.000000          0.000000\n",
      "11      BsDf3L7p_O4tEvllQGOq2A        1.000000          0.000000\n",
      "10      G7aY-t3rcZyZEQ0ZdYMe-A        1.000000          0.000000\n",
      "9       Uiwgr1m6qgpVWP_AOr7-UA        1.000000          0.000000\n",
      "14      1QU21VZX6oFQHmRCbC9Kcw        1.000000          0.000000\n",
      "7       MuaUtNrlJwJwZ8EGpBf6Tg        1.000000          0.000000\n",
      "6       LGSoe8Gb7pmRmmDjqSbYIQ        1.000000          0.000000\n",
      "5       IqXWpiyd6sAAtQrboDUe5g        1.000000          0.000000\n",
      "4       yBmDNVdEzW1ARUXYlKACIw        1.000000          0.000000\n",
      "1       c5CWmwh0-WFIjn8_V2DECQ        1.000000          0.000000\n",
      "3       wnInrkth3_KXLxI9SniU2g        1.000000          0.000000\n",
      "2       mU3vlAVzTxgmZUu6F4XixA        1.000000          0.000000\n",
      "8       sQfM2b9GmNzfJs6tiAPbzA        1.000000          0.000000\n",
      "16      RESDUcs7fIiihp38-d6_6g        1.045962          0.221663\n",
      "17      cYwJA2A6I12KNkm2rtXd5g        1.053041          0.245298\n",
      "21      BjrKNWhtQkedHw8hP_0Bjg        1.125000          0.353553\n",
      "19      QJatAcxYgK1Zp9BRZMAx7g        1.112426          0.391494\n",
      "18      lwxYmWqjmEZ0ukCsXC9Pfg        1.108108          0.393262\n",
      "28      XQETjKH84gxDrAiz2lH7Wg        1.187500          0.403113\n",
      "22      K7lWdNUhCbcnEvI0NhGewg        1.137596          0.403406\n",
      "31      DDHT5ui2j7iHdnmgbkDguQ        1.214286          0.425815\n",
      "20      cxsN3mkioAXuOLKy04QpyA        1.115385          0.431455\n",
      "42      9d_eZEMaU7RLteMi9BnkKQ        1.250000          0.462910\n",
      "29      sxNMGQwUuaDsviR4BtuX0g        1.209302          0.465891\n",
      "25      eLFfWcdb7VkqNyTONksHiQ        1.180365          0.489597\n",
      "...                        ...             ...               ...\n",
      "106513  SvM1d4a5OrUIo_i3uzVRxw      741.750000       1130.654788\n",
      "105348  7njf7SH9qv_E-B63ZWN9tQ      549.166667       1131.462313\n",
      "106020  5u-_W-FyFz9dMDIqWsIMUA      617.750000       1147.022922\n",
      "106616  GWLIvgVlWgVvLPBLR3kHOQ      845.000000       1150.941354\n",
      "106421  t-KLT6LourGZggg-vuqqjw      704.333333       1167.437507\n",
      "106606  -Q9-WQWcfDVTooqxzPiuBA      830.000000       1169.554616\n",
      "106587  HcfFzR4xmcYcgXRifMziNQ      807.500000       1178.487590\n",
      "106556  eUX768m1yfp5e4IDklOFlQ      776.000000       1179.767774\n",
      "106324  lf1oxnu19FKA5j-FzUOgvQ      678.800000       1184.362149\n",
      "106436  VqJHqL_1a60TmM2ylGmitw      709.250000       1191.867267\n",
      "106392  IvzQzGxuG6UwXZYDfM-Eeg      695.000000       1198.579576\n",
      "106300  8Oc8YMgnpc6vhe1hWAKY-Q      669.750000       1230.744863\n",
      "106493  o4on_Q34ZEZ4CFB5lgql_g      731.000000       1240.820159\n",
      "106613  _tiKfLS7EVk0hIRzVC6Lrw      842.000000       1247.710169\n",
      "106383  FAXiBiRrHh2jKVjIA0j28g      693.250000       1256.246891\n",
      "106627  Csm-xQCyYUHNfyG7Ve1zlQ      873.500000       1262.821576\n",
      "105856  8WK5qhprbzj_X2f6GRawqw      597.333333       1267.510579\n",
      "106630  G_ly5CisletsxEoJImPBhw      877.750000       1292.248009\n",
      "106638  5dpsHDNSH5QA4cLV0YAKZQ      888.750000       1296.646797\n",
      "105883  zFPM4XMRLltFPC_jiRPskg      600.200000       1322.543270\n",
      "106599  zh39Yq5ws6jENHKIzJRjTA      824.250000       1323.325703\n",
      "106593  Lu9eupGCxJgx_t3yV2sWUg      815.750000       1376.368016\n",
      "106487  ikubvyZFO0kxhA56RETzIg      728.833333       1414.785414\n",
      "106654  MwSQOs1VMvTY122Rgh349g      954.500000       1428.420223\n",
      "106642  ElyhPwSMGwpdbh_u3FfGTQ      898.333333       1456.390859\n",
      "106659  5-cghsJrQjAz9nN4DNClEw     1081.333333       1488.717681\n",
      "106543  TJCKMz0hOJVOu1ekInbfOg      758.000000       1490.061967\n",
      "106631  ZBTw7gdHhA-qZY2GMseQWQ      879.000000       1539.029564\n",
      "106658  IaU1D197YBGko9CuKNi9gw     1062.333333       1657.465032\n",
      "106661  2px0fsTfKb-9iiESw9c2Lg     1525.000000       1981.313201\n",
      "\n",
      "[106662 rows x 3 columns]\n"
     ]
    }
   ],
   "source": [
    "print(review_diff_stats_df.sort_values(by=\"stddev_days_diff\"))"
   ]
  },
  {
   "cell_type": "code",
   "execution_count": 37,
   "metadata": {
    "collapsed": false
   },
   "outputs": [],
   "source": [
    "review_diff_stats_counts = (business.select([\"business_id\", \"review_count\"]).alias(\"t1\")\n",
    "                            .join(review_diff_stats.alias(\"t2\"), col(\"t1.business_id\") == col(\"t2.business_id\"))\n",
    "                            .select([\"t2.\" + col for col in review_diff_stats.columns] + [\"t1.review_count\"]))\n",
    "                           \n",
    "# print(review_diff_stats_counts.head(10))\n",
    "review_diff_stats_counts_df = review_diff_stats_counts.toPandas()"
   ]
  },
  {
   "cell_type": "code",
   "execution_count": null,
   "metadata": {
    "collapsed": false
   },
   "outputs": [],
   "source": [
    "trace = Scatter(\n",
    "    x = review_diff_stats_counts_df[\"review_count\"],\n",
    "    y = review_diff_stats_counts_df[\"mean_days_diff\"],\n",
    "    mode = 'markers'\n",
    ")\n",
    "\n",
    "data = [trace]\n",
    "\n",
    "layout = Layout(\n",
    "    xaxis=dict(\n",
    "        title='Review Count',\n",
    "        titlefont=dict(\n",
    "            family='Arial, sans-serif',\n",
    "            size=18,\n",
    "            color='grey'\n",
    "        ),\n",
    "    ),\n",
    "    yaxis=dict(\n",
    "        title='Mean Days Between Reviews',\n",
    "        titlefont=dict(\n",
    "            family='Arial, sans-serif',\n",
    "            size=18,\n",
    "            color='grey'\n",
    "        ),\n",
    "    )\n",
    ")\n",
    "fig = Figure(data=data, layout=layout)\n",
    "\n",
    "py.iplot(fig)"
   ]
  },
  {
   "cell_type": "code",
   "execution_count": null,
   "metadata": {
    "collapsed": false
   },
   "outputs": [],
   "source": [
    "trace = Scatter(\n",
    "    x = review_diff_stats_counts_df[\"review_count\"],\n",
    "    y = review_diff_stats_counts_df[\"stddev_days_diff\"],\n",
    "    mode = 'markers'\n",
    ")\n",
    "\n",
    "data = [trace]\n",
    "\n",
    "layout = Layout(\n",
    "    xaxis=dict(\n",
    "        title='Review Count',\n",
    "        titlefont=dict(\n",
    "            family='Arial, sans-serif',\n",
    "            size=18,\n",
    "            color='grey'\n",
    "        ),\n",
    "    ),\n",
    "    yaxis=dict(\n",
    "        title='Stddev of Days Between Reviews',\n",
    "        titlefont=dict(\n",
    "            family='Arial, sans-serif',\n",
    "            size=18,\n",
    "            color='grey'\n",
    "        ),\n",
    "    )\n",
    ")\n",
    "fig = Figure(data=data, layout=layout)\n",
    "\n",
    "py.iplot(fig)"
   ]
  },
  {
   "cell_type": "code",
   "execution_count": null,
   "metadata": {
    "collapsed": true
   },
   "outputs": [],
   "source": []
  }
 ],
 "metadata": {
  "kernelspec": {
   "display_name": "Python 2",
   "language": "python",
   "name": "python2"
  },
  "language_info": {
   "codemirror_mode": {
    "name": "ipython",
    "version": 2
   },
   "file_extension": ".py",
   "mimetype": "text/x-python",
   "name": "python",
   "nbconvert_exporter": "python",
   "pygments_lexer": "ipython2",
   "version": "2.7.6"
  }
 },
 "nbformat": 4,
 "nbformat_minor": 2
}
