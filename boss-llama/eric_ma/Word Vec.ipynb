{
 "cells": [
  {
   "cell_type": "code",
   "execution_count": 1,
   "metadata": {
    "collapsed": true
   },
   "outputs": [],
   "source": [
    "import string\n",
    "from datetime import datetime\n",
    "import os\n",
    "import numpy as np\n",
    "import pandas as pd\n",
    "\n",
    "import nltk\n",
    "# nltk.data.path.append(\"/\")\n",
    "\n",
    "from nltk.tokenize import word_tokenize\n",
    "from nltk.corpus import stopwords\n",
    "# from nltk.stem.porter import PorterStemmer\n",
    "# from nltk.stem.snowball import SnowballStemmer\n",
    "from nltk.stem import WordNetLemmatizer\n",
    "\n",
    "from pyspark.ml.feature import CountVectorizer, IDF, PCA, Word2Vec, Tokenizer\n",
    "from pyspark.ml.linalg import DenseVector, SparseVector, VectorUDT, Vectors\n",
    "from pyspark.ml.clustering import GaussianMixture, KMeans\n",
    "from pyspark.ml import Pipeline\n",
    "from pyspark.sql.functions import *\n",
    "from pyspark.sql.types import DateType, FloatType, IntegerType, DoubleType, ArrayType, StringType\n",
    "spark_home = os.environ.get('SPARK_HOME', None)\n",
    "\n",
    "import plotly\n",
    "plotly.tools.set_credentials_file(username='amcire96', api_key='sej35ud4YbSOfIshhhZg')\n",
    "# print(plotly.__version__)\n",
    "\n",
    "import plotly.plotly as py\n",
    "from plotly.graph_objs import *\n",
    "import plotly.figure_factory as FF\n",
    "import requests\n",
    "requests.packages.urllib3.disable_warnings()"
   ]
  },
  {
   "cell_type": "code",
   "execution_count": 3,
   "metadata": {
    "collapsed": false
   },
   "outputs": [
    {
     "name": "stdout",
     "output_type": "stream",
     "text": [
      "4153150\n"
     ]
    }
   ],
   "source": [
    "reviews = spark.read.json(\"/user/eric_ma/Yelp/review.json\").repartition(300)\n",
    "print(reviews.count())"
   ]
  },
  {
   "cell_type": "code",
   "execution_count": 4,
   "metadata": {
    "collapsed": false,
    "scrolled": true
   },
   "outputs": [
    {
     "name": "stdout",
     "output_type": "stream",
     "text": [
      "root\n",
      " |-- business_id: string (nullable = true)\n",
      " |-- cool: long (nullable = true)\n",
      " |-- date: string (nullable = true)\n",
      " |-- funny: long (nullable = true)\n",
      " |-- review_id: string (nullable = true)\n",
      " |-- stars: long (nullable = true)\n",
      " |-- text: string (nullable = true)\n",
      " |-- type: string (nullable = true)\n",
      " |-- useful: long (nullable = true)\n",
      " |-- user_id: string (nullable = true)\n",
      "\n"
     ]
    }
   ],
   "source": [
    "reviews.printSchema()"
   ]
  },
  {
   "cell_type": "code",
   "execution_count": 5,
   "metadata": {
    "collapsed": false
   },
   "outputs": [
    {
     "data": {
      "text/plain": [
       "[Row(text=u'Nice little garden centre. Theres a friendly old dog sits at the front door to greet you as you walk in. The prices are competitive and there is good range of garden plants and furniture.')]"
      ]
     },
     "execution_count": 5,
     "metadata": {},
     "output_type": "execute_result"
    }
   ],
   "source": [
    "first = reviews.select([\"text\"]).where(col(\"text\") == u'Nice little garden centre. Theres a friendly old dog sits at the front door to greet you as you walk in. The prices are competitive and there is good range of garden plants and furniture.')\n",
    "first.collect()"
   ]
  },
  {
   "cell_type": "code",
   "execution_count": null,
   "metadata": {
    "collapsed": true
   },
   "outputs": [],
   "source": []
  },
  {
   "cell_type": "code",
   "execution_count": 9,
   "metadata": {
    "collapsed": false
   },
   "outputs": [
    {
     "data": {
      "text/plain": [
       "Row(business_id=u'O1ird5yRyuDFnOmYu90OoA', cool=0, date=u'2011-12-10', funny=0, review_id=u'D36tY6Pqsjq7-dITHSbpTg', stars=4, text=u\"This is the perfect place to go for Happy Hour!  But get there early.  My friends and I got there around 6pm on a Friday and didn't have trouble getting a table.  But by the time we left around 8pm, there was a long wait.\\n\\nI ordered a few Dos Equis (which came in mason jars with lime - a nice Lawrenceville touch) and the tacos de seitan.  The tacos were nice and very fresh, compared to most cheese-laden Americanized Mexican food.  They were made with seasoned seitan, avocado salsa, onion, radish and cilantro on corn tortillas.  Gah, so delicious!\", type=u'review', useful=0, user_id=u'jsokJRU0K190dFNMuWs_ow', words=[u'this', u'is', u'the', u'perfect', u'place', u'to', u'go', u'for', u'happy', u'hour!', u'', u'but', u'get', u'there', u'early.', u'', u'my', u'friends', u'and', u'i', u'got', u'there', u'around', u'6pm', u'on', u'a', u'friday', u'and', u\"didn't\", u'have', u'trouble', u'getting', u'a', u'table.', u'', u'but', u'by', u'the', u'time', u'we', u'left', u'around', u'8pm,', u'there', u'was', u'a', u'long', u'wait.', u'', u'i', u'ordered', u'a', u'few', u'dos', u'equis', u'(which', u'came', u'in', u'mason', u'jars', u'with', u'lime', u'-', u'a', u'nice', u'lawrenceville', u'touch)', u'and', u'the', u'tacos', u'de', u'seitan.', u'', u'the', u'tacos', u'were', u'nice', u'and', u'very', u'fresh,', u'compared', u'to', u'most', u'cheese-laden', u'americanized', u'mexican', u'food.', u'', u'they', u'were', u'made', u'with', u'seasoned', u'seitan,', u'avocado', u'salsa,', u'onion,', u'radish', u'and', u'cilantro', u'on', u'corn', u'tortillas.', u'', u'gah,', u'so', u'delicious!'])"
      ]
     },
     "execution_count": 9,
     "metadata": {},
     "output_type": "execute_result"
    }
   ],
   "source": [
    "tokenizer = Tokenizer(inputCol=\"text\", outputCol=\"words\")\n",
    "reviews_tokenized = tokenizer.transform(reviews)\n",
    "reviews_tokenized.head()"
   ]
  },
  {
   "cell_type": "code",
   "execution_count": 17,
   "metadata": {
    "collapsed": false
   },
   "outputs": [
    {
     "data": {
      "text/plain": [
       "[StringType, StringType, ArrayType(StringType,true)]"
      ]
     },
     "execution_count": 17,
     "metadata": {},
     "output_type": "execute_result"
    }
   ],
   "source": [
    "types = [f.dataType for f in reviews_tokenized.schema.fields]\n",
    "types"
   ]
  },
  {
   "cell_type": "code",
   "execution_count": null,
   "metadata": {
    "collapsed": true
   },
   "outputs": [],
   "source": []
  },
  {
   "cell_type": "code",
   "execution_count": null,
   "metadata": {
    "collapsed": true
   },
   "outputs": [],
   "source": []
  },
  {
   "cell_type": "code",
   "execution_count": null,
   "metadata": {
    "collapsed": true
   },
   "outputs": [],
   "source": []
  },
  {
   "cell_type": "code",
   "execution_count": 51,
   "metadata": {
    "collapsed": false,
    "scrolled": true
   },
   "outputs": [
    {
     "data": {
      "text/plain": [
       "Row(text=u'Nice little garden centre. Theres a friendly old dog sits at the front door to greet you as you walk in. The prices are competitive and there is good range of garden plants and furniture.', words=[u'nice', u'little', u'garden', u'centre', u'theres', u'friendly', u'old', u'dog', u'sits', u'front', u'door', u'greet', u'walk', u'prices', u'competitive', u'good', u'range', u'garden', u'plants', u'furniture'])"
      ]
     },
     "execution_count": 51,
     "metadata": {},
     "output_type": "execute_result"
    }
   ],
   "source": [
    "# Module-level global variables for the `tokenize` function below\n",
    "PUNCTUATION = set(string.punctuation)\n",
    "STOPWORDS = set(stopwords.words('english'))\n",
    "# STEMMER = PorterStemmer()\n",
    "LEMMATIZER = WordNetLemmatizer()\n",
    "\n",
    "STOPWORDS.add(u'')\n",
    "\n",
    "# Function to break text into \"tokens\", lowercase them, remove punctuation and stopwords, and stem them\n",
    "def tokenize(text):\n",
    "    tokens = word_tokenize(text)\n",
    "    lowercased = [t.lower() for t in tokens]\n",
    "    no_punctuation = []\n",
    "    for word in lowercased:\n",
    "        punct_removed = ''.join([letter for letter in word if not letter in PUNCTUATION])\n",
    "        no_punctuation.append(punct_removed)\n",
    "#         print(punct_removed)\n",
    "    no_stopwords = [w for w in no_punctuation if (not w in STOPWORDS) and (all(ord(letter) < 128 for letter in w))]\n",
    "#     print(no_stopwords)\n",
    "#     stemmed = [STEMMER.lemmatize(w) for w in no_stopwords]\n",
    "#     print(stemmed)\n",
    "#     return [w for w in stemmed if w]\n",
    "    return no_stopwords\n",
    "\n",
    "# print(tokenize(\"Nice little garden centre. Theres a friendly old dog sits at the front door to greet you as you walk in. The prices are competitive and there is good range of garden plants and furniture.\"))\n",
    "# print(LEMMATIZER.lemmatize(\"little\"))\n",
    "\n",
    "tokenize_udf = udf(tokenize, ArrayType(StringType()))\n",
    "\n",
    "first_words = first.select([col(\"text\"), tokenize_udf(col(\"text\")).alias(\"words\")])\n",
    "first_words.head()\n",
    "\n",
    "# tokenizer = Tokenizer(inputCol=\"text\", outputCol=\"words\")\n",
    "# first_tokenized = tokenizer.transform(first)\n",
    "# first_tokenized.head()"
   ]
  },
  {
   "cell_type": "code",
   "execution_count": null,
   "metadata": {
    "collapsed": false
   },
   "outputs": [],
   "source": []
  },
  {
   "cell_type": "code",
   "execution_count": null,
   "metadata": {
    "collapsed": true
   },
   "outputs": [],
   "source": []
  },
  {
   "cell_type": "code",
   "execution_count": 52,
   "metadata": {
    "collapsed": false
   },
   "outputs": [
    {
     "data": {
      "text/plain": [
       "[Row(business_id=u'mYTem99eRslMJhWpfQOKGg', text=u'I was a regular there  about 2 years ago. But I stopped going and switched places due to them beginning to get rude and constantly asking me to come back later. I went back again today, thinking \"oh maybe it\\'s changed...\"  I was wrong. I went again and after waiting they told me to come back later again instead of just telling me how long the wait would be or anything really instead of making me wait then telling me to come back later. It was rude and they have not changed.', words=[u'regular', u'2', u'years', u'ago', u'stopped', u'going', u'switched', u'places', u'due', u'beginning', u'get', u'rude', u'constantly', u'asking', u'come', u'back', u'later', u'went', u'back', u'today', u'thinking', u'oh', u'maybe', u'changed', u'wrong', u'went', u'waiting', u'told', u'come', u'back', u'later', u'instead', u'telling', u'long', u'wait', u'would', u'anything', u'really', u'instead', u'making', u'wait', u'telling', u'come', u'back', u'later', u'rude', u'changed']),\n",
       " Row(business_id=u'ul8QtSxRlzfI0AcajxFmpw', text=u\"My favorite popcorn place outside of Chicago. Not quite Garrett's or Let's Get Poppin'. But I will say that the cheese and the movie theater butter are my favorites. I go here at least once a week for a treat.\", words=[u'favorite', u'popcorn', u'place', u'outside', u'chicago', u'quite', u'garrett', u'let', u'get', u'poppin', u'say', u'cheese', u'movie', u'theater', u'butter', u'favorites', u'go', u'least', u'week', u'treat']),\n",
       " Row(business_id=u'N8D-5-fW7EkBdKjNYGhu0A', text=u\"We celebrated my husband's birthday with about 24 of our friends last Friday.  We originally reserved the patio area but realized that it was completely outside not indoor/outdoor like the picture on the website.  We explained our confusion to the manager and he accommodated us by seating us inside the garden room.  It was quite the ordeal to move all of us inside and re-arrange several other parties to make room for us.  \\n\\nThe service was superb and the food was absolutely amazing.  There were a number of people that are foodies in our group and everyone of them gave the place a thumbs up.  I would highly recommend this place and would definitely come back again.\\n\\nThanks so much for the service crew working Friday night.  You made our event very memorable and special!\", words=[u'celebrated', u'husband', u'birthday', u'24', u'friends', u'last', u'friday', u'originally', u'reserved', u'patio', u'area', u'realized', u'completely', u'outside', u'indooroutdoor', u'like', u'picture', u'website', u'explained', u'confusion', u'manager', u'accommodated', u'us', u'seating', u'us', u'inside', u'garden', u'room', u'quite', u'ordeal', u'move', u'us', u'inside', u'rearrange', u'several', u'parties', u'make', u'room', u'us', u'service', u'superb', u'food', u'absolutely', u'amazing', u'number', u'people', u'foodies', u'group', u'everyone', u'gave', u'place', u'thumbs', u'would', u'highly', u'recommend', u'place', u'would', u'definitely', u'come', u'back', u'thanks', u'much', u'service', u'crew', u'working', u'friday', u'night', u'made', u'event', u'memorable', u'special']),\n",
       " Row(business_id=u'Cni2l-VKG_pdospJ6xliXQ', text=u\"Service is fairly average but everyone is very nice. Burgers are good, but the toppings steal the show. Every time I have been there I have tried a new delicious topping including: caramelized onions, jalepeno bacon, aged white cheddar, avocado, bbq sauce, foie gras... The list goes on and on. I would save your money and get the regular burger and load up on add-ons, as opposed to splurging on the kobe burger. It's not real Kobe Beef even though it sounds nice to say.;) Wouldn't make a trip to Mandalay Bay just for this place, but if I'm hungry and I happen to be in the area, why not.\", words=[u'service', u'fairly', u'average', u'everyone', u'nice', u'burgers', u'good', u'toppings', u'steal', u'show', u'every', u'time', u'tried', u'new', u'delicious', u'topping', u'including', u'caramelized', u'onions', u'jalepeno', u'bacon', u'aged', u'white', u'cheddar', u'avocado', u'bbq', u'sauce', u'foie', u'gras', u'list', u'goes', u'would', u'save', u'money', u'get', u'regular', u'burger', u'load', u'addons', u'opposed', u'splurging', u'kobe', u'burger', u'real', u'kobe', u'beef', u'even', u'though', u'sounds', u'nice', u'say', u'would', u'nt', u'make', u'trip', u'mandalay', u'bay', u'place', u'hungry', u'happen', u'area']),\n",
       " Row(business_id=u'ajHLLUe-A9dTd7WyU12XZQ', text=u'Excellent South Indian food! The interior is a bit tired and shabby but the food is amazing and the service is friendly and attentive. They also make good North Indian food as well. We eat here and at Banjara next door and they are almost equal in quality. South Indian dosas are delicious and worth trying.', words=[u'excellent', u'south', u'indian', u'food', u'interior', u'bit', u'tired', u'shabby', u'food', u'amazing', u'service', u'friendly', u'attentive', u'also', u'make', u'good', u'north', u'indian', u'food', u'well', u'eat', u'banjara', u'next', u'door', u'almost', u'equal', u'quality', u'south', u'indian', u'dosas', u'delicious', u'worth', u'trying']),\n",
       " Row(business_id=u'iUEOBL98BI8zF7LFhmhabQ', text=u'My review is based on my experience with UP Express after their price cut. \\n\\nFrom Pearson Airport to Bloor Station for $5 with my Presto Card?! This is quite a bargain. This is a good option if you want to get on Bloor Subway line without going all the way down to Union Station.\\n\\nThe ride was fast and smooth. Rack for luggage, Electric outlets at seats, Free Wifi. If I am a tourist visiting Toronto, I would be so impressive! A Metropolitan City our size should have an Airport express train.', words=[u'review', u'based', u'experience', u'express', u'price', u'cut', u'pearson', u'airport', u'bloor', u'station', u'5', u'presto', u'card', u'quite', u'bargain', u'good', u'option', u'want', u'get', u'bloor', u'subway', u'line', u'without', u'going', u'way', u'union', u'station', u'ride', u'fast', u'smooth', u'rack', u'luggage', u'electric', u'outlets', u'seats', u'free', u'wifi', u'tourist', u'visiting', u'toronto', u'would', u'impressive', u'metropolitan', u'city', u'size', u'airport', u'express', u'train']),\n",
       " Row(business_id=u'pQ6e4fjq6kqRqLE6w8CfWQ', text=u'Love this place~~!!!!!\\nIt is been long time I didn\\'t get any Chinese Food at outside restaurant, because it is different than in China. BUT!!!! IN HERE I can get My Favorite Chinese food and Hong Kong Style Durian Crepe!!!Finally I found it, in Las Vegas \"Wendy\\'s Noodle Cafe\"~~~\\nAnd ALSO I Love their customers serve!!! Everyone in here are NICE people~~~~Smile all the time, it makes me feel like at home~~~ comfortable and enjoy it ~~~!!! Definite coming back!!!', words=[u'love', u'place', u'long', u'time', u'nt', u'get', u'chinese', u'food', u'outside', u'restaurant', u'different', u'china', u'get', u'favorite', u'chinese', u'food', u'hong', u'kong', u'style', u'durian', u'crepe', u'finally', u'found', u'las', u'vegas', u'wendy', u'noodle', u'cafe', u'also', u'love', u'customers', u'serve', u'everyone', u'nice', u'peoplesmile', u'time', u'makes', u'feel', u'like', u'home', u'comfortable', u'enjoy', u'definite', u'coming', u'back']),\n",
       " Row(business_id=u'GNUVKqw4wvmhJaa4062r3A', text=u\"UPDATE 2016**. So much attitude! Two years to replace only part of the defective airbags. The receptionist was rude.  Service was ruder.  I stopped coming here years ago when they wouldn't do the free annual inspection unless I paid $200 for a burnt-out headlight that magically started working again when I refused. (I had just replaced them).  Sleazy, rude, and dishonest.\", words=[u'update', u'2016', u'much', u'attitude', u'two', u'years', u'replace', u'part', u'defective', u'airbags', u'receptionist', u'rude', u'service', u'ruder', u'stopped', u'coming', u'years', u'ago', u'would', u'nt', u'free', u'annual', u'inspection', u'unless', u'paid', u'200', u'burntout', u'headlight', u'magically', u'started', u'working', u'refused', u'replaced', u'sleazy', u'rude', u'dishonest']),\n",
       " Row(business_id=u'OjApDLQUPV8c_yPCg8xZog', text=u\"This place is a SOLID 4 due to it's smoked beef brisket. You gotta try that. I have tried this at Famous Dave's, Lucille's, Memphis and Rolling Smoke and all of the competition is dry compared to Pot Liquor. \\n\\na.  The Location - what an awesome location across from Yard House and near plenty of parking.\\n\\nb.  The wait time - I have been here now on Friday and a Saturday with little or no wait. What gives?  The restaurant is barely half full on a 6:30 and 7:00 pm reservation?  I don't mind, keep this place a secret!\\n\\nc.  The food - \\nHouse Made Pork Rinds\\nBurnt Ends\\nPulled Pork Sliders\\nKing Cobb Salad\\nMemphis Style Dry Rubbed Spareribs\\nBaby Back Ribs\\nSmoked Chicken\\nTexas Style Beef Brisket\\nPulled Pork\\nHot Links\\nKids Bottomless Mac-N-Cheese\\nFries\\nPotato Salad\\nCornbread\\nCollard Greens\\n\\nAll the above we have had on two visits and the very best are the burnt ends, the baby back ribs, the beef brisket.  There is no comparison to this place in terms of the overall quality, flavor and taste. The salad was also very good, and a great compliment to the food.  I cannot tell you more about the bottomless mac-n-cheese as the ribs were so good that our kid did not eat much. It was huge, tasty and also came with fries. We never got to the bottom.\\n\\nd.  The service - Friendly yet very, very slow. I like the place and the servers and all, just I like a bit of more attentive service and more timely.\\n\\nGK says, check this place out for sure. you will be happy you did!\", words=[u'place', u'solid', u'4', u'due', u'smoked', u'beef', u'brisket', u'got', u'ta', u'try', u'tried', u'famous', u'dave', u'lucille', u'memphis', u'rolling', u'smoke', u'competition', u'dry', u'compared', u'pot', u'liquor', u'location', u'awesome', u'location', u'across', u'yard', u'house', u'near', u'plenty', u'parking', u'b', u'wait', u'time', u'friday', u'saturday', u'little', u'wait', u'gives', u'restaurant', u'barely', u'half', u'full', u'630', u'700', u'pm', u'reservation', u'nt', u'mind', u'keep', u'place', u'secret', u'c', u'food', u'house', u'made', u'pork', u'rinds', u'burnt', u'ends', u'pulled', u'pork', u'sliders', u'king', u'cobb', u'salad', u'memphis', u'style', u'dry', u'rubbed', u'spareribs', u'baby', u'back', u'ribs', u'smoked', u'chicken', u'texas', u'style', u'beef', u'brisket', u'pulled', u'pork', u'hot', u'links', u'kids', u'bottomless', u'macncheese', u'fries', u'potato', u'salad', u'cornbread', u'collard', u'greens', u'two', u'visits', u'best', u'burnt', u'ends', u'baby', u'back', u'ribs', u'beef', u'brisket', u'comparison', u'place', u'terms', u'overall', u'quality', u'flavor', u'taste', u'salad', u'also', u'good', u'great', u'compliment', u'food', u'tell', u'bottomless', u'macncheese', u'ribs', u'good', u'kid', u'eat', u'much', u'huge', u'tasty', u'also', u'came', u'fries', u'never', u'got', u'bottom', u'service', u'friendly', u'yet', u'slow', u'like', u'place', u'servers', u'like', u'bit', u'attentive', u'service', u'timely', u'gk', u'says', u'check', u'place', u'sure', u'happy']),\n",
       " Row(business_id=u'd-nkzFnW0QN2_PxMdEzJXg', text=u'Came here for a council lunch and the food was okay, and the service was okay, but it took a long time for the server to give us our food.', words=[u'came', u'council', u'lunch', u'food', u'okay', u'service', u'okay', u'took', u'long', u'time', u'server', u'give', u'us', u'food']),\n",
       " Row(business_id=u'EoyCgybuIIF6Q1VdCg_qbg', text=u'I have been a loyal client of Signature Nails for the past 5 years.  Lily and Vincent are the best and really do a great job on my nails.  I recommend this place to everyone.', words=[u'loyal', u'client', u'signature', u'nails', u'past', u'5', u'years', u'lily', u'vincent', u'best', u'really', u'great', u'job', u'nails', u'recommend', u'place', u'everyone']),\n",
       " Row(business_id=u'Uh3NYhnjiLcD6lmj58v9nQ', text=u\"After moving back home to Phx from SoCal I have been through about 5 nail salons and have had issues with every single one so, I am thankful to have ended up discovering this salon. I drive a bit further to have my nails done here but I feel it's worth it. The pedis, gels and acrylics have all been up to par with my expectations and the quality is consistent. Although they are not very artistic with their nail designs I can appreciate the consistency. The staff has been very polite as well. The salon is kept clean and tidy.\\nCASH ONLY TIPS\", words=[u'moving', u'back', u'home', u'phx', u'socal', u'5', u'nail', u'salons', u'issues', u'every', u'single', u'one', u'thankful', u'ended', u'discovering', u'salon', u'drive', u'bit', u'nails', u'done', u'feel', u'worth', u'pedis', u'gels', u'acrylics', u'par', u'expectations', u'quality', u'consistent', u'although', u'artistic', u'nail', u'designs', u'appreciate', u'consistency', u'staff', u'polite', u'well', u'salon', u'kept', u'clean', u'tidy', u'cash', u'tips']),\n",
       " Row(business_id=u'4O8fzz9F-XEsQ-gTMgkiyQ', text=u\"We had a great time here and the food was great. Portions are small, and it was expensive, but I felt that we got our money's worth because of the beautiful and delicious food, and great service.\\n\\nMy daughter's allergic to milk, so I was afraid we'd have problems with misunderstandings and cross-contamination, but the waitress was really good and spent a lot of time helping us find dishes that she wouldn't be allergic to.\", words=[u'great', u'time', u'food', u'great', u'portions', u'small', u'expensive', u'felt', u'got', u'money', u'worth', u'beautiful', u'delicious', u'food', u'great', u'service', u'daughter', u'allergic', u'milk', u'afraid', u'problems', u'misunderstandings', u'crosscontamination', u'waitress', u'really', u'good', u'spent', u'lot', u'time', u'helping', u'us', u'find', u'dishes', u'would', u'nt', u'allergic']),\n",
       " Row(business_id=u'kSoRnYxuJdUoLQP-vdhXQg', text=u\"Meh, Pier 1 I can love or hate you, depending on the season (or should I say how you rush the seasons).  It delights me when you are in the summer/push to fall season and you have all the different colors in the store.  But I have to say that I am totally not into you when you start putting out candle holders that are to resemble reindeer.  I try to stay clear of your store when this happens.\\n\\nIt's like a higher end tchotchke store.  Sure you could find something of your interest in there, but definitely not an essential that you'll need.\", words=[u'meh', u'pier', u'1', u'love', u'hate', u'depending', u'season', u'say', u'rush', u'seasons', u'delights', u'summerpush', u'fall', u'season', u'different', u'colors', u'store', u'say', u'totally', u'start', u'putting', u'candle', u'holders', u'resemble', u'reindeer', u'try', u'stay', u'clear', u'store', u'happens', u'like', u'higher', u'end', u'tchotchke', u'store', u'sure', u'could', u'find', u'something', u'interest', u'definitely', u'essential', u'need']),\n",
       " Row(business_id=u'h0MNaniQdLa3ZGmXh9DDeQ', text=u\"I would love to tell you about the food but unfortunately I can't because the location I went to doesn't exist, even though the website still has the 2nd location on Flamingo posted. I even called the Craig location this morning to get the address of the second location. After calling about 8 times because no one answered and the call would go to a full mail box, a man finally answered and told me the 2nd location was inside Zoodie's Bar (which I was already parked outside of and saw no sign indicating Dot's was in the building) when I went inside the bar I was told the this location had been closed for at least 5 months. Tell me how someone at the main location can tell me where to find this place but not know its been closed for 5 months! Let's not even mention I have a restaurant.com certificate for a place that doesn't exist. I wish I could give zero stars for bad business practices.\", words=[u'would', u'love', u'tell', u'food', u'unfortunately', u'ca', u'nt', u'location', u'went', u'nt', u'exist', u'even', u'though', u'website', u'still', u'2nd', u'location', u'flamingo', u'posted', u'even', u'called', u'craig', u'location', u'morning', u'get', u'address', u'second', u'location', u'calling', u'8', u'times', u'one', u'answered', u'call', u'would', u'go', u'full', u'mail', u'box', u'man', u'finally', u'answered', u'told', u'2nd', u'location', u'inside', u'zoodie', u'bar', u'already', u'parked', u'outside', u'saw', u'sign', u'indicating', u'dot', u'building', u'went', u'inside', u'bar', u'told', u'location', u'closed', u'least', u'5', u'months', u'tell', u'someone', u'main', u'location', u'tell', u'find', u'place', u'know', u'closed', u'5', u'months', u'let', u'even', u'mention', u'restaurantcom', u'certificate', u'place', u'nt', u'exist', u'wish', u'could', u'give', u'zero', u'stars', u'bad', u'business', u'practices']),\n",
       " Row(business_id=u'3dnF0DnQX0PqRb8wDyMJkA', text=u\"Would be better if they got my order right! Every time I've been there it's messed up. Won't be back.\", words=[u'would', u'better', u'got', u'order', u'right', u'every', u'time', u'messed', u'wo', u'nt', u'back']),\n",
       " Row(business_id=u'r_BrIgzYcwo1NAuG9dLbpg', text=u'Delicious meals, very well priced for lunch. The decor is fun and the waitstaff are friendly. Highly recommend.', words=[u'delicious', u'meals', u'well', u'priced', u'lunch', u'decor', u'fun', u'waitstaff', u'friendly', u'highly', u'recommend']),\n",
       " Row(business_id=u'JFaTPxWQC14VmFnXLv7W1g', text=u\"This adorable little restaurant was on my mom's suggestion list, so we tried it out.  It was perfect!  From the bartender to the food, even the other patrons were great!  I can't even talk about the sandwiches because you know they are so good, but it is one of the few places here that I would frequent again - awesome and if I am here longer, I will definitely be back!\", words=[u'adorable', u'little', u'restaurant', u'mom', u'suggestion', u'list', u'tried', u'perfect', u'bartender', u'food', u'even', u'patrons', u'great', u'ca', u'nt', u'even', u'talk', u'sandwiches', u'know', u'good', u'one', u'places', u'would', u'frequent', u'awesome', u'longer', u'definitely', u'back']),\n",
       " Row(business_id=u'jYU4Nd71giCWpLuj5JIxgg', text=u\"I have already 2 years since I'm going to this salon and like always doing an amazing game job Tricia is the best one she does on my nails. ..truly recomendate this place\", words=[u'already', u'2', u'years', u'since', u'going', u'salon', u'like', u'always', u'amazing', u'game', u'job', u'tricia', u'best', u'one', u'nails', u'truly', u'recomendate', u'place']),\n",
       " Row(business_id=u'EUQoB_ph7_xIyj7JZGI3bg', text=u\"Food was good, but don't set your expectations too high. Good thing it's only $1 extra for homemade pasta, I couldn't tell the difference. \\nAll in all, good but not worth a long wait!\", words=[u'food', u'good', u'nt', u'set', u'expectations', u'high', u'good', u'thing', u'1', u'extra', u'homemade', u'pasta', u'could', u'nt', u'tell', u'difference', u'good', u'worth', u'long', u'wait']),\n",
       " Row(business_id=u'EZ1Hc3qlRVves3OPjuE_uA', text=u\"It's a good price, 24/7. They need a BETTER news tv station.  Fox News is TERRIBLE.   Why not have Fox and CNN?  I wish they would tell people that they need to CLEAN the machines after they use them and monitor the 30 minute workout better....it seems like people have NO clue how to use the area....it is not a free weight section people, you need to switch places when the light turns red!!!!\", words=[u'good', u'price', u'247', u'need', u'better', u'news', u'tv', u'station', u'fox', u'news', u'terrible', u'fox', u'cnn', u'wish', u'would', u'tell', u'people', u'need', u'clean', u'machines', u'use', u'monitor', u'30', u'minute', u'workout', u'better', u'seems', u'like', u'people', u'clue', u'use', u'area', u'free', u'weight', u'section', u'people', u'need', u'switch', u'places', u'light', u'turns', u'red']),\n",
       " Row(business_id=u'4p20MVzGXNrma7W_bt0Njw', text=u'Stopped by Toms BBQ for lunch, I ordered the rib tips with curly fries and it was super yummy!!   The place was clean and the atmosphere was friendly.  It was pretty cool to use the bar code scanner on my new smart phone with the little review card I was offered that took me right to this link! Will be back for sure!', words=[u'stopped', u'toms', u'bbq', u'lunch', u'ordered', u'rib', u'tips', u'curly', u'fries', u'super', u'yummy', u'place', u'clean', u'atmosphere', u'friendly', u'pretty', u'cool', u'use', u'bar', u'code', u'scanner', u'new', u'smart', u'phone', u'little', u'review', u'card', u'offered', u'took', u'right', u'link', u'back', u'sure']),\n",
       " Row(business_id=u'3xykzfVY2PbdjKCRDLdzTQ', text=u\"Delicious! Very good choice of sushi, friendly staff. Yelp doesn't accept short reviews and I'm not capable of writing long ones. But the place Is really good.\", words=[u'delicious', u'good', u'choice', u'sushi', u'friendly', u'staff', u'yelp', u'nt', u'accept', u'short', u'reviews', u'capable', u'writing', u'long', u'ones', u'place', u'really', u'good']),\n",
       " Row(business_id=u'C0C7IxBSC1df0FwXODZCvw', text=u\"This will NEVER be a shopping destination, for me !\\nUnless I need to visit THE APPLE STORE, I'm staying away.\\n\\nFor the most part, the center is a collection of OVER PRICED restaurants and clubs.\\nIf YOU need your ego (or other parts) stroked, by barely 21 year old female WANNA-BEE'S .... Take a VIAGRA and your wallet, with you.\\n\\nThe parking availability is terrible.\\nPlus the Valet reserved zones, have made it shopper unfriendly.\", words=[u'never', u'shopping', u'destination', u'unless', u'need', u'visit', u'apple', u'store', u'staying', u'away', u'part', u'center', u'collection', u'priced', u'restaurants', u'clubs', u'need', u'ego', u'parts', u'stroked', u'barely', u'21', u'year', u'old', u'female', u'wannabee', u'take', u'viagra', u'wallet', u'parking', u'availability', u'terrible', u'plus', u'valet', u'reserved', u'zones', u'made', u'shopper', u'unfriendly']),\n",
       " Row(business_id=u'Tw3miGKZHtmxmaQZIYFRrA', text=u\"I have been here a couple of times. The service was great and the atmosphere is nice, casual and laid back.\\n\\nThe pizza is alright. I've tried a couple different pizzas here. I didn't love the sauces they used and didn't love the crust texture or taste. However, I really enjoyed the food items that were not pizza here. Their sides, salads, and soups were tasty. I'm interested in trying their other menu items. I would come back here, but not for the pizza.\", words=[u'couple', u'times', u'service', u'great', u'atmosphere', u'nice', u'casual', u'laid', u'back', u'pizza', u'alright', u'tried', u'couple', u'different', u'pizzas', u'nt', u'love', u'sauces', u'used', u'nt', u'love', u'crust', u'texture', u'taste', u'however', u'really', u'enjoyed', u'food', u'items', u'pizza', u'sides', u'salads', u'soups', u'tasty', u'interested', u'trying', u'menu', u'items', u'would', u'come', u'back', u'pizza']),\n",
       " Row(business_id=u'K5XjxDyq3ZIjUhbtLaW4ZQ', text=u'Was trying to schedule an appointment. They kept me on hold forever. I just hung up and went somewhere else. I do love polished but they are not very convenient for my hectic schedule.', words=[u'trying', u'schedule', u'appointment', u'kept', u'hold', u'forever', u'hung', u'went', u'somewhere', u'else', u'love', u'polished', u'convenient', u'hectic', u'schedule']),\n",
       " Row(business_id=u'n0JTMc4uq30BTvEY5l1Heg', text=u'We have been to Snip-Its in the past. Spent a lot of money there for 5-10min haircuts. I have 3 girls and they love the lollipops given afterwards and the gimmicky toy at the end.  I always buy the package and use it even for just \"bangs\". \\n\\nThis time though I will not come back. Mainly because of how I was treated.  I waited for 1 hr 15 min for a 5 minute haircut and the stylist Daniella\\n \"jumped\" 2 boys in front of my one girl and didn\\'t tell me until we waited for 45min already- and LIED blatantly in my face that they \"were there earlier\" when the nanny (who brought the 2 boys) told me she had just called to see at what time there would be two stylists in the shop- and she didn\\'t even give their names or asked to hold their place!   She didn\\'t tell me until it was MY turn!  How mad i was- I waited for at least 45 min to be told someone was going ahead of my little girl who came after me, a nanny who brought in 2 kids for haircuts AND told me she never put her name in to reserve a spot!!!  And the stylist ALLOWED her to go ahead of me without her asking!!!  Ridiculousness. \\n\\nHad she told me when I entered the store or right after she entered the 2 boys, it would have been okay and I would\\'ve come back another day (it was very busy for a Monday and just one Stylist)!!!!\\n\\nHowheir service has been declining recently- and more importantly the way they run their business has been suffering too. I predict it will eventually close. \\n\\nI am not one to post negative comments- usually I give them a chance to explain themselves.  I called and left a message for the manager the next day and then followed up with a call later in the week and asked AGAIN to speak to the manager and I haven\\'t heard back. So now it\\'s been 1 wk later!  So disappointing!  I\\'m sorry to have to post this- everyone can have a bad day but this is unbelievable. And- I\\'ve been told in the past you can\\'t \"reserve\" a spot unless It\\'s a special event or a special needs kid!  crazy - they are just full of excuses.', words=[u'snipits', u'past', u'spent', u'lot', u'money', u'510min', u'haircuts', u'3', u'girls', u'love', u'lollipops', u'given', u'afterwards', u'gimmicky', u'toy', u'end', u'always', u'buy', u'package', u'use', u'even', u'bangs', u'time', u'though', u'come', u'back', u'mainly', u'treated', u'waited', u'1', u'hr', u'15', u'min', u'5', u'minute', u'haircut', u'stylist', u'daniella', u'jumped', u'2', u'boys', u'front', u'one', u'girl', u'nt', u'tell', u'waited', u'45min', u'already', u'lied', u'blatantly', u'face', u'earlier', u'nanny', u'brought', u'2', u'boys', u'told', u'called', u'see', u'time', u'would', u'two', u'stylists', u'shop', u'nt', u'even', u'give', u'names', u'asked', u'hold', u'place', u'nt', u'tell', u'turn', u'mad', u'waited', u'least', u'45', u'min', u'told', u'someone', u'going', u'ahead', u'little', u'girl', u'came', u'nanny', u'brought', u'2', u'kids', u'haircuts', u'told', u'never', u'put', u'name', u'reserve', u'spot', u'stylist', u'allowed', u'go', u'ahead', u'without', u'asking', u'ridiculousness', u'told', u'entered', u'store', u'right', u'entered', u'2', u'boys', u'would', u'okay', u'would', u'come', u'back', u'another', u'day', u'busy', u'monday', u'one', u'stylist', u'howheir', u'service', u'declining', u'recently', u'importantly', u'way', u'run', u'business', u'suffering', u'predict', u'eventually', u'close', u'one', u'post', u'negative', u'comments', u'usually', u'give', u'chance', u'explain', u'called', u'left', u'message', u'manager', u'next', u'day', u'followed', u'call', u'later', u'week', u'asked', u'speak', u'manager', u'nt', u'heard', u'back', u'1', u'wk', u'later', u'disappointing', u'sorry', u'post', u'everyone', u'bad', u'day', u'unbelievable', u'told', u'past', u'ca', u'nt', u'reserve', u'spot', u'unless', u'special', u'event', u'special', u'needs', u'kid', u'crazy', u'full', u'excuses']),\n",
       " Row(business_id=u'xCeiBRuvqYXDXp9Vw7gmXw', text=u\"The Whiski Rooms is hit and miss. I've had dinner and lunch here a few times. Their rib-eye steak cooked medium rare is very good so I recommended it to my friends and we went there for lunch. One of my friends ordered the braised shoulder of spring lamb and there was plastic in the dish which is UNACCEPTABLE. They offered him free dessert, however, after that incident I would not return as there are plenty of great restaurants in Edinburgh.\", words=[u'whiski', u'rooms', u'hit', u'miss', u'dinner', u'lunch', u'times', u'ribeye', u'steak', u'cooked', u'medium', u'rare', u'good', u'recommended', u'friends', u'went', u'lunch', u'one', u'friends', u'ordered', u'braised', u'shoulder', u'spring', u'lamb', u'plastic', u'dish', u'unacceptable', u'offered', u'free', u'dessert', u'however', u'incident', u'would', u'return', u'plenty', u'great', u'restaurants', u'edinburgh']),\n",
       " Row(business_id=u'MM8n7SPaIuMlDGbUM5SZhA', text=u\"Love this experience! It was so relaxing and the food was really yummy, I'd recommend ordering something easy like finger foods (my fianc\\xe9 and I got the chicken fingers and fries meal) because it's dark and hard to see when you're eating. The chairs are cozy and spaced out so you have privacy, I loved that! The only reason I didn't give 5 stars was the wall in front of the seats made it a little hard to see all of the movie screen. But overall I love this theater and we will be going back for a date night again soon for sure!!\", words=[u'love', u'experience', u'relaxing', u'food', u'really', u'yummy', u'recommend', u'ordering', u'something', u'easy', u'like', u'finger', u'foods', u'got', u'chicken', u'fingers', u'fries', u'meal', u'dark', u'hard', u'see', u'eating', u'chairs', u'cozy', u'spaced', u'privacy', u'loved', u'reason', u'nt', u'give', u'5', u'stars', u'wall', u'front', u'seats', u'made', u'little', u'hard', u'see', u'movie', u'screen', u'overall', u'love', u'theater', u'going', u'back', u'date', u'night', u'soon', u'sure']),\n",
       " Row(business_id=u'ZHwkaRws3pUwgPy6xep1Kg', text=u\"I love LOVE this tattoo parlor. I've been to two other tattoo parlors and I wasn't super pleased with the service I was getting or the care I felt my design needed so  I went searching for a new parlor. I am so glad I found Michelle. She created a lovely Orchid design with text for my thigh and worked with me like no one else ever had to create the perfect tattoo for me. She's so positive and upbeat and the parlor is light and fun. Out of all my tattoos the one I got here is my favorite and I am confidant in saying  I want all the rest of my tattoos done here. She really cares about the customer and her art.\", words=[u'love', u'love', u'tattoo', u'parlor', u'two', u'tattoo', u'parlors', u'nt', u'super', u'pleased', u'service', u'getting', u'care', u'felt', u'design', u'needed', u'went', u'searching', u'new', u'parlor', u'glad', u'found', u'michelle', u'created', u'lovely', u'orchid', u'design', u'text', u'thigh', u'worked', u'like', u'one', u'else', u'ever', u'create', u'perfect', u'tattoo', u'positive', u'upbeat', u'parlor', u'light', u'fun', u'tattoos', u'one', u'got', u'favorite', u'confidant', u'saying', u'want', u'rest', u'tattoos', u'done', u'really', u'cares', u'customer', u'art']),\n",
       " Row(business_id=u'OjApDLQUPV8c_yPCg8xZog', text=u'Love this place and came right at opening today. Food was awesome as usual - had the KC Burnt ends for an app & they were perfectly tender and the Pullman loaf went well with it and the house made pickles! Main course I went with the Pulled Pork 1/2 plate with fries & Mac & cheese. Portion was more than enough and the Mac & Cheese could have been a meal on its own! Best part of the meal was our server: Danielle C. She was very friendly & welcoming in seating us and through out our meal!!! Keep up the great work!', words=[u'love', u'place', u'came', u'right', u'opening', u'today', u'food', u'awesome', u'usual', u'kc', u'burnt', u'ends', u'app', u'perfectly', u'tender', u'pullman', u'loaf', u'went', u'well', u'house', u'made', u'pickles', u'main', u'course', u'went', u'pulled', u'pork', u'12', u'plate', u'fries', u'mac', u'cheese', u'portion', u'enough', u'mac', u'cheese', u'could', u'meal', u'best', u'part', u'meal', u'server', u'danielle', u'c', u'friendly', u'welcoming', u'seating', u'us', u'meal', u'keep', u'great', u'work']),\n",
       " Row(business_id=u'jOWS7K-2tNqOcHVBSygswg', text=u\"The standard stadium seating, recline, multiplex theater. Nothing special or nothing that sets it apart from others in the area. It's clean, does not look worn out. I come here out of convenience sake. There's not much traffic in the area, it's not as busy as other theaters. \\n\\nThe movie screens and picture quality are fine. The sound system here is inferior. Come on, my home theater set up is better than what they had here. I was getting annoyed  listening to Star Wars during certain parts of the film. Sigh.\\n\\nWhile it's great they employ people with a disability, wait in lines would go more smoothly if there is additional help, especially with popular movies that attract crowds. \\n\\nThe positives - first run movies, discount on concessions if you have Regal app ( $2 popcorn day, $2 candy Monday)  it's never crowded and on Wednesdays, admission price for seniors is 5 bucks, and the A/C is nice alternative during the hot summer temps.\", words=[u'standard', u'stadium', u'seating', u'recline', u'multiplex', u'theater', u'nothing', u'special', u'nothing', u'sets', u'apart', u'others', u'area', u'clean', u'look', u'worn', u'come', u'convenience', u'sake', u'much', u'traffic', u'area', u'busy', u'theaters', u'movie', u'screens', u'picture', u'quality', u'fine', u'sound', u'system', u'inferior', u'come', u'home', u'theater', u'set', u'better', u'getting', u'annoyed', u'listening', u'star', u'wars', u'certain', u'parts', u'film', u'sigh', u'great', u'employ', u'people', u'disability', u'wait', u'lines', u'would', u'go', u'smoothly', u'additional', u'help', u'especially', u'popular', u'movies', u'attract', u'crowds', u'positives', u'first', u'run', u'movies', u'discount', u'concessions', u'regal', u'app', u'2', u'popcorn', u'day', u'2', u'candy', u'monday', u'never', u'crowded', u'wednesdays', u'admission', u'price', u'seniors', u'5', u'bucks', u'ac', u'nice', u'alternative', u'hot', u'summer', u'temps']),\n",
       " Row(business_id=u'86ZUtPhwiy63I6B3HSN88Q', text=u\"The prices are great.  I usually get the quarter chicken with 2 sides for $6.  As someone who does not like sauce on their rotisserie chicken, I do find their chicken a bit dry.  I have been spoiled by places like George's downtown who serve mouthwatering juicy chicken, but as someone who lives in the Applewood area, options are limited.  Decent for the price.\", words=[u'prices', u'great', u'usually', u'get', u'quarter', u'chicken', u'2', u'sides', u'6', u'someone', u'like', u'sauce', u'rotisserie', u'chicken', u'find', u'chicken', u'bit', u'dry', u'spoiled', u'places', u'like', u'george', u'downtown', u'serve', u'mouthwatering', u'juicy', u'chicken', u'someone', u'lives', u'applewood', u'area', u'options', u'limited', u'decent', u'price']),\n",
       " Row(business_id=u'w5CSi-An5meLnxjKSFn0wQ', text=u'Amazing restaurant! The staff was incredibly helpful and the food was delicious! The atmosphere was super relaxing and inviting as well. The restaurant is set up very cute and calming. I would definitely go to this place again and recommend this to anyone.', words=[u'amazing', u'restaurant', u'staff', u'incredibly', u'helpful', u'food', u'delicious', u'atmosphere', u'super', u'relaxing', u'inviting', u'well', u'restaurant', u'set', u'cute', u'calming', u'would', u'definitely', u'go', u'place', u'recommend', u'anyone']),\n",
       " Row(business_id=u'Jd7pyrfNdffLM5nMcP4IPg', text=u\"I was hopeful this would be similar to Davids Tea or even Teavana as it looks set up the same way, however, the customer service and product was pretty lackluster. Ordered a peach tea from a woman who clearly didn't want to actually prepare a tea/work (it was almost closing time). In most tea places, they want to help you and they offer the teas to smell or info on the teas but none of that here as she waited for me to pick one (they have a ton to choose from). No pleasantries or anything as we waited for the tea to be brewed. It was kind of awkward standing in such a cramped space and waiting while the woman browsed her phone. Anyway, two stars for the price. Very inexpensive. The tea was awful. Even my companion felt it tasted nothing like peach so I suspect she didn't put enough in for an iced tea (you need to double the amount when you're using one of those brewers to ice versus hot brew). Not that I'm ever in Cleveland but I certainly won't stop in again if I see them expanded to this area.\", words=[u'hopeful', u'would', u'similar', u'davids', u'tea', u'even', u'teavana', u'looks', u'set', u'way', u'however', u'customer', u'service', u'product', u'pretty', u'lackluster', u'ordered', u'peach', u'tea', u'woman', u'clearly', u'nt', u'want', u'actually', u'prepare', u'teawork', u'almost', u'closing', u'time', u'tea', u'places', u'want', u'help', u'offer', u'teas', u'smell', u'info', u'teas', u'none', u'waited', u'pick', u'one', u'ton', u'choose', u'pleasantries', u'anything', u'waited', u'tea', u'brewed', u'kind', u'awkward', u'standing', u'cramped', u'space', u'waiting', u'woman', u'browsed', u'phone', u'anyway', u'two', u'stars', u'price', u'inexpensive', u'tea', u'awful', u'even', u'companion', u'felt', u'tasted', u'nothing', u'like', u'peach', u'suspect', u'nt', u'put', u'enough', u'iced', u'tea', u'need', u'double', u'amount', u'using', u'one', u'brewers', u'ice', u'versus', u'hot', u'brew', u'ever', u'cleveland', u'certainly', u'wo', u'nt', u'stop', u'see', u'expanded', u'area']),\n",
       " Row(business_id=u'UUGoM4q4i8rK2CBRS0xDAw', text=u'The crepes here are too die for. Freshly made, and you can add scoops of gelato to it. A light hint of icing sugar dusted on top. Sweet, creamy, delicious!! \\n\\nChocolate fountain here is amazing. Pools of chocolate dripping down into other pools...looks soo good. \\n\\nLots of fancy pastries and cakes. Grab a piece and take a seat by the windows overlooking the pool. \\n\\nRelax and savour!', words=[u'crepes', u'die', u'freshly', u'made', u'add', u'scoops', u'gelato', u'light', u'hint', u'icing', u'sugar', u'dusted', u'top', u'sweet', u'creamy', u'delicious', u'chocolate', u'fountain', u'amazing', u'pools', u'chocolate', u'dripping', u'pools', u'looks', u'soo', u'good', u'lots', u'fancy', u'pastries', u'cakes', u'grab', u'piece', u'take', u'seat', u'windows', u'overlooking', u'pool', u'relax', u'savour']),\n",
       " Row(business_id=u'RTJqnImabzRFWR2U95E7_w', text=u\"These folks are so kind! I don't think I've ever been treated so well at a health care provider's office. Although they were running behind, they made sure I was cared for... Free wifi made the wait worthwhile!\", words=[u'folks', u'kind', u'nt', u'think', u'ever', u'treated', u'well', u'health', u'care', u'provider', u'office', u'although', u'running', u'behind', u'made', u'sure', u'cared', u'free', u'wifi', u'made', u'wait', u'worthwhile']),\n",
       " Row(business_id=u'ujHiaprwCQ5ewziu0Vi9rw', text=u\"Good variety & quality.. Unfortunately, the ran out of lamb chops early in the night .. Also they don't have the king crab legs anymore\", words=[u'good', u'variety', u'quality', u'unfortunately', u'ran', u'lamb', u'chops', u'early', u'night', u'also', u'nt', u'king', u'crab', u'legs', u'anymore']),\n",
       " Row(business_id=u'42w2bo36vUGVyZOrsXPzGQ', text=u'I had just returned from a two week trip to China, had no food in the house and I was hungry! The first thought that came into my mind was chicken wings! So i hurried over to Long Wongs to try their spicy teriyaki wings. The sauce was not too sweet and the wings were crispy when I got home to eat them. I would guess that the only difference between the spicy and the regular teri sauce was the sprinkling of chili flakes. Oh well, they were good none the less.', words=[u'returned', u'two', u'week', u'trip', u'china', u'food', u'house', u'hungry', u'first', u'thought', u'came', u'mind', u'chicken', u'wings', u'hurried', u'long', u'wongs', u'try', u'spicy', u'teriyaki', u'wings', u'sauce', u'sweet', u'wings', u'crispy', u'got', u'home', u'eat', u'would', u'guess', u'difference', u'spicy', u'regular', u'teri', u'sauce', u'sprinkling', u'chili', u'flakes', u'oh', u'well', u'good', u'none', u'less']),\n",
       " Row(business_id=u'B32Ghxep_UhiscserSXMSA', text=u\"It was a good performance, as one of my friend suggested, the sand artists' role should have been defined better in the overall act. It was colorful and entertaining nonetheless. \\n\\nAlthough, half tix did not help much in reducing the ticket price ( $85 vs $99), still an ok deal. \\n\\nTip: book Half tix in advance to get the better deal of $75 (obviously they run out of the cheaper tickets faster). Also, try getting seats in the middle, if not it's still ok. Doesn't change the view much.\", words=[u'good', u'performance', u'one', u'friend', u'suggested', u'sand', u'artists', u'role', u'defined', u'better', u'overall', u'act', u'colorful', u'entertaining', u'nonetheless', u'although', u'half', u'tix', u'help', u'much', u'reducing', u'ticket', u'price', u'85', u'vs', u'99', u'still', u'ok', u'deal', u'tip', u'book', u'half', u'tix', u'advance', u'get', u'better', u'deal', u'75', u'obviously', u'run', u'cheaper', u'tickets', u'faster', u'also', u'try', u'getting', u'seats', u'middle', u'still', u'ok', u'nt', u'change', u'view', u'much']),\n",
       " Row(business_id=u'Tw3miGKZHtmxmaQZIYFRrA', text=u\"Ok, so I've only been here once.  It was at a meeting a week ago with my work.  Best tip is that the parking is absolutely horrible, so come early or late, because the lot is so small and there is nothing on the street.  That being said,  I arrived with 5 other people and was greeted and seated warmly.   The waitress arrived promptly for drinks and orders.  I opted to get a classic, the margharita pizza with fresh mozz, tomatoes and basil, plus I added  roasted garlic.  It was delicious, with fresh hot house tomatoes, fresh torn basil leaves, stringy melted mozzarella, with garlic cloves mild and roasted to a perfect creaminess  and the crust was both delicate and chewy, exactly what you'd expect in a well executed pizza, but the absolute STAR and the one all my co-workers remember is the sweet potato and ricotta pizza.  It sounds unusual,  and it IS! Thin rounds of sweet potato roasted into the chewy, pillowy crust with generous dollops of creamy ricotta cheese and fresh sage scattered with it.  One of my co-workers shared it, a single slice each,  but THAT is the pizza we all remember and dream about!  Sweet, but not TOO sweet, creamy and luscious! It was like nothing I've ever had before.  And at $13 I thought it a bargain!  If I hadn't been headed out of town after our meeting I would have gotten one to bring home to my husband! I hope I am able to make it that way again,  just for this luscious, decadent treat.  I'm not a pizza  fan overall,  after 16 yrs in AZ I thought I wouldn't like pizza again,  but THIS pizza is one well worth a trip to central Phoenix!\", words=[u'ok', u'meeting', u'week', u'ago', u'work', u'best', u'tip', u'parking', u'absolutely', u'horrible', u'come', u'early', u'late', u'lot', u'small', u'nothing', u'street', u'said', u'arrived', u'5', u'people', u'greeted', u'seated', u'warmly', u'waitress', u'arrived', u'promptly', u'drinks', u'orders', u'opted', u'get', u'classic', u'margharita', u'pizza', u'fresh', u'mozz', u'tomatoes', u'basil', u'plus', u'added', u'roasted', u'garlic', u'delicious', u'fresh', u'hot', u'house', u'tomatoes', u'fresh', u'torn', u'basil', u'leaves', u'stringy', u'melted', u'mozzarella', u'garlic', u'cloves', u'mild', u'roasted', u'perfect', u'creaminess', u'crust', u'delicate', u'chewy', u'exactly', u'expect', u'well', u'executed', u'pizza', u'absolute', u'star', u'one', u'coworkers', u'remember', u'sweet', u'potato', u'ricotta', u'pizza', u'sounds', u'unusual', u'thin', u'rounds', u'sweet', u'potato', u'roasted', u'chewy', u'pillowy', u'crust', u'generous', u'dollops', u'creamy', u'ricotta', u'cheese', u'fresh', u'sage', u'scattered', u'one', u'coworkers', u'shared', u'single', u'slice', u'pizza', u'remember', u'dream', u'sweet', u'sweet', u'creamy', u'luscious', u'like', u'nothing', u'ever', u'13', u'thought', u'bargain', u'nt', u'headed', u'town', u'meeting', u'would', u'gotten', u'one', u'bring', u'home', u'husband', u'hope', u'able', u'make', u'way', u'luscious', u'decadent', u'treat', u'pizza', u'fan', u'overall', u'16', u'yrs', u'az', u'thought', u'would', u'nt', u'like', u'pizza', u'pizza', u'one', u'well', u'worth', u'trip', u'central', u'phoenix']),\n",
       " Row(business_id=u'kCeUoRb2QzgoPTIyR9onWQ', text=u'The time has come to retire my old dead running shoes and get new ones. The store that bought my last two pairs closed. I heard about this store from my triathlon family talked about running assessment, Tom owner great guy, and hell was close to my house. Am in. \\n\\nIt just so happened had a friend visiting from 808. She was looking to a get new pair of running shoes also. It worked out great cause she ended up getting the running assessment. There is one catch if you do get it. Basically need to be committed getting pair cause if not cost you $20. We both had every intention of getting pair just in my case decided pass. I found it interesting the whole process watching my friend do it. She ran on the treadmill just with socks (I found weird if breaking down someone foot strike pattern would want shoes on). They have camera that sits right behind and films your feet strikes or way both feet land. The sales lady (god bless her forget her name) she was breaking it down telling my friend her running style like gazelle. Whether your landing more on your heels or toe. They break it down to science not only the way your feet strike but the bigger picture your running style effects overall health. Running takes toll on ones body. Last thing anyone should do bad form next thing know had chronic back problems or what not. If know getting pair would recommend taking the time get one. They do take appointments for it. We went basically the store first opened took chance and we were the only ones in the store. It worked out great. Believe my friend got Asic or New Balance. She enjoys that since been out running on them couple times.\\n\\nMyself I never knew until last year starting my triathlon addiction that having proper running shoes makes HUGE difference. I started with pair of Brooks. Actually just so happen my second pair got the same ones. If not broke why change it?? Really do love the fit and feel of Brooks running shoes. I have a feeling for the style one again my mind set was another pair of Brooks. She looked at my old pairs got the size. I did keep open mind about other brands. She started out bringing out shoes to try each one little different style then the next. Even for my friend we each tried on four or five different pair of shoes. We walked around the store and even better feel ran outside in the front up and down. The Brooks love the feeling, support under my feet, like the look, and ended up settling on my third pair of Brooks Ravenna. =))\\n\\nService was no doubt FIVE star one. The moment my friend and I walked in customer service could not have been more on point. She explained clearly the deal with the treadmill assessment. Like mention earlier you can tell she done few assessments. Not only with terminology but she knows what she talking about. The whole time trying on different pairs asking questions about the little comfort issues. Friendly. Easy make conversations with making the process easier and fun. She was bouncing between the two of us. Tom came in later he doing my friend finish instead of her jumping between both of us. She was telling Tom breakdown on her assessment. Tom talk about passion as owner. Great guy. Talking stories with him is blast, makes you laugh, also you can tell got wealth of knowledge with shoes (my friend use to Nike and he was telling her why not fan or really carries Nike), and cares about his customers. No pressure on buying pair of shoes or getting higher end shoe. Tom and his crew really do everything make sure you get the right one!\\n\\nNo doubt found my new running shoe store.', words=[u'time', u'come', u'retire', u'old', u'dead', u'running', u'shoes', u'get', u'new', u'ones', u'store', u'bought', u'last', u'two', u'pairs', u'closed', u'heard', u'store', u'triathlon', u'family', u'talked', u'running', u'assessment', u'tom', u'owner', u'great', u'guy', u'hell', u'close', u'house', u'happened', u'friend', u'visiting', u'808', u'looking', u'get', u'new', u'pair', u'running', u'shoes', u'also', u'worked', u'great', u'cause', u'ended', u'getting', u'running', u'assessment', u'one', u'catch', u'get', u'basically', u'need', u'committed', u'getting', u'pair', u'cause', u'cost', u'20', u'every', u'intention', u'getting', u'pair', u'case', u'decided', u'pass', u'found', u'interesting', u'whole', u'process', u'watching', u'friend', u'ran', u'treadmill', u'socks', u'found', u'weird', u'breaking', u'someone', u'foot', u'strike', u'pattern', u'would', u'want', u'shoes', u'camera', u'sits', u'right', u'behind', u'films', u'feet', u'strikes', u'way', u'feet', u'land', u'sales', u'lady', u'god', u'bless', u'forget', u'name', u'breaking', u'telling', u'friend', u'running', u'style', u'like', u'gazelle', u'whether', u'landing', u'heels', u'toe', u'break', u'science', u'way', u'feet', u'strike', u'bigger', u'picture', u'running', u'style', u'effects', u'overall', u'health', u'running', u'takes', u'toll', u'ones', u'body', u'last', u'thing', u'anyone', u'bad', u'form', u'next', u'thing', u'know', u'chronic', u'back', u'problems', u'know', u'getting', u'pair', u'would', u'recommend', u'taking', u'time', u'get', u'one', u'take', u'appointments', u'went', u'basically', u'store', u'first', u'opened', u'took', u'chance', u'ones', u'store', u'worked', u'great', u'believe', u'friend', u'got', u'asic', u'new', u'balance', u'enjoys', u'since', u'running', u'couple', u'times', u'never', u'knew', u'last', u'year', u'starting', u'triathlon', u'addiction', u'proper', u'running', u'shoes', u'makes', u'huge', u'difference', u'started', u'pair', u'brooks', u'actually', u'happen', u'second', u'pair', u'got', u'ones', u'broke', u'change', u'really', u'love', u'fit', u'feel', u'brooks', u'running', u'shoes', u'feeling', u'style', u'one', u'mind', u'set', u'another', u'pair', u'brooks', u'looked', u'old', u'pairs', u'got', u'size', u'keep', u'open', u'mind', u'brands', u'started', u'bringing', u'shoes', u'try', u'one', u'little', u'different', u'style', u'next', u'even', u'friend', u'tried', u'four', u'five', u'different', u'pair', u'shoes', u'walked', u'around', u'store', u'even', u'better', u'feel', u'ran', u'outside', u'front', u'brooks', u'love', u'feeling', u'support', u'feet', u'like', u'look', u'ended', u'settling', u'third', u'pair', u'brooks', u'ravenna', u'service', u'doubt', u'five', u'star', u'one', u'moment', u'friend', u'walked', u'customer', u'service', u'could', u'point', u'explained', u'clearly', u'deal', u'treadmill', u'assessment', u'like', u'mention', u'earlier', u'tell', u'done', u'assessments', u'terminology', u'knows', u'talking', u'whole', u'time', u'trying', u'different', u'pairs', u'asking', u'questions', u'little', u'comfort', u'issues', u'friendly', u'easy', u'make', u'conversations', u'making', u'process', u'easier', u'fun', u'bouncing', u'two', u'us', u'tom', u'came', u'later', u'friend', u'finish', u'instead', u'jumping', u'us', u'telling', u'tom', u'breakdown', u'assessment', u'tom', u'talk', u'passion', u'owner', u'great', u'guy', u'talking', u'stories', u'blast', u'makes', u'laugh', u'also', u'tell', u'got', u'wealth', u'knowledge', u'shoes', u'friend', u'use', u'nike', u'telling', u'fan', u'really', u'carries', u'nike', u'cares', u'customers', u'pressure', u'buying', u'pair', u'shoes', u'getting', u'higher', u'end', u'shoe', u'tom', u'crew', u'really', u'everything', u'make', u'sure', u'get', u'right', u'one', u'doubt', u'found', u'new', u'running', u'shoe', u'store']),\n",
       " Row(business_id=u'od2KZvDRoGogN3apthJ3Ug', text=u\"So I had thought that this would be a good way to see Vegas from a different angle while in town.  My experience didn't line up with moderate expectations.  The staff are all courteous enough but it's clearly a business built on numbers of rides/time.  The ride itself is less than 10 min with less than 5 min looping around the strip (with transport to/from a Strip Hotel, a 3 h time block).  Instead of a loop for both sides of the craft (more standard, but with more time added), you do one loop/side.  Unless you're in the front seats or one side, you will see a little between bodies if in the back/wrong side.  Very poorly designed tour despite the usual considerations with passenger weight distribution, etc.\\n\\nSo despite seemingly good value, I was quite unsatisfied with the time/money spent.  I've been on small helicopter/small plane hours before and it just didn't match up.  I was also charged a $15 tour fee after having paid in full on-line.  Perhaps this is the third party (Viator) deal/experience with this operator.\", words=[u'thought', u'would', u'good', u'way', u'see', u'vegas', u'different', u'angle', u'town', u'experience', u'nt', u'line', u'moderate', u'expectations', u'staff', u'courteous', u'enough', u'clearly', u'business', u'built', u'numbers', u'ridestime', u'ride', u'less', u'10', u'min', u'less', u'5', u'min', u'looping', u'around', u'strip', u'transport', u'tofrom', u'strip', u'hotel', u'3', u'h', u'time', u'block', u'instead', u'loop', u'sides', u'craft', u'standard', u'time', u'added', u'one', u'loopside', u'unless', u'front', u'seats', u'one', u'side', u'see', u'little', u'bodies', u'backwrong', u'side', u'poorly', u'designed', u'tour', u'despite', u'usual', u'considerations', u'passenger', u'weight', u'distribution', u'etc', u'despite', u'seemingly', u'good', u'value', u'quite', u'unsatisfied', u'timemoney', u'spent', u'small', u'helicoptersmall', u'plane', u'hours', u'nt', u'match', u'also', u'charged', u'15', u'tour', u'fee', u'paid', u'full', u'online', u'perhaps', u'third', u'party', u'viator', u'dealexperience', u'operator']),\n",
       " Row(business_id=u'OrvAfw0eq5YSHZJIFmQuIw', text=u\"If I could give 10 stars I would! To start the shop is absolutely beautiful. Clean, neat and organized. Every single employee including the owner Bethany, were friendly, upbeat and super knowledgeable. \\n\\nI'm new to the vape world and they spent over a hour with me teaching me the differences and allowing me to taste more flavors then I can even remember. \\n\\nI bought the starter kit and Brian set it up and fought me everything I needed to know. I will never go anywhere else for my vape needs. I highly recommend checking them out !\", words=[u'could', u'give', u'10', u'stars', u'would', u'start', u'shop', u'absolutely', u'beautiful', u'clean', u'neat', u'organized', u'every', u'single', u'employee', u'including', u'owner', u'bethany', u'friendly', u'upbeat', u'super', u'knowledgeable', u'new', u'vape', u'world', u'spent', u'hour', u'teaching', u'differences', u'allowing', u'taste', u'flavors', u'even', u'remember', u'bought', u'starter', u'kit', u'brian', u'set', u'fought', u'everything', u'needed', u'know', u'never', u'go', u'anywhere', u'else', u'vape', u'needs', u'highly', u'recommend', u'checking']),\n",
       " Row(business_id=u'RzJEqt010ycK5QtnW4t9fA', text=u\"So Good Restaurant is open for breakfast lunch and dinner.  But I've only gone for breakfast/brunch.  Prices are low, so don't expect super high calibre dining, but it's decent cooked food.  One thing that diners may have to get over is the appearance of the place.  I've seen Yelp reviews say that the restaurant is not clean.  Thats not true.  The place is a bit older but it's not dirty.  I've eaten in restaurants that have stickier table tops in Toronto.\\n\\nAs we typically go for breakfast/brunch, we tend to order off of their all day menu.  It usually consists of eggs and toast, noodle soup with some protein, and coffee/tea for around $6.  The day that I took the pictures, I ordered pork & preserved veggies with vermicelli with scrambled eggs & toast.  The hubby ordered chicken wings & instant noodles with fried eggs & toast.  Friends ordered luncheon meat on instant noodles with fried eggs & toast, and beef brisket on rice noodle.  Portions were decent sized, and taste is what you typically expect at a Hong Kong style cafe.  Usually when you order instant noodles, the prices of the dishes are higher, but it was quite low here.  The milk tae is pretty decent as well  And service was friendly.  A rare find at a Chinese restaurant.  Since then I have frequented So Good Restaurant quite a few times.  I thought I'd share this place with my parents.  Turns out they've been coming for years!\", words=[u'good', u'restaurant', u'open', u'breakfast', u'lunch', u'dinner', u'gone', u'breakfastbrunch', u'prices', u'low', u'nt', u'expect', u'super', u'high', u'calibre', u'dining', u'decent', u'cooked', u'food', u'one', u'thing', u'diners', u'may', u'get', u'appearance', u'place', u'seen', u'yelp', u'reviews', u'say', u'restaurant', u'clean', u'thats', u'true', u'place', u'bit', u'older', u'dirty', u'eaten', u'restaurants', u'stickier', u'table', u'tops', u'toronto', u'typically', u'go', u'breakfastbrunch', u'tend', u'order', u'day', u'menu', u'usually', u'consists', u'eggs', u'toast', u'noodle', u'soup', u'protein', u'coffeetea', u'around', u'6', u'day', u'took', u'pictures', u'ordered', u'pork', u'preserved', u'veggies', u'vermicelli', u'scrambled', u'eggs', u'toast', u'hubby', u'ordered', u'chicken', u'wings', u'instant', u'noodles', u'fried', u'eggs', u'toast', u'friends', u'ordered', u'luncheon', u'meat', u'instant', u'noodles', u'fried', u'eggs', u'toast', u'beef', u'brisket', u'rice', u'noodle', u'portions', u'decent', u'sized', u'taste', u'typically', u'expect', u'hong', u'kong', u'style', u'cafe', u'usually', u'order', u'instant', u'noodles', u'prices', u'dishes', u'higher', u'quite', u'low', u'milk', u'tae', u'pretty', u'decent', u'well', u'service', u'friendly', u'rare', u'find', u'chinese', u'restaurant', u'since', u'frequented', u'good', u'restaurant', u'quite', u'times', u'thought', u'share', u'place', u'parents', u'turns', u'coming', u'years']),\n",
       " Row(business_id=u'liylNbY_mxOF80ygAKdxTQ', text=u\"When I first started to bring my pets to this office it was because they were the least expensive, although  quite far from my home. Now, I wouldn't take my pets anywhere else. The doctor and staff are the most wonderful people anyone could ask for. They really do care about animals. Their fees have gone up, not surprising, but they still come in below many others. When you combine that with the care they give, you have a winning combination that can't be beat !\", words=[u'first', u'started', u'bring', u'pets', u'office', u'least', u'expensive', u'although', u'quite', u'far', u'home', u'would', u'nt', u'take', u'pets', u'anywhere', u'else', u'doctor', u'staff', u'wonderful', u'people', u'anyone', u'could', u'ask', u'really', u'care', u'animals', u'fees', u'gone', u'surprising', u'still', u'come', u'many', u'others', u'combine', u'care', u'give', u'winning', u'combination', u'ca', u'nt', u'beat']),\n",
       " Row(business_id=u'j1yBqI57HIyVP_e1N374cQ', text=u'Housemade sauerkraut +spaetzle, sausage, and two fried eggs with custom HP like sauce on side?\\n\\nBrunch heaven. Better than you know what. \\n\\nWAY BETTER.', words=[u'housemade', u'sauerkraut', u'spaetzle', u'sausage', u'two', u'fried', u'eggs', u'custom', u'hp', u'like', u'sauce', u'side', u'brunch', u'heaven', u'better', u'know', u'way', u'better']),\n",
       " Row(business_id=u'8yiLVWzJyyTEhYE0fVNvlA', text=u\"With every visit to Vegas, there is a visit to Il Mulino.  This is my favorite Italian restaurant of all time.  Italian food is my favorite.  This is more than great food.  It is truly a dining experience.  Table 54 is my favorite spot in the dining room as you get a panoramic view of the entire restaurant.  There isn't even a need to order appetizers because they serve so many little appetizers, all included with your meal.  Amazing cheese, bread, etc.  Fantastic wine list and very knowledgable bartenders.  Everything I have had from here is amazing.  I always get a pasta dish with bolognese and it is consistently amazing.   I make it a point to try everything else that those I am with get.  Haven't ever been disappointed.  I wish there was and Il Mulino in L.A.!  Highly recommend Il Mulino @ the Forum Shops in Vegas.\", words=[u'every', u'visit', u'vegas', u'visit', u'il', u'mulino', u'favorite', u'italian', u'restaurant', u'time', u'italian', u'food', u'favorite', u'great', u'food', u'truly', u'dining', u'experience', u'table', u'54', u'favorite', u'spot', u'dining', u'room', u'get', u'panoramic', u'view', u'entire', u'restaurant', u'nt', u'even', u'need', u'order', u'appetizers', u'serve', u'many', u'little', u'appetizers', u'included', u'meal', u'amazing', u'cheese', u'bread', u'etc', u'fantastic', u'wine', u'list', u'knowledgable', u'bartenders', u'everything', u'amazing', u'always', u'get', u'pasta', u'dish', u'bolognese', u'consistently', u'amazing', u'make', u'point', u'try', u'everything', u'else', u'get', u'nt', u'ever', u'disappointed', u'wish', u'il', u'mulino', u'la', u'highly', u'recommend', u'il', u'mulino', u'forum', u'shops', u'vegas']),\n",
       " Row(business_id=u'sksJyRYw03EGzU7m7kN33w', text=u'Loosely translated, the name of the restaurant means \"Butchokoy\\'s Place\" in Tagalog. Butchokoy was the name of the previous owner.\\n\\nFor those of you have been to the Philippines, any Filipino with skills in the kitchen is capable of establishing his or her own \\'karenderia\\' or mini restaurant - oftentimes converting his/her front yard or even driveway into a makeshift bistro offering traditional Filipino dishes like dinuguan, bopis, ginataan, barbecue, fried fish, adobo, Filipino spaghetti (yum!) and more, served on a plate of hot, white rice. These main dishes usually on display on a table in the pots they were cooked in or behind a glass panel that patrons can point at and order ala \"turo-turo\" style. The latter being the case at this restaurant.\\n\\nProbably considered a dive, Pook ni Butchokoy, ideally located in one of the more diversely populated sections of Toronto, caters to local residents and tourists alike looking for some Filipino comfort food. We ventured there today after attending Sunday service at the Holy Family Parish 2 blocks away.\\n\\nWalking into the establishment, we were warmly greeted by Rebecca, the owner, and her associate, Ellen, both of whom are fluent in a few of the several dozen languages in the Philippines. Conversing in the Cebuano dialect, Rebecca gave me a little history of the place and was eager to promote her cuisine. For about $7 per person, the 6 of us in our group tried 8 of the 12 dishes that they had for the day: the pork barbecue was a generous serving of tender morsels of well marinated meat; the fried \\'bangus\\' (milkfish) was deboned to perfection, crispy skin and seasoned with just the right amout of soysauce and garlic. Filipino spaghetti was not too sweet and did not have enough hotdogs but, nevertheless, brought back memories of Jollibee\\'s spaghetti. The bopis was good (my father-in-law mastered this dish, so my expectations are high) as was the giniling (sauteed ground pork). The dinuguan was a bit on the dry side but otherwise well prepared. The ginataan gulay (vegetables simmered in coconut milk) was likely prepared using canned coconut milk (unfortunately) and lacked that freshly grated coconut flavor but otherwise delicious. And the adobo was, well, adobo - classic Filipino pork cooked in vinegar, garlic, soy sauce and black peppercorns. All of the dishes were served over a generous plateful of steaming white rice.\\n\\nAfter enjoying this feast and the friendly company of our hosts, we left with full stomachs and new friends, promising to stop in the next time we are in town. Definitely worth a visit - and I personally recommend the pork barbecue.', words=[u'loosely', u'translated', u'name', u'restaurant', u'means', u'butchokoy', u'place', u'tagalog', u'butchokoy', u'name', u'previous', u'owner', u'philippines', u'filipino', u'skills', u'kitchen', u'capable', u'establishing', u'karenderia', u'mini', u'restaurant', u'oftentimes', u'converting', u'hisher', u'front', u'yard', u'even', u'driveway', u'makeshift', u'bistro', u'offering', u'traditional', u'filipino', u'dishes', u'like', u'dinuguan', u'bopis', u'ginataan', u'barbecue', u'fried', u'fish', u'adobo', u'filipino', u'spaghetti', u'yum', u'served', u'plate', u'hot', u'white', u'rice', u'main', u'dishes', u'usually', u'display', u'table', u'pots', u'cooked', u'behind', u'glass', u'panel', u'patrons', u'point', u'order', u'ala', u'turoturo', u'style', u'latter', u'case', u'restaurant', u'probably', u'considered', u'dive', u'pook', u'ni', u'butchokoy', u'ideally', u'located', u'one', u'diversely', u'populated', u'sections', u'toronto', u'caters', u'local', u'residents', u'tourists', u'alike', u'looking', u'filipino', u'comfort', u'food', u'ventured', u'today', u'attending', u'sunday', u'service', u'holy', u'family', u'parish', u'2', u'blocks', u'away', u'walking', u'establishment', u'warmly', u'greeted', u'rebecca', u'owner', u'associate', u'ellen', u'fluent', u'several', u'dozen', u'languages', u'philippines', u'conversing', u'cebuano', u'dialect', u'rebecca', u'gave', u'little', u'history', u'place', u'eager', u'promote', u'cuisine', u'7', u'per', u'person', u'6', u'us', u'group', u'tried', u'8', u'12', u'dishes', u'day', u'pork', u'barbecue', u'generous', u'serving', u'tender', u'morsels', u'well', u'marinated', u'meat', u'fried', u'bangus', u'milkfish', u'deboned', u'perfection', u'crispy', u'skin', u'seasoned', u'right', u'amout', u'soysauce', u'garlic', u'filipino', u'spaghetti', u'sweet', u'enough', u'hotdogs', u'nevertheless', u'brought', u'back', u'memories', u'jollibee', u'spaghetti', u'bopis', u'good', u'fatherinlaw', u'mastered', u'dish', u'expectations', u'high', u'giniling', u'sauteed', u'ground', u'pork', u'dinuguan', u'bit', u'dry', u'side', u'otherwise', u'well', u'prepared', u'ginataan', u'gulay', u'vegetables', u'simmered', u'coconut', u'milk', u'likely', u'prepared', u'using', u'canned', u'coconut', u'milk', u'unfortunately', u'lacked', u'freshly', u'grated', u'coconut', u'flavor', u'otherwise', u'delicious', u'adobo', u'well', u'adobo', u'classic', u'filipino', u'pork', u'cooked', u'vinegar', u'garlic', u'soy', u'sauce', u'black', u'peppercorns', u'dishes', u'served', u'generous', u'plateful', u'steaming', u'white', u'rice', u'enjoying', u'feast', u'friendly', u'company', u'hosts', u'left', u'full', u'stomachs', u'new', u'friends', u'promising', u'stop', u'next', u'time', u'town', u'definitely', u'worth', u'visit', u'personally', u'recommend', u'pork', u'barbecue']),\n",
       " Row(business_id=u'OaksCsORs2tUGxSJWhydJg', text=u'Got the yogurt green tea, was pretty good. Price is a little high here imo. Might come back next time to try out the waffles.', words=[u'got', u'yogurt', u'green', u'tea', u'pretty', u'good', u'price', u'little', u'high', u'imo', u'might', u'come', u'back', u'next', u'time', u'try', u'waffles'])]"
      ]
     },
     "execution_count": 52,
     "metadata": {},
     "output_type": "execute_result"
    }
   ],
   "source": [
    "reviews = reviews.select([\"business_id\", \"text\"])\n",
    "reviews_tokenized = reviews.select([col(\"business_id\"), col(\"text\"), tokenize_udf(col(\"text\")).alias(\"words\")])\n",
    "reviews_tokenized.head(50)"
   ]
  },
  {
   "cell_type": "code",
   "execution_count": null,
   "metadata": {
    "collapsed": false
   },
   "outputs": [],
   "source": [
    "\n",
    "\n",
    "# types = [f.dataType for f in reviews_tokenized.schema.fields]\n",
    "# print(types)\n",
    "\n",
    "word2vec = Word2Vec(vectorSize=5, inputCol=\"words\", outputCol=\"word2vec\", minCount=100)\n",
    "word2vec_model = word2vec.fit(reviews_tokenized)\n",
    "reviews_word2vec = word2vec_model.transform(reviews_tokenized)\n",
    "\n",
    "reviews_word2vec.head()\n"
   ]
  },
  {
   "cell_type": "code",
   "execution_count": null,
   "metadata": {
    "collapsed": true
   },
   "outputs": [],
   "source": []
  }
 ],
 "metadata": {
  "kernelspec": {
   "display_name": "Python 2",
   "language": "python",
   "name": "python2"
  },
  "language_info": {
   "codemirror_mode": {
    "name": "ipython",
    "version": 2
   },
   "file_extension": ".py",
   "mimetype": "text/x-python",
   "name": "python",
   "nbconvert_exporter": "python",
   "pygments_lexer": "ipython2",
   "version": "2.7.6"
  }
 },
 "nbformat": 4,
 "nbformat_minor": 2
}
