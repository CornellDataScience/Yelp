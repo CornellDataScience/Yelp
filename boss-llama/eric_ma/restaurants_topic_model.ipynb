{
 "cells": [
  {
   "cell_type": "code",
   "execution_count": 4,
   "metadata": {
    "collapsed": true
   },
   "outputs": [],
   "source": [
    "import string\n",
    "from datetime import datetime\n",
    "import os\n",
    "import numpy as np\n",
    "import pandas as pd\n",
    "import json\n",
    "from collections import defaultdict\n",
    "from Queue import Queue\n",
    "# import pickle\n",
    "import cPickle as pickle\n",
    "\n",
    "from scipy.sparse.linalg import svds\n",
    "\n",
    "import nltk\n",
    "from nltk.tokenize import word_tokenize\n",
    "from nltk.corpus import stopwords\n",
    "from nltk.stem import WordNetLemmatizer\n",
    "\n",
    "from sklearn.feature_extraction.text import TfidfVectorizer, CountVectorizer\n",
    "from sklearn.decomposition import LatentDirichletAllocation, NMF\n",
    "from sklearn.metrics.pairwise import cosine_similarity"
   ]
  },
  {
   "cell_type": "code",
   "execution_count": null,
   "metadata": {
    "collapsed": true
   },
   "outputs": [],
   "source": []
  },
  {
   "cell_type": "code",
   "execution_count": 5,
   "metadata": {
    "collapsed": true
   },
   "outputs": [],
   "source": [
    "valid_business_ids = set()\n",
    "business_id_to_index = {}\n",
    "business_index_to_bid = {}\n",
    "c = 0\n",
    "with open(\"biz_food.json\", \"r\") as f:\n",
    "    for line in f:\n",
    "        business = json.loads(line)\n",
    "        valid_business_ids.add(business[\"business_id\"])\n",
    "        if business[\"business_id\"] not in business_id_to_index:\n",
    "            business_id_to_index[business[\"business_id\"]] = c\n",
    "            business_index_to_bid[c] = business[\"business_id\"]\n",
    "            c += 1"
   ]
  },
  {
   "cell_type": "code",
   "execution_count": 7,
   "metadata": {
    "collapsed": false
   },
   "outputs": [
    {
     "name": "stdout",
     "output_type": "stream",
     "text": [
      "60702\n"
     ]
    }
   ],
   "source": [
    "print(len(valid_business_ids))\n",
    "# business_ids[:5]"
   ]
  },
  {
   "cell_type": "code",
   "execution_count": null,
   "metadata": {
    "collapsed": true
   },
   "outputs": [],
   "source": []
  },
  {
   "cell_type": "code",
   "execution_count": 35,
   "metadata": {
    "collapsed": false
   },
   "outputs": [
    {
     "data": {
      "text/plain": [
       "''"
      ]
     },
     "execution_count": 35,
     "metadata": {},
     "output_type": "execute_result"
    }
   ],
   "source": [
    "\" \".join([])"
   ]
  },
  {
   "cell_type": "code",
   "execution_count": 6,
   "metadata": {
    "collapsed": false
   },
   "outputs": [
    {
     "name": "stdout",
     "output_type": "stream",
     "text": [
      "2874628\n",
      "2874628\n",
      "2874628\n",
      "[u'place area staple years i thing family year pattys day corn beef place bar night dinner friends drinks', u'mojo teasers lpw bite', u'decor staff pickles value', u'i stars mind type restaurant name ohio maisonette restaurant cincy time type venue folks price lunch saturday lady cheeseburger fries i order pickles app pickles spears amount beer batter perfection spears chips decision lady askew type fare plate share kicker bucks pickle fries amount crispness interior fry guy craft burger well.. genre burger scrod portion lemon butter i option fries potato rice i option broccoli amount share dinner salad bag-o-lettuce romaine slice carrot shreds tomato store dinner roll butter service waitress bit management issue server fault cleveland entertainment book i coupon table meal waitress value ticket efficiency restaurant move star heartbeat', u'food laid place nothing mind people restaurant food prices']\n",
      "[u'good stable reliable st. nice', u'few appetite no-frills', u'friendly fried tasty good', u'sports-bar right right scrod broccoli fried dill right deep fair mr. good right creamy good typical i difficult generous green cuke good over-extended i fifth', u'great casual creative ridiculous']\n"
     ]
    }
   ],
   "source": [
    "only_text_nouns = []\n",
    "only_text_adjs = []\n",
    "ordered_review_ids = []\n",
    "ordered_business_id_indices = []\n",
    "bid_to_rid_dict = defaultdict(list)\n",
    "rid_to_bid_dict = {}\n",
    "\n",
    "with open(\"yelp_academic_dataset_review.json\", \"r\") as f:\n",
    "    for line in f:\n",
    "        review = json.loads(line)\n",
    "        if review[\"business_id\"] in valid_business_ids:\n",
    "#             only_text.append(review[\"text\"])\n",
    "            text = review[\"text\"].lower()\n",
    "            tokens = nltk.word_tokenize(text)\n",
    "            pos_tagged = nltk.pos_tag(tokens)\n",
    "            nouns = [token for (token, pos) in pos_tagged if pos[0] == \"N\"]\n",
    "            adjs = [token for (token, pos) in pos_tagged if pos[0] == \"J\"]\n",
    "            only_text_nouns.append(\" \".join(nouns))\n",
    "            only_text_adjs.append(\" \".join(adjs))\n",
    "            ordered_review_ids.append(review[\"review_id\"])\n",
    "            ordered_business_id_indices.append(business_id_to_index[review[\"business_id\"]])\n",
    "            bid_to_rid_dict[review[\"business_id\"]].append(review[\"review_id\"])\n",
    "            rid_to_bid_dict[review[\"review_id\"]] = review[\"business_id\"]\n",
    "print(len(only_text_nouns))\n",
    "print(len(only_text_adjs))\n",
    "print(len(ordered_review_ids))\n",
    "print(only_text_nouns[:5])\n",
    "print(only_text_adjs[:5])"
   ]
  },
  {
   "cell_type": "code",
   "execution_count": 7,
   "metadata": {
    "collapsed": false
   },
   "outputs": [
    {
     "data": {
      "text/plain": [
       "{u'Qo62c0I5ydN_FrUbG0NOow': 221295,\n",
       " u'uJMipKiUD_nGl3q9vfEuCw': 1187650,\n",
       " u'mMqrghG86-vWiwRYjZ0QPQ': 1902993,\n",
       " u'Dxmcgjf9JSBlYmxC4ArzHg': 1813536,\n",
       " u'6rLbesEeU-IsnbTurUSs9w': 220806,\n",
       " u'gOMOMec8QMWJ72gMQsEjlA': 1095087,\n",
       " u'wifZGObIDBp4h6Xlm36T2g': 2230697,\n",
       " u'PiKeptZU8R09xi-L3HmqQg': 424632,\n",
       " u'-PWR-Q9c7ajqE3T3OBpDLw': 1007067,\n",
       " u'RIFfCpf3a8r5Dtf8HFvesg': 921919,\n",
       " u'RDcIcfslKtUaX2k9foYDqg': 15476,\n",
       " u'8ejjNdl6yeT8v3rnpybo_g': 2375675,\n",
       " u'xyeHv3Y5ws6t2Q5Whc7e1g': 1770043,\n",
       " u'te2CNInedKYW1a94QyWDZQ': 979302,\n",
       " u'z0qi0voFDsabGkj10a4FqQ': 2155175,\n",
       " u'gUnS7kWlZDorC0GZaGH7MA': 1152825,\n",
       " u'LkWt7SgIb5bAzZBywCrGAA': 1155204,\n",
       " u'UMdivlESxH-P5m-3uf9-1g': 2256792,\n",
       " u'6Xsike7WkPwdLUwpYmkV6A': 28226,\n",
       " u'hyWADYuoJAhEfXgk9OGKPQ': 1819328,\n",
       " u'u48IrPCi3-JbqBWVmXCfpg': 968039,\n",
       " u'PnENj9Cq4BHSNyUmP_sSQA': 741524,\n",
       " u'54ltyfKEtTUmnvjcIFcWxA': 1471406,\n",
       " u'J_HQGQ9z4mXllbGBM31N7A': 2233051,\n",
       " u'N6_1ESmUfTPVpMCHPyiKBg': 2258764,\n",
       " u'Zg1L6tLM8T0hRpX7Wlon2w': 874849,\n",
       " u't5J0yCUOE_dF9SLoJg7VYw': 2673881,\n",
       " u'bcM_TJD0SPYDCYzwIZ0cdQ': 1843580,\n",
       " u'6nm0tmbavlz-kfdDzfIyJw': 7495,\n",
       " u'LhuAaf7_s59ZV_ER8FtNhQ': 52197,\n",
       " u'f2SAdCc28WleNKKgkHB9hA': 373434,\n",
       " u'kRZdupQ6xwKLFiT57K0N5A': 2481244,\n",
       " u'xueujtGHFIDHfOwSKdRDlw': 2357550,\n",
       " u'KXf3Xy3bgn3fsHoXHTyUpA': 1666628,\n",
       " u'-Y0QeQ4sEenyLs9yH98KZA': 1920647,\n",
       " u'6LxhcZQhKJjiyH59h6yB7A': 230480,\n",
       " u'pG8GtukwNgj5Ap93UDObCg': 2447860,\n",
       " u'jEMhNqvICLVl0taxLXR6uw': 1900473,\n",
       " u'GXfn6zJpeFry72R2wjtpKQ': 207174,\n",
       " u'-w-V3KDRfr9uClUkaie_7w': 1830070,\n",
       " u'j-OL7hSuhUpjQRFJNb-hfw': 2322859,\n",
       " u'8I1w9wMlnYONzICeAtktmQ': 152425,\n",
       " u'OuAi1I4cUKvdt1Bftxukcw': 358597,\n",
       " u'DNWyCHJeeCJ5iHKk60QFIw': 848976,\n",
       " u'j0qR51ZKITaPs8R30N4azg': 115536,\n",
       " u'ElXUzAmumuLj3lJ_p_Kz_A': 399079,\n",
       " u'NJm-1PAztdKP2KFfC9ovTw': 533312,\n",
       " u'OtSnQh1Xq-BG-3n_f8n-6w': 2134506,\n",
       " u'gP-Y-qM4gRkaP-V6zX41Gg': 668254,\n",
       " u'ifeXsZsCeNLCWL0b_eDsaw': 348343,\n",
       " u'APIy_A7aAO_lf7q2Dy8ycw': 1984338,\n",
       " u'67OZhBC_i6Gs07g1vhoIHw': 1088890,\n",
       " u'J4HRnAptFZoeE-yCBn5_0A': 2738648,\n",
       " u'EWgAbKsgaBgPgIrGoV-bOA': 747343,\n",
       " u'FomzbM_vaHnyNgQTKo05DA': 2176015,\n",
       " u'GJg3YZUpNDJNrlHJ6V6olA': 1896392,\n",
       " u'6-GDSlNiyahw-1qgx-dQ2w': 2378359,\n",
       " u'b_wHv7iAjHDYh6kuiUWtfQ': 684573,\n",
       " u'CVcBi1AmgFEX4TAAy12Z8w': 768840,\n",
       " u'KjuR3dKM1x4UY_BkE1lvLA': 424372,\n",
       " u'r9g9QVHdHyuDfESo3hYymA': 2304204,\n",
       " u'QHEb_WjSnl-QAFnP2ABUig': 1333439,\n",
       " u'WuoyIN3FC0mdkaKei5oDSA': 2405670,\n",
       " u'kU7AOpzjJP_u-3_LX_w-5w': 1154576,\n",
       " u'_zGyZV_NTHTvrafIZ5YlUg': 1312568,\n",
       " u'9MxRYzGi_MJYS5wKeCGn7A': 222093,\n",
       " u'0OFwYnNzr0G_fnHdKt3GHQ': 884374,\n",
       " u'GDytBt1CBlYgzlZt25SJkg': 1895099,\n",
       " u'cxG0act6_PG6Kxy7r0kv2g': 1259622,\n",
       " u'WXEJpzrzu0OpgmO9jjTGoA': 323095,\n",
       " u'7mI7Deoi9AxkVJof-arVqw': 2370719,\n",
       " u'FgiYYMR6WRDeIE9tGGD4GQ': 2639514,\n",
       " u'ezl2Iwj5LuMfu4HAvOfTPw': 802442,\n",
       " u'lnQGodIILgU_qA6bLz-ORw': 889814,\n",
       " u'MIJ7JnxP16Se6f-94IBhDg': 1710169,\n",
       " u'CzowlnXtxn3h8W9joufwjA': 832120,\n",
       " u'IPGiIwIMUzdjn64S3nL4vg': 305600,\n",
       " u'8qPn9hPbpxdCrDQ0Z6AQmA': 2414890,\n",
       " u'7nOM5wzms7AiqisfhZ7fjg': 1551728,\n",
       " u'Gulsxk9dJ9k9TaLapXiROw': 1888930,\n",
       " u'BUVtXBg6B0KjGaTThPdczg': 106140,\n",
       " u'GB0lBlVMdQrUNjmzRzvExg': 2190583,\n",
       " u'gDExmrUFfvsttGWMReXvIQ': 936532,\n",
       " u'MTfVYI0btrh67jg8Yj33OQ': 1174997,\n",
       " u'-Y1pUK05jR-j3nXoYHV-8Q': 2089935,\n",
       " u'8AXQk2Zq0gj-z8WZ4_ue-A': 2519335,\n",
       " u'J-nle7_7lp9umU80G1XYgw': 992620,\n",
       " u'6QG84_3gceH3O2UfRwLzKw': 2840973,\n",
       " u'8N59tTY7i62a3oU_wYPhmQ': 2102916,\n",
       " u'fP5PIhgPFzGjfWKADrbsVw': 2156468,\n",
       " u'CrbCATLA_QIa1hgxI6R4gQ': 1534254,\n",
       " u'XHgOx0nJ2srYi4LyPucr9w': 38674,\n",
       " u'9v70o4_tTsyZipSlCy3FZw': 285582,\n",
       " u'QO5Ub_BQLVxXG5ovOX61RA': 2436212,\n",
       " u'_O6bonvqjjTnyxx1Vv8tOQ': 995232,\n",
       " u'BNsGIhV7VLvoq5lol7nF3A': 1057386,\n",
       " u'tZwrVKlYBGFoLgdC9lY57g': 2554578,\n",
       " u'vc_GvSyuXru5eswDDWValA': 893712,\n",
       " u'jjVberBkPz7PZoMQH4uVAw': 159317,\n",
       " u'MmPmb9HWqhzTQ_aGOsHaQQ': 2615802,\n",
       " u'KBqw6M-4Xz2XZFi2Up_9xA': 1259366,\n",
       " u'YZOCj0xhVsAuvxrnkJCC_Q': 2393136,\n",
       " u'Xv57LGlczvr3foD6PY1T2g': 1666053,\n",
       " u'Ccxkac9BxucmmlOOkZA6_w': 1400968,\n",
       " u'KnuowIJj163LlRCyryj60w': 2385397,\n",
       " u'5aQvTPUBXeXoE23PwDgfng': 2834774,\n",
       " u'NqhVpAcPWAUDPhFX3-fMkg': 303435,\n",
       " u'sB9ecAH6r03KBB8vARm80g': 1299590,\n",
       " u'kTyNP2cnxzVbLs-N1fBFww': 1678535,\n",
       " u'6YJT4i5fJLKZl2d0-01sng': 1879994,\n",
       " u'lbXjhgs2oD_2w4CwRgogVA': 471887,\n",
       " u'-uOG94C694p-2UNO4zdrZA': 179202,\n",
       " u'zXTNgx0kzA4TIGAhutmvXQ': 211173,\n",
       " u'hQeCuifleAEEbMjS5gwshA': 837203,\n",
       " u'xIGrhjUAbOZl6Vkx4bgPyA': 1409046,\n",
       " u'YHwSq7TqifYXTlYzSWg0og': 1566596,\n",
       " u'aue6RpzmVWYz5ypVOYhNog': 1608955,\n",
       " u'gmljPaw80iRqbZ5n6iT65g': 1287388,\n",
       " u'7zYWRrxc15tSN9F4Yjjaxw': 1322286,\n",
       " u'w4lq_L5MR1ueFro5niolKw': 2255555,\n",
       " u'hXlAcCP7L7Gp1fixNn9_KQ': 1456637,\n",
       " u'BieZsOIrpxe8iWopv_d-LA': 1011665,\n",
       " u'asZYRFlrWuBASBd79BhYUA': 1718093,\n",
       " u'gPbBc-Jjcq5LB40xC4Fb6A': 1030712,\n",
       " u'Mtu4LIxZWntcasllGv2O-Q': 2185748,\n",
       " u'cZ26LAoBMNAEO9COUbtnFA': 2613018,\n",
       " u'1AI2Qbj-TYKD-gjHNfj25A': 1799312,\n",
       " u'ey8XbBCrjhR8_U-g9AN-tw': 2082780,\n",
       " u'aZxVzJyVLA84r0tLcbYDiA': 1796329,\n",
       " u'20Nvr6LOvAjxw3CGrE52ww': 2699622,\n",
       " u'BMgsggQU5ukthvFyiMoEkg': 43595,\n",
       " u'eZzjNjrARhIqLVuG6Fo7gw': 2277151,\n",
       " u'bz2pVSHpkjbMcRiSD5e0RQ': 1493608,\n",
       " u'OCXwdFF7UbRVeyiRkibohQ': 2783242,\n",
       " u'--2WluEwS6KHmD-2v2V5sw': 2818086,\n",
       " u'L-LbN3tjB5N7qpgsDxxL8A': 1732799,\n",
       " u'9G5lMI2dXDvzHEBiwiznqg': 865543,\n",
       " u'r8Oetgw0bNhMoQDgX6w-fA': 1192429,\n",
       " u'XSn6KbKIip0tM5z9S9aEQg': 192401,\n",
       " u'uVUF4nm1h9UO4Ay2jrAYAg': 2252744,\n",
       " u'BHjWCm99M5aO0mRO5o49jw': 689184,\n",
       " u'lo-dNC525yQyicJLQriuYw': 540684,\n",
       " u'2dVVio2cSiCwsg_3A5pFlA': 453793,\n",
       " u'C2QkhyZwNRz7y1XnZlWjMQ': 1804268,\n",
       " u'lSAqbcuuoGS0Uc9lSmDDMg': 1202792,\n",
       " u'CSMNLNpLfWp2bLBC5pUj2A': 547879,\n",
       " u'vSn2ylB7r5MQesAZBYgwBA': 272609,\n",
       " u'R4BAlRggQ7JgLAihdzwBEg': 681692,\n",
       " u'GXZpWAqRQAD1vtG0fOBuAQ': 54436,\n",
       " u'rLIZONSHkRxqOAguGZKTgA': 1620884,\n",
       " u'zgkg1ilJrPSiYThIN3z2eA': 1383133,\n",
       " u'a9atztRqe3K-Z0S_107S3w': 701238,\n",
       " u'P9CodzcUP8EUNVfHfp2zLA': 790301,\n",
       " u'dXaVSGdttMpkl_-6dAs11w': 2042628,\n",
       " u'--2j94GrXEObXtTKNUGl3A': 655028,\n",
       " u't7WC-hnnF8zhN5kM8Q8UIw': 1059539,\n",
       " u'hxyF37kP-iEjmO-wPpuQPA': 1589795,\n",
       " u'VJdmaLYYeMdjrzgVyBnEhg': 96326,\n",
       " u'AXeFIsQY6WojY0YGjefSMQ': 169021,\n",
       " u'PwNm2n37k72w9zK2YlCVTA': 2159097,\n",
       " u'DFnwh3Jxvc4eV-tq33EcDg': 1820875,\n",
       " u'f0iIA-QT_FmFD_PlT15Q5w': 1373333,\n",
       " u'0rGUyc0E4tWjfxMrIx1DUw': 796898,\n",
       " u'a-aTQH47iScTdQsyC4i1AA': 525061,\n",
       " u's78zGGRkt_iHNImByLA7Aw': 2582804,\n",
       " u'mNNF4J2kqGQZZGY6g1efhw': 153432,\n",
       " u'i5RdFbgCiorpsGCABHJN8w': 1409620,\n",
       " u'VE6XQEKXBq3B2wpXj9VfBA': 1148631,\n",
       " u'a69jOYBq_bAi49UQl-n4BA': 1509589,\n",
       " u'2UNXU5RppkceLRYLtXO74w': 1454615,\n",
       " u'ReOG2VBs3Rtdu2szKftDRw': 2328563,\n",
       " u'rq86JwohTj4BVQPzIRqBzQ': 807528,\n",
       " u'1MHAG8aGAG0QtuOwNtSldw': 2054854,\n",
       " u'zdVB8sEi81FVZtTGVoXZWA': 655593,\n",
       " u'opGZDPYTHpo7Cs_lOPa3CQ': 384314,\n",
       " u'SqA-ga11236rJUSCCVHxJw': 1002985,\n",
       " u'lW2Dil0gwx3JK-jejWYMhg': 2364243,\n",
       " u'NHUS-tFO_6gmWi7lNejn9g': 2737012,\n",
       " u'n-u57OdgFwMlPnLsTiGpTg': 897556,\n",
       " u'4yYcYijGBWYCwOqm9FPpag': 1051558,\n",
       " u'tvLkgX0vmY51vmwe5CLskw': 2238016,\n",
       " u'13P-_rn-TBGIo4QVhV8z1Q': 531602,\n",
       " u'WK6h4WoyXbkWRUBrlfBy9w': 221853,\n",
       " u'UGGymB92YjGTNIGUy_4dDQ': 2720395,\n",
       " u'6DbJ4QnfkIjXQXKBLqKJQw': 1218842,\n",
       " u'ryTxyAgAW35wWV0-Y_gZyA': 1144644,\n",
       " u'zzn86OsbJYt91AwH0uDZJQ': 2353297,\n",
       " u'yeOWzt9EHH4n-hfqLyVqsQ': 2361343,\n",
       " u'SCAahdj6nx3Wb-Z2-7Cseg': 311960,\n",
       " u'BMvMzmRJg4tAXCMa-MfBrg': 1821046,\n",
       " u'axKKSC_PlpiMe8-lRFE0Yw': 2509650,\n",
       " u'wIbGap2okhwacsxgeL9lyw': 1566868,\n",
       " u'vq7ckZkTmnCA6HFQ41BChQ': 96541,\n",
       " u'_cS67GFA7WmBt8HapXSX_A': 2593066,\n",
       " u'-mu5VOFDfajg18ee5LhAzA': 2766707,\n",
       " u'oBpdsJ5IUuVDlqkX7-FWhw': 198581,\n",
       " u'PBYGZ2ZNCmBhcLZpV6Lxsw': 2490045,\n",
       " u'd9voLJ7u4mLm4mdravD37A': 2320937,\n",
       " u'ZF9-17dZCEeuJ4b_bed9jA': 393169,\n",
       " u'VSPCSCacmolMkcmLyRzdGQ': 61599,\n",
       " u'CW3jS3f7CdVgFtMmL4TuEQ': 1713168,\n",
       " u'bcTwRpT06Xr_HkWIkyriuw': 380823,\n",
       " u'fUBOhUdJfyYBaKd_kd03nQ': 1095,\n",
       " u'CU8h7eomUDDb9Ah3UbY2cg': 590581,\n",
       " u'IW4PCUN0ShRNmS9rFS0XYQ': 359125,\n",
       " u'9DUdtuQ76JJkujQDPgvBXQ': 1139738,\n",
       " u'612AP46t7OVmsGYTZncxrg': 117952,\n",
       " u'Q4GXcQWfc5HBOGt0edWyjg': 1671655,\n",
       " u'g1jL-_gzDEjjYwqY3zlebw': 1317588,\n",
       " u'RYidvTFDMmwB35Zz_UOAfw': 1021282,\n",
       " u'rh85MDSkc9-Ls8b-LO6WbQ': 513743,\n",
       " u'KnZBWUqnGVg-GolzBxR9mg': 1611732,\n",
       " u'zN3AzxqbIklox7WtAlc1CQ': 431225,\n",
       " u'u-827e_DPtJBwYXw9OI8Eg': 1470628,\n",
       " u'9qhgLwg8L-1AHa0mVKtq9Q': 401660,\n",
       " u'HUKN5gtzqVgpymYH0r0gVg': 1273757,\n",
       " u'OmZINg1Gm66tjOkoV5tqzQ': 184957,\n",
       " u'BEtbW6VvTEZlCcPevcwciw': 2544262,\n",
       " u'790k7xdQi3EKaLDEU5JceQ': 67572,\n",
       " u'm9BnfrXwY0A2PEAgPxodgg': 1278051,\n",
       " u'yDqtVkf_cf3rkT6j0oku8w': 2745842,\n",
       " u'fAVsxDUCPILVsYZqic9e4w': 2679255,\n",
       " u'Mb1EcaPIUXPHEB4Y8euCQA': 2612859,\n",
       " u'ZNaqmHwfxM-Jih1BoZzZmg': 1380315,\n",
       " u'wIWPrUm7VebAoLxvJ8XWig': 2647421,\n",
       " u'YJk9AckA9ViOkhIQ5hRzCw': 2537559,\n",
       " u'BBFLsvRCgoSvysqyrECdBg': 420730,\n",
       " u'1__cQ-pJ_hbW3-ZAbFP10A': 2180511,\n",
       " u'ukmm3O51l0vG2ZeTids0Vg': 410389,\n",
       " u'OokotK16Vi2UxkqV47mvzQ': 2322061,\n",
       " u'-2TCgKQbuXtjY1xmTSpsYA': 603424,\n",
       " u'9r4yFh4Hh1fy5ywZYSpAnA': 759443,\n",
       " u'Xb8WrPxCc8O8erflrTYT4Q': 1671113,\n",
       " u'4g3SnmJrn5FWk57gtfQD5A': 2270151,\n",
       " u'x3XcU3cAvrIAR_74arYzDQ': 2741082,\n",
       " u'Cdf2bdoB3Dttr4TdfjmrbQ': 27924,\n",
       " u'3FFUuO27_-S7cndIcc4KEQ': 568356,\n",
       " u'Ybw5fA2swEBITcqMRxs7fg': 285875,\n",
       " u'GDsnphV8iCdhWCFxhoJDYw': 1366669,\n",
       " u'yinSURBmy0Iinyx-QG_AxA': 217842,\n",
       " u'pCsp3Wt5kjR8IoYAhlZ4bw': 554842,\n",
       " u'_aFhaH-ep-PUwagTkVj-KQ': 2267647,\n",
       " u'XLKhY-E25eGbCHxndrbyog': 2421972,\n",
       " u'jtmJWuGN8qvcM8aDCVfcxg': 569170,\n",
       " u'yuSpvP6Ta97xBUw1XKOlIQ': 2638521,\n",
       " u'2JBIOeB8BXPEOwkFge5YVw': 2138109,\n",
       " u'0RNL9VutCQdH2GevfIxZUA': 1947913,\n",
       " u'JNxocCMdi2_FuZoz5dd6Pw': 298315,\n",
       " u'zzfA1T-iJQxFOPu56M-34w': 2567507,\n",
       " u'WAauf8Jy4vWXYHhC56oy0Q': 669930,\n",
       " u'q9Fx7KzA0rplbgv0BfnYeQ': 37876,\n",
       " u'6EqMH59dz1yeIr_7tqYkjw': 1555220,\n",
       " u'xk_4VZHzJ8FPMwZAoX5Zng': 68474,\n",
       " u'7WqiEpBeCr1zNQLmd3OhPw': 546222,\n",
       " u'Wvyfoevl1ve4BMNy5cO-Fw': 2454938,\n",
       " u'p-TNZoPjEVOLHduNUzeb4Q': 2428645,\n",
       " u'F_GzP8NJEQ258TwCF7CV-Q': 1015204,\n",
       " u'TtVXYtCpUpTilPP3bHOmRA': 1058369,\n",
       " u'ym8r4x6-40vwR_brHqs_mQ': 1241577,\n",
       " u'HfOzgR_kxZNBOVMFjVw7mg': 106906,\n",
       " u'0HDbmBdiXv8EYFq6YK_Urg': 1269600,\n",
       " u'ywFBT0klH_5YtJViOcjoLg': 1672953,\n",
       " u'Is-zXV4dm1G1wjhVKlRjkw': 1484953,\n",
       " u'dVVYdTH4ohTglcnuurZ_uw': 1533506,\n",
       " u'2jVnPWLDrK-M-ZmZhmfdTQ': 1780257,\n",
       " u'Q_OCYS-mahKeU0m0Kuntsg': 1218596,\n",
       " u'cOu2DzOWlS5fGnlFGC4EHw': 1816251,\n",
       " u'vnXOu-TxfI5ZSwkmThfMHw': 1039089,\n",
       " u'uzk56v2z9M1gnJdmMdRoNQ': 2778706,\n",
       " u'wf7vEfGdIbuF0aG58cAv9A': 1569520,\n",
       " u'NdndCE8T98Y-ZVqtYfMzgg': 858890,\n",
       " u'NfcJWGH0F5P3KN72FFZweA': 468071,\n",
       " u'bxaN7RPY7mqeWjk0cjPbCQ': 1133149,\n",
       " u'6GZlwM3-TYogWtGsQIyUvg': 1558275,\n",
       " u'KtHn9pWnIMSgLlXEYXOnBg': 972865,\n",
       " u'uIPP2MZ9SfcoZuBistSDdQ': 1093876,\n",
       " u'Psl2VDGV0OOa3GgZ_qX91A': 1915622,\n",
       " u'6h1TmJMRUrU0ObS3Zd-HpQ': 2080026,\n",
       " u't8NQS1BEwyiSly31Y7vsaA': 2007923,\n",
       " u'hXXS7gVgYzyuOW21QtZcGA': 2517723,\n",
       " u'TRVaBt_7UamqNsYkP5Tyzg': 336215,\n",
       " u'KNKOaNkRQzPoWcRigEaoGg': 136520,\n",
       " u'Qkmr0td-MIhJsWv1adVLXg': 1578389,\n",
       " u'gEsWZMPiSVhQ_0NjrGL03A': 415246,\n",
       " u'xNnZ5aAMHJpzskcHGUObaQ': 2464807,\n",
       " u'WIAFPxwRo6U0iTc4u48o8A': 2357898,\n",
       " u'k93GeWvRJMY6snpFVXpZTw': 2526028,\n",
       " u'KPxrFCuCr9TwBlsZEtUtnw': 612275,\n",
       " u'6Fatix542sbJliLduxIsKA': 140090,\n",
       " u'6poHrafVxYGKqHZ8iNmzNQ': 703576,\n",
       " u'SUeKNRv41OCIym0qwxVKnA': 153193,\n",
       " u'9fuAnMQLMneGmcZVqlRYig': 1712272,\n",
       " u'U9pG4jQizMsEF4jGS9AGHA': 1776296,\n",
       " u'gkno7jBDkKhhgWlcAmc5eQ': 1288163,\n",
       " u'XOIII-0hAwDyAcoaj2jCIA': 2452335,\n",
       " u'J_drPwELPLZiYwojm9j-XQ': 825563,\n",
       " u'r_1V5llmQ4tn3SOekIc4GA': 809990,\n",
       " u'6KaPBjM2w-VF39H_rn9HsA': 1133771,\n",
       " u'4yroUvnzv5mV6Q1eWOeHTg': 2820817,\n",
       " u'TQhcYdx3UvVhmcq9SexpqQ': 80592,\n",
       " u'jnEg5jAZ2mrNZOEx2Ocszg': 808662,\n",
       " u'10qXvIxJWF9B9xZIuA9b7A': 554665,\n",
       " u'Y0g4g7tk4YUhmgfgTXfAxA': 1968084,\n",
       " u'R4q0k6FbJtUr5yZq8l3YTw': 1289657,\n",
       " u'BdumUrmj6xbYjQ2-4IUWPA': 340688,\n",
       " u'mWIGWBNjWCMwl8BcZWHx4Q': 89342,\n",
       " u'DMiasxeKZa1DiBsdq-7oXw': 1895110,\n",
       " u'2Gugl6XcR8iwNg5GKzVSPg': 543593,\n",
       " u'yGuXGk58Xj2ob4N7X2dA0w': 376542,\n",
       " u'CkJeQp-OtLpm282pmKj6Tg': 440872,\n",
       " u'zT3iXCowIlPwZC6unAB3cA': 1891072,\n",
       " u'sZExZvMj9nHC8uxEY7XxsA': 700928,\n",
       " u'HnRzedmC6e6RI03uLbqchg': 172103,\n",
       " u'eOZdhqfgDZaRFvxlNvCJIw': 1458865,\n",
       " u'wFxzJU0-8qZhNdPkoxtsZQ': 766205,\n",
       " u'JiozXhHYNwQ5_1LkvAjU7g': 1388975,\n",
       " u'8GattJKiV0Lahe0gL8A7Xg': 488262,\n",
       " u'xaf2bsKZDKUuRubQKQw2Wg': 945195,\n",
       " u'kSMLa47dUm-LX2-fVIMCGA': 992162,\n",
       " u'aF5mhvISLd-IvV1JtOgomw': 1710905,\n",
       " u'aY4AIHpK8zsfImcaZcxf0Q': 1056623,\n",
       " u'tRYPzz1X_GNyaBoz--e-QA': 533442,\n",
       " u'w9KCXfmAUWb5k-l83J5GRA': 1031224,\n",
       " u'mulG-DLkNPWvMTHMhll5Bg': 1170627,\n",
       " u'mKfouHrpI-K_pB-YVqQX_A': 730037,\n",
       " u'vfgm_9uqSd2EP7xbtuibKA': 2732281,\n",
       " u'LcwNd3myyRsubtEyZCFevQ': 18323,\n",
       " u'zQ7kqr4rOtd1rshUlxTOZQ': 1142282,\n",
       " u'NZ_mqyyv1tLjkrvCddkgog': 1101952,\n",
       " u'tw41DEJFPWjPZlxSlCkILw': 1823812,\n",
       " u'RXvjE3YKpW-WRDoOs1Zv3Q': 1858231,\n",
       " u'x3MsSDbbniRlgq_bL4MyAw': 720624,\n",
       " u'GD2a2vZFhszPaqCGIuFo5Q': 1061111,\n",
       " u'ryuLv3t9XeFpKg7K7XGk3A': 578904,\n",
       " u'Gtf55lgfW4vnifH08AKqTw': 2804927,\n",
       " u'Mh9whImgJ2Ih9HrmDRK_tQ': 871217,\n",
       " u'xt7pyDS_Xm_amTrzI7ZTHQ': 254671,\n",
       " u'rbPgO4pQgQubhpU0MoU1YQ': 1586399,\n",
       " u'faecnl2Uz8MKrRG8Ek8RhQ': 104522,\n",
       " u'Pix4uZMoEveKaa9wv-ib9Q': 474336,\n",
       " u'jr59PzPPosHH7EtA67t_Rw': 815937,\n",
       " u'OoXf2kAxDK-YnQZ1zpA7mA': 1682659,\n",
       " u'7nvqdy0GB9u5aedKptrxQw': 2787403,\n",
       " u'_rNp5AvoEjOV4aoDsgKZcg': 2340610,\n",
       " u'sNJHEIXbHTj14yPh0OXsHw': 798000,\n",
       " u'Shrv0Qn-4v3refhie2X7SQ': 535608,\n",
       " u'nZ-X_tz7VkkBQ3RdimeX4Q': 2841391,\n",
       " u'VszUX1ccLwFrqNKgkQKLOg': 1525938,\n",
       " u'rqIvbZCb_7WFvucHM1vq8w': 1371132,\n",
       " u'lyFecEp8mQVRLcOKxXyuKw': 1093631,\n",
       " u'pWmNV4OKtHknjFHJm-nRbw': 2724952,\n",
       " u'ohOEKgZjCVds0-SCv55DpA': 1247265,\n",
       " u'NYut-6YxHqiFfVM2iPj-_Q': 1622712,\n",
       " u'0PF7PWrVuys5fN-HaBeX3w': 2741051,\n",
       " u'rMYwaX9ZcNiEaGyrWArM8Q': 278173,\n",
       " u'p8MLmywJpPbNqD1WBfjYfQ': 2087368,\n",
       " u'Oh14shmQM3D0UXLO6XmwFg': 1002287,\n",
       " u'JHfN7nZ-3PtYAvPLZfh9lA': 77734,\n",
       " u'shmwJGP_u2RHIyCFrvhYGQ': 621914,\n",
       " u'yAx36ReHLWXbuyAAOhi2MQ': 932689,\n",
       " u'EY7j31OIYeJa-5qDURNFmQ': 1512594,\n",
       " u'Rsn0-yv_uPTnONzqUuYE-g': 2027862,\n",
       " u'KjN7H0mtYhwuMWu9ss8mGA': 2370074,\n",
       " u'-SBhF7BM4CJkQTAUNV-nmg': 921786,\n",
       " u'wMZl-Aj-9cOIVyexpD3-dw': 389737,\n",
       " u'lLkonzHeQATHeySl9pTz0g': 1734543,\n",
       " u'L1S_lE98DyleI4eNTM17GA': 916841,\n",
       " u'JzRL84HY2BIz70Yoe8AaLQ': 661910,\n",
       " u'a2rW83fYGvmzAv4HwTg9MA': 85940,\n",
       " u'f0cws5HlJixNX_-dX0P5Cw': 2131693,\n",
       " u'SfJ4XLuCwHkmG0A449nEzg': 2176772,\n",
       " u'KjlXCvLuYzBb3eJL3g4KgQ': 2351396,\n",
       " u'VsE68qb_Urjw9NbkJ4aM8A': 1048421,\n",
       " u'EvGQvguqjR9rg8yLWk1H0g': 1287541,\n",
       " u'Pw-oWpdyPaGIuLyUVfdu2Q': 61363,\n",
       " u'uWFKdKe7UNLDkfCq4F3CBQ': 2130321,\n",
       " u'U1lbMx8qDdZIQmDmwfAIHg': 1632267,\n",
       " u'oDtGYm6a_mJ4A8_Hn7KYMQ': 422964,\n",
       " u'-4MvXhMGerwgAq0dl_1EEw': 2094238,\n",
       " u'Nytco3XBdOQxa2XN1d05_Q': 1245860,\n",
       " u'-7BPlpVBVCvRvmPbmZqU1w': 802784,\n",
       " u'FELCnYQNoCjIIY7OXbPCug': 1773335,\n",
       " u'ekXlirOTNWwlQNUopwjK4Q': 1668071,\n",
       " u'tm8tKdKBBt0l0DZY49pwHA': 2568668,\n",
       " u'5fTKlUfQO33ivc6Ug8eVpA': 873621,\n",
       " u'_IZBryQB8d2eV-zU0QD5RQ': 2225642,\n",
       " u'xQ7BOaqgOHr2Jt7qGC08Yg': 664189,\n",
       " u'spoevJxoiGBu7iMNNAfg6Q': 1036880,\n",
       " u'2tdND9ChqtYNbptWyw9pBQ': 760288,\n",
       " u'3HiW4zwBJ8KcManWh1_p7A': 1114774,\n",
       " u'0BVeTShMDlK35vaulmJ1Yg': 1208240,\n",
       " u'7Wil930UUifqRy_DxClqhg': 2204424,\n",
       " u'qNjlf3grockiuPJSfdOMyQ': 2059478,\n",
       " u'7INcLsDBvfejjlXGocdRLQ': 1095634,\n",
       " u'SysAEb7Cn8DBZ8ImTLFIKw': 1609756,\n",
       " u'2ntiFBL4KHeCxKqs1aMbrQ': 22404,\n",
       " u'EdlNPYGzP1Zq9DNT00vZOA': 222734,\n",
       " u'1MEXnX-VWysYhSNJQYIGQA': 1338347,\n",
       " u'hdXn5s2G_WogXKoHuN4p-A': 2538078,\n",
       " u'U2es3uphDpIo6W1jEcw2TQ': 805369,\n",
       " u'LfM1QaxVSPtAoXhCFSWuuA': 84368,\n",
       " u'-aGd-iZtOx6QHIcRq7JKgw': 1269115,\n",
       " u'fhQPJ1_JBGf8_Y58P_NXbA': 1326640,\n",
       " u'HmrApJXPoQl5qUT4jsDQGw': 1007560,\n",
       " u'nC9B8AksjZkU3FUmpl0jww': 2806195,\n",
       " u'NadhldnqDAjfALAj-eZJ4w': 1797973,\n",
       " u'afMsOd-jb9EcrWcJyibaRw': 2676955,\n",
       " u'Nn9F0KwOlhpdvj0-qidDaQ': 2336034,\n",
       " u'AlTrcfgnslYmZrZa07fUfg': 1277152,\n",
       " u'4Q1R81rs3wVGTkRPv_ARCw': 1885781,\n",
       " u'n6HnudZNZ3Pk7RTfwIwTsg': 2200263,\n",
       " u'AriowI03JCcJhytuj4zMvA': 2000779,\n",
       " u'pYY3Z3wcX_kIQrMC8sJN4w': 523738,\n",
       " u'6JNsuCmlHsu8n-WQ8naFfw': 1098085,\n",
       " u'3d1lM973UdqhYfVUX3Y67g': 1228420,\n",
       " u'w1DFZNJaUl5GPgCo1nB1jg': 2740080,\n",
       " u'WnQd7pEUSTRPY6GoqtydSw': 92122,\n",
       " u'Pdrgf4cDncejj84SFzNWUw': 1384947,\n",
       " u'aWOnJ6-KratdUrhtrvQ8nQ': 897246,\n",
       " u'rPbLTEXYKATj9Rfs5sg6Zw': 1801092,\n",
       " u'SeruJrbCFiLTltwA8c8p6g': 401225,\n",
       " u'S7JqtrWPPeYqjbXTDZEJng': 1266306,\n",
       " u'aoSODuLz6yjr30PyH7-X9A': 665984,\n",
       " u'G4nHcltP8-3poBnaHELCVQ': 2325657,\n",
       " u'P_GR35kbCMLUTciUbpiHWg': 935527,\n",
       " u'WqADn3w627ZWdIQlS7TErw': 596814,\n",
       " u'ZIEb7O5l8fLxpbHSUa3PeQ': 1309948,\n",
       " u'iDxVzWXq8A39BX1HKskOHw': 2311490,\n",
       " u'9z9RqepB8O607UBBYMONHg': 2290276,\n",
       " u'H3WAE4O2k9gA2yfOnNcJNQ': 302917,\n",
       " u'pKRM9PZC_OL5yRbR_-BDXA': 732948,\n",
       " u'Z3XX3noBa49aIqlAW6WphA': 2137441,\n",
       " u'Kh2y_j5P4m8-TrCm1pU1qg': 1127315,\n",
       " u'gtFo03ahfFPkEljUeorc0w': 2097569,\n",
       " u'og8Cs8sio8bEyK7wIKKXNg': 2744981,\n",
       " u'v0m-1XjOzHCSZMb0i1p-hQ': 1560719,\n",
       " u'BW0Umo8WxQi5BEBxcKVxbQ': 1073652,\n",
       " u'jWFdUni970bMhdBPp61Mng': 482155,\n",
       " u'pR2_w-d4ULq6L8CDE027kw': 2716370,\n",
       " u'SBvm13xJ5Z_ac_ewR3zaSw': 1437441,\n",
       " u'2M1HBeXTvT8PkSpBGu83Yg': 1998061,\n",
       " u'mFgmhKtv98vHdR8XZElBKw': 1165230,\n",
       " u'q5_8jjU4r5jHBcEdk4qOnQ': 818090,\n",
       " u'87g2rdc6EF_FEmZuwe-XVw': 1050113,\n",
       " u'VFPM4953Akw34SM859jOxQ': 735603,\n",
       " u'pmb_i8xSark_hScIOOE4iA': 2325460,\n",
       " u'aAWKYpml7cPMVm27WbVd7A': 1373256,\n",
       " u'vSynEJySodUavE8TbG8GSw': 2327388,\n",
       " u'xyP6ovAiK9esZQSCOMPYzA': 2741651,\n",
       " u'5q3guIfXHYjyBlEoCt78-Q': 88461,\n",
       " u'vIt_ktmhLceb4g6dOOnvPw': 2791078,\n",
       " u'i7m9SxwRYx8VG4FOuObfkQ': 2457858,\n",
       " u'tu_LMt-5PngxlZWm7R52bg': 816662,\n",
       " u'uAQJtRgDscLye00ZXrbBrQ': 1263348,\n",
       " u'kEoAj1WECtXJo_W-hLkO0w': 292781,\n",
       " u'spsiKNZ8yNjdPXzMyEE5Kg': 1365687,\n",
       " u'9dylc38enSx8G1qTFjUKyQ': 1202256,\n",
       " u'k_QHXcVnIPjwuV6043HsuQ': 986602,\n",
       " u'kS41y78tUOwrCfJlGwn-Ug': 598067,\n",
       " u'RsfPv9WDwsCwIu89JAk-dg': 915658,\n",
       " u'KIN13KtMFXs18R4lyXNHyA': 1540929,\n",
       " u'bT_xzpjHjz6RDzaZIFTfDg': 2391400,\n",
       " u'q59RPwG3wbf_2tNnK0Ysug': 2103114,\n",
       " u'iab4o7QGiohc-H2gBGn6SA': 2569783,\n",
       " u'TFHEPbNE6SGag2FRqLJsaw': 1201373,\n",
       " u'R97HGYhhv-rtBxX0Zji-sw': 357724,\n",
       " u'QOBw4Ou-qq3NkoWF1n5sdA': 1895003,\n",
       " u'siRNowwDxKnWS5vAHKJ7TA': 1826023,\n",
       " u'CSK7eVAFRhIlMD0c5DLouQ': 283389,\n",
       " u'oRvGLge_d32wEmeWFQcBlw': 1333583,\n",
       " u'x3g2ivJyRC1DbA4gGXB9bA': 553259,\n",
       " u'5be9LB2-5u6gxKJnUraY3A': 1075348,\n",
       " u'ltJDsQhLixZdrNLvR7bimA': 1423841,\n",
       " u'l66fNqldKGcS-MRhdN94Pg': 1673520,\n",
       " u'uLDA0vXtU4FuuAQwFeBDKw': 263167,\n",
       " u'Qc9uqM9Pp6SSKP0U-3xjDg': 1892148,\n",
       " u'JlirLgV1_VGO8EbBR__c_A': 1415576,\n",
       " u'9YtE4L0ldluOcx-AIH3NVg': 1314079,\n",
       " u'OP99HO6rjUkWIRnfku0q4w': 550155,\n",
       " u'ggv_Bc3Hhmbai08JTPO-8Q': 2311674,\n",
       " u'TCI4QqdXUGMoOQHJDPaIzw': 1595750,\n",
       " u'JA5ECw2UmYMI3qLwCvK37g': 2846577,\n",
       " u'pMvUk-d_PPOGUqZKMjB7Eg': 292587,\n",
       " u'oFVf0_t6FKrA7rU9G5F1vQ': 608263,\n",
       " u'lRzn1gNanYAX3I2gXaja3A': 326618,\n",
       " u'cKf1VSKxXOrvVR4dFT6Kaw': 27090,\n",
       " u'76B_OgaG5xyhXLatQRoowA': 2865853,\n",
       " u'eKiyQejBJaybTz4-cWL69A': 906973,\n",
       " u'ZoZKLWTgC9AZq1zPBTcwVQ': 1265019,\n",
       " u'U7oKEn_Fv8vk_yBp-7-iDg': 2198508,\n",
       " u'm77lBbt6r2wQH4mDVsER6g': 343927,\n",
       " u'b82pR_csFO_hlemSs31leA': 1372059,\n",
       " u'V_KTFatM3uP4nXLYmPk4Uw': 1414448,\n",
       " u'QPNnD0R3Q64QsFoVVZqswg': 1247563,\n",
       " u'blLqrOIv2mjBm0nsWiaP1A': 2141438,\n",
       " u'hSwFGLaxyyPsfVqUMKhQ9w': 2247069,\n",
       " u'OyM21u4FYq2tmeLmv3w1AQ': 1383880,\n",
       " u'qEeAP7CWk-gRyDmVJXndPg': 528003,\n",
       " u'0dLnvwhKFBmlfeGCS4nkKg': 1855696,\n",
       " u'Kam4NTRJZGJy_MAn6YNtcw': 883527,\n",
       " u'H-5zC8J4eH8_ZdUT3k2Ijg': 1039709,\n",
       " u'kCmiDNweNQKrymDCKVrJcQ': 2135810,\n",
       " u'JTQ6QIfwYnJm-3UPjNJIiQ': 1047632,\n",
       " u'ZImrNnSrXXHRndNZighIvg': 356658,\n",
       " u'JGwqZhZxz5OupxQymGE2BA': 2209017,\n",
       " u'oXdEWWgHdjKLXPR-mU6rbg': 1672636,\n",
       " u'YA2EI3WSlBA5nmVHunqH8g': 2141294,\n",
       " u'K7DAoB4cmzxZCWmivAq0xg': 872969,\n",
       " u'9JHxXMzOi0F3HHJvdjVQbQ': 224711,\n",
       " u'PBVbSxtV5Y3Fnc0j0xKqsQ': 443152,\n",
       " u'W1xS51ccpADvnxSV11k5eQ': 61359,\n",
       " u'qXwArgaqlVtUwBwta3bd1g': 215475,\n",
       " u'Hyj2Rm90ZtR8LJZVaQg0ww': 436402,\n",
       " u'h2mf1Ww9vrjkYX1NgODjlA': 1420645,\n",
       " u'tEMZsEfgNIr1NrmhOxgZYA': 356141,\n",
       " u'UeILZEzI42qWkHOzT_evOQ': 989748,\n",
       " u'ju62NwJEKPX5cUBgDeAuBQ': 250940,\n",
       " u'CmX_kM2pVn14dQUkQyjn_A': 2491292,\n",
       " u'EOFwolv8Ue5j5PUvHxsVsw': 1345907,\n",
       " u'8C2NmrgX8AgVpFGpQFzvSw': 1465156,\n",
       " u'WAnApF7Flgq-lf7rr-cP0w': 494492,\n",
       " u'BJKLj7qNer9UpRxrnRrvNg': 529903,\n",
       " u'DSZXqnjjScp8H29QJ8QR1g': 2128730,\n",
       " u'7UmNUhTD8p-MTYGzP7H2HA': 1852305,\n",
       " u'7mG7wA4yNGmatIDvJp6TcQ': 1715466,\n",
       " u'SaNgaAgMJMTkp8HSuB3Fmg': 1225905,\n",
       " u'_6k_uApXtFjbfGfI7BISUQ': 2042432,\n",
       " u'tXQ1FmPj1---7wFkS3ywcA': 1090409,\n",
       " u'SxOP6LOs8EsbDXN_itfPZA': 803867,\n",
       " u'a-s_5-wmJOBzPH5Jvvjs6A': 1062463,\n",
       " u'PCQaeocADoH2N-Rx_FJ2tw': 407359,\n",
       " u'ee1AjyvDC1gY0qGeMdQRMw': 529315,\n",
       " u'Ys23cWVZsRIXaheNeqAuDQ': 2221171,\n",
       " u'aEdwvribZGPUA4ImaYKPsQ': 2750899,\n",
       " u'gzC1jdM8UyGIrEM0mloFOQ': 2852553,\n",
       " u'Ex6MeWAxvWkUmASJPDh7Hg': 1929198,\n",
       " u'jpzw2U5Bpj2hA34iyunY0w': 15965,\n",
       " u'ndWDLbKtWhltvf--aYw8qw': 420821,\n",
       " u'vvoc-UBHzWBaIQuHAFHf5w': 688481,\n",
       " u'FNW_DICXB49-3ZCuZ1ozMA': 2432433,\n",
       " u'5hbGHP_figUkhskSgua3-g': 677939,\n",
       " u'Qo8M3cW_pZTz0OWw-Cqkwg': 695346,\n",
       " u'pVyQdT976gWfgwVojfl4sA': 1963798,\n",
       " u'ZqQnNpjJDIW59mKxoBmO3w': 2799961,\n",
       " u'VxOd8tii4sI5tF0hnEJ5FA': 729829,\n",
       " u'Jub4LbVX4ewsPg7-AKMIMw': 822118,\n",
       " u'MdU-S-6L7mDtVfaXxjtBiQ': 2198631,\n",
       " u'aGcz-vy7hzzKvd9oI3qSlg': 41851,\n",
       " u'3KNXecl6CbH5PwBltFrzaQ': 349913,\n",
       " u'V5DSM__sQQGe9r3QGpaz3g': 2027399,\n",
       " u'IaLvBmZv-zjG-_MtzeysrQ': 80489,\n",
       " u'Kruc---cJMpRW3lQA7KIIA': 2445360,\n",
       " u'ljjbTLje0-WHKRLDXw9RQw': 1089571,\n",
       " u'iE97sIuMtVwlmlGslu2jSA': 1631916,\n",
       " u'TbTGB2e08aN37PSKp5YYcw': 359746,\n",
       " u'A3DjP5IozxGdJE2epu5veA': 1129968,\n",
       " u'xBOfxbjNOO8P4-WaRHh3cg': 889045,\n",
       " u'OtebKqBjvZ67981I0up8GA': 1384710,\n",
       " u'-xTZZjDn5joHFlynUbTapA': 951279,\n",
       " u'X33LxIicVd8USO5tJN11Yw': 139648,\n",
       " u'lB_vHHoDREMglpVRJPk-Cw': 1982369,\n",
       " u'UiCl5dhlWXqD7ZEWUxATfQ': 979847,\n",
       " u'tC6mp7uRLXVyK9-bpDod8w': 1723343,\n",
       " u'e1sT_-b8fj1lalFABmK1eQ': 1418699,\n",
       " u'fZ5aztr_PTZB1tld6tyF9g': 1995946,\n",
       " u'3kzNzyIGX7V_Jphe565B2g': 387052,\n",
       " u'Xp9P7OHzE_TCLTDGPTIhKw': 961645,\n",
       " u'Vmed0qwdTrz2yQPNWP1X6A': 1182170,\n",
       " u'M-eA1LMdMwsHPHev0GLiMg': 447522,\n",
       " u'g4Ta0dqtqKnBrx91abt20g': 1270861,\n",
       " u'r3REJcw6s0h0XixPGpg46w': 518113,\n",
       " u'GVWCTkbOyyol1M5_m3clbA': 2873457,\n",
       " u'o-4OO4_hYZ6H6oO2jePBIw': 1824288,\n",
       " u'HbpPVXbJVVulxUWTz0h2Dw': 919675,\n",
       " u'w3SV0YmGfC6fqMMZ6h5nnA': 764673,\n",
       " u'3mY9WzreD1zY0QdjwFP-Rw': 1284834,\n",
       " u'f6d5zCvFlhOb540gwviEMg': 672644,\n",
       " u'RnYbM3ueGDMk1SXBfu3fRg': 1543216,\n",
       " u'MdGlIyVrBHTdT87SdRwStw': 1428203,\n",
       " u'Gyn9xbY7UGi7Qb4_-n4GFg': 2411791,\n",
       " u'xKXobr5N61NqqfzOp5u5JA': 2349971,\n",
       " u'BEa9Ua6FG0XofZvV5YhWRA': 889397,\n",
       " u'PnLkPDoJe7wqnnUUHkailw': 292254,\n",
       " u'JlEglwwA8vTrqNzVBAP0tw': 2607268,\n",
       " u'_N9-2X3UyOnDGNJrbd-RMg': 44571,\n",
       " u'va3ApgFRzHr9YVESwxh_1A': 2731483,\n",
       " u'CqfrO6T7zu_T_wod5xN2tw': 2332508,\n",
       " u'neeemah7Wwl1wJTwXc2zrA': 1591196,\n",
       " u'9ZujDx8uH2ozEsz3rOPAaQ': 1368272,\n",
       " u'J2SK0k0lky43ckFdPcmYgg': 1442518,\n",
       " u'oWEx7K7n0x58TqZIyuHnug': 2447589,\n",
       " u'nYxrKUffxfbnwGiVcB-xcw': 99868,\n",
       " u'CvNB--SLihDQU4vz949cyw': 2208457,\n",
       " u'PowE64ATaTA4mxWNsGII2Q': 2738780,\n",
       " u'gbySvxZa5CbA3NFkdqb4Pg': 40353,\n",
       " u'uxKsLbs59kpXpOGYIRQ1kA': 710602,\n",
       " u'sb0Vl2J9vKWB_qNFMKlePA': 2251393,\n",
       " u'4fEOGEhYBnOKoQfK1VxBwQ': 2781769,\n",
       " u'Vhy1PV4qwxlFHQ9pK-Eqeg': 339418,\n",
       " u'lmXh2XwPCKzVtk5MrR_jwA': 101212,\n",
       " u'YFw6nOgn-gPXj_2yaG6PhQ': 246202,\n",
       " u'qc3VKvoBG4IlzBZkQ7k97g': 1766677,\n",
       " u'5K0ni2eSfQvXghbyMYclEg': 465250,\n",
       " u'iFoxcwNV2RU9BiuQ0azGlA': 632795,\n",
       " u'0vJrhJtESJMUolQwIVjNiA': 1542815,\n",
       " u'-Lb4GnswICu7MwCi6WroSw': 562547,\n",
       " u'Siyj7roqRpoiY9IXjY2vdw': 1641084,\n",
       " u'2h3SpbfsSA12uUC_peOxBw': 1168299,\n",
       " u'tn89fjhoTHHtHS68T76Zog': 420805,\n",
       " u'tb9-OoQhqZNRYR-9aPQE6w': 2081241,\n",
       " u'afvmb6qFcwNBMBo7o1wQrA': 520407,\n",
       " u'y8ME3Oe_oz_AjlYOxQyv-w': 916597,\n",
       " u'zCRfr0aD3gMD4bImHtP6Ng': 1065582,\n",
       " u'8ehZVw0-deYqgrmw75VfLQ': 1302961,\n",
       " u'E6ANUptSBONBxeV8nyhGnQ': 1879262,\n",
       " u'H_M2NSg5jZ4Cb1C20hHHQw': 1482050,\n",
       " u'OulJvkRHKvtKEk6bE_XDqw': 2077707,\n",
       " u'Jr4Y1Tyvy1cgAsZnv6ys4A': 1189202,\n",
       " u'ZI0THUvXUl-PyaNdObkEqg': 402324,\n",
       " u'Iuk8G5aZG_tCsZisT3UvCQ': 979961,\n",
       " u'HpViyxe8C0lHi2QyYr0YZw': 2521196,\n",
       " u'JqqTdZFCiSSH2cAFZXFugg': 1983122,\n",
       " u'ndV6LxOSbdmnLWaQhOEZNA': 431924,\n",
       " u'w3jbXzcS79Mtxlq6goCJAg': 688830,\n",
       " u'qEa-EPIWha4sp3jaoIXtjw': 574232,\n",
       " u'Z9iLwrRw0zs1Y4cSir2XGg': 915950,\n",
       " u'hgL7lZxdRDQfn1Z6B-G4kg': 1250052,\n",
       " u'vEJD5SNCiGuXYHjy5bgZrA': 1855361,\n",
       " u'CSTD2yOBiGB_tY3X366B8w': 640449,\n",
       " u'_RD6x_tMndH_1gyLQ5F7cg': 485061,\n",
       " u'G9lb4jyFtLcu4fApVQOMNg': 419899,\n",
       " u'PsV3z5kNskn3DrrFP1UCVw': 2749884,\n",
       " u'fk72_FvGy6sVZelz0i3dLg': 2108882,\n",
       " u'Hm5DAknpCFcJU7pxqPHrBw': 1632418,\n",
       " u'qvkPnMmuThWo2OOLSqjZIQ': 2002322,\n",
       " u'rfKbuhqo1dFPBumZNLALIw': 495250,\n",
       " u'Rneeyl4nUC_RbOeh8oOKqA': 263852,\n",
       " u'_hjow_i-slsEPD2dEDP5cw': 1614887,\n",
       " u'H5Q4xrlXAL8atuAfXiwWEg': 201430,\n",
       " u'cF_CUVw27YSCoYSQPiaDBQ': 459482,\n",
       " u'U8H1tqCWtODZvls64l_baw': 960226,\n",
       " u'5IJP44LNFGdV9y73YiEZFw': 110397,\n",
       " u'mKdX2JyZHYdLSzMhoa9sgQ': 462837,\n",
       " u'nEHPSAr23nbPPUBzuoHxZg': 1035236,\n",
       " u'pylyxa8317Fs0vG__zEATw': 1724635,\n",
       " u'BdFvMLy81tV-IuBDslcTTQ': 1589004,\n",
       " u'rYsVEvgq40rq7rC4Q8p-4A': 564094,\n",
       " u'6_4BiEyPfIIW-o9NpMnc6A': 2202336,\n",
       " u'5kfXFk-8_DkKJIVQAGcT2A': 1312326,\n",
       " u'1Xcz5sEA3627azhSz-zKIg': 2207244,\n",
       " u'HkdJzAgRxuEBBCLNwGW5Gg': 900540,\n",
       " u'RCxwCm28Qceuz2qAJCVvng': 1317523,\n",
       " u'93KqFHYlwcwZRC_MQSWvoQ': 555222,\n",
       " u'Bu5H1YFonJBe6sHGaQZC9g': 1413894,\n",
       " u'tvhY23QlaDhdJAIbBRb4_w': 2839049,\n",
       " u'GXLszqIUu3zLaaQq6pM6hg': 2603889,\n",
       " u'EWqiSqpCRGu6izsXcX-8RQ': 514693,\n",
       " u'mLgvHy-2c5v48oPpUc8k8g': 2089774,\n",
       " u'ayBv8ntSTkkvBcwNtJaTuQ': 1334871,\n",
       " u'cYtcws19ka6IY-iTh31yDw': 2392250,\n",
       " u'iTok9IBGAsxNYV5LeGC_Ew': 1061235,\n",
       " u'6sYAf4LSzu5cgexm5rb6mw': 438849,\n",
       " u's41OrLGWqTEGW8DVdOdmhg': 1257584,\n",
       " u'Zlgal1A01fZEPE4LGzNBPQ': 2157199,\n",
       " u'slHCUNgAr74XpRx8V__JqQ': 186254,\n",
       " u'z0Ynp9JMUrUsvOHQFedLIA': 40043,\n",
       " u'y-if4vSrWB-JXiMno5qzyA': 524785,\n",
       " u'FO4-a0IgCNilOCkxxaTsFQ': 215561,\n",
       " u'T1xJX56tsOWu8-M6VuKoxA': 1297782,\n",
       " u'ZEG5ZoanhtrY2xZJR-6FOA': 1178799,\n",
       " u'Zs_sGC62iEYe11SgpVN95w': 519677,\n",
       " u'GUfV7uwLUhAJOBNe1g61pA': 232852,\n",
       " u'7Wjow4U86cYyF0jy0PMVug': 2075136,\n",
       " u'8sjIwXxvDpXbjFK5udfxmw': 36752,\n",
       " u'wqOxClb0rZTCn5wkGU9dUQ': 2661842,\n",
       " u'7FvXhwu3bZBQN2yXa4FxtA': 2099693,\n",
       " u'5PUgL8aQWGOq5pR8i5O7qw': 90770,\n",
       " u'TZWqPot0eeBb_3fua00FZw': 1455959,\n",
       " u'ZF-JcGwmcRClT1pc_1ilIg': 400383,\n",
       " u'QF4khhdrrJcCC2FuUgEI0g': 1492400,\n",
       " u'yVPKYBo4yLdA0HrmdsEDXA': 2461745,\n",
       " u'aFKWGZ2Z-s8gG-3KFVgZrA': 1693089,\n",
       " u'8yaWBD-aaNq0sC6WkeVTtQ': 2333954,\n",
       " u'EEg5WhpBJIC4e9R0RrVKxg': 1714885,\n",
       " u'jU0gi4ANa5MQOIj1ut4q5w': 2793034,\n",
       " u'Ix-As2XzkmXfqfc_Lu1D6Q': 406175,\n",
       " u'cSBSaGSJyvHHjqSH70yrmA': 2475925,\n",
       " u'ns9Y-HpPs-cpgmsbkwiZrw': 222917,\n",
       " u'avP5TxZPGFUAH9B-8I201A': 655920,\n",
       " u'fhCBjF7qAfO36EblBhbJZg': 2395458,\n",
       " u'XuP7KJOKPz5JhbT1RmpUug': 93159,\n",
       " u'JfTyMq53RUPTG5ygDH-ElA': 92246,\n",
       " u'wHB52Rpf_n5UYgEf_rS2kA': 766740,\n",
       " u'Yh9s8UpDwYceCRZW4pTtBw': 1585757,\n",
       " u'b6I-KqrB4BifbeLyuGD3aA': 547299,\n",
       " u'3JUNTAZAyb0AyNgeq91IqQ': 1159971,\n",
       " u'0Wfunsk8x_ypaDznCTCQRQ': 1235527,\n",
       " u'SHmLKGdplxssJzmle38cEA': 1767651,\n",
       " u'FFm2YljP9EmY1_-DBgBMMg': 47765,\n",
       " u'uv926bvv5lY6Vkn0KwiULw': 878881,\n",
       " u'yvbBFOV0TEeei4N0FF_sIQ': 1181350,\n",
       " u'bgh2xlmcXyDNEZFBKqd2zA': 575923,\n",
       " u'YNGotD_yNoiVrkyF9KCKww': 2560414,\n",
       " u'DUWEFaTPPJ38Ws4jnd3Ggw': 874426,\n",
       " u'dHvnjOq2-N53S4NDrIrRwA': 1114396,\n",
       " u'hIBnTB50vjKe8fokIhG8sQ': 96210,\n",
       " u'WIoadrMzm_V7wOk9S36Ceg': 2763298,\n",
       " u'1-K8YtiYstokuMKraxw7mQ': 1272026,\n",
       " u'4TJgA0HV4xxaM_gYILaH0Q': 1524553,\n",
       " u'-awmgwfOvclearEcJeOC7Q': 326668,\n",
       " u'k8_96sBKeFCLNCY5rJKIYA': 2652474,\n",
       " u'41ZeTpp4RY1ZxmKR5qxvcQ': 2675388,\n",
       " u'qIZZMmJQLWg0UzQqYupLlg': 1503758,\n",
       " u'AKAV46H9RHiAMNUyLFbyjg': 1714538,\n",
       " u'CMQPtumHhaT3N0dGTIZutg': 905459,\n",
       " u'Ijn-pQs90KZDocTul_XAJA': 1975358,\n",
       " u'FvAJ4I0mE7POcbSn_Y8GwA': 601170,\n",
       " u'XKT5TTyWZCt-Rcgu27tvxw': 1189176,\n",
       " u'Xzf0vaFatEAvcRTGUStmgA': 2486263,\n",
       " u'SIXrcyVLZ3mWn80xqsyudg': 144120,\n",
       " u'SBhivjJEEKuiqq4Vs1mxMw': 516342,\n",
       " u'fqk-QxeME3gpvVojhi6ghg': 2165168,\n",
       " u'Dcc1_-JTaB5rjVOt_8hsnw': 171878,\n",
       " u'838yfb0mxzV1nlQ_K0-kag': 1729665,\n",
       " u'G_Yrz4ktg0Gk5tdZ8y1ziA': 1341347,\n",
       " u'4Nl9doRJXfLain1YqPi08A': 1748608,\n",
       " u'jc2SMmEEWcJh5x6eEahf7Q': 854353,\n",
       " u'uDDGSXdjxH7q2A4sAGPb7Q': 2207405,\n",
       " u'OnRY0prG8JnNLKd7Epn7cw': 1497726,\n",
       " u'_3gvlY2PycoGJnGjlZKs8Q': 271719,\n",
       " u'95ihY97BgGOpupxSjAiv1Q': 581256,\n",
       " u'EYGt1GlChiWvfmdzu9gkYg': 466248,\n",
       " u'89WypOJN2QcL2ee-TBVTNw': 2552704,\n",
       " u'F-qNksWXtheM3go84gq88A': 221874,\n",
       " u'ipJWja2zUQWxYvaHvegK0w': 1105106,\n",
       " u'mc967m9Ok2BnNBQbvpSttA': 290757,\n",
       " u'-jG9FhQ35pK2h0jbyVfiag': 1616871,\n",
       " u'ljQposjEK0prtfO02gxqhg': 1170630,\n",
       " u'J5efa3RR1OiEEc99IEP8dQ': 1423433,\n",
       " u'OWLhoYt9teAqTK226AZwJA': 1147976,\n",
       " u'KjpVnyJu4JNM4TWRxfpRRA': 11011,\n",
       " u'5qP0Mbo2uxmVNyd777THcA': 2869890,\n",
       " u'2XkVAR1JqeCCARno81Lhbg': 754762,\n",
       " u'IqjguUfNSWXieyvGz7UOTw': 1855849,\n",
       " u'a6Q73c3EY_FaNNTEjpbbzQ': 153065,\n",
       " u'zzXTztTHsic2M1rca_QKWw': 2369997,\n",
       " u'ezCNpX6TyDFlvUK0cCJdkg': 1873041,\n",
       " u'IoWSHFPxp9u0pxWyPLwVhw': 531717,\n",
       " u'RQm6Djfb7GeXimUV1WuifQ': 90176,\n",
       " u'PSNljTNJL0lv7a75tONjKg': 1481702,\n",
       " u'XmYa-W_YDDWU7QQzNyic-A': 1542094,\n",
       " u'_Rai4djLYtqc7BQ4bbNJzQ': 564317,\n",
       " u'v-7Y5z-aaS3AUXr6jfh1vw': 439274,\n",
       " u'4IVPmif1co0g5rLiZ8kyWw': 1630321,\n",
       " u'TyeG2YN-CvP2rRz65prB4w': 195161,\n",
       " u'5wtfwazuHc61BzAS2NHgYg': 2395847,\n",
       " u'qrclgr7Lwmp485XqqmaUkg': 140153,\n",
       " u'ucu559Lm1_vFnotlpKhaLw': 41609,\n",
       " u'bbn2nVB1GTtxvd1WBj-m8Q': 784874,\n",
       " u'zDMAH06kkDGWv7is993yYw': 2546310,\n",
       " u'N3sXHoKa6s83MpP3RTVYzQ': 2380806,\n",
       " u'6idfQzEYPeHbHUbQNj0zfw': 2069936,\n",
       " u'6kNL3cyo45O0TXa3U_lLbw': 2507450,\n",
       " u'RzEnfhtQLgXhaH5IYvDknQ': 1269291,\n",
       " u'HJxpUb6qxdDgchNX4jxMHQ': 591133,\n",
       " u'mJoj_D2JlFzKfnS1R3d-bw': 2249919,\n",
       " u'P1zxqxMo1Is93PpqBhlpGw': 1148496,\n",
       " u'Rf_70Dbwo2o1QSGA5fgTwA': 396932,\n",
       " u'85zL33_qv-VaoABjQtj9lw': 1098367,\n",
       " u'qrDYaLf_QKUN85ZLyqDQxw': 661124,\n",
       " u'J2zX_sUjABS4Oav5u-oLVA': 810699,\n",
       " u'bJGRP_UbxJmrX4qdemWIhg': 1309797,\n",
       " u'TLsLdSQwFXzUktHmH-IcJQ': 819974,\n",
       " u'Doav9FNtIu2pfZTbvk74Fw': 1867345,\n",
       " u'cET8CuxvvI6eshLKsac4Vg': 2172011,\n",
       " u'Wi6pc1VxFx40acpsRczn4Q': 1794059,\n",
       " u'3RHllNp9OqTpQD-UlXLVfg': 1854377,\n",
       " u'DGm8O1e3zgi8hxh5qPBMaA': 2812236,\n",
       " u'mEq4pnybWx25R3QovbYpkQ': 2837724,\n",
       " u'CIpfxFYRARnMqjSIhy0JNg': 1938085,\n",
       " u'kXkyrPcLTEnelQjoaXlk2A': 1294624,\n",
       " u'QwBBE28XKz2CXuj7x5alLQ': 2510064,\n",
       " u'NzlkqqPkm_dHTae95ErczQ': 1130337,\n",
       " u'Eprj-ONDHCIvMSGkiS7VnA': 324315,\n",
       " u'lrDHsyQjlXOPv3v_PrRXwA': 1554872,\n",
       " u'HMaXHyoNkOc_UIfZ48Id5A': 1790882,\n",
       " u'kQwiquxAMiHfKmNOjMgRvQ': 2652889,\n",
       " u'CGU_BJFBGsLdQzK84cH82w': 2138810,\n",
       " u'c1p70Y_Zp-bbH3J0-Oxq-w': 1988425,\n",
       " u'vmv_ifLaJ6pbSrP9N8_5Zw': 610759,\n",
       " u'7B2TlYRZLMeMBNwgNQeVFw': 890629,\n",
       " u'LUeu6cSSxdUwf9dUG83bRw': 737877,\n",
       " u'2YRbynbDz6d20w3gmD0oxg': 1874318,\n",
       " u'8pJ9yaHbtjBHbtud5NtrgQ': 416381,\n",
       " u'1o4W4SenbHBwjY5Nv03Epg': 2501186,\n",
       " u'oXjg7m84ysZDYITQPwPCFA': 2568322,\n",
       " u'WW6GCA726VqAKM5xcTABSA': 496680,\n",
       " u'60bof5YDIgxqXZ4dSJ6gdQ': 1653642,\n",
       " u'gSXT00wG9Hs3_tu2eWbOkw': 1068228,\n",
       " u'CzxQ9pVk0I27HhG7DIsgNg': 1461173,\n",
       " u'5EEei3osNdtMjJvoD50oNA': 697394,\n",
       " u'KBKMrr25TZJMXk35KykAlA': 944429,\n",
       " u'e_MBqYT1NkmosE0pzYqtpw': 2053612,\n",
       " u'GIEmoSQQJBnZ8OGhKbRHug': 207675,\n",
       " u'Pai8HAbmhAbrfmEgFPrNNw': 586216,\n",
       " u'GO52yU2tZvOMw6YDH6V_gw': 1485082,\n",
       " u'iCNiJk_p3LPfrZaUwUe1ag': 1039939,\n",
       " u'LjQZomUCgJaZfkRbMUXH0A': 1313333,\n",
       " u'sdPsJnfZMMm1W3Diw9d_3Q': 48000,\n",
       " u'3oUbgAJ07M2wka0bkluwMQ': 1425853,\n",
       " u'0ck7wNvXjVTvf0j1WzIR6A': 2136325,\n",
       " u'VazKNjIZV-aHRb2G5olZwA': 2389162,\n",
       " u'qt0qT7b09xCnt-yzI8Js0Q': 1183451,\n",
       " u'aTNYH5oED0AX0x2JbFXzWA': 1782423,\n",
       " u'iSwKfSKyuYCeSy4AAqqbAg': 1130552,\n",
       " u'y1TP4xwEueESDqeCq7K3vQ': 2438691,\n",
       " u'qnqsA_CLNRNcWtFu88mexw': 1010429,\n",
       " u'jGhauoTL6tYDRVjnMIuIzQ': 438220,\n",
       " u'SF4gX2zEMTyizZ3rq1k6UA': 1571981,\n",
       " u'ddhfDszcfB8ucPDTgz7Vvg': 2723639,\n",
       " u'CrjuKCMmYri46mZi9x-_6w': 641208,\n",
       " u'pxA9IPAwg_CaT5xF3uVyOg': 51968,\n",
       " u'nLmKuzsWbaxZM9bOA9o-EQ': 2027545,\n",
       " u'OS5LVrTiapD5s6sroNpSBg': 968174,\n",
       " u'fjQywrq_PS3307MbqPUa_A': 2819905,\n",
       " u'5AHurB9GE7l2eJl5U0Q-Ug': 375200,\n",
       " u'iHgAeu5lMFmG_bJYM7N5Jw': 134597,\n",
       " u'FphnqJH9-WCbbuQgbBQ88A': 1708163,\n",
       " u'iyFgyOHGI75-Cd2uRw7FNg': 774274,\n",
       " u'c0e_MdSjJDnfudWb-SnxtQ': 1213446,\n",
       " u'vj1TDIV28bI4XRbziwJQig': 1284585,\n",
       " u'8rn1Vd44dQ1mmYlGC8UZUQ': 1591875,\n",
       " u'HusYFNftbaA5C50CGYua2Q': 1022297,\n",
       " u'AfQrDZmit700Vru2lUk24Q': 1273961,\n",
       " u'0p5Zs60qMvUiW6n1OcVfmg': 1845615,\n",
       " u'3lWyugdUpbb1v9Ck8-6mWA': 2628297,\n",
       " u'wL80yfELNo6ROSkizjTmEA': 877148,\n",
       " u'o08duZUwE8xjCycCAq3BcQ': 874181,\n",
       " u'bj6S2fVsJVV9r78a9PbHXw': 884975,\n",
       " u'Zfvq2PSQ6uEi9rhQJJvxoQ': 226436,\n",
       " u'IykyOArrjyrli6ry40ZWbg': 2181537,\n",
       " u'zi-LE1KjvIWQhPMFSvw84w': 271126,\n",
       " u'VQuWK0AfvMFgjXXu1vQikg': 1313426,\n",
       " u'39e15KT3fXlfaf7zS1ss1w': 1717330,\n",
       " u'_zOuYOVi-aFJFGs5A4VTEw': 439130,\n",
       " u'4xH8UHOds3SPbe0CTfnG0g': 2836557,\n",
       " u'yFw_b9vN8U9Pfn8mXE7k1A': 1197713,\n",
       " u'cCxHIyym2cJ_mIk0fXE-MQ': 2526171,\n",
       " u'1Q4nf1wJJuOiMXgtS1YWQQ': 809759,\n",
       " u'BgYBeaoWIj6Y51Va7leV3g': 2850901,\n",
       " u'iaeLSDqD7TyRZxsi0zxV-g': 1363323,\n",
       " u'8ttSNSVWYWEPuhSi8eP3bg': 2056784,\n",
       " u'9irygF_aBokFn9-nvCDYUw': 1751511,\n",
       " u'RDVlL1pjkWkRDYYf190gaw': 2182420,\n",
       " u'LmA2O08yeqMtVq5P1yQLfw': 570182,\n",
       " u'PgrpoT-W3BM7yROEQ_u40g': 1746727,\n",
       " u'LReXTiYyscdJszBhe0qlCQ': 932731,\n",
       " u'RBwTwt4u4QNr5ZEidX8UPQ': 2529837,\n",
       " u'ukGN1bvTHO9MfQnZke9liA': 2743402,\n",
       " u'a6Tdgk6rwTQdlPwM7SvQ3g': 2659335,\n",
       " u's46kkfjPW8YORsc6bhxrPQ': 1405948,\n",
       " u'kjyhreQPHK7EIWziosiaZQ': 1044849,\n",
       " u'-vcXTxwQfOgK0co7k8XcBw': 2525563,\n",
       " u'-jB7afW4jlmhpL7cLmN8nA': 1331095,\n",
       " u'MjmnLVYSfvSJTN7gQgGYRw': 1530848,\n",
       " u'SwXNz_cvQXnsVkPWpMCJxQ': 1147333,\n",
       " u'L1iml_LSu_CnUEtbTql3Ag': 2545705,\n",
       " u'x6Kc3_SXXVujG83uTyWg9Q': 391306,\n",
       " u'RJqqonuth5BIukitwzTrFQ': 1953622,\n",
       " u'QPIrrJfWI2TwkEzdRXZDJg': 508544,\n",
       " u'hO7jogO8TnOiQC6_6jPJYQ': 298804,\n",
       " u'StiQU6Dg6odakx5ktQu3_Q': 1375943,\n",
       " u'mPMMlD-9Z3zKKBj0PfqRTw': 523118,\n",
       " u'399YCsN0uorzQRKPPpkhyg': 2323433,\n",
       " u'W0PzYvAFkTN9JOy5S6G-pA': 1641475,\n",
       " u'83q7yas5IXu9UohrkGCnKg': 20245,\n",
       " u'fdyxBAQhwPqtwbNrhzywJg': 1166404,\n",
       " u'x-rlDNylNTZm6M1Dwxcx2Q': 2491442,\n",
       " u'my2yGgDFIY_XRLoODeQuWA': 490534,\n",
       " u'WDuFEgTIvTA92OZlMGy04Q': 968867,\n",
       " u'3B9Sn69gDwMZeA94yXZLag': 2465003,\n",
       " u'XGXbLaWWiZSAQFEg94V0Yw': 1312429,\n",
       " u'CcpMeR-jlyN2TK8JmLBb-Q': 379527,\n",
       " u'GKr6MRHIXzn8rfYbRP0emw': 2710617,\n",
       " u'iznWNoIDj6BvqpypW_HEUQ': 2844200,\n",
       " u'SdBr6IicHu-0yW_2YaZi_Q': 1407335,\n",
       " u'UIKIWVqO-c3Pw5i6h1AUfQ': 534742,\n",
       " u'KlDMwc9NyAdl7kIBtO4HTg': 1388354,\n",
       " u'w7Lhvs3aVTMi2VepRSBEOw': 1277658,\n",
       " u'Iyp4CIkjS5mN0uZziTqhMw': 36528,\n",
       " u'tbL8Ri4XSDxS7N9HQ8bMWw': 2594822,\n",
       " u'PapdtD0jyrSyQEkTNmwewQ': 2320617,\n",
       " u'KA7dS2_p9p8-uqvTG5gJOw': 97518,\n",
       " u't0Q5eOEgbwIwAgM7lPrxjw': 2332551,\n",
       " u'5PHHE72sjIldEYv5Mq2Nbg': 2443471,\n",
       " u'bSy1hf3Nrnae_jkkPKkz8Q': 2737920,\n",
       " u'tIyafdeECsjPeUr6atePvA': 1547035,\n",
       " u'Q_4swhW2sLHGM8KGnd__ZQ': 31816,\n",
       " u'pFx0EvMkRzAFYJCGpxh99A': 1932229,\n",
       " u'tjhJsDDgOB2aUukGC7PoRg': 2509197,\n",
       " u'seO2fNatv7-ra9sZ63uJGQ': 2238493,\n",
       " u'jV3i_90EAxQi-9ybbkU89w': 901045,\n",
       " u'twKTL5S-6x39pA7nxXX4Rw': 1226889,\n",
       " u'jHsXbcRpG3Z6FSXA5Nh7bQ': 719724,\n",
       " u'PoyVu3AgPaLbpbaT-iQTqw': 1716607,\n",
       " u'HYX6tIMByLWa0yPjHJirWQ': 70705,\n",
       " u'eRjFmJ1JnaSmLd1IOqCPog': 839217,\n",
       " u'jU20QbrIiY_4QRwMQefyEw': 741574,\n",
       " u'PZQYB2_8-0lCtROXANtHEA': 1345372,\n",
       " u'jCPPacHHJF_Y60i9_DinpA': 204474,\n",
       " u'PyT0P6Gp5WsBMUSraagkVA': 1425132,\n",
       " u'ScdZqjoybdScMR4EWxJT_Q': 262215,\n",
       " u'LbwPUf3votOzqJrtds6oXA': 341009,\n",
       " u'bh31XCDBeDgb9BT891CVXw': 2681918,\n",
       " u'I01QZGfpQLhumGrLTe1MgA': 2017160,\n",
       " u'-pZcUZwfzsGAetsjr_Bh3Q': 379092,\n",
       " u'iUZgE3YiN2TbCho6sVDlXQ': 622245,\n",
       " u'WCgPWQIGGwoaRGxyVzAe1Q': 893775,\n",
       " u'2MJ7lXt5OnSePZbg8cSkBg': 357284,\n",
       " u'4tSK7_jGiRNF7LJlWxCoMQ': 2041819,\n",
       " u'YUN8Ew7TaZ7J2UAN6Zuz1w': 1321826,\n",
       " u'YOa-Aw2YRFFKMiDyGZm4yQ': 1930860,\n",
       " u'CXh9RtRqtKbQOaO-V_Ex6Q': 1994781,\n",
       " u'qeVrMzsIgmWchrkWntu5wA': 2677148,\n",
       " u'WWnKvnwrfb5YSbcf9yeQiw': 215804,\n",
       " u'xTNQY9YPUGuJoaNdqhKuPQ': 2111193,\n",
       " u'WRMoj3zd0EEGnHpuImZ5Vg': 200034,\n",
       " u'XBIA79cZC87hcYuYYHdVFg': 2099162,\n",
       " u'6s4QjTvZZvXdK5xVxoKuaA': 27629,\n",
       " u'SGmqhQP8NJgGKhWHrctQQg': 2467051,\n",
       " u'bCeeIP6UvLiNxejALbHKBA': 872346,\n",
       " u'_dLmxmuTC-0kOzK5ZlJTog': 1098460,\n",
       " u'i1OxWt-UeS7G6Wmq0mA81g': 645104,\n",
       " u'-1CGshB3fepVoAa1pmhmUQ': 1216163,\n",
       " u'uoTCbB3prAKKXOPYzzlusQ': 1819544,\n",
       " u'fda90iZ_fdt33YATDflRTg': 2820383,\n",
       " u'DY1xmL5mbbbWfVSQHALN1A': 1292028,\n",
       " u'rqJxpqz-qN-ABWGVOr5L_w': 1263694,\n",
       " u'_cPTtlzncKs5xtVOFJ5sfg': 1265056,\n",
       " u'hqBCbPYpZN-h-J4aLKWxzw': 2426902,\n",
       " u'um88A20p1K25MqSFG7SYUw': 759502,\n",
       " u'Tr5q6YvZ8nbd2Zg_NTdk3A': 849508,\n",
       " u'oAQp3ZI7cyOWDysHLW1fNw': 1543069,\n",
       " u'Mj62uxEnaVGmYRLT4GuWUA': 800188,\n",
       " u'UNfruxbltv3l5xdSoOSl3w': 2293057,\n",
       " u'DpMvP4nxBz7rCYht8aVthQ': 613351,\n",
       " u'_p_ARuCsl7DQPO8ZBhszJw': 1420571,\n",
       " u'rX5q1Tb6m0es3q-gHOSJDA': 670013,\n",
       " u'App7n3B8iIep1EHhY_SDHg': 1492852,\n",
       " u'rf3ZnBTVNcS1ZPykMCjflw': 1778732,\n",
       " u'a9Qjzwn5IxoUWCbNcG9H0A': 930911,\n",
       " u'EHRrbzCtLlhZEW5iWc2lpQ': 2442980,\n",
       " u'DFVHZYvKakvTJ7FjrwOQhQ': 857895,\n",
       " u'c_dOYJ6I4xhuNCmMumO-BA': 484694,\n",
       " u'hAZlN15sl0xAfCAZC93C-Q': 1497045,\n",
       " u'Cs6x39j67zz9luUPbgp_Dw': 1986345,\n",
       " u'2mUsROiEcwW_Ntn6K7rTEA': 1515813,\n",
       " u'Cws8vz9g_Yrybk9GUxYvug': 1774440,\n",
       " u'4BGudQBmhCMqSY0PykK7Vg': 1140205,\n",
       " u'KA_SIknGmY7K_w5blxmrPQ': 2522794,\n",
       " u'1G8N2WS82jXPivBGJFjctw': 1847658,\n",
       " u'xgVziZ4W32HeamEyH2PkBw': 2024300,\n",
       " u'15MT4JLpFEIwP3pMhrWc9g': 2073583,\n",
       " u'GVXzwqe-np5KNNW4NOQk3Q': 2805526,\n",
       " u'NG8m37a1-KfMa6UQnPlTWw': 1547656,\n",
       " u'dYw0ABDBzIebGLhk6OvK2w': 793111,\n",
       " u'3c6rqwQdOaNUXvjWzzh4fA': 2263167,\n",
       " u'TjAPvt_JsgkHCDulRAPdSw': 381002,\n",
       " u'YV91iJqgViTa-XhFVNwQ1A': 2650987,\n",
       " u'uSQ9IXPk5b9-5TiXjFBhWg': 1367662,\n",
       " u'vvKMI5gaiKH94Jy7Q_K9NQ': 2254210,\n",
       " u'0X5Vo-Iah7SW31MrVLdNNQ': 1040897,\n",
       " u'cDx2K6msfl31ZblQoHouWw': 1359566,\n",
       " u'2n462mI5YpPoVSg982nmEQ': 2213694,\n",
       " u'FKQI6GWMV9ODyev-QB0o9w': 30481,\n",
       " u'1YK4-6eDBPRdQFVghv28nw': 833905,\n",
       " u'ipD3LhQszNtJ1uGCXq_C6Q': 2769606,\n",
       " u'XTO5b9T3AEszrsFJMlXJWw': 2868304,\n",
       " u'8rnK6lERVS3KUTYF2ZCDiQ': 424047,\n",
       " u'UalTuGfoAY5MvKW93QNBcg': 85556,\n",
       " u'Rj7NT2igle5p5OKl96Yj2A': 2309661,\n",
       " u'mulicJ3jVX32xHD27dGfbQ': 596508,\n",
       " u'0W2VXqbO4hroZZdvYb0ZSA': 2305435,\n",
       " u'5iUqLG1JQYwTWXXL_QHr8Q': 1872324,\n",
       " u'K4KOGLdoCV_5SYyLGIxuFg': 485016,\n",
       " u'vQJKQGQtggVrGUFG38xKhg': 579018,\n",
       " u'H8p7tEvUmJ2sTxxdmxnrMg': 1268645,\n",
       " u'g-Cd9TVuWu62cfqz54PLDA': 2867167,\n",
       " u'5nuM0NEGeI0ydvX3iXKaMw': 1596905,\n",
       " u'SCmu2hIseYBlowYksdcrJQ': 543452,\n",
       " u'0EgeKDwNff1hg0pqVpnslQ': 16979,\n",
       " u'VIzvckpOnsj05-uj8vKxNg': 276362,\n",
       " u'0b2MAnoMtjoiOIKtOBRggQ': 979479,\n",
       " u'FasNdlxZdIrk1hhNBmq_VQ': 2545670,\n",
       " u'xwH9E0jJiK5W3QDJxiuVnQ': 1002824,\n",
       " u'Fd1yqERaNbb329pQOIBF9Q': 845890,\n",
       " u'Op-sH5PVE6NvOqOHi2sjdA': 49246,\n",
       " u'kyA-inA36G1a7WqPzRUc6A': 1784664,\n",
       " u'CR8O-miafOCyl989oiGnUA': 2389885,\n",
       " u'qwT7O5U1aFgV0Btr_yeQKg': 188921,\n",
       " ...}"
      ]
     },
     "execution_count": 7,
     "metadata": {},
     "output_type": "execute_result"
    }
   ],
   "source": [
    "rid_to_index = {}\n",
    "for ind, rid in enumerate(ordered_review_ids):\n",
    "    rid_to_index[rid] = ind\n",
    "rid_to_index"
   ]
  },
  {
   "cell_type": "code",
   "execution_count": 18,
   "metadata": {
    "collapsed": true
   },
   "outputs": [],
   "source": [
    "with open(\"data_structs.pkl\", \"wb\") as f:\n",
    "    pickle.dump((only_text_nouns,only_text_adjs,bid_to_rid_dict,rid_to_index), f)"
   ]
  },
  {
   "cell_type": "code",
   "execution_count": null,
   "metadata": {
    "collapsed": false
   },
   "outputs": [],
   "source": []
  },
  {
   "cell_type": "code",
   "execution_count": null,
   "metadata": {
    "collapsed": true
   },
   "outputs": [],
   "source": []
  },
  {
   "cell_type": "code",
   "execution_count": 22,
   "metadata": {
    "collapsed": false
   },
   "outputs": [
    {
     "name": "stdout",
     "output_type": "stream",
     "text": [
      "(2874628, 4756)\n"
     ]
    }
   ],
   "source": [
    "tfidf_vectorizer_nouns = TfidfVectorizer(input=only_text_nouns, lowercase=True, stop_words=\"english\", max_df=0.9, min_df=1000)\n",
    "tfidf_review_nouns = tfidf_vectorizer_nouns.fit_transform(only_text_nouns)\n",
    "tfidf_nouns_feature_names = tfidf_vectorizer_nouns.get_feature_names()\n",
    "\n",
    "print(tfidf_review_nouns.shape)"
   ]
  },
  {
   "cell_type": "code",
   "execution_count": 23,
   "metadata": {
    "collapsed": false
   },
   "outputs": [
    {
     "name": "stdout",
     "output_type": "stream",
     "text": [
      "(2874628, 4756)\n"
     ]
    }
   ],
   "source": [
    "count_vectorizer_nouns = CountVectorizer(input=only_text_nouns, lowercase=True, stop_words=\"english\", max_df=0.9, min_df=1000)\n",
    "count_review_nouns = count_vectorizer_nouns.fit_transform(only_text_nouns)\n",
    "count_nouns_feature_names = count_vectorizer_nouns.get_feature_names()\n",
    "\n",
    "print(count_review_nouns.shape)"
   ]
  },
  {
   "cell_type": "code",
   "execution_count": 8,
   "metadata": {
    "collapsed": false
   },
   "outputs": [
    {
     "name": "stdout",
     "output_type": "stream",
     "text": [
      "(2874628, 1856)\n"
     ]
    }
   ],
   "source": [
    "tfidf_vectorizer_adjs = TfidfVectorizer(input=only_text_adjs, lowercase=True, stop_words=\"english\", max_df=0.9, min_df=1000)\n",
    "tfidf_review_adjs = tfidf_vectorizer_adjs.fit_transform(only_text_adjs)\n",
    "tfidf_adjs_feature_names = tfidf_vectorizer_adjs.get_feature_names()\n",
    "\n",
    "print(tfidf_review_adjs.shape)"
   ]
  },
  {
   "cell_type": "code",
   "execution_count": 20,
   "metadata": {
    "collapsed": false
   },
   "outputs": [
    {
     "name": "stdout",
     "output_type": "stream",
     "text": [
      "(2874628, 1856)\n"
     ]
    }
   ],
   "source": [
    "count_vectorizer_adjs = CountVectorizer(input=only_text_adjs, lowercase=True, stop_words=\"english\", max_df=0.9, min_df=1000)\n",
    "count_review_adjs = count_vectorizer_adjs.fit_transform(only_text_adjs)\n",
    "count_adjs_feature_names = count_vectorizer_adjs.get_feature_names()\n",
    "\n",
    "print(count_review_adjs.shape)"
   ]
  },
  {
   "cell_type": "code",
   "execution_count": null,
   "metadata": {
    "collapsed": true
   },
   "outputs": [],
   "source": []
  },
  {
   "cell_type": "code",
   "execution_count": 9,
   "metadata": {
    "collapsed": true
   },
   "outputs": [],
   "source": [
    "def display_topics(model, feature_names, n_top_words):\n",
    "    for topic_index, topic in enumerate(model.components_):\n",
    "        print(\"Topic %d:\" % topic_index)\n",
    "        print(\" \".join([feature_names[i] for i in topic.argsort()[:-n_top_words:-1]]))"
   ]
  },
  {
   "cell_type": "code",
   "execution_count": null,
   "metadata": {
    "collapsed": true
   },
   "outputs": [],
   "source": []
  },
  {
   "cell_type": "code",
   "execution_count": null,
   "metadata": {
    "collapsed": true
   },
   "outputs": [],
   "source": []
  },
  {
   "cell_type": "code",
   "execution_count": 24,
   "metadata": {
    "collapsed": false
   },
   "outputs": [
    {
     "name": "stderr",
     "output_type": "stream",
     "text": [
      "/home/amcire/anaconda2/lib/python2.7/site-packages/sklearn/decomposition/online_lda.py:508: DeprecationWarning: The default value for 'learning_method' will be changed from 'online' to 'batch' in the release 0.20. This warning was introduced in 0.18.\n",
      "  DeprecationWarning)\n"
     ]
    }
   ],
   "source": [
    "noun_lda_model = LatentDirichletAllocation(n_topics=30).fit(count_review_nouns)\n",
    "# display_topics(noun_lda_model, count_nouns_feature_names, 20)"
   ]
  },
  {
   "cell_type": "code",
   "execution_count": 25,
   "metadata": {
    "collapsed": false
   },
   "outputs": [
    {
     "name": "stderr",
     "output_type": "stream",
     "text": [
      "/home/amcire/anaconda2/lib/python2.7/site-packages/sklearn/decomposition/online_lda.py:508: DeprecationWarning: The default value for 'learning_method' will be changed from 'online' to 'batch' in the release 0.20. This warning was introduced in 0.18.\n",
      "  DeprecationWarning)\n"
     ]
    }
   ],
   "source": [
    "noun_lda_model_20 = LatentDirichletAllocation(n_topics=20).fit(count_review_nouns)\n",
    "# display_topics(noun_lda_model, count_nouns_feature_names, 20)"
   ]
  },
  {
   "cell_type": "code",
   "execution_count": 26,
   "metadata": {
    "collapsed": false
   },
   "outputs": [
    {
     "name": "stderr",
     "output_type": "stream",
     "text": [
      "/home/amcire/anaconda2/lib/python2.7/site-packages/sklearn/decomposition/online_lda.py:508: DeprecationWarning: The default value for 'learning_method' will be changed from 'online' to 'batch' in the release 0.20. This warning was introduced in 0.18.\n",
      "  DeprecationWarning)\n"
     ]
    }
   ],
   "source": [
    "noun_lda_model_10 = LatentDirichletAllocation(n_topics=10).fit(count_review_nouns)\n",
    "# display_topics(noun_lda_model_10, count_nouns_feature_names, 20)"
   ]
  },
  {
   "cell_type": "code",
   "execution_count": 27,
   "metadata": {
    "collapsed": true
   },
   "outputs": [],
   "source": [
    "noun_nmf_model = NMF(n_components=30).fit(tfidf_review_nouns)\n",
    "# display_topics(noun_nmf_model, tfidf_nouns_feature_names, 20)"
   ]
  },
  {
   "cell_type": "code",
   "execution_count": 28,
   "metadata": {
    "collapsed": true
   },
   "outputs": [],
   "source": [
    "noun_nmf_model_20 = NMF(n_components=20).fit(tfidf_review_nouns)\n",
    "# display_topics(noun_nmf_model, tfidf_nouns_feature_names, 20)"
   ]
  },
  {
   "cell_type": "code",
   "execution_count": 29,
   "metadata": {
    "collapsed": true
   },
   "outputs": [],
   "source": [
    "noun_nmf_model_10 = NMF(n_components=10).fit(tfidf_review_nouns)\n",
    "# display_topics(noun_nmf_model, tfidf_nouns_feature_names, 20)"
   ]
  },
  {
   "cell_type": "code",
   "execution_count": 92,
   "metadata": {
    "collapsed": false
   },
   "outputs": [
    {
     "name": "stdout",
     "output_type": "stream",
     "text": [
      "Topic 0:\n",
      "pizza coffee place crust slice pizzas cheese tastes cup sauce latte pastries slices smell shop pepperoni bagel espresso dough\n",
      "Topic 1:\n",
      "vegas strip bbq kind man love hands bartenders tv cheesecake rock dollar buns hole airport way king stay ass\n",
      "Topic 2:\n",
      "order time people minutes hour reviews potatoes hours money orders way stars pie place tip delivery guess combo reason\n",
      "Topic 3:\n",
      "location breakfast brunch trip bacon toast morning egg pancakes station eat waffles notch day hash caesar yesterday biscuits times\n",
      "Topic 4:\n",
      "tea home options size stuff portion half option bite flavor place milk son people thing bit lot sunday way\n",
      "Topic 5:\n",
      "salad water meal husband wife sauce plate dinner bread eggs menu cheese boyfriend meat piece appetizer waiter tender sides\n",
      "Topic 6:\n",
      "tacos manager party staff rest card head management favorites people donuts credit person goodness alcohol reservations things mistake charge\n",
      "Topic 7:\n",
      "store butter counter parking employees girl guy lot lady line hand surprise face bag soda issue cashier grocery shopping\n",
      "Topic 8:\n",
      "food place staff buffet price owner quality business dishes atmosphere lots owners way desserts impression break naan vegan excellent\n",
      "Topic 9:\n",
      "fries burger cheese chips burgers place salsa potato onion mac taco food meat dog beans bacon order bun complaint\n",
      "Topic 10:\n",
      "soup dish restaurant thai style waiter noodles reservation entrees table thanks wow pepper pad tomato salt night dessert weeks\n",
      "Topic 11:\n",
      "beer wine room selection beers bar glass list cocktails bottle dining casino night menu environment shot area nights tap\n",
      "Topic 12:\n",
      "sushi shrimp rolls roll cake salmon crispy spring place yum sashimi rice coconut flavor mango juice tonight cupcakes chef\n",
      "Topic 13:\n",
      "time people work street day way item hair kind shop space cakes idea cut valley experience city starbucks summer\n",
      "Topic 14:\n",
      "bar drinks place drink night music people tables time fun hour bartender table floor club friend cocktail room atmosphere\n",
      "Topic 15:\n",
      "selection foods market corner locations buffets downtown treat fruit charlotte meats folks yogurt ones months paper dozen spoon ton\n",
      "Topic 16:\n",
      "chicken sauce rice food beef spicy flavor meat wings place dishes order curry bowl time bit veggies portions bland\n",
      "Topic 17:\n",
      "items prices fan toppings juicy afternoon pricey hype pictures visit words garden arizona custard design football bite snacks downside\n",
      "Topic 18:\n",
      "pork flavors date mouth cafe section pot taste sum dim sea perfection vibe questions roast ranch soups chipotle plus\n",
      "Topic 19:\n",
      "lobster plenty la poutine crepe crepes le team par chop bisque sticks que pas je service clean frites au\n",
      "Topic 20:\n",
      "food place service menu restaurant restaurants area quality places bit things lot price prices time variety vegas experience taste\n",
      "Topic 21:\n",
      "wait stars line burrito pho drive phone opinion rating dumplings building need mall pittsburgh workers matter lines snack shame\n",
      "Topic 22:\n",
      "lunch dinner servers portions service hotel chef week guys birthday day duck friend filet group evening scallops bit weekend\n",
      "Topic 23:\n",
      "door yelp check review star days look area way favorite lol things stop attitude game seats point sports day\n",
      "Topic 24:\n",
      "spot friends patio group sausage view salty wall minute feel diner event inside specials grill reviews benedict app plan\n",
      "Topic 25:\n",
      "sandwich bread sandwiches lunch pasta today hostess meals salads turkey average menus hummus eye time ladies place pita tables\n",
      "Topic 26:\n",
      "place town family kids years year corn friends crowd deal phoenix neighborhood sign seat daughter area establishment school scottsdale\n",
      "Topic 27:\n",
      "food service time server restaurant table steak place order experience minutes customer waitress times meal customers night visit point\n",
      "Topic 28:\n",
      "crab fish kitchen seafood taste tuna ramen dip mushrooms appetizer girlfriend legs texture concept disappointment calamari word meatballs mood\n",
      "Topic 29:\n",
      "cream ice chocolate dessert rib ribs desserts sugar brisket apple cookies homemade window vanilla guests gelato york hubby cookie\n"
     ]
    }
   ],
   "source": [
    "display_topics(noun_lda_model, count_nouns_feature_names, 20)"
   ]
  },
  {
   "cell_type": "code",
   "execution_count": 93,
   "metadata": {
    "collapsed": false
   },
   "outputs": [
    {
     "name": "stdout",
     "output_type": "stream",
     "text": [
      "Topic 0:\n",
      "lunch dishes salad buffet pho lamb dish dressing buffets dumplings specials sea girlfriend ranch mussels seafood restaurants chipotle price\n",
      "Topic 1:\n",
      "selection patio beers job plenty sandwiches salty duck meals wine corner tv locations nights diner hash tap staff bellagio\n",
      "Topic 2:\n",
      "sandwich bacon cheese today bread kids brunch lunch onion egg toast pancakes number menu order slices mac turkey daughter\n",
      "Topic 3:\n",
      "table waitress restaurant waiter night party group dinner water room experience friends orders menu hotel business reservation birthday people\n",
      "Topic 4:\n",
      "bar beer place area staff family fun friends game tables atmosphere lot neighborhood lots room space location sports people\n",
      "Topic 5:\n",
      "la care son par cute cooking le super que pas je pour au mon et service sucks des les\n",
      "Topic 6:\n",
      "sushi rolls roll crab shrimp fish lobster place seafood variety menu guys salmon quality oysters spring service price sashimi\n",
      "Topic 7:\n",
      "coffee breakfast place trip cake counter morning shop staff day drive time cup fruit mom variety cakes area things\n",
      "Topic 8:\n",
      "tacos chips beans salsa chicken burrito cut item flavor favorite gravy guacamole guests dip york combo nachos wrap margarita\n",
      "Topic 9:\n",
      "chicken food soup rice place beef portions bowl order noodles service restaurant portion time places egg price meal style\n",
      "Topic 10:\n",
      "fries burger menu place burgers pasta items options salads ramen sandwiches bun dog time juicy cafe sunday size flavor\n",
      "Topic 11:\n",
      "location store owner guy butter way items week problem money employees home lady prices years door thing toronto work\n",
      "Topic 12:\n",
      "meat pork potatoes eggs lot parking corn beef boyfriend sausage veggies flavor tender foods meats grill pot car event\n",
      "Topic 13:\n",
      "sauce steak salad meal dish bread cheese dinner server chicken glass wine husband bit plate time restaurant dessert sides\n",
      "Topic 14:\n",
      "cream ice chocolate flavors bbq dessert flavor rib ribs hostess love surprise cheesecake face homemade vanilla gelato average hubby\n",
      "Topic 15:\n",
      "food place service restaurant vegas menu quality price prices strip atmosphere restaurants street dinner experience time decor bit stars\n",
      "Topic 16:\n",
      "place drinks tea town drink night time people bartender club man way girl kind stuff line friends hair floor\n",
      "Topic 17:\n",
      "pizza wings crust pie delivery place toppings chain slice pizzas order honey games deal margaritas ingredients time pepperoni mi\n",
      "Topic 18:\n",
      "food service time order place minutes server times staff people wait hour customer experience manager music table review drinks\n",
      "Topic 19:\n",
      "spicy thai yelp curry reviews taco ingredients tuna chili spice station pad level middle entrees date yum dish notch\n"
     ]
    }
   ],
   "source": [
    "display_topics(noun_lda_model_20, count_nouns_feature_names, 20)"
   ]
  },
  {
   "cell_type": "code",
   "execution_count": 94,
   "metadata": {
    "collapsed": false
   },
   "outputs": [
    {
     "name": "stdout",
     "output_type": "stream",
     "text": [
      "Topic 0:\n",
      "place tea flavors time variety orders man date love thing counter bottle flavor trip spice size toppings juice boyfriend\n",
      "Topic 1:\n",
      "food service time order table minutes server experience restaurant customer place waitress wait manager people waiter times drinks night\n",
      "Topic 2:\n",
      "chicken salad sauce rice soup dish spicy ice shrimp beef thai dishes crab meal flavor order bread butter dessert\n",
      "Topic 3:\n",
      "pizza food place buffet tacos chips chicken order salsa crust burrito pho service plenty taco time options ingredients delivery\n",
      "Topic 4:\n",
      "store business line people lobster eggs parking lot way time end location employees day card lady things review customers\n",
      "Topic 5:\n",
      "coffee breakfast chocolate cake cream shop place brunch cup toast morning la hair cakes dessert desserts waffles cookies bacon\n",
      "Topic 6:\n",
      "location town wine place glass week spot problem years area rest level house work staff family toronto selection places\n",
      "Topic 7:\n",
      "fries burger cheese sandwich pork meat steak sauce chicken bread burgers wings potatoes bbq bacon potato beef sandwiches onion\n",
      "Topic 8:\n",
      "food place service menu restaurant time sushi price vegas quality lunch staff dinner restaurants prices experience rolls stars places\n",
      "Topic 9:\n",
      "bar place beer night drinks music people patio room fun friends drink selection area beers time vegas bartender hour\n"
     ]
    }
   ],
   "source": [
    "display_topics(noun_lda_model_10, count_nouns_feature_names, 20)"
   ]
  },
  {
   "cell_type": "code",
   "execution_count": 95,
   "metadata": {
    "collapsed": false
   },
   "outputs": [
    {
     "name": "stdout",
     "output_type": "stream",
     "text": [
      "Topic 0:\n",
      "server table minutes experience waitress manager meal wait waiter tables water hostess party check hour way servers stars reservation\n",
      "Topic 1:\n",
      "pizza crust pizzas toppings slice sauce cheese pepperoni delivery slices pie style sausage dough ingredients pasta york knots mozzarella\n",
      "Topic 2:\n",
      "food prices portions atmosphere quality family times restaurants places home ambiance stars servers bland taste decor wait waitress court\n",
      "Topic 3:\n",
      "place friends town places family area reviews stars owner prices years try thing kind yelp love times home way\n",
      "Topic 4:\n",
      "burger fries burgers bacon bun onion cheese rings potato patty juicy shake joint toppings medium cheeseburger onions meat chili\n",
      "Topic 5:\n",
      "bar area bartender drink sports bartenders game music room tables beers bars tv games crowd patio fun tvs pool\n",
      "Topic 6:\n",
      "sushi rolls roll fish sashimi tuna ayce salmon tempura chef hour quality places spicy chefs nigiri miso pieces rice\n",
      "Topic 7:\n",
      "service customer times stars notch prices ambiance star thank atmosphere customers thanks attitude smile visit employees management point business\n",
      "Topic 8:\n",
      "staff prices atmosphere experience store customers owner times family spot management environment fun work wait job members visit portions\n",
      "Topic 9:\n",
      "order minutes delivery phone orders customer drink counter line drive times guy person lady mins online girl min customers\n",
      "Topic 10:\n",
      "chicken waffles rice sauce orange jerk teriyaki fries butter curry breast pieces wrap spicy shawarma crispy plate waffle juicy\n",
      "Topic 11:\n",
      "breakfast eggs pancakes toast bacon brunch morning egg potatoes hash burrito sausage spot benedict omelet diner wait browns omelette\n",
      "Topic 12:\n",
      "time times wait visit day today years money friends town review year week thing hair couple hours things way\n",
      "Topic 13:\n",
      "cream ice chocolate tea flavors cake dessert cookies cookie flavor vanilla milk butter scoop cheese cone gelato waffle store\n",
      "Topic 14:\n",
      "coffee shop starbucks cup latte tea morning pastries milk espresso shops cafe donuts chocolate day area work spot barista\n",
      "Topic 15:\n",
      "lunch dinner specials today day spot work soup buffet week area rush prices break times office salads sandwiches deal\n",
      "Topic 16:\n",
      "beer selection beers wine tap craft patio draft list atmosphere prices pub brewery game hour store brews spot ipa\n",
      "Topic 17:\n",
      "rice soup thai beef sauce pork noodles spicy pho dishes dish curry meat shrimp pad flavor ramen rolls bowl\n",
      "Topic 18:\n",
      "location times store locations area employees drive parking years starbucks way lot street customer chain work day convenient mall\n",
      "Topic 19:\n",
      "restaurant family restaurants dishes area owner decor years meal dish chain ambiance chef pasta waiter business week town cuisine\n",
      "Topic 20:\n",
      "tacos salsa chips taco burrito beans asada guacamole fish street margaritas tortillas burritos corn shrimp pastor tortilla flavor meat\n",
      "Topic 21:\n",
      "sandwich sandwiches bread meat cheese fries turkey bbq pork brisket beef pastrami bacon mac sub deli club shop sauce\n",
      "Topic 22:\n",
      "menu items options prices things dishes variety choices brunch item lot bit thing dish lots hour chef dessert decor\n",
      "Topic 23:\n",
      "price buffet quality selection buffets crab variety meat portions seafood legs taste desserts dishes items line portion value money\n",
      "Topic 24:\n",
      "people line lot way group store tables day business thing party person customers room door things money parking music\n",
      "Topic 25:\n",
      "vegas las strip hotel places trip prices buffet restaurants casino steak room spot view club buffets town bbq way\n",
      "Topic 26:\n",
      "salad steak meal bread cheese dressing pasta potato caesar potatoes house lobster salads salmon mac dessert wine plate husband\n",
      "Topic 27:\n",
      "wings sauce fries bbq buffalo wing game ribs sauces boneless honey sports ranch hour flavor crispy flavors specials spicy\n",
      "Topic 28:\n",
      "drinks hour drink tea music bartender friends atmosphere fun bartenders appetizers patio waitress boba cocktails spot milk specials cocktail\n",
      "Topic 29:\n",
      "night dinner friends date music wine fun group atmosphere room birthday family party friend spot husband dessert club evening\n"
     ]
    }
   ],
   "source": [
    "display_topics(noun_nmf_model, tfidf_nouns_feature_names, 20)"
   ]
  },
  {
   "cell_type": "code",
   "execution_count": 96,
   "metadata": {
    "collapsed": false
   },
   "outputs": [
    {
     "name": "stdout",
     "output_type": "stream",
     "text": [
      "Topic 0:\n",
      "restaurant menu dinner meal experience steak server table waiter wine night salad dessert family dishes vegas restaurants dish bread\n",
      "Topic 1:\n",
      "pizza crust wings pizzas toppings sauce cheese slice pepperoni delivery slices salad pie style sausage pasta ingredients dough york\n",
      "Topic 2:\n",
      "food price quality prices portions atmosphere buffet wait family places restaurants times people stars taste money waitress servers lot\n",
      "Topic 3:\n",
      "place people friends places vegas town family reviews prices area owner lot thing years stars way kind try yelp\n",
      "Topic 4:\n",
      "burger fries burgers cheese bacon bun onion potato rings patty juicy meat shake sandwich medium joint toppings onions sauce\n",
      "Topic 5:\n",
      "bar drinks night drink bartender hour music people area friends bartenders fun table room patio tables spot sports crowd\n",
      "Topic 6:\n",
      "sushi rolls roll fish quality sashimi tuna price ayce salmon tempura places chef hour vegas chefs spicy buffet prices\n",
      "Topic 7:\n",
      "coffee shop starbucks cup latte tea morning pastries milk espresso people shops cafe day donuts work chocolate way barista\n",
      "Topic 8:\n",
      "staff prices experience atmosphere store customers owner times spot family management wait environment fun work job manager members selection\n",
      "Topic 9:\n",
      "time times wait experience vegas day visit today friends people money years server line hair review way thing year\n",
      "Topic 10:\n",
      "chicken salad wings waffles sandwich rice fries sauce jerk orange curry teriyaki butter meal breast cheese wrap buffalo plate\n",
      "Topic 11:\n",
      "breakfast eggs pancakes bacon toast brunch morning egg potatoes hash burrito sausage spot benedict wait vegas omelet diner menu\n",
      "Topic 12:\n",
      "service customer server experience times stars manager waitress notch prices customers star thank atmosphere water thanks ambiance attitude waiter\n",
      "Topic 13:\n",
      "cream ice chocolate tea flavors cake dessert cookies cookie vanilla cheese flavor milk butter scoop store cone desserts gelato\n",
      "Topic 14:\n",
      "order minutes table waitress manager wait delivery people server line orders drink hour phone counter person tables water guy\n",
      "Topic 15:\n",
      "lunch sandwich salad buffet dinner sandwiches today specials bread day price menu spot soup salads options work turkey area\n",
      "Topic 16:\n",
      "beer selection beers wings wine menu tap craft prices draft list patio pub store brewery game atmosphere options lots\n",
      "Topic 17:\n",
      "rice sauce soup beef pork meat thai spicy noodles dishes dish pho flavor shrimp curry bbq ramen bowl bit\n",
      "Topic 18:\n",
      "tacos salsa chips taco burrito beans asada guacamole fish street margaritas tortillas burritos corn shrimp pastor tortilla margarita flavor\n",
      "Topic 19:\n",
      "location store times locations area employees drive parking way lot people years starbucks line quality customer street day strip\n"
     ]
    }
   ],
   "source": [
    "display_topics(noun_nmf_model_20, tfidf_nouns_feature_names, 20)"
   ]
  },
  {
   "cell_type": "code",
   "execution_count": 97,
   "metadata": {
    "collapsed": false
   },
   "outputs": [
    {
     "name": "stdout",
     "output_type": "stream",
     "text": [
      "Topic 0:\n",
      "chicken sauce salad rice lunch restaurant soup beef menu meat pork meal sandwich dish dishes flavor spicy dinner bread\n",
      "Topic 1:\n",
      "pizza crust wings pizzas toppings sauce cheese slice delivery pepperoni slices salad pie style sausage pasta ingredients service dough\n",
      "Topic 2:\n",
      "food service restaurant quality price prices customer atmosphere portions experience server stars times family restaurants buffet waitress ambiance vegas\n",
      "Topic 3:\n",
      "place people friends places vegas town family prices reviews area lot thing owner years stars way try kind pho\n",
      "Topic 4:\n",
      "burger fries burgers cheese bacon bun onion potato rings sandwich patty juicy shake meat toppings joint medium onions cheeseburger\n",
      "Topic 5:\n",
      "bar beer drinks night selection drink menu hour bartender music beers area wine people friends patio dinner fun atmosphere\n",
      "Topic 6:\n",
      "sushi rolls roll fish quality sashimi tuna price ayce salmon service tempura places buffet chef rice vegas spicy hour\n",
      "Topic 7:\n",
      "coffee breakfast cream eggs ice shop morning toast pancakes tea bacon chocolate cup brunch starbucks spot day sandwich latte\n",
      "Topic 8:\n",
      "staff location food prices experience store atmosphere restaurant menu selection times family customers owner area spot management portions work\n",
      "Topic 9:\n",
      "time order minutes table times location server people wait experience manager waitress line customer way hour orders day waiter\n"
     ]
    }
   ],
   "source": [
    "display_topics(noun_nmf_model_10, tfidf_nouns_feature_names, 20)"
   ]
  },
  {
   "cell_type": "code",
   "execution_count": null,
   "metadata": {
    "collapsed": true
   },
   "outputs": [],
   "source": []
  },
  {
   "cell_type": "code",
   "execution_count": null,
   "metadata": {
    "collapsed": true
   },
   "outputs": [],
   "source": []
  },
  {
   "cell_type": "code",
   "execution_count": null,
   "metadata": {
    "collapsed": true
   },
   "outputs": [],
   "source": []
  },
  {
   "cell_type": "code",
   "execution_count": null,
   "metadata": {
    "collapsed": true
   },
   "outputs": [],
   "source": []
  },
  {
   "cell_type": "code",
   "execution_count": null,
   "metadata": {
    "collapsed": true
   },
   "outputs": [],
   "source": []
  },
  {
   "cell_type": "code",
   "execution_count": 58,
   "metadata": {
    "collapsed": true
   },
   "outputs": [
    {
     "name": "stderr",
     "output_type": "stream",
     "text": [
      "/home/amcire/anaconda2/lib/python2.7/site-packages/sklearn/decomposition/online_lda.py:508: DeprecationWarning: The default value for 'learning_method' will be changed from 'online' to 'batch' in the release 0.20. This warning was introduced in 0.18.\n",
      "  DeprecationWarning)\n"
     ]
    },
    {
     "name": "stdout",
     "output_type": "stream",
     "text": [
      "Topic 0:\n",
      "good fresh tasty soft impressed limited white daily biggest sick heavy sized crisp buffet canadian medium cheapest healthier mild\n",
      "Topic 1:\n",
      "small extra able unique japanese salad friday fabulous efficient cooked mediocre strange seasoned roasted plentiful adventurous refreshing salted rosemary\n",
      "Topic 2:\n",
      "good dry prime close disappointing fair pricey higher difficult decent upscale shrimp complete satisfied modern lower correct bbq proper\n",
      "Topic 3:\n",
      "sure happy good korean casual friendly vegan professional important separate courteous menu thursday diet strawberry pineapple select quite make\n",
      "Topic 4:\n",
      "best decent wonderful cold beautiful incredible dish fluffy fatty natural taco ice wicked pickled younger darn foie eager gracious\n",
      "Topic 5:\n",
      "good pretty cool chinese loud american crazy awful standard classic worse funny honest nasty interested crowded miss closest veggie\n",
      "Topic 6:\n",
      "super huge high regular short friendly dark rare sad surprised hawaiian food drive future end polish lean successful hip\n",
      "Topic 7:\n",
      "mexican white light solid vegetarian indian traditional table early interesting rich usual true young original popular baked wine flat\n",
      "Topic 8:\n",
      "amazing real wish similar dirty est le north steak overpriced une chipotle lobster la legit vous nous messy fake\n",
      "Topic 9:\n",
      "old cheese clean open terrible negative positive sticky welcome trendy packed parmesan bread tall chic satisfying eating burger lackluster\n",
      "Topic 10:\n",
      "quick red second expensive average rude wait friendly normal gross basic irish phoenix neat acceptable ayce adorable anniversary mushy\n",
      "Topic 11:\n",
      "disappointed saturday okay past single smaller general iced overall grand certain high vegetable tender sub monday soup plastic par\n",
      "Topic 12:\n",
      "big sweet green special friendly crispy affordable larger enjoyable various longer prompt personable smooth impossible inedible dining tad flaky\n",
      "Topic 13:\n",
      "great delicious available fun olive ridiculous dessert pizza downtown cafe eastern ive greatest specific mediterranean shredded ish ordered easier\n",
      "Topic 14:\n",
      "fried simple deep impressive complimentary polite pleased red southern vegas delightful absolute classy closer unusual unacceptable upstairs caramelized pad\n",
      "Topic 15:\n",
      "delicious large attentive slow ready generous yummy delish creative gorgeous turkey salsa scrumptious nicest whipped fremont understaffed tight animal\n",
      "Topic 16:\n",
      "wrong good fine cheap reasonable horrible hungry fat hidden romantic middle patient birthday pho near sooo curious extraordinary sorry\n",
      "Topic 17:\n",
      "hot excellent worst glad raw fancy chewy willing mad public self western ahi chicago native sexy uber cramped nacho\n",
      "Topic 18:\n",
      "italian fish asian grilled tiny cute non sushi multiple special recent bright uncomfortable safe unlimited genuine fishy surprising sunny\n",
      "Topic 19:\n",
      "nice good great awesome friendly special overall helpful strong double knowledgeable convenient alright ordinary mary bloody minor st premium\n",
      "Topic 20:\n",
      "favorite french delicious chicken frozen greasy total soggy consistent friendly english pre entree tuesday fellow sliced los guilty tofu\n",
      "Topic 21:\n",
      "right typical healthy creamy cheaper pulled major edible terrific culinary final unbelievable stupid frequent kinda soooo cole freshest attractive\n",
      "Topic 22:\n",
      "busy long ok easy fast weird lunch couple salty dive german corned wow ultimate tomato pear meal sooooo annoyed\n",
      "Topic 23:\n",
      "better different perfect phenomenal odd sorry star comparable corporate knowledgable overcooked pumpkin worthy delicate european weekday lousy soo wall\n",
      "Topic 24:\n",
      "hard worth flavorful low comfortable thai bigger additional smoked golden salmon yellow tasteless joint crappy steamed eggs swiss inside\n",
      "Topic 25:\n",
      "authentic entire outside outstanding poor sour like possible giant brown massive obvious exact pretentious random added boring delectable afraid\n",
      "Topic 26:\n",
      "bad new helpful san west tough wild ny bubble everyday maple plain present hesitant ethnic ugh lil kitchen hand\n",
      "Topic 27:\n",
      "warm garlic late black live blue outdoor second needless crunchy weak truffle holy deli relaxed drunk enormous awkward finest\n",
      "Topic 28:\n",
      "free overall pleasant mixed sunday noodle prepared quiet greek memorable moist stellar homemade skeptical tasted noisy mouth toasted patio\n",
      "Topic 29:\n",
      "little fantastic local main delicious half personal las particular sandwich spectacular organic recommend pita intimate brunch al combo wine\n"
     ]
    }
   ],
   "source": [
    "adj_lda_model = LatentDirichletAllocation(n_topics=30).fit(count_review_adjs)\n",
    "# display_topics(adj_lda_model, count_adjs_feature_names, 20)"
   ]
  },
  {
   "cell_type": "code",
   "execution_count": 59,
   "metadata": {
    "collapsed": true
   },
   "outputs": [
    {
     "name": "stderr",
     "output_type": "stream",
     "text": [
      "/home/amcire/anaconda2/lib/python2.7/site-packages/sklearn/decomposition/online_lda.py:508: DeprecationWarning: The default value for 'learning_method' will be changed from 'online' to 'batch' in the release 0.20. This warning was introduced in 0.18.\n",
      "  DeprecationWarning)\n"
     ]
    },
    {
     "name": "stdout",
     "output_type": "stream",
     "text": [
      "Topic 0:\n",
      "good fresh tasty soft impressed limited white daily biggest sick heavy sized crisp buffet canadian medium cheapest healthier mild\n",
      "Topic 1:\n",
      "small extra able unique japanese salad friday fabulous efficient cooked mediocre strange seasoned roasted plentiful adventurous refreshing salted rosemary\n",
      "Topic 2:\n",
      "good dry prime close disappointing fair pricey higher difficult decent upscale shrimp complete satisfied modern lower correct bbq proper\n",
      "Topic 3:\n",
      "sure happy good korean casual friendly vegan professional important separate courteous menu thursday diet strawberry pineapple select quite make\n",
      "Topic 4:\n",
      "best decent wonderful cold beautiful incredible dish fluffy fatty natural taco ice wicked pickled younger darn foie eager gracious\n",
      "Topic 5:\n",
      "good pretty cool chinese loud american crazy awful standard classic worse funny honest nasty interested crowded miss closest veggie\n",
      "Topic 6:\n",
      "super huge high regular short friendly dark rare sad surprised hawaiian food drive future end polish lean successful hip\n",
      "Topic 7:\n",
      "mexican white light solid vegetarian indian traditional table early interesting rich usual true young original popular baked wine flat\n",
      "Topic 8:\n",
      "amazing real wish similar dirty est le north steak overpriced une chipotle lobster la legit vous nous messy fake\n",
      "Topic 9:\n",
      "old cheese clean open terrible negative positive sticky welcome trendy packed parmesan bread tall chic satisfying eating burger lackluster\n",
      "Topic 10:\n",
      "quick red second expensive average rude wait friendly normal gross basic irish phoenix neat acceptable ayce adorable anniversary mushy\n",
      "Topic 11:\n",
      "disappointed saturday okay past single smaller general iced overall grand certain high vegetable tender sub monday soup plastic par\n",
      "Topic 12:\n",
      "big sweet green special friendly crispy affordable larger enjoyable various longer prompt personable smooth impossible inedible dining tad flaky\n",
      "Topic 13:\n",
      "great delicious available fun olive ridiculous dessert pizza downtown cafe eastern ive greatest specific mediterranean shredded ish ordered easier\n",
      "Topic 14:\n",
      "fried simple deep impressive complimentary polite pleased red southern vegas delightful absolute classy closer unusual unacceptable upstairs caramelized pad\n",
      "Topic 15:\n",
      "delicious large attentive slow ready generous yummy delish creative gorgeous turkey salsa scrumptious nicest whipped fremont understaffed tight animal\n",
      "Topic 16:\n",
      "wrong good fine cheap reasonable horrible hungry fat hidden romantic middle patient birthday pho near sooo curious extraordinary sorry\n",
      "Topic 17:\n",
      "hot excellent worst glad raw fancy chewy willing mad public self western ahi chicago native sexy uber cramped nacho\n",
      "Topic 18:\n",
      "italian fish asian grilled tiny cute non sushi multiple special recent bright uncomfortable safe unlimited genuine fishy surprising sunny\n",
      "Topic 19:\n",
      "nice good great awesome friendly special overall helpful strong double knowledgeable convenient alright ordinary mary bloody minor st premium\n",
      "Topic 20:\n",
      "favorite french delicious chicken frozen greasy total soggy consistent friendly english pre entree tuesday fellow sliced los guilty tofu\n",
      "Topic 21:\n",
      "right typical healthy creamy cheaper pulled major edible terrific culinary final unbelievable stupid frequent kinda soooo cole freshest attractive\n",
      "Topic 22:\n",
      "busy long ok easy fast weird lunch couple salty dive german corned wow ultimate tomato pear meal sooooo annoyed\n",
      "Topic 23:\n",
      "better different perfect phenomenal odd sorry star comparable corporate knowledgable overcooked pumpkin worthy delicate european weekday lousy soo wall\n",
      "Topic 24:\n",
      "hard worth flavorful low comfortable thai bigger additional smoked golden salmon yellow tasteless joint crappy steamed eggs swiss inside\n",
      "Topic 25:\n",
      "authentic entire outside outstanding poor sour like possible giant brown massive obvious exact pretentious random added boring delectable afraid\n",
      "Topic 26:\n",
      "bad new helpful san west tough wild ny bubble everyday maple plain present hesitant ethnic ugh lil kitchen hand\n",
      "Topic 27:\n",
      "warm garlic late black live blue outdoor second needless crunchy weak truffle holy deli relaxed drunk enormous awkward finest\n",
      "Topic 28:\n",
      "free overall pleasant mixed sunday noodle prepared quiet greek memorable moist stellar homemade skeptical tasted noisy mouth toasted patio\n",
      "Topic 29:\n",
      "little fantastic local main delicious half personal las particular sandwich spectacular organic recommend pita intimate brunch al combo wine\n"
     ]
    }
   ],
   "source": [
    "adj_lda_model_20 = LatentDirichletAllocation(n_topics=20).fit(count_review_adjs)\n",
    "# display_topics(adj_lda_model, count_adjs_feature_names, 20)"
   ]
  },
  {
   "cell_type": "code",
   "execution_count": 60,
   "metadata": {
    "collapsed": true
   },
   "outputs": [
    {
     "name": "stderr",
     "output_type": "stream",
     "text": [
      "/home/amcire/anaconda2/lib/python2.7/site-packages/sklearn/decomposition/online_lda.py:508: DeprecationWarning: The default value for 'learning_method' will be changed from 'online' to 'batch' in the release 0.20. This warning was introduced in 0.18.\n",
      "  DeprecationWarning)\n"
     ]
    },
    {
     "name": "stdout",
     "output_type": "stream",
     "text": [
      "Topic 0:\n",
      "good fresh tasty soft impressed limited white daily biggest sick heavy sized crisp buffet canadian medium cheapest healthier mild\n",
      "Topic 1:\n",
      "small extra able unique japanese salad friday fabulous efficient cooked mediocre strange seasoned roasted plentiful adventurous refreshing salted rosemary\n",
      "Topic 2:\n",
      "good dry prime close disappointing fair pricey higher difficult decent upscale shrimp complete satisfied modern lower correct bbq proper\n",
      "Topic 3:\n",
      "sure happy good korean casual friendly vegan professional important separate courteous menu thursday diet strawberry pineapple select quite make\n",
      "Topic 4:\n",
      "best decent wonderful cold beautiful incredible dish fluffy fatty natural taco ice wicked pickled younger darn foie eager gracious\n",
      "Topic 5:\n",
      "good pretty cool chinese loud american crazy awful standard classic worse funny honest nasty interested crowded miss closest veggie\n",
      "Topic 6:\n",
      "super huge high regular short friendly dark rare sad surprised hawaiian food drive future end polish lean successful hip\n",
      "Topic 7:\n",
      "mexican white light solid vegetarian indian traditional table early interesting rich usual true young original popular baked wine flat\n",
      "Topic 8:\n",
      "amazing real wish similar dirty est le north steak overpriced une chipotle lobster la legit vous nous messy fake\n",
      "Topic 9:\n",
      "old cheese clean open terrible negative positive sticky welcome trendy packed parmesan bread tall chic satisfying eating burger lackluster\n",
      "Topic 10:\n",
      "quick red second expensive average rude wait friendly normal gross basic irish phoenix neat acceptable ayce adorable anniversary mushy\n",
      "Topic 11:\n",
      "disappointed saturday okay past single smaller general iced overall grand certain high vegetable tender sub monday soup plastic par\n",
      "Topic 12:\n",
      "big sweet green special friendly crispy affordable larger enjoyable various longer prompt personable smooth impossible inedible dining tad flaky\n",
      "Topic 13:\n",
      "great delicious available fun olive ridiculous dessert pizza downtown cafe eastern ive greatest specific mediterranean shredded ish ordered easier\n",
      "Topic 14:\n",
      "fried simple deep impressive complimentary polite pleased red southern vegas delightful absolute classy closer unusual unacceptable upstairs caramelized pad\n",
      "Topic 15:\n",
      "delicious large attentive slow ready generous yummy delish creative gorgeous turkey salsa scrumptious nicest whipped fremont understaffed tight animal\n",
      "Topic 16:\n",
      "wrong good fine cheap reasonable horrible hungry fat hidden romantic middle patient birthday pho near sooo curious extraordinary sorry\n",
      "Topic 17:\n",
      "hot excellent worst glad raw fancy chewy willing mad public self western ahi chicago native sexy uber cramped nacho\n",
      "Topic 18:\n",
      "italian fish asian grilled tiny cute non sushi multiple special recent bright uncomfortable safe unlimited genuine fishy surprising sunny\n",
      "Topic 19:\n",
      "nice good great awesome friendly special overall helpful strong double knowledgeable convenient alright ordinary mary bloody minor st premium\n",
      "Topic 20:\n",
      "favorite french delicious chicken frozen greasy total soggy consistent friendly english pre entree tuesday fellow sliced los guilty tofu\n",
      "Topic 21:\n",
      "right typical healthy creamy cheaper pulled major edible terrific culinary final unbelievable stupid frequent kinda soooo cole freshest attractive\n",
      "Topic 22:\n",
      "busy long ok easy fast weird lunch couple salty dive german corned wow ultimate tomato pear meal sooooo annoyed\n",
      "Topic 23:\n",
      "better different perfect phenomenal odd sorry star comparable corporate knowledgable overcooked pumpkin worthy delicate european weekday lousy soo wall\n",
      "Topic 24:\n",
      "hard worth flavorful low comfortable thai bigger additional smoked golden salmon yellow tasteless joint crappy steamed eggs swiss inside\n",
      "Topic 25:\n",
      "authentic entire outside outstanding poor sour like possible giant brown massive obvious exact pretentious random added boring delectable afraid\n",
      "Topic 26:\n",
      "bad new helpful san west tough wild ny bubble everyday maple plain present hesitant ethnic ugh lil kitchen hand\n",
      "Topic 27:\n",
      "warm garlic late black live blue outdoor second needless crunchy weak truffle holy deli relaxed drunk enormous awkward finest\n",
      "Topic 28:\n",
      "free overall pleasant mixed sunday noodle prepared quiet greek memorable moist stellar homemade skeptical tasted noisy mouth toasted patio\n",
      "Topic 29:\n",
      "little fantastic local main delicious half personal las particular sandwich spectacular organic recommend pita intimate brunch al combo wine\n"
     ]
    }
   ],
   "source": [
    "adj_lda_model_10 = LatentDirichletAllocation(n_topics=10).fit(count_review_adjs)\n",
    "# display_topics(adj_lda_model, count_adjs_feature_names, 20)"
   ]
  },
  {
   "cell_type": "code",
   "execution_count": 10,
   "metadata": {
    "collapsed": true
   },
   "outputs": [],
   "source": [
    "adj_nmf_model = NMF(n_components=30).fit(tfidf_review_adjs)\n",
    "# display_topics(adj_nmf_model, tfidf_adjs_feature_names, 20)"
   ]
  },
  {
   "cell_type": "code",
   "execution_count": 62,
   "metadata": {
    "collapsed": true
   },
   "outputs": [
    {
     "name": "stdout",
     "output_type": "stream",
     "text": [
      "Topic 0:\n",
      "good overall expensive reasonable fried solid hard ok cheap fish dry cheese garlic high slow cool real loud chicken\n",
      "Topic 1:\n",
      "great local wonderful reasonable live cool attentive outstanding overall atmosphere fun wine casual outdoor fabulous beautiful unique comfortable affordable\n",
      "Topic 2:\n",
      "small large expensive high tiny local worth hungry overall hard disappointed main limited extra smaller cozy japanese bigger larger\n",
      "Topic 3:\n",
      "best long mexican italian las indian worth chinese incredible authentic outstanding real fried korean fish average french entire phenomenal\n",
      "Topic 4:\n",
      "nice helpful attentive overall cool outside quiet pretty outdoor comfortable pleasant open beautiful warm local casual main able loud\n",
      "Topic 5:\n",
      "delicious authentic attentive wonderful beautiful flavorful healthy unique french glad worth vegetarian garlic yummy reasonable generous affordable warm fried\n",
      "Topic 6:\n",
      "friendly helpful attentive fast quick reasonable efficient knowledgeable prompt wait local professional warm comfortable casual courteous knowledgable generous regular\n",
      "Topic 7:\n",
      "awesome cool pretty local live attentive incredible fun glad worth helpful recommend yummy crazy wish garlic real unique delish\n",
      "Topic 8:\n",
      "excellent attentive reasonable wonderful outstanding italian wine authentic beautiful high recommended prepared pleasant indian french fish main wait fabulous\n",
      "Topic 9:\n",
      "fresh healthy flavorful fish sushi fast local prepared soft frozen italian authentic light real warm organic salad japanese reasonable\n",
      "Topic 10:\n",
      "little cute slow high overall worth expensive cool dry hard disappointed extra tiny old pricey ok loud fine italian\n",
      "Topic 11:\n",
      "amazing wonderful incredible worth beautiful authentic attentive helpful phenomenal unique outstanding hidden glad entire knowledgeable fabulous italian french impeccable\n",
      "Topic 12:\n",
      "bad worst horrible terrible rude wrong ok cold poor old awful dry disappointed second worse overall hard long slow\n",
      "Topic 13:\n",
      "happy attentive regular late half cheap able sushi local second cool open friday close pleasant impressed beautiful fish 7pm\n",
      "Topic 14:\n",
      "new old open local wrong disappointed real long second original regular right horrible glad past cool cold hard italian\n",
      "Topic 15:\n",
      "better ok average terrible worst expensive horrible high dry second disappointed cheaper cold poor overall wrong worth hard old\n",
      "Topic 16:\n",
      "hot cold sour chinese frozen extra warm fried ready green garlic fast red cheese mild white spicy chicken korean\n",
      "Topic 17:\n",
      "favorite mexican local absolute sushi green chinese italian las red thai garlic wrong unique consistent indian incredible white yummy\n",
      "Topic 18:\n",
      "super cool helpful yummy cheap easy attentive cute healthy delish extra fast expensive tiny white glad pretty crazy soft\n",
      "Topic 19:\n",
      "sure pretty wrong open extra right second long worth able fine ready cool high hard hungry entire regular disappointed\n",
      "Topic 20:\n",
      "tasty fried reasonable overall healthy attentive unique fish flavorful green garlic generous vegetarian light indian red solid pleasant authentic\n",
      "Topic 21:\n",
      "fantastic wonderful attentive incredible outstanding italian beautiful local helpful authentic reasonable wine fabulous phenomenal knowledgeable unique french short worth\n",
      "Topic 22:\n",
      "busy slow long horrible terrible worst wrong rude cold poor ready saturday friday open second ok sunday loud able\n",
      "Topic 23:\n",
      "big cool open cheap hungry real hard right pretty high wrong extra long second able regular local fine old\n",
      "Topic 24:\n",
      "free gluten extra cool vegan regular local available able healthy organic open wrong expensive cheap vegetarian easy hard second\n",
      "Topic 25:\n",
      "special ok average overall expensive fine extra high regular worth fried okay fish disappointed dry daily main typical prime\n",
      "Topic 26:\n",
      "different wrong cool unique second able disappointed overall regular horrible worth hard asian available interesting helpful indian main worst\n",
      "Topic 27:\n",
      "decent quick mexican chinese authentic cheap pretty overall average real ok fast reasonable typical asian easy solid fried high\n",
      "Topic 28:\n",
      "perfect huge sweet large cheese wonderful old right red green french fried open white long extra hard italian soft\n",
      "Topic 29:\n",
      "clean fast open modern reasonable comfortable helpful chinese easy spacious bright pleasant healthy dirty simple pretty polite professional vietnamese\n"
     ]
    }
   ],
   "source": [
    "adj_nmf_model_20 = NMF(n_components=20).fit(tfidf_review_adjs)\n",
    "# display_topics(adj_nmf_model, tfidf_adjs_feature_names, 20)"
   ]
  },
  {
   "cell_type": "code",
   "execution_count": 63,
   "metadata": {
    "collapsed": true
   },
   "outputs": [
    {
     "name": "stdout",
     "output_type": "stream",
     "text": [
      "Topic 0:\n",
      "good overall expensive reasonable fried solid hard ok cheap fish dry cheese garlic high slow cool real loud chicken\n",
      "Topic 1:\n",
      "great local wonderful reasonable live cool attentive outstanding overall atmosphere fun wine casual outdoor fabulous beautiful unique comfortable affordable\n",
      "Topic 2:\n",
      "small large expensive high tiny local worth hungry overall hard disappointed main limited extra smaller cozy japanese bigger larger\n",
      "Topic 3:\n",
      "best long mexican italian las indian worth chinese incredible authentic outstanding real fried korean fish average french entire phenomenal\n",
      "Topic 4:\n",
      "nice helpful attentive overall cool outside quiet pretty outdoor comfortable pleasant open beautiful warm local casual main able loud\n",
      "Topic 5:\n",
      "delicious authentic attentive wonderful beautiful flavorful healthy unique french glad worth vegetarian garlic yummy reasonable generous affordable warm fried\n",
      "Topic 6:\n",
      "friendly helpful attentive fast quick reasonable efficient knowledgeable prompt wait local professional warm comfortable casual courteous knowledgable generous regular\n",
      "Topic 7:\n",
      "awesome cool pretty local live attentive incredible fun glad worth helpful recommend yummy crazy wish garlic real unique delish\n",
      "Topic 8:\n",
      "excellent attentive reasonable wonderful outstanding italian wine authentic beautiful high recommended prepared pleasant indian french fish main wait fabulous\n",
      "Topic 9:\n",
      "fresh healthy flavorful fish sushi fast local prepared soft frozen italian authentic light real warm organic salad japanese reasonable\n",
      "Topic 10:\n",
      "little cute slow high overall worth expensive cool dry hard disappointed extra tiny old pricey ok loud fine italian\n",
      "Topic 11:\n",
      "amazing wonderful incredible worth beautiful authentic attentive helpful phenomenal unique outstanding hidden glad entire knowledgeable fabulous italian french impeccable\n",
      "Topic 12:\n",
      "bad worst horrible terrible rude wrong ok cold poor old awful dry disappointed second worse overall hard long slow\n",
      "Topic 13:\n",
      "happy attentive regular late half cheap able sushi local second cool open friday close pleasant impressed beautiful fish 7pm\n",
      "Topic 14:\n",
      "new old open local wrong disappointed real long second original regular right horrible glad past cool cold hard italian\n",
      "Topic 15:\n",
      "better ok average terrible worst expensive horrible high dry second disappointed cheaper cold poor overall wrong worth hard old\n",
      "Topic 16:\n",
      "hot cold sour chinese frozen extra warm fried ready green garlic fast red cheese mild white spicy chicken korean\n",
      "Topic 17:\n",
      "favorite mexican local absolute sushi green chinese italian las red thai garlic wrong unique consistent indian incredible white yummy\n",
      "Topic 18:\n",
      "super cool helpful yummy cheap easy attentive cute healthy delish extra fast expensive tiny white glad pretty crazy soft\n",
      "Topic 19:\n",
      "sure pretty wrong open extra right second long worth able fine ready cool high hard hungry entire regular disappointed\n",
      "Topic 20:\n",
      "tasty fried reasonable overall healthy attentive unique fish flavorful green garlic generous vegetarian light indian red solid pleasant authentic\n",
      "Topic 21:\n",
      "fantastic wonderful attentive incredible outstanding italian beautiful local helpful authentic reasonable wine fabulous phenomenal knowledgeable unique french short worth\n",
      "Topic 22:\n",
      "busy slow long horrible terrible worst wrong rude cold poor ready saturday friday open second ok sunday loud able\n",
      "Topic 23:\n",
      "big cool open cheap hungry real hard right pretty high wrong extra long second able regular local fine old\n",
      "Topic 24:\n",
      "free gluten extra cool vegan regular local available able healthy organic open wrong expensive cheap vegetarian easy hard second\n",
      "Topic 25:\n",
      "special ok average overall expensive fine extra high regular worth fried okay fish disappointed dry daily main typical prime\n",
      "Topic 26:\n",
      "different wrong cool unique second able disappointed overall regular horrible worth hard asian available interesting helpful indian main worst\n",
      "Topic 27:\n",
      "decent quick mexican chinese authentic cheap pretty overall average real ok fast reasonable typical asian easy solid fried high\n",
      "Topic 28:\n",
      "perfect huge sweet large cheese wonderful old right red green french fried open white long extra hard italian soft\n",
      "Topic 29:\n",
      "clean fast open modern reasonable comfortable helpful chinese easy spacious bright pleasant healthy dirty simple pretty polite professional vietnamese\n"
     ]
    }
   ],
   "source": [
    "adj_nmf_model_10 = NMF(n_components=10).fit(tfidf_review_adjs)\n",
    "# display_topics(adj_nmf_model, tfidf_adjs_feature_names, 20)"
   ]
  },
  {
   "cell_type": "code",
   "execution_count": 98,
   "metadata": {
    "collapsed": false
   },
   "outputs": [
    {
     "name": "stdout",
     "output_type": "stream",
     "text": [
      "Topic 0:\n",
      "good fresh tasty soft impressed limited white daily biggest sick heavy sized crisp buffet canadian medium cheapest healthier mild\n",
      "Topic 1:\n",
      "small extra able unique japanese salad friday fabulous efficient cooked mediocre strange seasoned roasted plentiful adventurous refreshing salted rosemary\n",
      "Topic 2:\n",
      "good dry prime close disappointing fair pricey higher difficult decent upscale shrimp complete satisfied modern lower correct bbq proper\n",
      "Topic 3:\n",
      "sure happy good korean casual friendly vegan professional important separate courteous menu thursday diet strawberry pineapple select quite make\n",
      "Topic 4:\n",
      "best decent wonderful cold beautiful incredible dish fluffy fatty natural taco ice wicked pickled younger darn foie eager gracious\n",
      "Topic 5:\n",
      "good pretty cool chinese loud american crazy awful standard classic worse funny honest nasty interested crowded miss closest veggie\n",
      "Topic 6:\n",
      "super huge high regular short friendly dark rare sad surprised hawaiian food drive future end polish lean successful hip\n",
      "Topic 7:\n",
      "mexican white light solid vegetarian indian traditional table early interesting rich usual true young original popular baked wine flat\n",
      "Topic 8:\n",
      "amazing real wish similar dirty est le north steak overpriced une chipotle lobster la legit vous nous messy fake\n",
      "Topic 9:\n",
      "old cheese clean open terrible negative positive sticky welcome trendy packed parmesan bread tall chic satisfying eating burger lackluster\n",
      "Topic 10:\n",
      "quick red second expensive average rude wait friendly normal gross basic irish phoenix neat acceptable ayce adorable anniversary mushy\n",
      "Topic 11:\n",
      "disappointed saturday okay past single smaller general iced overall grand certain high vegetable tender sub monday soup plastic par\n",
      "Topic 12:\n",
      "big sweet green special friendly crispy affordable larger enjoyable various longer prompt personable smooth impossible inedible dining tad flaky\n",
      "Topic 13:\n",
      "great delicious available fun olive ridiculous dessert pizza downtown cafe eastern ive greatest specific mediterranean shredded ish ordered easier\n",
      "Topic 14:\n",
      "fried simple deep impressive complimentary polite pleased red southern vegas delightful absolute classy closer unusual unacceptable upstairs caramelized pad\n",
      "Topic 15:\n",
      "delicious large attentive slow ready generous yummy delish creative gorgeous turkey salsa scrumptious nicest whipped fremont understaffed tight animal\n",
      "Topic 16:\n",
      "wrong good fine cheap reasonable horrible hungry fat hidden romantic middle patient birthday pho near sooo curious extraordinary sorry\n",
      "Topic 17:\n",
      "hot excellent worst glad raw fancy chewy willing mad public self western ahi chicago native sexy uber cramped nacho\n",
      "Topic 18:\n",
      "italian fish asian grilled tiny cute non sushi multiple special recent bright uncomfortable safe unlimited genuine fishy surprising sunny\n",
      "Topic 19:\n",
      "nice good great awesome friendly special overall helpful strong double knowledgeable convenient alright ordinary mary bloody minor st premium\n",
      "Topic 20:\n",
      "favorite french delicious chicken frozen greasy total soggy consistent friendly english pre entree tuesday fellow sliced los guilty tofu\n",
      "Topic 21:\n",
      "right typical healthy creamy cheaper pulled major edible terrific culinary final unbelievable stupid frequent kinda soooo cole freshest attractive\n",
      "Topic 22:\n",
      "busy long ok easy fast weird lunch couple salty dive german corned wow ultimate tomato pear meal sooooo annoyed\n",
      "Topic 23:\n",
      "better different perfect phenomenal odd sorry star comparable corporate knowledgable overcooked pumpkin worthy delicate european weekday lousy soo wall\n",
      "Topic 24:\n",
      "hard worth flavorful low comfortable thai bigger additional smoked golden salmon yellow tasteless joint crappy steamed eggs swiss inside\n",
      "Topic 25:\n",
      "authentic entire outside outstanding poor sour like possible giant brown massive obvious exact pretentious random added boring delectable afraid\n",
      "Topic 26:\n",
      "bad new helpful san west tough wild ny bubble everyday maple plain present hesitant ethnic ugh lil kitchen hand\n",
      "Topic 27:\n",
      "warm garlic late black live blue outdoor second needless crunchy weak truffle holy deli relaxed drunk enormous awkward finest\n",
      "Topic 28:\n",
      "free overall pleasant mixed sunday noodle prepared quiet greek memorable moist stellar homemade skeptical tasted noisy mouth toasted patio\n",
      "Topic 29:\n",
      "little fantastic local main delicious half personal las particular sandwich spectacular organic recommend pita intimate brunch al combo wine\n"
     ]
    }
   ],
   "source": [
    "display_topics(adj_lda_model, count_adjs_feature_names, 20)"
   ]
  },
  {
   "cell_type": "code",
   "execution_count": 99,
   "metadata": {
    "collapsed": false
   },
   "outputs": [
    {
     "name": "stdout",
     "output_type": "stream",
     "text": [
      "Topic 0:\n",
      "clean overall nice friendly attentive beautiful hungry fresh pleasant japanese cute tasty blue prepared cheaper smoked helpful pretty strange\n",
      "Topic 1:\n",
      "good bad slow reasonable better big horrible unique sure grilled comfortable salad huge rare personal half right spectacular recent\n",
      "Topic 2:\n",
      "great local glad wish wine funny downtown organic big entree unlimited greatest shredded ish ordered adorable tad outdoor canadian\n",
      "Topic 3:\n",
      "excellent fresh perfect delicious long wonderful fast garlic outstanding poor korean chicken huge fair lunch consistent sure right ridiculous\n",
      "Topic 4:\n",
      "amazing cheap black frozen typical total greek knowledgeable larger cooked various pre major seasoned delightful longer middle tuesday corporate\n",
      "Topic 5:\n",
      "favorite old open ok entire pricey gross bad negative positive true pizza sure welcome ny sticky parmesan inedible soy\n",
      "Topic 6:\n",
      "available fun vegan las est le une proper plain la vous nous younger pour public tried au flavored mon\n",
      "Topic 7:\n",
      "mexican white light impressed solid vegetarian main indian table traditional early interesting rude young original usual popular baked flat\n",
      "Topic 8:\n",
      "little free high olive sandwich grand overpriced willing bright bubble tough bbq pita drunk soup pumpkin maple confused future\n",
      "Topic 9:\n",
      "good new happy busy decent worth nice cool chinese pretty sure big thai right west correct thursday usual main\n",
      "Topic 10:\n",
      "friendly prime american crazy standard fancy basic delish dessert shrimp favourite cafe courteous certain steak joint star patient eastern\n",
      "Topic 11:\n",
      "hot bad wrong fantastic cold dry terrible worst better sunday awful noodle sad quiet sure similar honest limited moist\n",
      "Topic 12:\n",
      "red extra real italian fine saturday friday live sushi mixed fabulous single casual professional efficient able romantic weird sure\n",
      "Topic 13:\n",
      "nice good awesome super french huge second greasy soggy double recommend convenient trendy outdoor ayce legit unusual drive st\n",
      "Topic 14:\n",
      "best expensive loud healthy incredible wait worse nasty absolute terrific sub taco impossible ive unbelievable homemade easier anniversary near\n",
      "Topic 15:\n",
      "sweet tasty hard short tiny right classic crispy higher bigger multiple enjoyable decent dry upscale additional pulled affordable big\n",
      "Topic 16:\n",
      "delicious different cheese regular simple helpful special overall sure impressive dark complimentary polite pleased attentive surprised important big separate\n",
      "Topic 17:\n",
      "small large quick delicious fish friendly able ready fresh generous tasty yummy perfect disappointing close big fantastic smaller sure\n",
      "Topic 18:\n",
      "fried green warm flavorful soft late fresh easy hot low sour creamy non deep strong raw large huge rich\n",
      "Topic 19:\n",
      "special better authentic disappointed average asian outside okay past long ok bad normal general iced difficult brown like salty\n"
     ]
    }
   ],
   "source": [
    "display_topics(adj_lda_model_20, count_adjs_feature_names, 20)"
   ]
  },
  {
   "cell_type": "code",
   "execution_count": 100,
   "metadata": {
    "collapsed": false
   },
   "outputs": [
    {
     "name": "stdout",
     "output_type": "stream",
     "text": [
      "Topic 0:\n",
      "good bad wrong old right cold fried dry little free extra sure hard terrible small slow sweet big new\n",
      "Topic 1:\n",
      "delicious fresh good friendly best fantastic tasty super nice sweet french cheese little excellent worth attentive garlic quick clean\n",
      "Topic 2:\n",
      "mexican red second horrible white vegetarian indian prime wine vegan limited gross possible exceptional wide giant lovely 10 oh\n",
      "Topic 3:\n",
      "decent italian reasonable fish flavorful entire frozen sushi rare pricey total simple dish complimentary polite pleased est cooked recent\n",
      "Topic 4:\n",
      "favorite new open fine warm real late available long poor local disappointed loud decent old single better original live\n",
      "Topic 5:\n",
      "great good amazing chinese delicious rude creamy wait fair right casual olive ridiculous wish biggest fried favourite strange absolute\n",
      "Topic 6:\n",
      "ok green authentic short worst best asian outside korean japanese black sour standard raw thai las second like weird\n",
      "Topic 7:\n",
      "best excellent awesome perfect wonderful delicious amazing special unique outstanding incredible new average okay better high salad friday fabulous\n",
      "Topic 8:\n",
      "good nice great little small happy overall busy big huge friendly sure better different large bad cool special regular\n",
      "Topic 9:\n",
      "hot different better early similar perfect light popular white table baked true heavy real previous traditional lemon non clear\n"
     ]
    }
   ],
   "source": [
    "display_topics(adj_lda_model_10, count_adjs_feature_names, 20)"
   ]
  },
  {
   "cell_type": "code",
   "execution_count": 101,
   "metadata": {
    "collapsed": false
   },
   "outputs": [
    {
     "name": "stdout",
     "output_type": "stream",
     "text": [
      "Topic 0:\n",
      "good overall expensive reasonable fried solid hard ok cheap fish dry cheese garlic high slow cool real loud chicken\n",
      "Topic 1:\n",
      "great local wonderful reasonable live cool attentive outstanding overall atmosphere fun wine casual outdoor fabulous beautiful unique comfortable affordable\n",
      "Topic 2:\n",
      "small large expensive high tiny local worth hungry overall hard disappointed main limited extra smaller cozy japanese bigger larger\n",
      "Topic 3:\n",
      "best long mexican italian las indian worth chinese incredible authentic outstanding real fried korean fish average french entire phenomenal\n",
      "Topic 4:\n",
      "nice helpful attentive overall cool outside quiet pretty outdoor comfortable pleasant open beautiful warm local casual main able loud\n",
      "Topic 5:\n",
      "delicious authentic attentive wonderful beautiful flavorful healthy unique french glad worth vegetarian garlic yummy reasonable generous affordable warm fried\n",
      "Topic 6:\n",
      "friendly helpful attentive fast quick reasonable efficient knowledgeable prompt wait local professional warm comfortable casual courteous knowledgable generous regular\n",
      "Topic 7:\n",
      "awesome cool pretty local live attentive incredible fun glad worth helpful recommend yummy crazy wish garlic real unique delish\n",
      "Topic 8:\n",
      "excellent attentive reasonable wonderful outstanding italian wine authentic beautiful high recommended prepared pleasant indian french fish main wait fabulous\n",
      "Topic 9:\n",
      "fresh healthy flavorful fish sushi fast local prepared soft frozen italian authentic light real warm organic salad japanese reasonable\n",
      "Topic 10:\n",
      "little cute slow high overall worth expensive cool dry hard disappointed extra tiny old pricey ok loud fine italian\n",
      "Topic 11:\n",
      "amazing wonderful incredible worth beautiful authentic attentive helpful phenomenal unique outstanding hidden glad entire knowledgeable fabulous italian french impeccable\n",
      "Topic 12:\n",
      "bad worst horrible terrible rude wrong ok cold poor old awful dry disappointed second worse overall hard long slow\n",
      "Topic 13:\n",
      "happy attentive regular late half cheap able sushi local second cool open friday close pleasant impressed beautiful fish 7pm\n",
      "Topic 14:\n",
      "new old open local wrong disappointed real long second original regular right horrible glad past cool cold hard italian\n",
      "Topic 15:\n",
      "better ok average terrible worst expensive horrible high dry second disappointed cheaper cold poor overall wrong worth hard old\n",
      "Topic 16:\n",
      "hot cold sour chinese frozen extra warm fried ready green garlic fast red cheese mild white spicy chicken korean\n",
      "Topic 17:\n",
      "favorite mexican local absolute sushi green chinese italian las red thai garlic wrong unique consistent indian incredible white yummy\n",
      "Topic 18:\n",
      "super cool helpful yummy cheap easy attentive cute healthy delish extra fast expensive tiny white glad pretty crazy soft\n",
      "Topic 19:\n",
      "sure pretty wrong open extra right second long worth able fine ready cool high hard hungry entire regular disappointed\n",
      "Topic 20:\n",
      "tasty fried reasonable overall healthy attentive unique fish flavorful green garlic generous vegetarian light indian red solid pleasant authentic\n",
      "Topic 21:\n",
      "fantastic wonderful attentive incredible outstanding italian beautiful local helpful authentic reasonable wine fabulous phenomenal knowledgeable unique french short worth\n",
      "Topic 22:\n",
      "busy slow long horrible terrible worst wrong rude cold poor ready saturday friday open second ok sunday loud able\n",
      "Topic 23:\n",
      "big cool open cheap hungry real hard right pretty high wrong extra long second able regular local fine old\n",
      "Topic 24:\n",
      "free gluten extra cool vegan regular local available able healthy organic open wrong expensive cheap vegetarian easy hard second\n",
      "Topic 25:\n",
      "special ok average overall expensive fine extra high regular worth fried okay fish disappointed dry daily main typical prime\n",
      "Topic 26:\n",
      "different wrong cool unique second able disappointed overall regular horrible worth hard asian available interesting helpful indian main worst\n",
      "Topic 27:\n",
      "decent quick mexican chinese authentic cheap pretty overall average real ok fast reasonable typical asian easy solid fried high\n",
      "Topic 28:\n",
      "perfect huge sweet large cheese wonderful old right red green french fried open white long extra hard italian soft\n",
      "Topic 29:\n",
      "clean fast open modern reasonable comfortable helpful chinese easy spacious bright pleasant healthy dirty simple pretty polite professional vietnamese\n"
     ]
    }
   ],
   "source": [
    "display_topics(adj_nmf_model, tfidf_adjs_feature_names, 20)"
   ]
  },
  {
   "cell_type": "code",
   "execution_count": 102,
   "metadata": {
    "collapsed": false,
    "scrolled": true
   },
   "outputs": [
    {
     "name": "stdout",
     "output_type": "stream",
     "text": [
      "Topic 0:\n",
      "good overall reasonable decent mexican solid cheap expensive fried cheese quick slow fast hard fish clean ok garlic chinese\n",
      "Topic 1:\n",
      "great fantastic wonderful local reasonable attentive live perfect cool outstanding atmosphere wine fun overall quick casual outdoor beautiful fabulous\n",
      "Topic 2:\n",
      "small big special different large tasty busy huge free decent sweet long ok overall cheese high old perfect right\n",
      "Topic 3:\n",
      "best mexican long italian fantastic las perfect chinese indian authentic worth incredible outstanding wonderful real fried french cheese korean\n",
      "Topic 4:\n",
      "nice clean helpful attentive overall cool outside quiet pretty comfortable outdoor pleasant beautiful open casual warm modern reasonable local\n",
      "Topic 5:\n",
      "delicious perfect wonderful sweet fantastic attentive beautiful authentic huge flavorful french cheese unique garlic healthy glad fried green red\n",
      "Topic 6:\n",
      "friendly clean helpful quick attentive fast reasonable efficient knowledgeable prompt wait local comfortable tasty professional fantastic warm wonderful free\n",
      "Topic 7:\n",
      "awesome cool perfect huge free pretty fantastic cheese local live attentive incredible glad fun helpful worth sweet garlic yummy\n",
      "Topic 8:\n",
      "excellent wonderful fantastic attentive reasonable perfect outstanding italian beautiful wine french authentic recommended prepared pleasant indian fabulous main flavorful\n",
      "Topic 9:\n",
      "fresh tasty clean healthy flavorful fish sushi fast authentic soft prepared mexican light frozen reasonable italian local wonderful warm\n",
      "Topic 10:\n",
      "little cute slow sweet high overall cool dry worth expensive hard disappointed extra tiny old pricey perfect italian loud\n",
      "Topic 11:\n",
      "amazing perfect fantastic wonderful incredible beautiful worth attentive sweet outstanding helpful phenomenal unique french huge authentic italian glad fabulous\n",
      "Topic 12:\n",
      "bad horrible worst terrible rude wrong slow ok poor cold awful long dry disappointed decent second old worse overall\n",
      "Topic 13:\n",
      "happy fantastic attentive wonderful regular late half perfect free able cheap sushi local friday second cool beautiful open pleasant\n",
      "Topic 14:\n",
      "new old clean open local fantastic wrong real right disappointed second wonderful original glad different regular past mexican italian\n",
      "Topic 15:\n",
      "better ok average terrible worst horrible expensive mexican dry decent cheaper chinese high poor second disappointed slow cold overall\n",
      "Topic 16:\n",
      "hot cold sour chinese frozen cheese fried warm extra sweet green quick ready garlic red fast perfect white mild\n",
      "Topic 17:\n",
      "favorite mexican fantastic perfect local chinese green absolute sweet wonderful italian sushi authentic red las different thai garlic incredible\n",
      "Topic 18:\n",
      "super busy helpful cool sweet huge clean yummy fantastic attentive easy cute cheap healthy delish fast perfect quick crazy\n",
      "Topic 19:\n",
      "sure pretty wrong right open extra second fantastic long able ready fine worth entire attentive cool hungry wonderful regular\n"
     ]
    }
   ],
   "source": [
    "display_topics(adj_nmf_model_20, tfidf_adjs_feature_names, 20)"
   ]
  },
  {
   "cell_type": "code",
   "execution_count": 103,
   "metadata": {
    "collapsed": false
   },
   "outputs": [
    {
     "name": "stdout",
     "output_type": "stream",
     "text": [
      "Topic 0:\n",
      "good overall decent reasonable tasty quick cheap fried expensive mexican solid cheese ok busy fish fast chinese hard clean\n",
      "Topic 1:\n",
      "great fantastic happy amazing wonderful local favorite perfect reasonable attentive cool live outstanding huge quick wine fun atmosphere new\n",
      "Topic 2:\n",
      "little bad small better sure new big hot happy different special busy large long decent old sweet huge favorite\n",
      "Topic 3:\n",
      "best amazing mexican favorite fantastic perfect long italian chinese las authentic indian worth incredible wonderful outstanding real fried sure\n",
      "Topic 4:\n",
      "nice clean super helpful tasty attentive overall cool pretty outside free quiet comfortable decent outdoor big open pleasant beautiful\n",
      "Topic 5:\n",
      "delicious amazing perfect favorite wonderful super sweet fantastic huge attentive beautiful authentic cheese french flavorful green fried unique garlic\n",
      "Topic 6:\n",
      "friendly clean helpful quick super attentive fast reasonable favorite efficient amazing tasty knowledgeable free fantastic local prompt wait busy\n",
      "Topic 7:\n",
      "awesome amazing super happy favorite cool perfect huge new fantastic free sure pretty cheese local incredible attentive live helpful\n",
      "Topic 8:\n",
      "excellent wonderful fantastic attentive perfect reasonable outstanding tasty large italian favorite special happy beautiful wine french authentic pleasant high\n",
      "Topic 9:\n",
      "fresh hot tasty clean healthy super flavorful fish fast perfect quick authentic sushi soft favorite frozen green mexican warm\n"
     ]
    }
   ],
   "source": [
    "display_topics(adj_nmf_model_10, tfidf_adjs_feature_names, 20)"
   ]
  },
  {
   "cell_type": "code",
   "execution_count": null,
   "metadata": {
    "collapsed": true
   },
   "outputs": [],
   "source": []
  },
  {
   "cell_type": "code",
   "execution_count": null,
   "metadata": {
    "collapsed": true
   },
   "outputs": [],
   "source": []
  },
  {
   "cell_type": "code",
   "execution_count": null,
   "metadata": {
    "collapsed": true
   },
   "outputs": [],
   "source": []
  },
  {
   "cell_type": "code",
   "execution_count": null,
   "metadata": {
    "collapsed": true
   },
   "outputs": [],
   "source": []
  },
  {
   "cell_type": "code",
   "execution_count": null,
   "metadata": {
    "collapsed": true
   },
   "outputs": [],
   "source": []
  },
  {
   "cell_type": "code",
   "execution_count": 36,
   "metadata": {
    "collapsed": true
   },
   "outputs": [],
   "source": [
    "with open(\"nouns_tfidf_model.pkl\", \"w\") as f:\n",
    "    pickle.dump(tfidf_vectorizer_nouns, f)"
   ]
  },
  {
   "cell_type": "code",
   "execution_count": 65,
   "metadata": {
    "collapsed": true
   },
   "outputs": [],
   "source": [
    "with open(\"nouns_tf_model.pkl\", \"w\") as f:\n",
    "    pickle.dump(count_vectorizer_nouns, f)"
   ]
  },
  {
   "cell_type": "code",
   "execution_count": 66,
   "metadata": {
    "collapsed": true
   },
   "outputs": [],
   "source": [
    "with open(\"adjs_tfidf_model.pkl\", \"w\") as f:\n",
    "    pickle.dump(tfidf_vectorizer_adjs, f)"
   ]
  },
  {
   "cell_type": "code",
   "execution_count": 67,
   "metadata": {
    "collapsed": true
   },
   "outputs": [],
   "source": [
    "with open(\"adjs_tf_model.pkl\", \"w\") as f:\n",
    "    pickle.dump(count_vectorizer_adjs, f)"
   ]
  },
  {
   "cell_type": "code",
   "execution_count": null,
   "metadata": {
    "collapsed": true
   },
   "outputs": [],
   "source": []
  },
  {
   "cell_type": "code",
   "execution_count": null,
   "metadata": {
    "collapsed": true
   },
   "outputs": [],
   "source": []
  },
  {
   "cell_type": "code",
   "execution_count": 74,
   "metadata": {
    "collapsed": true
   },
   "outputs": [],
   "source": [
    "with open(\"adj_nmf_model_10.pkl\", \"w\") as f:\n",
    "    pickle.dump(adj_nmf_model_10, f)"
   ]
  },
  {
   "cell_type": "code",
   "execution_count": 75,
   "metadata": {
    "collapsed": false
   },
   "outputs": [],
   "source": [
    "with open(\"adj_nmf_model_20.pkl\", \"w\") as f:\n",
    "    pickle.dump(adj_nmf_model_20, f)"
   ]
  },
  {
   "cell_type": "code",
   "execution_count": 11,
   "metadata": {
    "collapsed": false
   },
   "outputs": [],
   "source": [
    "with open(\"adj_nmf_model_30.pkl\", \"w\") as f:\n",
    "    pickle.dump(adj_nmf_model, f)"
   ]
  },
  {
   "cell_type": "code",
   "execution_count": 77,
   "metadata": {
    "collapsed": true
   },
   "outputs": [],
   "source": [
    "with open(\"adj_lda_model_10.pkl\", \"w\") as f:\n",
    "    pickle.dump(adj_lda_model_10, f)"
   ]
  },
  {
   "cell_type": "code",
   "execution_count": 78,
   "metadata": {
    "collapsed": true
   },
   "outputs": [],
   "source": [
    "with open(\"adj_lda_model_20.pkl\", \"w\") as f:\n",
    "    pickle.dump(adj_lda_model_20, f)"
   ]
  },
  {
   "cell_type": "code",
   "execution_count": 79,
   "metadata": {
    "collapsed": true
   },
   "outputs": [],
   "source": [
    "with open(\"adj_lda_model_30.pkl\", \"w\") as f:\n",
    "    pickle.dump(adj_lda_model, f)"
   ]
  },
  {
   "cell_type": "code",
   "execution_count": 30,
   "metadata": {
    "collapsed": false
   },
   "outputs": [],
   "source": [
    "with open(\"noun_nmf_model_10.pkl\", \"w\") as f:\n",
    "    pickle.dump(noun_nmf_model_10, f)"
   ]
  },
  {
   "cell_type": "code",
   "execution_count": 31,
   "metadata": {
    "collapsed": false
   },
   "outputs": [],
   "source": [
    "with open(\"noun_nmf_model_20.pkl\", \"w\") as f:\n",
    "    pickle.dump(noun_nmf_model_20, f)"
   ]
  },
  {
   "cell_type": "code",
   "execution_count": 32,
   "metadata": {
    "collapsed": false
   },
   "outputs": [],
   "source": [
    "with open(\"noun_nmf_model_30.pkl\", \"w\") as f:\n",
    "    pickle.dump(noun_nmf_model, f)"
   ]
  },
  {
   "cell_type": "code",
   "execution_count": 33,
   "metadata": {
    "collapsed": true
   },
   "outputs": [],
   "source": [
    "with open(\"noun_lda_model_10.pkl\", \"w\") as f:\n",
    "    pickle.dump(noun_lda_model_10, f)"
   ]
  },
  {
   "cell_type": "code",
   "execution_count": 34,
   "metadata": {
    "collapsed": true
   },
   "outputs": [],
   "source": [
    "with open(\"noun_lda_model_20.pkl\", \"w\") as f:\n",
    "    pickle.dump(noun_lda_model_20, f)"
   ]
  },
  {
   "cell_type": "code",
   "execution_count": 35,
   "metadata": {
    "collapsed": true
   },
   "outputs": [],
   "source": [
    "with open(\"noun_lda_model_30.pkl\", \"w\") as f:\n",
    "    pickle.dump(noun_lda_model, f)"
   ]
  },
  {
   "cell_type": "code",
   "execution_count": null,
   "metadata": {
    "collapsed": true
   },
   "outputs": [],
   "source": []
  },
  {
   "cell_type": "code",
   "execution_count": null,
   "metadata": {
    "collapsed": true
   },
   "outputs": [],
   "source": []
  },
  {
   "cell_type": "code",
   "execution_count": null,
   "metadata": {
    "collapsed": true
   },
   "outputs": [],
   "source": []
  },
  {
   "cell_type": "code",
   "execution_count": null,
   "metadata": {
    "collapsed": true
   },
   "outputs": [],
   "source": []
  },
  {
   "cell_type": "code",
   "execution_count": null,
   "metadata": {
    "collapsed": true
   },
   "outputs": [],
   "source": []
  },
  {
   "cell_type": "code",
   "execution_count": null,
   "metadata": {
    "collapsed": true
   },
   "outputs": [],
   "source": []
  }
 ],
 "metadata": {
  "kernelspec": {
   "display_name": "Python 2",
   "language": "python",
   "name": "python2"
  },
  "language_info": {
   "codemirror_mode": {
    "name": "ipython",
    "version": 2
   },
   "file_extension": ".py",
   "mimetype": "text/x-python",
   "name": "python",
   "nbconvert_exporter": "python",
   "pygments_lexer": "ipython2",
   "version": "2.7.13"
  }
 },
 "nbformat": 4,
 "nbformat_minor": 2
}
