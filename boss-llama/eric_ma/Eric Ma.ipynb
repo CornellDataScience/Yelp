{
 "cells": [
  {
   "cell_type": "code",
   "execution_count": 1,
   "metadata": {
    "collapsed": false
   },
   "outputs": [],
   "source": [
    "import os\n",
    "import numpy\n",
    "from pyspark.sql.functions import *\n",
    "from pyspark.sql.types import DoubleType\n",
    "spark_home = os.environ.get('SPARK_HOME', None)\n",
    "# review = spark.read.json(\"Yelp/review.json\")\n"
   ]
  },
  {
   "cell_type": "code",
   "execution_count": 2,
   "metadata": {
    "collapsed": false
   },
   "outputs": [],
   "source": [
    "import plotly\n",
    "plotly.tools.set_credentials_file(username='amcire96', api_key='sej35ud4YbSOfIshhhZg')\n",
    "# print(plotly.__version__)\n",
    "\n",
    "import plotly.plotly as py\n",
    "from plotly.graph_objs import *\n",
    "import plotly.figure_factory as FF\n",
    "import requests\n",
    "requests.packages.urllib3.disable_warnings()\n",
    "\n"
   ]
  },
  {
   "cell_type": "code",
   "execution_count": 3,
   "metadata": {
    "collapsed": false,
    "slideshow": {
     "slide_type": "-"
    }
   },
   "outputs": [
    {
     "name": "stdout",
     "output_type": "stream",
     "text": [
      "BUSINESS\n",
      "root\n",
      " |-- address: string (nullable = true)\n",
      " |-- attributes: array (nullable = true)\n",
      " |    |-- element: string (containsNull = true)\n",
      " |-- business_id: string (nullable = true)\n",
      " |-- categories: array (nullable = true)\n",
      " |    |-- element: string (containsNull = true)\n",
      " |-- city: string (nullable = true)\n",
      " |-- hours: array (nullable = true)\n",
      " |    |-- element: string (containsNull = true)\n",
      " |-- is_open: long (nullable = true)\n",
      " |-- latitude: double (nullable = true)\n",
      " |-- longitude: double (nullable = true)\n",
      " |-- name: string (nullable = true)\n",
      " |-- neighborhood: string (nullable = true)\n",
      " |-- postal_code: string (nullable = true)\n",
      " |-- review_count: long (nullable = true)\n",
      " |-- stars: double (nullable = true)\n",
      " |-- state: string (nullable = true)\n",
      " |-- type: string (nullable = true)\n",
      "\n",
      "()\n",
      "CHECKIN\n",
      "root\n",
      " |-- business_id: string (nullable = true)\n",
      " |-- time: array (nullable = true)\n",
      " |    |-- element: string (containsNull = true)\n",
      " |-- type: string (nullable = true)\n",
      "\n",
      "()\n",
      "REVIEW\n",
      "root\n",
      " |-- business_id: string (nullable = true)\n",
      " |-- cool: long (nullable = true)\n",
      " |-- date: string (nullable = true)\n",
      " |-- funny: long (nullable = true)\n",
      " |-- review_id: string (nullable = true)\n",
      " |-- stars: long (nullable = true)\n",
      " |-- text: string (nullable = true)\n",
      " |-- type: string (nullable = true)\n",
      " |-- useful: long (nullable = true)\n",
      " |-- user_id: string (nullable = true)\n",
      "\n",
      "()\n",
      "TIP\n",
      "root\n",
      " |-- business_id: string (nullable = true)\n",
      " |-- date: string (nullable = true)\n",
      " |-- likes: long (nullable = true)\n",
      " |-- text: string (nullable = true)\n",
      " |-- type: string (nullable = true)\n",
      " |-- user_id: string (nullable = true)\n",
      "\n",
      "()\n",
      "USER\n",
      "root\n",
      " |-- average_stars: double (nullable = true)\n",
      " |-- compliment_cool: long (nullable = true)\n",
      " |-- compliment_cute: long (nullable = true)\n",
      " |-- compliment_funny: long (nullable = true)\n",
      " |-- compliment_hot: long (nullable = true)\n",
      " |-- compliment_list: long (nullable = true)\n",
      " |-- compliment_more: long (nullable = true)\n",
      " |-- compliment_note: long (nullable = true)\n",
      " |-- compliment_photos: long (nullable = true)\n",
      " |-- compliment_plain: long (nullable = true)\n",
      " |-- compliment_profile: long (nullable = true)\n",
      " |-- compliment_writer: long (nullable = true)\n",
      " |-- cool: long (nullable = true)\n",
      " |-- elite: array (nullable = true)\n",
      " |    |-- element: string (containsNull = true)\n",
      " |-- fans: long (nullable = true)\n",
      " |-- friends: array (nullable = true)\n",
      " |    |-- element: string (containsNull = true)\n",
      " |-- funny: long (nullable = true)\n",
      " |-- name: string (nullable = true)\n",
      " |-- review_count: long (nullable = true)\n",
      " |-- type: string (nullable = true)\n",
      " |-- useful: long (nullable = true)\n",
      " |-- user_id: string (nullable = true)\n",
      " |-- yelping_since: string (nullable = true)\n",
      "\n"
     ]
    }
   ],
   "source": [
    "review = spark.read.json(\"/user/hduser1/Yelp/review.json\")\n",
    "business = spark.read.json(\"/user/hduser1/Yelp/business.json\")\n",
    "checkin = spark.read.json(\"/user/hduser1/Yelp/checkin.json\")\n",
    "tip = spark.read.json(\"/user/hduser1/Yelp/tip.json\")\n",
    "user = spark.read.json(\"/user/hduser1/Yelp/user.json\")\n",
    "\n",
    "print(\"BUSINESS\")\n",
    "business.printSchema()\n",
    "print()\n",
    "print(\"CHECKIN\")\n",
    "checkin.printSchema()\n",
    "print()\n",
    "print(\"REVIEW\")\n",
    "review.printSchema()\n",
    "print()\n",
    "print(\"TIP\")\n",
    "tip.printSchema()\n",
    "print()\n",
    "print(\"USER\")\n",
    "user.printSchema()"
   ]
  },
  {
   "cell_type": "code",
   "execution_count": 3,
   "metadata": {
    "collapsed": false
   },
   "outputs": [
    {
     "name": "stdout",
     "output_type": "stream",
     "text": [
      "[Row(type=u'review'), Row(type=u'review'), Row(type=u'review'), Row(type=u'review'), Row(type=u'review'), Row(type=u'review'), Row(type=u'review'), Row(type=u'review'), Row(type=u'review'), Row(type=u'review')]\n"
     ]
    }
   ],
   "source": [
    "print(review.select(\"type\").head(10))"
   ]
  },
  {
   "cell_type": "code",
   "execution_count": 4,
   "metadata": {
    "collapsed": false
   },
   "outputs": [
    {
     "name": "stdout",
     "output_type": "stream",
     "text": [
      "2244577\n",
      "540377\n",
      "1704200\n",
      "[Row(stars=5), Row(stars=1), Row(stars=5), Row(stars=1), Row(stars=5), Row(stars=5), Row(stars=5), Row(stars=1), Row(stars=5), Row(stars=5), Row(stars=5), Row(stars=5), Row(stars=5), Row(stars=5), Row(stars=1), Row(stars=5), Row(stars=1), Row(stars=1), Row(stars=5), Row(stars=5), Row(stars=1), Row(stars=5), Row(stars=5), Row(stars=5), Row(stars=5), Row(stars=5), Row(stars=5), Row(stars=5), Row(stars=1), Row(stars=1), Row(stars=5), Row(stars=1), Row(stars=5), Row(stars=5), Row(stars=5), Row(stars=5), Row(stars=1), Row(stars=1), Row(stars=5), Row(stars=5), Row(stars=5), Row(stars=5), Row(stars=5), Row(stars=1), Row(stars=1), Row(stars=5), Row(stars=5), Row(stars=5), Row(stars=5), Row(stars=5)]\n",
      "[Row(business_id=u'7u_1pr2Q8ma3mAYR_ZzBjg', cool=0, date=u'2015-07-10', funny=0, review_id=u'8j4_uvubhLH6Qz9Hm1x-Sw', stars=1, text=u'Dishwasher Inconvenience. I had been a Best Buy appliance loyalist until now. Granted, hadn\\'t bought any for maybe 8 years but they are who I went to first based on many other purchases. Bought dishwasher in store. I knew installation was separate. I made sure to get it. I scheduled a time. I wasn\\'t happy with a 12 hour delivery window (6 hours in past). But I had an order sheet with scheduled delivery and separate line confirming installation with same info. Sales person tells me that installers will pick up dishwasher and come with it. Night before my date, I get a voicemail with a 2 hour window. I\\'m thinking great. Next day, a guy comes. He is here to drop off my dishwasher. I said \"and install\". And he says no. I need to schedule that separately. I said I have it on paper. He says no. I refuse the delivery. I live in a condo, it would sit on my living room, and who wants that? Call store. Was informed that I was supposed to call geek squad to schedule installation. That number isn\\'t on any of my papers. And no instructions to do that. I ask for/get it. Call it. After numerous transfers I learn I can\\'t get a refund until it gets back to warehouse. I need to call tomorrow. I understand that. What bugs me is the transfers and time on the phone, and no one was surprised at my experience. So, this is pretty common. And that stinks.', type=u'review', useful=1, user_id=u'jzTNpdn1hy8Nr6wooFy5SA'), Row(business_id=u'da17_EW7GaYZWw1Z1JKSmw', cool=0, date=u'2015-06-28', funny=0, review_id=u'FlbIECE6dacGqf4ypDC72Q', stars=5, text=u\"I love this place! Idk why so many people choose to eat at these expensive restaurants and buffets in Vegas, when you can get waaaaaaaaay more bang for your buck at Denny's! IMO Denny's is the best place to eat in Vegas, it's cheap and the food is good!\", type=u'review', useful=0, user_id=u'7GxcGvEVYCgCeBq_bVxt6g'), Row(business_id=u'azE1DNVQFBU8boVbaJhj7w', cool=0, date=u'2016-08-21', funny=0, review_id=u'u6cL8gwFUdD1V5oLLI5FFA', stars=5, text=u'Arrived about one half hour befor opening tonight......no problem we could sit and have a glass of wine.......Fantastic dinner......service unbelievable...does not matter what your position is all restaurant help pitches in to help the customers.....Jealous Pittsburgh for having this wonderful place', type=u'review', useful=0, user_id=u'DyiHOArN2sBVjoXuICr_cQ'), Row(business_id=u'JHN09M-CRTGln2rRnS9hWw', cool=1, date=u'2014-03-13', funny=3, review_id=u'04XgF4u2EIrmTALrW5HLjA', stars=1, text=u'Was told at 5am that burgers arent made until 4pm by some chubby ogre latina.\\n\\nStay in school kids.', type=u'review', useful=1, user_id=u'xB_iqVEAcHv4ov8tGa0iTw'), Row(business_id=u'f8CJakdoDUiiMz5QjZ_z7w', cool=0, date=u'2013-07-31', funny=0, review_id=u'THilCD0ChoI6yKcU8TMbGQ', stars=5, text=u\"I'm a new pool owner and I've had Joe come out to my house twice so far to assist me in getting the pool up and running.  The first time he assessed the pool while I was buying the house after receiving an inspection.  He rinsed off the filter cartridges and gave me a list of items to buy and recommended where to purchase them for the best price.\\n\\nToday he came out to install a few minor items such as a door for my skimmer and water guard for my timer.  I asked plenty of questions which had come up since moving in and he answered them with great patience even after I repeated them so I could write them down.  He provided me with a lot of tips and was very easy going saying I could call him anytime I had a quick question.  Even though I'm sure he could sense my inexperience, he still was fair in his pricing and told me what things would be needed (service wise) and what won't.\\n\\nWhen the time comes for a new pump, I will definitely be calling Joe out to install it!  Also I should mention that the young lady on the phone who assisted me with setting up the appointment was extremely friendly and their system had very good notes as far as what I would need!! Very impressive!\", type=u'review', useful=1, user_id=u'M-xJMhi-HphpWaD2992K3A')]\n"
     ]
    }
   ],
   "source": [
    "extreme_reviews = review.where(review.stars % 4 == 1).repartition(300)\n",
    "print(extreme_reviews.count())\n",
    "print(extreme_reviews.where(extreme_reviews.stars == 1).count())\n",
    "print(extreme_reviews.where(extreme_reviews.stars == 5).count())\n",
    "print(extreme_reviews.select(\"stars\").head(50))\n",
    "print(extreme_reviews.head(5))"
   ]
  },
  {
   "cell_type": "code",
   "execution_count": 5,
   "metadata": {
    "collapsed": false
   },
   "outputs": [],
   "source": [
    "\n",
    "extreme_reviews = extreme_reviews.withColumn(\"stars\", extreme_reviews[\"stars\"].cast(DoubleType()))"
   ]
  },
  {
   "cell_type": "code",
   "execution_count": 6,
   "metadata": {
    "collapsed": false
   },
   "outputs": [
    {
     "name": "stdout",
     "output_type": "stream",
     "text": [
      "0.781907236865\n"
     ]
    }
   ],
   "source": [
    "from pyspark.ml.classification import LogisticRegression\n",
    "from pyspark.ml.evaluation import MulticlassClassificationEvaluator\n",
    "from pyspark.ml.feature import VectorAssembler, Binarizer\n",
    "from pyspark.ml import Pipeline\n",
    "from pyspark.ml.linalg import Vectors\n",
    "\n",
    "\n",
    "\n",
    "assembler = VectorAssembler(inputCols=[\"useful\", \"cool\", \"funny\"], outputCol=\"features\")\n",
    "label_binarizer = Binarizer(threshold=3.0, inputCol=\"stars\", outputCol=\"label\")\n",
    "logistic_reg = LogisticRegression().setFeaturesCol(\"features\").setPredictionCol(\"prediction\")\n",
    "\n",
    "pipeline = Pipeline(stages=[assembler, label_binarizer, logistic_reg])\n",
    "\n",
    "\n",
    "model = pipeline.fit(extreme_reviews)\n",
    "\n",
    "predictions = model.transform(extreme_reviews)\n",
    "\n",
    "evaluator = MulticlassClassificationEvaluator(\n",
    "    labelCol=\"label\", predictionCol=\"prediction\", metricName=\"accuracy\")\n",
    "accuracy = evaluator.evaluate(predictions)\n",
    "\n",
    "print(accuracy)\n"
   ]
  },
  {
   "cell_type": "code",
   "execution_count": 7,
   "metadata": {
    "collapsed": false
   },
   "outputs": [
    {
     "name": "stdout",
     "output_type": "stream",
     "text": [
      "0.759250406647\n"
     ]
    }
   ],
   "source": [
    "from pyspark.ml.feature import Tokenizer, CountVectorizer\n",
    "\n",
    "tokenizer = Tokenizer(inputCol=\"text\", outputCol=\"words\")\n",
    "cv = CountVectorizer(minTF=100.0, minDF=10.0, inputCol=\"words\", outputCol=\"features\")\n",
    "label_binarizer = Binarizer(threshold=3.0, inputCol=\"stars\", outputCol=\"label\")\n",
    "logistic_reg = LogisticRegression().setFeaturesCol(\"features\").setPredictionCol(\"prediction\")\n",
    "\n",
    "pipeline = Pipeline(stages=[tokenizer, cv, label_binarizer, logistic_reg])\n",
    "\n",
    "model = pipeline.fit(extreme_reviews)\n",
    "\n",
    "predictions = model.transform(extreme_reviews)\n",
    "\n",
    "evaluator = MulticlassClassificationEvaluator(\n",
    "    labelCol=\"label\", predictionCol=\"prediction\", metricName=\"accuracy\")\n",
    "accuracy = evaluator.evaluate(predictions)\n",
    "\n",
    "print(accuracy)\n",
    "\n",
    "\n"
   ]
  },
  {
   "cell_type": "code",
   "execution_count": null,
   "metadata": {
    "collapsed": false
   },
   "outputs": [],
   "source": [
    "from pyspark.ml.feature import Word2Vec\n",
    "\n",
    "tokenizer = Tokenizer(inputCol=\"text\", outputCol=\"words\")\n",
    "word2Vec = Word2Vec(vectorSize=500, minCount=100, inputCol=\"words\", outputCol=\"features\")\n",
    "label_binarizer = Binarizer(threshold=3.0, inputCol=\"stars\", outputCol=\"label\")\n",
    "logistic_reg = LogisticRegression().setFeaturesCol(\"features\").setPredictionCol(\"prediction\")\n",
    "\n",
    "pipeline = Pipeline(stages=[tokenizer, word2Vec, label_binarizer, logistic_reg])\n",
    "\n",
    "model = pipeline.fit(extreme_reviews)\n",
    "\n",
    "predictions = model.transform(extreme_reviews)\n",
    "\n",
    "evaluator = MulticlassClassificationEvaluator(\n",
    "    labelCol=\"label\", predictionCol=\"prediction\", metricName=\"accuracy\")\n",
    "accuracy = evaluator.evaluate(predictions)\n",
    "\n",
    "print(accuracy)\n"
   ]
  },
  {
   "cell_type": "code",
   "execution_count": null,
   "metadata": {
    "collapsed": true
   },
   "outputs": [],
   "source": []
  },
  {
   "cell_type": "code",
   "execution_count": null,
   "metadata": {
    "collapsed": true
   },
   "outputs": [],
   "source": []
  },
  {
   "cell_type": "code",
   "execution_count": null,
   "metadata": {
    "collapsed": true
   },
   "outputs": [],
   "source": []
  },
  {
   "cell_type": "code",
   "execution_count": 4,
   "metadata": {
    "collapsed": false
   },
   "outputs": [],
   "source": [
    "business = business.repartition(300)\n",
    "user = user.repartition(300)\n",
    "review = review.repartition(300)"
   ]
  },
  {
   "cell_type": "code",
   "execution_count": 32,
   "metadata": {
    "collapsed": false
   },
   "outputs": [
    {
     "name": "stdout",
     "output_type": "stream",
     "text": [
      "                         city\n",
      "0                 Middlefield\n",
      "1    Saint-Marc-sur-Richelieu\n",
      "2     Sainte-Anne-des-Plaines\n",
      "3                       Ratho\n",
      "4                Mississauaga\n",
      "5                       Tempe\n",
      "6                Sainte-Adele\n",
      "7                  Harrisburg\n",
      "8             North Las Vegas\n",
      "9                      Auburn\n",
      "10                Wilkinsburg\n",
      "11               Saint-Hubert\n",
      "12                Indian Hook\n",
      "13                    Phoenix\n",
      "14                 Georgetown\n",
      "15               West Mifflin\n",
      "16                  Kirkcaldy\n",
      "17                      Savoy\n",
      "18             Upper St Clair\n",
      "19        Pointe-Aux-Trembles\n",
      "20             South Mountain\n",
      "21     Bonnyrigg and Lasswade\n",
      "22                  Brunswick\n",
      "23                   Rosemère\n",
      "24            South Las Vegas\n",
      "25                  Tottenham\n",
      "26                   Ben Avon\n",
      "27                    Baldwin\n",
      "28                     frazer\n",
      "29                  Wickliffe\n",
      "..                        ...\n",
      "848              Kornwestheim\n",
      "849            West Las Vegas\n",
      "850                Las  Vegas\n",
      "851         Remseck am Neckar\n",
      "852                 Glassport\n",
      "853                 Mt Albert\n",
      "854                   Montéal\n",
      "855                   Midland\n",
      "856               Brecksville\n",
      "857               Saint-Bruno\n",
      "858           Schwieberdingen\n",
      "859           Saint-Hyacinthe\n",
      "860                     Leith\n",
      "861                    Anthem\n",
      "862                 Middleton\n",
      "863                Lake Wylie\n",
      "864             Wesley Chapel\n",
      "865                  Straiton\n",
      "866              L'Île-Perrôt\n",
      "867                  St. Anns\n",
      "868            Saint-Eustache\n",
      "869              Steinenbronn\n",
      "870                 Hemmingen\n",
      "871                    Rankin\n",
      "872             North Olmsted\n",
      "873                 Homestead\n",
      "874                   Fithian\n",
      "875                 Sewickley\n",
      "876                 Kahnawake\n",
      "877  St Philippe de Laprairie\n",
      "\n",
      "[878 rows x 1 columns]\n"
     ]
    }
   ],
   "source": [
    "b = business.select(\"city\").distinct().toPandas()\n",
    "print(b)"
   ]
  },
  {
   "cell_type": "code",
   "execution_count": 40,
   "metadata": {
    "collapsed": false
   },
   "outputs": [
    {
     "name": "stdout",
     "output_type": "stream",
     "text": [
      "878\n",
      "878\n"
     ]
    }
   ],
   "source": [
    "print(b.sort(\"city\"))\n",
    "print(len(b))\n",
    "print(len(b.drop_duplicates()))"
   ]
  },
  {
   "cell_type": "code",
   "execution_count": 5,
   "metadata": {
    "collapsed": false
   },
   "outputs": [],
   "source": [
    "# filter users with less than 5 reviews\n",
    "valid_users = user.alias('u').join(review.alias('r'), user.user_id == review.user_id).select(\"u.user_id\").groupby(\"user_id\").count()\n",
    "# print(len(valid_users.collect()))\n",
    "valid_users = valid_users.where(\"count >= 5\")\n",
    "\n"
   ]
  },
  {
   "cell_type": "code",
   "execution_count": 8,
   "metadata": {
    "collapsed": true
   },
   "outputs": [],
   "source": [
    "valid_users_review_count_df = valid_users.select(\"count\").toPandas()['count']\n"
   ]
  },
  {
   "cell_type": "code",
   "execution_count": 15,
   "metadata": {
    "collapsed": false
   },
   "outputs": [
    {
     "name": "stderr",
     "output_type": "stream",
     "text": [
      "/usr/local/lib/python2.7/dist-packages/plotly/plotly/plotly.py:215: UserWarning:\n",
      "\n",
      "Woah there! Look at all those points! Due to browser limitations, the Plotly SVG drawing functions have a hard time graphing more than 500k data points for line charts, or 40k points for other types of charts. Here are some suggestions:\n",
      "(1) Use the `plotly.graph_objs.Scattergl` trace object to generate a WebGl graph.\n",
      "(2) Trying using the image API to return an image instead of a graph URL\n",
      "(3) Use matplotlib\n",
      "(4) See if you can create your visualization with fewer data points\n",
      "\n",
      "If the visualization you're using aggregates points (e.g., box plot, histogram, etc.) you can disregard this warning.\n",
      "\n"
     ]
    },
    {
     "data": {
      "text/html": [
       "<iframe id=\"igraph\" scrolling=\"no\" style=\"border:none;\" seamless=\"seamless\" src=\"https://plot.ly/~amcire96/24.embed\" height=\"525px\" width=\"100%\"></iframe>"
      ],
      "text/plain": [
       "<plotly.tools.PlotlyDisplay object>"
      ]
     },
     "execution_count": 15,
     "metadata": {},
     "output_type": "execute_result"
    }
   ],
   "source": [
    "valid_users_review_count_data = Data([Histogram(x=valid_users_review_count_df)])\n",
    "py.iplot(valid_users_review_count_data)"
   ]
  },
  {
   "cell_type": "code",
   "execution_count": 6,
   "metadata": {
    "collapsed": false
   },
   "outputs": [],
   "source": [
    "user_geo = (business.alias('b').join(\n",
    "            review.alias('r'),business.business_id == review.business_id).join(\n",
    "            valid_users.alias('u'), review.user_id == valid_users.user_id).select(\n",
    "            ['u.user_id', 'b.city']))\n",
    "\n",
    "# user_geo.printSchema()\n",
    "# print(user_geo.head(10))"
   ]
  },
  {
   "cell_type": "code",
   "execution_count": 7,
   "metadata": {
    "collapsed": false
   },
   "outputs": [],
   "source": [
    "user_geo_count = user_geo.groupby([\"user_id\", \"city\"]).count().orderBy([\"user_id\", \"count\"], ascending=[1, 0])\n",
    "\n",
    "# user_geo_count.printSchema()\n",
    "# print(user_geo_count.head(10))"
   ]
  },
  {
   "cell_type": "code",
   "execution_count": 8,
   "metadata": {
    "collapsed": false
   },
   "outputs": [],
   "source": [
    "user_num_cities = user_geo_count.groupby(\"user_id\").count().orderBy(\"count\", ascending=[0])\n",
    "\n",
    "# print(user_num_cities.head(10))\n",
    "# print(user_num_cities.orderBy(\"count\", ascending=[1]).head(10))"
   ]
  },
  {
   "cell_type": "code",
   "execution_count": 12,
   "metadata": {
    "collapsed": true
   },
   "outputs": [],
   "source": [
    "user_num_cities_df = user_num_cities.select(\"count\").toPandas()['count']\n"
   ]
  },
  {
   "cell_type": "code",
   "execution_count": 13,
   "metadata": {
    "collapsed": false
   },
   "outputs": [
    {
     "name": "stdout",
     "output_type": "stream",
     "text": [
      "0    74\n",
      "1    58\n",
      "2    52\n",
      "3    50\n",
      "4    49\n",
      "5    47\n",
      "6    47\n",
      "7    47\n",
      "8    47\n",
      "9    46\n",
      "Name: count, dtype: int64\n",
      "179097\n"
     ]
    }
   ],
   "source": [
    "print(user_num_cities_df.head(10))\n",
    "print(len(user_num_cities_df))"
   ]
  },
  {
   "cell_type": "code",
   "execution_count": 15,
   "metadata": {
    "collapsed": false
   },
   "outputs": [
    {
     "data": {
      "text/html": [
       "<iframe id=\"igraph\" scrolling=\"no\" style=\"border:none;\" seamless=\"seamless\" src=\"https://plot.ly/~amcire96/20.embed\" height=\"525px\" width=\"100%\"></iframe>"
      ],
      "text/plain": [
       "<plotly.tools.PlotlyDisplay object>"
      ]
     },
     "execution_count": 15,
     "metadata": {},
     "output_type": "execute_result"
    }
   ],
   "source": [
    "num_cities_data = Data([Histogram(x=user_num_cities_df)])\n",
    "py.iplot(num_cities_data)\n",
    "\n",
    "# group_labels = ['cities a user has reviewed in']\n",
    "# fig = FF.create_distplot([user_num_cities_df], group_labels)\n",
    "# py.iplot(fig)\n"
   ]
  },
  {
   "cell_type": "code",
   "execution_count": 9,
   "metadata": {
    "collapsed": false
   },
   "outputs": [],
   "source": [
    "user_frac_cities = (user_geo_count.alias(\"ugc\").join(valid_users.alias(\"vu\"), col(\"ugc.user_id\") == col(\"vu.user_id\")).select(\n",
    "                    [col(\"ugc.user_id\"), col(\"ugc.city\"), (col(\"ugc.count\") / col(\"vu.count\")).alias(\"frac\")]).orderBy(\"frac\", ascending=[1]))\n",
    "user_frac_cities = user_frac_cities.groupby(\"user_id\").agg(max(\"frac\").alias(\"maxFrac\"))\n",
    "\n",
    "# user_frac_cities.printSchema()\n",
    "# user_frac_cities.head(5)"
   ]
  },
  {
   "cell_type": "code",
   "execution_count": 17,
   "metadata": {
    "collapsed": false
   },
   "outputs": [],
   "source": [
    "user_frac_cities_df = user_frac_cities.select(\"maxFrac\").toPandas()['maxFrac']"
   ]
  },
  {
   "cell_type": "code",
   "execution_count": 19,
   "metadata": {
    "collapsed": false
   },
   "outputs": [
    {
     "data": {
      "text/html": [
       "<iframe id=\"igraph\" scrolling=\"no\" style=\"border:none;\" seamless=\"seamless\" src=\"https://plot.ly/~amcire96/22.embed\" height=\"525px\" width=\"100%\"></iframe>"
      ],
      "text/plain": [
       "<plotly.tools.PlotlyDisplay object>"
      ]
     },
     "execution_count": 19,
     "metadata": {},
     "output_type": "execute_result"
    }
   ],
   "source": [
    "frac_cities_data = Data([Histogram(x=user_frac_cities_df)])\n",
    "py.iplot(frac_cities_data)"
   ]
  },
  {
   "cell_type": "code",
   "execution_count": 10,
   "metadata": {
    "collapsed": false
   },
   "outputs": [],
   "source": [
    "valid_user_frac_cities = (user_geo_count.alias(\"ugc\").join(valid_users.alias(\"vu\"), col(\"ugc.user_id\") == col(\"vu.user_id\")).select(\n",
    "                        [col(\"ugc.user_id\"), col(\"ugc.city\"), (col(\"ugc.count\") / col(\"vu.count\")).alias(\"frac\")]).where(\"frac > 0.1\"))\n",
    "valid_user_and_city = valid_user_frac_cities.select([col(\"user_id\"), col(\"city\")])\n",
    "\n",
    "# print(valid_user_and_city.select(\"city\").collect())\n",
    "\n"
   ]
  },
  {
   "cell_type": "code",
   "execution_count": 11,
   "metadata": {
    "collapsed": false
   },
   "outputs": [],
   "source": [
    "users_in_both = (valid_user_and_city.alias(\"df1\").join(valid_user_and_city.alias(\"df2\"), col(\"df1.city\") < col(\"df2.city\"))\n",
    "                 .join(user.select(\"user_id\").alias(\"u\"), (col(\"u.user_id\") == col(\"df1.user_id\")) & (col(\"u.user_id\") == col(\"df2.user_id\")))\n",
    "                 .groupby([col(\"df1.city\").alias(\"city1\"), col(\"df2.city\").alias(\"city2\")]).count()\n",
    "                 .select([col(\"city1\"), col(\"city2\"), col(\"count\").alias(\"users_in_both\")]).where(\"users_in_both >= 10\"))\n",
    "\n",
    "# print(users_in_both.toPandas())"
   ]
  },
  {
   "cell_type": "code",
   "execution_count": 33,
   "metadata": {
    "collapsed": false
   },
   "outputs": [
    {
     "name": "stdout",
     "output_type": "stream",
     "text": [
      "                    city  city_users\n",
      "0            Middlefield          39\n",
      "1                  Tempe       18761\n",
      "2             Harrisburg         172\n",
      "3        North Las Vegas        4473\n",
      "4           Saint-Hubert          10\n",
      "5                Phoenix       46252\n",
      "6             Georgetown          35\n",
      "7                  Savoy         128\n",
      "8           West Mifflin         157\n",
      "9              Brunswick         199\n",
      "10       South Las Vegas          41\n",
      "11             Fitchburg         476\n",
      "12             Newmarket         299\n",
      "13             Wickliffe          58\n",
      "14             King City          11\n",
      "15   Lower Lawrenceville          40\n",
      "16             Tallmadge          79\n",
      "17                Bolton          22\n",
      "18              Hinckley          11\n",
      "19              Paradise         105\n",
      "20            Woodbridge         261\n",
      "21             Glenndale          33\n",
      "22            Bainbridge          14\n",
      "23             Avon Lake         199\n",
      "24            McKeesport          45\n",
      "25             Inverness         105\n",
      "26             Edinburgh        1848\n",
      "27             Ahwatukee         130\n",
      "28            Springdale          30\n",
      "29                Dallas          21\n",
      "..                   ...         ...\n",
      "345              Lachine          38\n",
      "346        Saint-Sauveur          27\n",
      "347            Don Mills          13\n",
      "348              Concord        1231\n",
      "349           Sharpsburg          22\n",
      "350          Black Earth          15\n",
      "351          Pierrefonds          35\n",
      "352             Carefree         272\n",
      "353           Unionville         155\n",
      "354                 York         125\n",
      "355              Tuscola          26\n",
      "356          Chesterland         121\n",
      "357            Charlotte       11078\n",
      "358          Streetsboro         162\n",
      "359    Cleveland Heights         966\n",
      "360            Sun Lakes          35\n",
      "361          Painesville         142\n",
      "362         Kornwestheim          22\n",
      "363       West Las Vegas          15\n",
      "364           Las  Vegas          39\n",
      "365          Brecksville         145\n",
      "366              Midland          13\n",
      "367      Schwieberdingen          12\n",
      "368               Anthem         290\n",
      "369            Middleton         853\n",
      "370        Wesley Chapel          61\n",
      "371           Lake Wylie         105\n",
      "372        North Olmsted         631\n",
      "373            Homestead         324\n",
      "374            Sewickley         161\n",
      "\n",
      "[375 rows x 2 columns]\n"
     ]
    }
   ],
   "source": [
    "city_users = valid_user_and_city.groupby(\"city\").count().select([col(\"city\"), (col(\"count\").alias(\"city_users\"))]).where(\"city_users>=10\")\n",
    "city_users_df = city_users.toPandas()\n",
    "\n",
    "print(city_users_df)"
   ]
  },
  {
   "cell_type": "code",
   "execution_count": 12,
   "metadata": {
    "collapsed": false
   },
   "outputs": [],
   "source": [
    "# city_pairs = users_in_both.select([col(\"city1\"), col(\"city2\")])\n",
    "\n",
    "# users_in_either = (valid_user_and_city.alias(\"df1\")\n",
    "#                    .join(city_pairs.alias(\"cp\"), (col(\"df1.city\") == col(\"cp.city1\")))\n",
    "#                    .join(valid_user_and_city.alias(\"df2\"), col(\"df2.city\") == col(\"cp.city2\"))\n",
    "#                    .join(user.select(\"user_id\").alias(\"u\"), (col(\"u.user_id\") == col(\"df1.user_id\")) | (col(\"u.user_id\") == col(\"df2.user_id\")))\n",
    "#                    .groupby([col(\"df1.city\").alias(\"city1\"), col(\"df2.city\").alias(\"city2\")]).count()\n",
    "#                    .select([col(\"city1\"), col(\"city2\"), col(\"count\").alias(\"users_in_either\")]).where(\"users_in_either >= 50\"))\n",
    "# print(users_in_either.toPandas())\n",
    "\n",
    "\n",
    "\n",
    "users_in_either = (city_users.alias(\"cu1\")\n",
    "                   .join(users_in_both.alias(\"b\"), (col(\"cu1.city\") == col(\"b.city1\")))\n",
    "                   .join(city_users.alias(\"cu2\"), (col(\"cu2.city\") == col(\"b.city2\")))\n",
    "                   .select([col(\"b.city1\"), col(\"b.city2\"), \n",
    "                            (col(\"cu1.city_users\") + col(\"cu1.city_users\") - col(\"b.users_in_both\")).alias(\"users_in_either\")]))\n",
    "\n",
    "# print(users_in_either.head(10))"
   ]
  },
  {
   "cell_type": "code",
   "execution_count": 13,
   "metadata": {
    "collapsed": false
   },
   "outputs": [
    {
     "name": "stdout",
     "output_type": "stream",
     "text": [
      "                    city1               city2   jaccard\n",
      "0               Brentwood          Pittsburgh  1.000000\n",
      "1          Castle Shannon          Pittsburgh  1.000000\n",
      "2                 Crafton          Pittsburgh  1.000000\n",
      "3                Emsworth          Pittsburgh  1.000000\n",
      "4              Enterprise           Las Vegas  1.000000\n",
      "5               Gerlingen           Stuttgart  1.000000\n",
      "6              Green Tree          Pittsburgh  1.000000\n",
      "7              Heidelberg          Pittsburgh  1.000000\n",
      "8                  Kernen           Stuttgart  1.000000\n",
      "9      Korntal-Münchingen           Stuttgart  1.000000\n",
      "10    McCandless Township          Pittsburgh  1.000000\n",
      "11             Mont-Royal            Montréal  1.000000\n",
      "12         Montreal-Ouest            Montréal  1.000000\n",
      "13           McKees Rocks          Pittsburgh  0.974684\n",
      "14           Blue Diamond           Las Vegas  0.960784\n",
      "15              Fitchburg             Madison  0.958848\n",
      "16              East York             Toronto  0.953917\n",
      "17    Lower Lawrenceville          Pittsburgh  0.951220\n",
      "18              Henderson           Las Vegas  0.950442\n",
      "19             Las  Vegas           Las Vegas  0.950000\n",
      "20               Bellevue          Pittsburgh  0.945205\n",
      "21          Mount Lebanon          Pittsburgh  0.937500\n",
      "22             Ostfildern           Stuttgart  0.937500\n",
      "23               Carnegie          Pittsburgh  0.930131\n",
      "24           Allison Park          Pittsburgh  0.929204\n",
      "25            Bethel Park          Pittsburgh  0.929204\n",
      "26                Lasalle            Montréal  0.928571\n",
      "27            Mt. Lebanon          Pittsburgh  0.925926\n",
      "28              Homestead          Pittsburgh  0.922849\n",
      "29               Imperial          Pittsburgh  0.909091\n",
      "...                   ...                 ...       ...\n",
      "1670              Phoenix            Westlake  0.000151\n",
      "1671              Phoenix            Woodmere  0.000151\n",
      "1672              Phoenix           Pineville  0.000141\n",
      "1673              Phoenix           Sun Lakes  0.000141\n",
      "1674              Phoenix          Willoughby  0.000141\n",
      "1675            Las Vegas               Solon  0.000138\n",
      "1676            Las Vegas  Middleburg Heights  0.000124\n",
      "1677            Las Vegas                Stow  0.000124\n",
      "1678            Las Vegas      San Tan Valley  0.000117\n",
      "1679            Las Vegas             Wexford  0.000117\n",
      "1680            Las Vegas            LasVegas  0.000110\n",
      "1681            Las Vegas               Laval  0.000110\n",
      "1682            Las Vegas               Sloan  0.000110\n",
      "1683            Las Vegas         Streetsboro  0.000110\n",
      "1684              Phoenix       Richmond Hill  0.000108\n",
      "1685            Las Vegas      West Las Vegas  0.000104\n",
      "1686            Las Vegas       Moon Township  0.000097\n",
      "1687            Las Vegas           Lyndhurst  0.000090\n",
      "1688            Las Vegas           Newmarket  0.000090\n",
      "1689            Las Vegas           Twinsburg  0.000090\n",
      "1690            Las Vegas          Nellis AFB  0.000083\n",
      "1691            Las Vegas           Sewickley  0.000083\n",
      "1692            Las Vegas       N W Las Vegas  0.000076\n",
      "1693            Las Vegas         Sun Prairie  0.000076\n",
      "1694            Las Vegas              Lorain  0.000069\n",
      "1695            Las Vegas         Mount Horeb  0.000069\n",
      "1696            Las Vegas               Savoy  0.000069\n",
      "1697            Las Vegas       Spring Valley  0.000069\n",
      "1698            Las Vegas              Verona  0.000069\n",
      "1699            Las Vegas        West Mifflin  0.000069\n",
      "\n",
      "[1700 rows x 3 columns]\n"
     ]
    }
   ],
   "source": [
    "city_sims = (users_in_both.alias(\"b\").join(users_in_either.alias(\"e\"), (col(\"b.city1\") == col(\"e.city1\")) & (col(\"b.city2\") == col(\"e.city2\")))\n",
    "             .select([col(\"b.city1\"), col(\"b.city2\"), (col(\"b.users_in_both\") / col(\"e.users_in_either\")).alias(\"jaccard\")])\n",
    "             .orderBy([\"jaccard\", \"city1\", \"city2\"], ascending=[0, 1, 1]))\n",
    "\n",
    "city_sims_df = city_sims.toPandas()\n",
    "print(city_sims_df)"
   ]
  },
  {
   "cell_type": "code",
   "execution_count": 19,
   "metadata": {
    "collapsed": false
   },
   "outputs": [
    {
     "data": {
      "text/html": [
       "<iframe id=\"igraph\" scrolling=\"no\" style=\"border:none;\" seamless=\"seamless\" src=\"https://plot.ly/~amcire96/26.embed\" height=\"525px\" width=\"100%\"></iframe>"
      ],
      "text/plain": [
       "<plotly.tools.PlotlyDisplay object>"
      ]
     },
     "execution_count": 19,
     "metadata": {},
     "output_type": "execute_result"
    }
   ],
   "source": [
    "city_sims_data = Data([Histogram(x=city_sims_df[\"jaccard\"])])\n",
    "py.iplot(city_sims_data)"
   ]
  },
  {
   "cell_type": "code",
   "execution_count": 31,
   "metadata": {
    "collapsed": false
   },
   "outputs": [
    {
     "name": "stdout",
     "output_type": "stream",
     "text": [
      "root\n",
      " |-- city1: string (nullable = true)\n",
      " |-- top_most_sim_frac: double (nullable = true)\n",
      "\n",
      "root\n",
      " |-- city: string (nullable = true)\n",
      " |-- most_sim_city: string (nullable = true)\n",
      " |-- top_most_sim_frac: double (nullable = true)\n",
      "\n",
      "                          city   most_sim_city  top_most_sim_frac\n",
      "0                    Brentwood      Pittsburgh           1.000000\n",
      "1               Castle Shannon      Pittsburgh           1.000000\n",
      "2                      Crafton      Pittsburgh           1.000000\n",
      "3                     Emsworth      Pittsburgh           1.000000\n",
      "4                   Enterprise       Las Vegas           1.000000\n",
      "5                    Gerlingen       Stuttgart           1.000000\n",
      "6                   Green Tree      Pittsburgh           1.000000\n",
      "7                   Heidelberg      Pittsburgh           1.000000\n",
      "8                       Kernen       Stuttgart           1.000000\n",
      "9           Korntal-Münchingen       Stuttgart           1.000000\n",
      "10         McCandless Township      Pittsburgh           1.000000\n",
      "11                  Mont-Royal        Montréal           1.000000\n",
      "12              Montreal-Ouest        Montréal           1.000000\n",
      "13               N W Las Vegas       Las Vegas           1.000000\n",
      "14                  Nellis AFB       Las Vegas           1.000000\n",
      "15               Saint Laurent        Montréal           1.000000\n",
      "16                       Sloan       Las Vegas           1.000000\n",
      "17             South Las Vegas       Las Vegas           1.000000\n",
      "18           South Queensferry       Edinburgh           1.000000\n",
      "19               Spring Valley       Las Vegas           1.000000\n",
      "20                   Summerlin       Las Vegas           1.000000\n",
      "21                Turtle Creek      Pittsburgh           1.000000\n",
      "22           Upper Saint Clair      Pittsburgh           1.000000\n",
      "23                  Weddington       Charlotte           1.000000\n",
      "24              West Las Vegas       Las Vegas           1.000000\n",
      "25                   West View      Pittsburgh           1.000000\n",
      "26                    Paradise       Las Vegas           0.990476\n",
      "27             North Las Vegas       Las Vegas           0.987480\n",
      "28                McKees Rocks      Pittsburgh           0.987179\n",
      "29                 N Las Vegas       Las Vegas           0.984375\n",
      "..                         ...             ...                ...\n",
      "319                  Macedonia       Cleveland           0.527607\n",
      "320                  Peninsula       Cleveland           0.515625\n",
      "321                     Frazer       Las Vegas           0.515152\n",
      "322                       Stow  Cuyahoga Falls           0.504505\n",
      "323                   Kirtland       Cleveland           0.500000\n",
      "324                Middlefield       Cleveland           0.487179\n",
      "325                     Lorain       Cleveland           0.484211\n",
      "326                Valley City       Cleveland           0.481481\n",
      "327  Bradford West Gwillimbury        Bradford           0.476190\n",
      "328  Bradford West Gwillimbury       Newmarket           0.476190\n",
      "329  Bradford West Gwillimbury         Toronto           0.476190\n",
      "330                     Hudson       Cleveland           0.474227\n",
      "331                    Amherst       Cleveland           0.473214\n",
      "332                     Elyria       Cleveland           0.470968\n",
      "333                    Phoenix      Scottsdale           0.465731\n",
      "334                  Twinsburg       Cleveland           0.463768\n",
      "335                       Kent       Cleveland           0.413965\n",
      "336             Cuyahoga Falls       Cleveland           0.412229\n",
      "337                     Burton       Cleveland           0.394737\n",
      "338                     Aurora         Toronto           0.380054\n",
      "339                Streetsboro       Cleveland           0.358025\n",
      "340                   Montréal         Toronto           0.278194\n",
      "341                  Las Vegas       Henderson           0.221279\n",
      "342                  Cleveland        Lakewood           0.198337\n",
      "343                    Madison       Middleton           0.178115\n",
      "344                  Edinburgh       Las Vegas           0.169372\n",
      "345                 Pittsburgh       Las Vegas           0.141140\n",
      "346                    Toronto         Markham           0.132099\n",
      "347                  Charlotte       Las Vegas           0.131702\n",
      "348                  Stuttgart     Ludwigsburg           0.128625\n",
      "\n",
      "[349 rows x 3 columns]\n"
     ]
    }
   ],
   "source": [
    "users_in_both_doubled = (valid_user_and_city.alias(\"df1\").join(valid_user_and_city.alias(\"df2\"), col(\"df1.city\") != col(\"df2.city\"))\n",
    "                         .join(user.select(\"user_id\").alias(\"u\"), (col(\"u.user_id\") == col(\"df1.user_id\")) & (col(\"u.user_id\") == col(\"df2.user_id\")))\n",
    "                         .groupby([col(\"df1.city\").alias(\"city1\"), col(\"df2.city\").alias(\"city2\")]).count()\n",
    "                         .select([col(\"city1\"), col(\"city2\"), col(\"count\").alias(\"users_in_both\")]).where(\"users_in_both >= 10\"))\n",
    "\n",
    "\n",
    "top_sim_fracs = (users_in_both_doubled.alias(\"b\").join(city_users.alias(\"cu\"), col(\"b.city1\") == col(\"cu.city\"))\n",
    "                 .select([col(\"b.city1\"), col(\"b.city2\"), (col(\"b.users_in_both\") / col(\"cu.city_users\")).alias(\"most_sim_frac\")])\n",
    "                 .groupby(\"city1\").agg(max(\"most_sim_frac\").alias(\"top_most_sim_frac\")))  \n",
    "\n",
    "top_sim_fracs.printSchema()\n",
    "\n",
    "alt_city_sims = (users_in_both_doubled.alias(\"b\").join(city_users.alias(\"cu\"), col(\"b.city1\") == col(\"cu.city\"))\n",
    "                 .select([col(\"b.city1\"), col(\"b.city2\"), (col(\"b.users_in_both\") / col(\"cu.city_users\")).alias(\"most_sim_frac\")])\n",
    "                 .join(top_sim_fracs.alias(\"tsf\"), (col(\"tsf.city1\") == col(\"b.city1\")) & (col(\"tsf.top_most_sim_frac\") == col(\"most_sim_frac\")))\n",
    "                 .select([col(\"b.city1\").alias(\"city\"), col(\"b.city2\").alias(\"most_sim_city\"), col(\"tsf.top_most_sim_frac\")])\n",
    "                 .orderBy([\"top_most_sim_frac\", \"city\", \"most_sim_city\"], ascending=[0, 1, 1]))\n",
    "\n",
    "alt_city_sims.printSchema()\n",
    "alt_city_sims_df = alt_city_sims.toPandas()\n",
    "print(alt_city_sims_df)\n"
   ]
  },
  {
   "cell_type": "code",
   "execution_count": 39,
   "metadata": {
    "collapsed": false
   },
   "outputs": [
    {
     "name": "stdout",
     "output_type": "stream",
     "text": [
      "349\n",
      "347\n"
     ]
    },
    {
     "name": "stderr",
     "output_type": "stream",
     "text": [
      "/usr/local/lib/python2.7/dist-packages/ipykernel/__main__.py:1: FutureWarning:\n",
      "\n",
      "sort(columns=....) is deprecated, use sort_values(by=.....)\n",
      "\n"
     ]
    }
   ],
   "source": [
    "print(len(alt_city_sims_df.sort(\"city\")[\"city\"]))\n",
    "print(len(alt_city_sims_df[\"city\"].drop_duplicates()))"
   ]
  },
  {
   "cell_type": "code",
   "execution_count": 30,
   "metadata": {
    "collapsed": false
   },
   "outputs": [
    {
     "data": {
      "text/html": [
       "<iframe id=\"igraph\" scrolling=\"no\" style=\"border:none;\" seamless=\"seamless\" src=\"https://plot.ly/~amcire96/28.embed\" height=\"525px\" width=\"100%\"></iframe>"
      ],
      "text/plain": [
       "<plotly.tools.PlotlyDisplay object>"
      ]
     },
     "execution_count": 30,
     "metadata": {},
     "output_type": "execute_result"
    }
   ],
   "source": [
    "alt_city_sims_data = Data([Histogram(x=alt_city_sims_df[\"top_most_sim_frac\"])])\n",
    "py.iplot(alt_city_sims_data)"
   ]
  },
  {
   "cell_type": "code",
   "execution_count": 27,
   "metadata": {
    "collapsed": false
   },
   "outputs": [
    {
     "name": "stdout",
     "output_type": "stream",
     "text": [
      "                   city most_sim_city\n",
      "0             Brentwood    Pittsburgh\n",
      "1        Castle Shannon    Pittsburgh\n",
      "2               Crafton    Pittsburgh\n",
      "3              Emsworth    Pittsburgh\n",
      "4            Enterprise     Las Vegas\n",
      "5             Gerlingen     Stuttgart\n",
      "6            Green Tree    Pittsburgh\n",
      "7            Heidelberg    Pittsburgh\n",
      "8                Kernen     Stuttgart\n",
      "9    Korntal-Münchingen     Stuttgart\n",
      "10  McCandless Township    Pittsburgh\n",
      "11           Mont-Royal      Montréal\n",
      "12       Montreal-Ouest      Montréal\n",
      "13        N W Las Vegas     Las Vegas\n",
      "14           Nellis AFB     Las Vegas\n",
      "15        Saint Laurent      Montréal\n",
      "16                Sloan     Las Vegas\n",
      "17      South Las Vegas     Las Vegas\n",
      "18    South Queensferry     Edinburgh\n",
      "19        Spring Valley     Las Vegas\n",
      "20            Summerlin     Las Vegas\n",
      "21         Turtle Creek    Pittsburgh\n",
      "22    Upper Saint Clair    Pittsburgh\n",
      "23           Weddington     Charlotte\n",
      "24       West Las Vegas     Las Vegas\n",
      "25            West View    Pittsburgh\n"
     ]
    }
   ],
   "source": [
    "completely_related_cities = alt_city_sims.select([\"city\", \"most_sim_city\"]).where(\"top_most_sim_frac == 1.0\")\n",
    "\n",
    "completely_related_cities_df = completely_related_cities.toPandas()\n",
    "print(completely_related_cities_df)"
   ]
  },
  {
   "cell_type": "code",
   "execution_count": null,
   "metadata": {
    "collapsed": true
   },
   "outputs": [],
   "source": [
    "# TODO: find a good rate which \"cities\" are pretty much the same as other cities and then replace in business data?"
   ]
  }
 ],
 "metadata": {
  "kernelspec": {
   "display_name": "Python 2",
   "language": "python",
   "name": "python2"
  },
  "language_info": {
   "codemirror_mode": {
    "name": "ipython",
    "version": 2
   },
   "file_extension": ".py",
   "mimetype": "text/x-python",
   "name": "python",
   "nbconvert_exporter": "python",
   "pygments_lexer": "ipython2",
   "version": "2.7.6"
  }
 },
 "nbformat": 4,
 "nbformat_minor": 2
}
