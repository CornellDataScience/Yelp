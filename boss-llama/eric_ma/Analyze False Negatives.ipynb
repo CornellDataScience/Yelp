{
 "cells": [
  {
   "cell_type": "code",
   "execution_count": 1,
   "metadata": {
    "collapsed": true
   },
   "outputs": [],
   "source": [
    "from datetime import datetime\n",
    "import os\n",
    "import numpy as np\n",
    "import pandas as pd\n",
    "from pyspark.ml.feature import CountVectorizer, IDF, Word2Vec, PCA\n",
    "from pyspark.ml.linalg import DenseVector, SparseVector, VectorUDT, Vectors\n",
    "from pyspark.ml.clustering import GaussianMixture, KMeans\n",
    "from pyspark.ml import Pipeline\n",
    "from pyspark.sql.functions import *\n",
    "from pyspark.sql.types import DateType, FloatType, IntegerType, DoubleType\n",
    "\n",
    "spark_home = os.environ.get('SPARK_HOME', None)\n",
    "\n",
    "import plotly\n",
    "plotly.tools.set_credentials_file(username='amcire96', api_key='sej35ud4YbSOfIshhhZg')\n",
    "# print(plotly.__version__)\n",
    "\n",
    "import plotly.plotly as py\n",
    "from plotly.graph_objs import *\n",
    "import plotly.figure_factory as FF\n",
    "import requests\n",
    "requests.packages.urllib3.disable_warnings()"
   ]
  },
  {
   "cell_type": "code",
   "execution_count": null,
   "metadata": {
    "collapsed": true
   },
   "outputs": [],
   "source": []
  },
  {
   "cell_type": "code",
   "execution_count": 47,
   "metadata": {
    "collapsed": false
   },
   "outputs": [
    {
     "name": "stdout",
     "output_type": "stream",
     "text": [
      "144072\n",
      "root\n",
      " |-- address: string (nullable = true)\n",
      " |-- attributes: array (nullable = true)\n",
      " |    |-- element: string (containsNull = true)\n",
      " |-- business_id: string (nullable = true)\n",
      " |-- categories: array (nullable = true)\n",
      " |    |-- element: string (containsNull = true)\n",
      " |-- city: string (nullable = true)\n",
      " |-- hours: array (nullable = true)\n",
      " |    |-- element: string (containsNull = true)\n",
      " |-- is_open: long (nullable = true)\n",
      " |-- latitude: double (nullable = true)\n",
      " |-- longitude: double (nullable = true)\n",
      " |-- name: string (nullable = true)\n",
      " |-- neighborhood: string (nullable = true)\n",
      " |-- postal_code: string (nullable = true)\n",
      " |-- review_count: long (nullable = true)\n",
      " |-- stars: double (nullable = true)\n",
      " |-- state: string (nullable = true)\n",
      " |-- type: string (nullable = true)\n",
      "\n"
     ]
    }
   ],
   "source": [
    "business = spark.read.json(\"/user/hduser1/Yelp/business.json\").repartition(300)\n",
    "print(business.count())\n",
    "# business = business.where(col(\"categories\").isNotNull())\n",
    "# print(business.count())\n",
    "business.printSchema()\n",
    "# business.head(5)"
   ]
  },
  {
   "cell_type": "code",
   "execution_count": 48,
   "metadata": {
    "collapsed": false
   },
   "outputs": [
    {
     "name": "stdout",
     "output_type": "stream",
     "text": [
      "root\n",
      " |-- business_id: string (nullable = true)\n",
      " |-- cool: long (nullable = true)\n",
      " |-- date: string (nullable = true)\n",
      " |-- funny: long (nullable = true)\n",
      " |-- review_id: string (nullable = true)\n",
      " |-- stars: long (nullable = true)\n",
      " |-- text: string (nullable = true)\n",
      " |-- type: string (nullable = true)\n",
      " |-- useful: long (nullable = true)\n",
      " |-- user_id: string (nullable = true)\n",
      "\n"
     ]
    }
   ],
   "source": [
    "reviews = spark.read.json(\"/user/hduser1/Yelp/review.json\").repartition(300)\n",
    "reviews.printSchema()"
   ]
  },
  {
   "cell_type": "code",
   "execution_count": 40,
   "metadata": {
    "collapsed": false
   },
   "outputs": [],
   "source": [
    "def get_business_info(business_id, categories=\"*\"):\n",
    "    print(business.select(categories).where(col(\"business_id\") == business_id).head())"
   ]
  },
  {
   "cell_type": "code",
   "execution_count": 52,
   "metadata": {
    "collapsed": true
   },
   "outputs": [],
   "source": [
    "business_reviews = business.join(reviews, \"business_id\")"
   ]
  },
  {
   "cell_type": "code",
   "execution_count": 53,
   "metadata": {
    "collapsed": false
   },
   "outputs": [],
   "source": [
    "\n",
    "\n",
    "def get_business_reviews(business_id):\n",
    "    print(business_reviews.where(col(\"business_id\") == business_id).select(\"text\").collect())"
   ]
  },
  {
   "cell_type": "code",
   "execution_count": 10,
   "metadata": {
    "collapsed": false
   },
   "outputs": [
    {
     "name": "stdout",
     "output_type": "stream",
     "text": [
      "Row(address=u'Fringe Salon, 109 W Honeysuckle St', attributes=[u'BusinessAcceptsBitcoin: False', u'BusinessAcceptsCreditCards: False', u\"BusinessParking: {'garage': False, 'street': True, 'validated': False, 'lot': False, 'valet': False}\", u'ByAppointmentOnly: True', u'RestaurantsPriceRange2: 2', u'WheelchairAccessible: False'], business_id=u'stfzrvR5C9TkcWBof-RgxA', categories=[u'Beauty & Spas', u'Skin Care', u'Nail Salons', u'Permanent Makeup', u'Eyelash Service'], city=u'Litchfield Park', hours=None, is_open=0, latitude=33.4945653, longitude=-112.3595479, name=u\"Jamie's Vanity\", neighborhood=u'', postal_code=u'85340', review_count=3, stars=5.0, state=u'AZ', type=u'business')\n"
     ]
    }
   ],
   "source": [
    "get_business_info(\"stfzrvR5C9TkcWBof-RgxA\")"
   ]
  },
  {
   "cell_type": "code",
   "execution_count": null,
   "metadata": {
    "collapsed": true
   },
   "outputs": [],
   "source": []
  },
  {
   "cell_type": "code",
   "execution_count": null,
   "metadata": {
    "collapsed": true
   },
   "outputs": [],
   "source": []
  },
  {
   "cell_type": "code",
   "execution_count": 16,
   "metadata": {
    "collapsed": false
   },
   "outputs": [],
   "source": [
    "false_positive = sc.textFile(\"/user/hduser1/false_positive.csv\") \\\n",
    "    .map(lambda line: line.split(\",\")) \\\n",
    "    .filter(lambda line: len(line)>1) \\\n",
    "    .map(lambda line: (line[0],line[1])) \\\n",
    "#     .collect()\n",
    "    \n",
    "# false_positive"
   ]
  },
  {
   "cell_type": "code",
   "execution_count": 20,
   "metadata": {
    "collapsed": false
   },
   "outputs": [],
   "source": [
    "f = false_positive.toDF().toPandas()\n",
    "business_ids = f[100:200][\"_2\"]"
   ]
  },
  {
   "cell_type": "code",
   "execution_count": 55,
   "metadata": {
    "collapsed": false,
    "scrolled": true
   },
   "outputs": [
    {
     "name": "stdout",
     "output_type": "stream",
     "text": [
      "7zSVeeWX-8uVN5LHSzRQtA\n",
      "Row(name=u\"Southwest Women's Care\", address=u'1450 S Dobson Road', state=u'AZ')\n",
      "VjoY6LuDh6ZfqyHfHZ5sFw\n",
      "Row(name=u'Chevy Shop', address=u'2960 Westwood Dr, Ste 4', state=u'NV')\n",
      "eK1uUHDuCs53CuBM4kURxQ\n",
      "Row(name=u'Cafe Depot', address=u'1490 Boulevard de Maisonneuve Ouest', state=u'QC')\n",
      "UHvEOtWO-PaJLhR0FbsByQ\n",
      "Row(name=u'i Nails', address=u'3870 E Flamingo Rd, Ste A5', state=u'NV')\n",
      "A42_tYr2vKBU5wMdh01nEQ\n",
      "Row(name=u'Belong Hair Extensions-Carolyn Hart', address=u'8751 W Charleston Blvd', state=u'NV')\n",
      "fKsrsJV6CMz2AWUUz1FwpQ\n",
      "Row(name=u'Left Foot Right Foot', address=u'720 Burnhamthorpe Road W, Unit 32A', state=u'ON')\n",
      "FP54OYs2rfXWa6PosSLxvw\n",
      "Row(name=u'Bingbings Shaved Ice', address=u'Excalibur Hotel and Casino Pool, 3850 S Las Vegas Blvd', state=u'NV')\n",
      "BwZEj2VB-2rlPMonDckvog\n",
      "Row(name=u'Bella Dia Massage', address=u'21448 N 75th Ave, Ste 10', state=u'AZ')\n",
      "FMtluZEVTYvHN4bIZi734w\n",
      "Row(name=u\"Love'in Noodles\", address=u'633 Silver Star Boulevard', state=u'ON')\n",
      "c-uuAPbSpRGR0vPUHlRQRw\n",
      "Row(name=u'Hamada of Japan', address=u'365 E Flamingo Rd', state=u'NV')\n"
     ]
    }
   ],
   "source": [
    "for business_id in business_ids[::10]:\n",
    "    business_id = str(business_id[1:-1])\n",
    "    print(business_id)\n",
    "\n",
    "#     get_business_info(business_id, [\"state\", \"categories\", \"hours\"])\n",
    "    get_business_info(business_id, [\"name\", \"address\", \"state\"])\n",
    "#     get_business_reviews(business_id)"
   ]
  },
  {
   "cell_type": "code",
   "execution_count": null,
   "metadata": {
    "collapsed": true
   },
   "outputs": [],
   "source": []
  },
  {
   "cell_type": "code",
   "execution_count": null,
   "metadata": {
    "collapsed": true
   },
   "outputs": [],
   "source": []
  },
  {
   "cell_type": "code",
   "execution_count": null,
   "metadata": {
    "collapsed": true
   },
   "outputs": [],
   "source": []
  }
 ],
 "metadata": {
  "kernelspec": {
   "display_name": "Python 2",
   "language": "python",
   "name": "python2"
  },
  "language_info": {
   "codemirror_mode": {
    "name": "ipython",
    "version": 2
   },
   "file_extension": ".py",
   "mimetype": "text/x-python",
   "name": "python",
   "nbconvert_exporter": "python",
   "pygments_lexer": "ipython2",
   "version": "2.7.6"
  }
 },
 "nbformat": 4,
 "nbformat_minor": 2
}
