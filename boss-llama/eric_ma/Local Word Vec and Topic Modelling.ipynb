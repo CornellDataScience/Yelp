{
 "cells": [
  {
   "cell_type": "code",
   "execution_count": 49,
   "metadata": {
    "collapsed": true
   },
   "outputs": [],
   "source": [
    "import string\n",
    "from datetime import datetime\n",
    "import os\n",
    "import numpy as np\n",
    "import pandas as pd\n",
    "import json\n",
    "from collections import defaultdict\n",
    "\n",
    "import nltk\n",
    "# nltk.data.path.append(\"/\")\n",
    "\n",
    "from nltk.tokenize import word_tokenize\n",
    "from nltk.corpus import stopwords\n",
    "from nltk.stem import WordNetLemmatizer\n",
    "\n",
    "from gensim.models.word2vec import Word2Vec\n",
    "from gensim.utils import simple_preprocess\n",
    "from gensim.models.doc2vec import TaggedDocument\n",
    "from gensim.models.doc2vec import Doc2Vec\n",
    "\n",
    "from sklearn.feature_extraction.text import TfidfVectorizer, CountVectorizer\n",
    "from sklearn.decomposition import LatentDirichletAllocation, NMF"
   ]
  },
  {
   "cell_type": "code",
   "execution_count": 5,
   "metadata": {
    "collapsed": false
   },
   "outputs": [
    {
     "name": "stdout",
     "output_type": "stream",
     "text": [
      "234\n"
     ]
    }
   ],
   "source": [
    "print(234)"
   ]
  },
  {
   "cell_type": "code",
   "execution_count": null,
   "metadata": {
    "collapsed": true
   },
   "outputs": [],
   "source": []
  },
  {
   "cell_type": "code",
   "execution_count": 8,
   "metadata": {
    "collapsed": false
   },
   "outputs": [],
   "source": [
    "reviews = []\n",
    "with open(\"yelp_academic_dataset_review.json\", \"r\") as f:\n",
    "    for line in f:\n",
    "        json_line = json.loads(line)\n",
    "        reviews.append(json_line)"
   ]
  },
  {
   "cell_type": "code",
   "execution_count": 36,
   "metadata": {
    "collapsed": false
   },
   "outputs": [
    {
     "name": "stdout",
     "output_type": "stream",
     "text": [
      "4153150\n"
     ]
    },
    {
     "data": {
      "text/plain": [
       "{u'business_id': u'2aFiy99vNLklCx3T_tGS9A',\n",
       " u'cool': 0,\n",
       " u'date': u'2011-10-10',\n",
       " u'funny': 0,\n",
       " u'review_id': u'NxL8SIC5yqOdnlXCg18IBg',\n",
       " u'stars': 5,\n",
       " u'text': u\"If you enjoy service by someone who is as competent as he is personable, I would recommend Corey Kaplan highly. The time he has spent here has been very productive and working with him educational and enjoyable. I hope not to need him again (though this is highly unlikely) but knowing he is there if I do is very nice. By the way, I'm not from El Centro, CA. but Scottsdale, AZ.\",\n",
       " u'type': u'review',\n",
       " u'useful': 0,\n",
       " u'user_id': u'KpkOkG6RIf4Ra25Lhhxf1A'}"
      ]
     },
     "execution_count": 36,
     "metadata": {},
     "output_type": "execute_result"
    }
   ],
   "source": [
    "print(len(reviews))\n",
    "reviews[0]"
   ]
  },
  {
   "cell_type": "code",
   "execution_count": null,
   "metadata": {
    "collapsed": true
   },
   "outputs": [],
   "source": []
  },
  {
   "cell_type": "code",
   "execution_count": 9,
   "metadata": {
    "collapsed": false
   },
   "outputs": [],
   "source": [
    "businesses = []\n",
    "with open(\"yelp_academic_dataset_business.json\", \"r\") as f:\n",
    "    for line in f:\n",
    "        json_line = json.loads(line)\n",
    "        businesses.append(json_line)"
   ]
  },
  {
   "cell_type": "code",
   "execution_count": 15,
   "metadata": {
    "collapsed": false
   },
   "outputs": [
    {
     "name": "stdout",
     "output_type": "stream",
     "text": [
      "144072\n"
     ]
    },
    {
     "data": {
      "text/plain": [
       "[{u'address': u'227 E Baseline Rd, Ste J2',\n",
       "  u'attributes': [u'BikeParking: True',\n",
       "   u'BusinessAcceptsBitcoin: False',\n",
       "   u'BusinessAcceptsCreditCards: True',\n",
       "   u\"BusinessParking: {'garage': False, 'street': False, 'validated': False, 'lot': True, 'valet': False}\",\n",
       "   u'DogsAllowed: False',\n",
       "   u'RestaurantsPriceRange2: 2',\n",
       "   u'WheelchairAccessible: True'],\n",
       "  u'business_id': u'0DI8Dt2PJp07XkVvIElIcQ',\n",
       "  u'categories': [u'Tobacco Shops', u'Nightlife', u'Vape Shops', u'Shopping'],\n",
       "  u'city': u'Tempe',\n",
       "  u'hours': [u'Monday 11:0-21:0',\n",
       "   u'Tuesday 11:0-21:0',\n",
       "   u'Wednesday 11:0-21:0',\n",
       "   u'Thursday 11:0-21:0',\n",
       "   u'Friday 11:0-22:0',\n",
       "   u'Saturday 10:0-22:0',\n",
       "   u'Sunday 11:0-18:0'],\n",
       "  u'is_open': 0,\n",
       "  u'latitude': 33.3782141,\n",
       "  u'longitude': -111.936102,\n",
       "  u'name': u'Innovative Vapors',\n",
       "  u'neighborhood': u'',\n",
       "  u'postal_code': u'85283',\n",
       "  u'review_count': 17,\n",
       "  u'stars': 4.5,\n",
       "  u'state': u'AZ',\n",
       "  u'type': u'business'}]"
      ]
     },
     "execution_count": 15,
     "metadata": {},
     "output_type": "execute_result"
    }
   ],
   "source": [
    "print(len(businesses))\n",
    "businesses[0]"
   ]
  },
  {
   "cell_type": "code",
   "execution_count": 38,
   "metadata": {
    "collapsed": false
   },
   "outputs": [
    {
     "name": "stdout",
     "output_type": "stream",
     "text": [
      "177\n"
     ]
    },
    {
     "data": {
      "text/plain": [
       "{u'--9e1ONYQuAa-CB_Rrw7Tw': 92,\n",
       " u'-ed0Yc9on37RoIoG2ZgxBA': 109,\n",
       " u'0FUtlsQrJI7LhqDPxLumEw': 106,\n",
       " u'0NmTwqYEQiKErDv4a55obg': 161,\n",
       " u'0W4lkclzZThpx3V65bVgig': 21,\n",
       " u'2iTsRqUsPGRH1li1WVRvKQ': 112,\n",
       " u'2weQS-RnoOBhb1KsHKyoSQ': 75,\n",
       " u'3BCsAgo_1i4xMuTyLKMLRQ': 6,\n",
       " u'3GEEy7RP6e4bT4LAiWFMFQ': 44,\n",
       " u'3N9U549Zse8UP-MwKZAjAQ': 130,\n",
       " u'3kdSl5mo9dWC4clrQjEDGg': 137,\n",
       " u'3l54GTr8-E3XPbIxnF_sAA': 53,\n",
       " u'3xmfT7l3xNH5LK1dLzfvGw': 58,\n",
       " u'4GXII-GU7S0ZyU6ElkhscQ': 144,\n",
       " u'4JNXUYY8wbaaDmk3BPzlWw': 12,\n",
       " u'4k3RlMAMd46DZ_JyZU0lMg': 3,\n",
       " u'5LNZ67Yw9RD6nf4_UhXOjw': 108,\n",
       " u'5T6kFKFycym_GkhgOiysIw': 151,\n",
       " u'5iSmZO0SrKU6EoXK_1M8Kw': 1,\n",
       " u'5shgJB7a-2_gdnzc0gsOtg': 42,\n",
       " u'6Ct57qgmXwOnzfSZoUGh0Q': 45,\n",
       " u'6Q7-wkCPc1KF75jZLOTcMw': 96,\n",
       " u'7fxebHYUwIF6CakxSr70iQ': 51,\n",
       " u'7sPNbCx7vGAaH7SbNPZ6oA': 146,\n",
       " u'7sb2FYLS2sejZKxRYF9mtg': 140,\n",
       " u'9SU7ZZhaFUJJ6m2k5HKHeg': 174,\n",
       " u'9a3DrZvpYxVs3k_qwlCNSw': 13,\n",
       " u'A-uZAD4zP3rRxb44WUGV5w': 32,\n",
       " u'A5Rkh7UymKm0_Rxm9K2PJw': 147,\n",
       " u'AV6weBrZFFBfRGCbcRGO4g': 173,\n",
       " u'Az_60nNuh1FH8Ds8oasZjw': 69,\n",
       " u'BH9z7IJ4zydAqgwsbqoVZQ': 50,\n",
       " u'BIBWGO_r_1znnlmLbp4Nxg': 66,\n",
       " u'BLIJ-p5wYuAhw6Pp6mh6mw': 162,\n",
       " u'ByFMv3p5X1aNeZhU61rDcA': 166,\n",
       " u'CiYLq33nAyghFkUR15pP-Q': 14,\n",
       " u'Cni2l-VKG_pdospJ6xliXQ': 63,\n",
       " u'DXlDzOcpdUE_F21tok0fgw': 57,\n",
       " u'DfgZlNgKwBvCpA_0alumXw': 138,\n",
       " u'DkYS3arLOhA8si5uUEmHOw': 149,\n",
       " u'EAwh1OmG6t6p3nRaZOW_AA': 5,\n",
       " u'ECOkEVUodMLUxvI0PMI4gQ': 70,\n",
       " u'El4FC8jcawUVgw_0EIcbaQ': 118,\n",
       " u'EnCIojgP5KTr1leaysFE3A': 43,\n",
       " u'FLMxWQO-ckCQmGZhU9OQgw': 29,\n",
       " u'FaHADZARwnY4yvlvpnsfGA': 168,\n",
       " u'Fi-2ruy5x600SX4avnrFuA': 99,\n",
       " u'G-5kEa6E6PD5fkBRuA7k9Q': 55,\n",
       " u'GI-CAiZ_Gg3h21PwrANB4Q': 60,\n",
       " u'GJ_bXUPv672YwNg4TneJog': 80,\n",
       " u'H8qpFitIesth86zqR4cwYg': 20,\n",
       " u'HhVmDybpU7L50Kb5A0jXTg': 158,\n",
       " u'I6EDDi4-Eq_XlFghcDCUhw': 19,\n",
       " u'IMLrj2klosTFvPRLv56cng': 31,\n",
       " u'IT_4EEIbv6Ox1jBRMyE7pg': 56,\n",
       " u'IsoLzudHC50oJLiEWpwV-w': 33,\n",
       " u'J4CATH00YZrq8Bne2S4_cw': 11,\n",
       " u'JAmQCmczUclNUfZjkNdjQA': 25,\n",
       " u'JDZ6_yycNQFTpUZzLIKHUg': 171,\n",
       " u'JLbgvGM4FXh9zNP4O5ZWjQ': 156,\n",
       " u'JmI9nslLD7KZqRr__Bg6NQ': 176,\n",
       " u'JpgVl3d20CMRNjf1DVnzGA': 111,\n",
       " u'JyxHvtj-syke7m9rbza7mA': 127,\n",
       " u'JzOp695tclcNCNMuBl7oxA': 115,\n",
       " u'K-uQkfSUTwu5LIwPB4b_vg': 15,\n",
       " u'K7lWdNUhCbcnEvI0NhGewg': 104,\n",
       " u'KskYqH1Bi7Z_61pH6Om8pg': 101,\n",
       " u'L2p0vO3fsS2LC6hhQo3CzA': 167,\n",
       " u'LFs5jyYdXlzi0SpAYi1eSA': 10,\n",
       " u'LNGBEEelQx4zbfWnlc66cw': 148,\n",
       " u'LR0qF0FEVsCOhYWUOiH26A': 165,\n",
       " u'MpmFFw0GE_2iRFPdsRpJbA': 116,\n",
       " u'N0apJkxIem2E8irTBRKnHw': 85,\n",
       " u'NCFwm2-TDb-oBQ2medmYDg': 94,\n",
       " u'NY80DkkCfEl198JmwtO4pA': 103,\n",
       " u'NvKNe9DnQavC9GstglcBJQ': 142,\n",
       " u'NwZ39qdA06ROFIIMjAVPgw': 91,\n",
       " u'OARQDsxyoGnnX2FfSl9HjA': 122,\n",
       " u'OETh78qcgDltvHULowwhJg': 62,\n",
       " u'OVTZNSkSfbl3gVB9XQIJfw': 159,\n",
       " u'OgJ0KxwJcJ9R5bUK0ixCbg': 27,\n",
       " u'P7pxQFqr7yBKMMI2J51udw': 54,\n",
       " u'PVTfzxu7of57zo1jZwEzkg': 84,\n",
       " u'PXShA3JZMXr2mEH3on5clw': 160,\n",
       " u'QJR4qBUHegWEozSQrGmBPw': 87,\n",
       " u'QJatAcxYgK1Zp9BRZMAx7g': 93,\n",
       " u'RAh9WCQAuocM7hYM5_6tnw': 30,\n",
       " u'RESDUcs7fIiihp38-d6_6g': 8,\n",
       " u'RJNAeNA-209sctUO0dmwuA': 23,\n",
       " u'RhEvP5flF6KoPriMHmVYGg': 28,\n",
       " u'RwMLuOkImBIqqYj4SSKSPg': 48,\n",
       " u'SMPbvZLSMMb7KU76YNYMGg': 18,\n",
       " u'ThNGovQZjZ5mn-ZwX_N2BQ': 46,\n",
       " u'UNI1agsPX2k3eJSJVB91nw': 40,\n",
       " u'UPIYuRaZvknINOd1w8kqRQ': 134,\n",
       " u'UUGoM4q4i8rK2CBRS0xDAw': 76,\n",
       " u'VsewHMsfj1Mgsl2i_hio7w': 117,\n",
       " u'VyVIneSU7XAWgMBllI6LnQ': 97,\n",
       " u'VyjyHoBg3KC5BSFRlD0ZPQ': 126,\n",
       " u'WUq8HJHIZU4uteB154XN7w': 95,\n",
       " u'WYw3Uf56DT5IwpaLNnCH5Q': 136,\n",
       " u'Wxxvi3LZbHNIDwJ-ZimtnA': 67,\n",
       " u'X8c23dur0ll2D9XTu-I8Qg': 113,\n",
       " u'XXW_OFaYQkkGOGniujZFHg': 105,\n",
       " u'XZbuPXdyA0ZtTu3AzqtQhg': 90,\n",
       " u'Xg5qEQiB-7L6kGJ5F4K3bQ': 17,\n",
       " u'YJ8ljUhLsz6CtT_2ORNFmg': 153,\n",
       " u'YPavuOh2XsnRbLfl0DH2lQ': 0,\n",
       " u'YhCAJ8acd1X7GkCHPhD8Xw': 175,\n",
       " u'ZjSzUWHtnpCfjsa7CksSOg': 9,\n",
       " u'ZkGDCVKSdf8m76cnnalL-A': 155,\n",
       " u'_w5hBpkjHs5_Hv3pLeHtIw': 52,\n",
       " u'aLcFhMe6DDJ430zelCpd2A': 172,\n",
       " u'ajoqEHnCZTD8-8GqGLq9-Q': 131,\n",
       " u'awI4hHMfa7H0Xf0-ChU5hg': 36,\n",
       " u'bpRo8L8dkhgbJhdIKa9mwA': 79,\n",
       " u'bsrj9_hFAql3dlSf244zpg': 119,\n",
       " u'cHdJXLlKNWixBXpDwEGb_A': 59,\n",
       " u'cJWbbvGmyhFiBpG_5hf5LA': 22,\n",
       " u'cYwJA2A6I12KNkm2rtXd5g': 68,\n",
       " u'd10IxZPirVJlOSpdRZJczA': 100,\n",
       " u'd_L-rfS1vT3JMzgCUGtiow': 164,\n",
       " u'dn_ipqbm7_jUz5X3rDez_A': 39,\n",
       " u'eAc9Vd6loOgRQolMXQt6FA': 77,\n",
       " u'eEnNw3_hBvxcFHyr23kAuA': 26,\n",
       " u'eLFfWcdb7VkqNyTONksHiQ': 170,\n",
       " u'eS29S_06lvsDW04wVrIVxg': 38,\n",
       " u'eoHdUeQDNgQ6WYEnP2aiRw': 121,\n",
       " u'f4x1YBxkLrZg652xt2KR5g': 120,\n",
       " u'fL-b760btOaGa85OJ9ut3w': 163,\n",
       " u'fQt4D34vcJNtEf8Q4zte3w': 154,\n",
       " u'faPVqws-x-5k2CQKDNtHxw': 49,\n",
       " u'frCxZS7lPhEnQRJ3UY6m7A': 61,\n",
       " u'g8OnV26ywJlZpezdBnOWUQ': 145,\n",
       " u'gG9z6zr_49LocyCTvSFg0w': 81,\n",
       " u'gTlDDzDEHyDQ6iwjNhpI6A': 125,\n",
       " u'hihud--QRriCYZw1zZvW4g': 37,\n",
       " u'hrhtWc8UcoZqYr2d7YPgEA': 82,\n",
       " u'iCQpiavjjPzJ5_3gPD5Ebg': 157,\n",
       " u'igHYkXZMLAc9UdV5VnR_AA': 65,\n",
       " u'ii8sAGBexBOJoYRFafF9XQ': 123,\n",
       " u'j5nPiTwWEFr-VsePew7Sjg': 35,\n",
       " u'jWv5GUtEp30OD5L5C8c2DQ': 139,\n",
       " u'kRgAf6j2y1eR0wOFdzFAuw': 7,\n",
       " u'l_GV0hgEoTUf70uJVT0_hg': 34,\n",
       " u'mDR12Hafvr84ctpsV6YLag': 71,\n",
       " u'mz9ltimeAIy2c2qf5ctljw': 73,\n",
       " u'na4Th5DrNauOv-c43QQFvA': 72,\n",
       " u'o7AiTlyWUrBSzdz6oMHj5w': 64,\n",
       " u'oVrvzUJczq0e2JzVxSTyag': 152,\n",
       " u'p0iEUamJVp_QpaheE-Nz_g': 107,\n",
       " u'pH0BLkL4cbxKzu471VZnuA': 78,\n",
       " u'pSQFynH1VxkfSmehRXlZWw': 169,\n",
       " u'q-zZgXKAQFLEgMp9ZNllgQ': 141,\n",
       " u'qjnJFZtsY_nfRzoL3J_UWQ': 129,\n",
       " u'rTS8LsUmNIiXsXydE49tPA': 41,\n",
       " u'rcaPajgKOJC2vo_l3xa42A': 74,\n",
       " u'sNVGdeOPeitJ3OWUQBINzQ': 16,\n",
       " u'sqRX-XLlhx4rs2c1TpBf8A': 128,\n",
       " u't-o_Sraneime4DDhWrQRBA': 102,\n",
       " u'ty5KQYqYRxwXDG_e4pz-4w': 110,\n",
       " u'u-SJ5QUwrNquL9VnXwl8cg': 143,\n",
       " u'uGupeWqih0yIcCg8anM1PA': 114,\n",
       " u'u_vPjx925UPEG9DFOAAvFQ': 89,\n",
       " u'uanCi4OGc1mHLGl_AT4JhQ': 83,\n",
       " u'ugLqbAvBdRDc-gS4hpslXw': 135,\n",
       " u'ujHiaprwCQ5ewziu0Vi9rw': 150,\n",
       " u'wUKzaS1MHg94RGM6z8u9mw': 124,\n",
       " u'wl0QZqAzr1DelslQ02JGCQ': 132,\n",
       " u'xVEtGucSRLk5pxxN0t4i6g': 88,\n",
       " u'xkVMIk_Vqh17f48ZQ_6b0w': 2,\n",
       " u'xtYiHTmunjfCN2sUaQxBjA': 98,\n",
       " u'yNPh5SO-7wr8HPpVCDPbXQ': 86,\n",
       " u'yQab5dxZzgBLTEHCw9V7_w': 4,\n",
       " u'yfxDa8RFOvJPQh0rNtakHA': 133,\n",
       " u'z6-reuC5BYf_Rth9gMBfgQ': 24,\n",
       " u'zdE82PiD6wquvjYLyhOJNA': 47}"
      ]
     },
     "execution_count": 38,
     "metadata": {},
     "output_type": "execute_result"
    }
   ],
   "source": [
    "valid_business_ids = set()\n",
    "valid_business_indices = {}\n",
    "c = 0\n",
    "for business in businesses:\n",
    "    if business[\"review_count\"] >= 1000:\n",
    "        valid_business_ids.add(business[\"business_id\"])\n",
    "        if business[\"business_id\"] not in valid_business_indices:\n",
    "            valid_business_indices[business[\"business_id\"]] = c\n",
    "            c += 1\n",
    "print(len(valid_business_ids))\n",
    "valid_business_indices"
   ]
  },
  {
   "cell_type": "code",
   "execution_count": 39,
   "metadata": {
    "collapsed": false
   },
   "outputs": [
    {
     "name": "stdout",
     "output_type": "stream",
     "text": [
      "315002\n",
      "315002\n"
     ]
    }
   ],
   "source": [
    "only_text = []\n",
    "ordered_review_ids = []\n",
    "ordered_business_id_indices = []\n",
    "valid_reviews_dict = defaultdict(list)\n",
    "for review in reviews:\n",
    "    if review[\"business_id\"] in valid_business_ids:\n",
    "        only_text.append(review[\"text\"])\n",
    "        ordered_review_ids.append(review[\"review_id\"])\n",
    "        ordered_business_id_indices.append(valid_business_indices[review[\"business_id\"]])\n",
    "        valid_reviews_dict[review[\"business_id\"]].append(review[\"review_id\"])\n",
    "print(len(only_text))\n",
    "print(len(ordered_review_ids))"
   ]
  },
  {
   "cell_type": "code",
   "execution_count": null,
   "metadata": {
    "collapsed": true
   },
   "outputs": [],
   "source": []
  },
  {
   "cell_type": "code",
   "execution_count": null,
   "metadata": {
    "collapsed": true
   },
   "outputs": [],
   "source": []
  },
  {
   "cell_type": "code",
   "execution_count": 29,
   "metadata": {
    "collapsed": false
   },
   "outputs": [
    {
     "name": "stdout",
     "output_type": "stream",
     "text": [
      "(315002, 9071)\n"
     ]
    }
   ],
   "source": [
    "\n",
    "tfidf_vectorizer = TfidfVectorizer(input=only_text, lowercase=True, stop_words=\"english\", max_df=0.9, min_df=100)\n",
    "tfidf_review_text = tfidf_vectorizer.fit_transform(only_text)\n",
    "tfidf_feature_names = tfidf_vectorizer.get_feature_names()\n",
    "\n",
    "print(tfidf_review_text.shape)"
   ]
  },
  {
   "cell_type": "code",
   "execution_count": 30,
   "metadata": {
    "collapsed": false
   },
   "outputs": [
    {
     "name": "stdout",
     "output_type": "stream",
     "text": [
      "(315002, 9071)\n"
     ]
    }
   ],
   "source": [
    "count_vectorizer = CountVectorizer(input=only_text, lowercase=True, stop_words=\"english\", max_df=0.9, min_df=100)\n",
    "count_review_text = count_vectorizer.fit_transform(only_text)\n",
    "count_feature_names = count_vectorizer.get_feature_names()\n",
    "\n",
    "print(count_review_text.shape)"
   ]
  },
  {
   "cell_type": "code",
   "execution_count": null,
   "metadata": {
    "collapsed": false
   },
   "outputs": [],
   "source": [
    "print(count_feature_names)"
   ]
  },
  {
   "cell_type": "code",
   "execution_count": null,
   "metadata": {
    "collapsed": true
   },
   "outputs": [],
   "source": []
  },
  {
   "cell_type": "code",
   "execution_count": 27,
   "metadata": {
    "collapsed": true
   },
   "outputs": [],
   "source": [
    "def display_topics(model, feature_names, n_top_words):\n",
    "    for topic_index, topic in enumerate(model.components_):\n",
    "        print(\"Topic %d:\" % topic_index)\n",
    "        print(\" \".join([feature_names[i] for i in topic.argsort()[:-n_top_words:-1]]))"
   ]
  },
  {
   "cell_type": "code",
   "execution_count": null,
   "metadata": {
    "collapsed": true
   },
   "outputs": [],
   "source": []
  },
  {
   "cell_type": "code",
   "execution_count": 33,
   "metadata": {
    "collapsed": false
   },
   "outputs": [
    {
     "name": "stderr",
     "output_type": "stream",
     "text": [
      "/home/amcire/anaconda2/lib/python2.7/site-packages/sklearn/decomposition/online_lda.py:508: DeprecationWarning: The default value for 'learning_method' will be changed from 'online' to 'batch' in the release 0.20. This warning was introduced in 0.18.\n",
      "  DeprecationWarning)\n"
     ]
    },
    {
     "name": "stdout",
     "output_type": "stream",
     "text": [
      "Topic 0:\n",
      "thai bbq pork rice spicy noodles marquee bf chili die encore tofu cheesecake lo el belly pulled foods acrobatics\n",
      "Topic 1:\n",
      "service station money bathroom worst customer horrible water paying happened terrible star employees cup bad toilet cafe caesars poor\n",
      "Topic 2:\n",
      "line wait minutes time 30 people 10 waiting hour night 20 told reservation 15 check went hours day waited\n",
      "Topic 3:\n",
      "cold quickly nights issue shopping spice ami tao nicer accommodating 30pm lovely kinds send jam welcoming wi fi prawns\n",
      "Topic 4:\n",
      "burger burgers gelato shake gordon bobby truffle mon gabi ramsay flay rings beer bun baby shack try cheese pub\n",
      "Topic 5:\n",
      "free aria fountains business buy monte carlo yes simply exceptional hallway outstanding travel street times year air gambling hands\n",
      "Topic 6:\n",
      "crab sushi seafood buffets fresh eat legs shrimp desserts worth rolls rib dessert fish asian roll section like hell\n",
      "Topic 7:\n",
      "pizza tacos oysters fresh taco delicious phoenix patio enjoyed bloody crust french frites olives sausage le mary secret favorite\n",
      "Topic 8:\n",
      "buffet food service came table asked said got didn did server went waiter manager experience took told waitress order\n",
      "Topic 9:\n",
      "pool area floor cheap pricey valet loud free smoke play drunk dj crowded dollars casino nightclub main noise hear\n",
      "Topic 10:\n",
      "vegas best place ve time strip definitely visit favorite amazing trip wife love worth try eat food come town\n",
      "Topic 11:\n",
      "food vegas quality selection las price options variety lunch dinner menu best dishes paris different items meats la choose\n",
      "Topic 12:\n",
      "steak beef cooked ordered meat dish restaurant sauce meal sweet delicious flavor perfectly best menu bread lobster appetizer medium\n",
      "Topic 13:\n",
      "wine amazing recommend great fantastic highly meal service wonderful restaurant sides absolutely experience standard recommended delicious food single definitely\n",
      "Topic 14:\n",
      "chicken cheese fries sandwich ordered salad fried good sauce bread bacon soup potato order just mac potatoes tasty flavor\n",
      "Topic 15:\n",
      "great food place service love good amazing staff atmosphere wait best friendly awesome time times long busy come brunch\n",
      "Topic 16:\n",
      "desk hollywood planet palace suggest known reading plan won id include value till personal efficient text burrito important crappy\n",
      "Topic 17:\n",
      "hotel stay rooms strip casino nice stayed vegas great clean check bed hotels weekend staying night staff suite floor\n",
      "Topic 18:\n",
      "breakfast portions food eggs french huge coffee waffles delicious hash toast ordered wait came big large potatoes crepe gravy\n",
      "Topic 19:\n",
      "view beautiful water comfortable bathroom kids shows restaurants seen fountain city dining watch coffee high experience gorgeous days different\n",
      "Topic 20:\n",
      "bellagio morning earl benedict certainly location bay mandalay 95 farm rewards possibly omelette dream nyc starting tortillas neat buck\n",
      "Topic 21:\n",
      "like just really don good place people think better didn know time way ve pretty want little going thing\n",
      "Topic 22:\n",
      "good really nice place pretty got definitely food little great try came time bit delicious just went loved night\n",
      "Topic 23:\n",
      "room music shower security door cirque deal elevator machines did slot called big comfy tub dirty check free key\n",
      "Topic 24:\n",
      "happy hour head face beers tea enjoyed du carne miso glad platter stuffed spread stations iced claws lemonade adobada\n",
      "Topic 25:\n",
      "club night dance vegas drinks crowd party xs friends clubs pm drink bathrooms family guest remember chance cover san\n",
      "Topic 26:\n",
      "enjoy mgm stop ramen fancy poutine salads complaint margaritas types spring mood haven gaming individual apart absolute shakes pizzeria\n",
      "Topic 27:\n",
      "location parking resort airport fee thank car easy use charge access grand ride palazzo park walk professional cab internet\n",
      "Topic 28:\n",
      "cream chocolate ice dessert cake brunch pie pancakes frozen cons red pros coffee strawberry italian mussels grits vanilla flan\n",
      "Topic 29:\n",
      "great bar service excellent beer friendly new drink drinks attentive server experience spot awesome super helpful fun definitely incredible\n"
     ]
    }
   ],
   "source": [
    "lda_model = LatentDirichletAllocation(n_topics=30).fit(count_review_text)\n",
    "display_topics(lda_model, count_feature_names, 20)"
   ]
  },
  {
   "cell_type": "code",
   "execution_count": 34,
   "metadata": {
    "collapsed": false
   },
   "outputs": [
    {
     "name": "stdout",
     "output_type": "stream",
     "text": [
      "Topic 0:\n",
      "just like didn got don said came did table know minutes asked told order people wasn took went bad\n",
      "Topic 1:\n",
      "room check bed stay desk bathroom shower view stayed suite floor night booked tv tower called clean day resort\n",
      "Topic 2:\n",
      "burger fries burgers cheese shake truffle sweet onion ordered potato bun rings shack bacon shakes gordon farm medium patty\n",
      "Topic 3:\n",
      "great service atmosphere awesome beer selection experience location fun happy spot fantastic prices drinks loved bar wonderful wine patio\n",
      "Topic 4:\n",
      "buffet crab buffets legs selection seafood desserts prime wynn quality dessert station rib price variety dinner food wicked bellagio\n",
      "Topic 5:\n",
      "place try eat looking like want packed friends people cool places don fun town busy awesome say menu small\n",
      "Topic 6:\n",
      "wait line worth long hour minutes waiting 30 seated waited hours 45 lines table 20 15 pan min minute\n",
      "Topic 7:\n",
      "good pretty price overall beer little selection decent bit ok prices got thing bad pricey bbq wasn value taste\n",
      "Topic 8:\n",
      "pizza slice secret crust white cheese slices pepperoni pizzas bianco pie sausage hallway cosmo pizzeria style cosmopolitan ny toppings\n",
      "Topic 9:\n",
      "club night dance music drinks floor people girls free pool xs fun tao clubs line dj crowded bar marquee\n",
      "Topic 10:\n",
      "breakfast eggs toast brunch pancakes coffee french hash bacon lunch egg benedict potatoes morning portions omelet omelette banana sausage\n",
      "Topic 11:\n",
      "sushi rolls ayce roll eat fish fresh rice tuna nigiri sashimi menu quality salmon yama order favorite places japanese\n",
      "Topic 12:\n",
      "best vegas ve las far bbq hands favorite trip thai town visit eaten places times life say strip stop\n",
      "Topic 13:\n",
      "amazing absolutely experience view loved beautiful perfect wow thank incredible service server die wonderful simply atmosphere worth just favorite\n",
      "Topic 14:\n",
      "steak ordered dinner restaurant meal bread salad cooked cheese menu wine sauce beef dish meat filet dessert medium lobster\n",
      "Topic 15:\n",
      "strip nice casino rooms pool location stay clean area view stayed hotels like walk restaurants bellagio pretty casinos tower\n",
      "Topic 16:\n",
      "chicken fried waffles rice bacon sage portions huge waffle ordered dish sauce crispy hash thai benedict salad cheese biscuits\n",
      "Topic 17:\n",
      "love favorite atmosphere just absolutely times awesome beatles coming yummy come beautiful happy decor feel usually like especially spot\n",
      "Topic 18:\n",
      "cirque shows stage soleil seen du seats beatles music acrobatics ka performers tickets story ve acts water seat theater\n",
      "Topic 19:\n",
      "sandwich sandwiches earl meat bread smoked turkey lunch 24 planet hollywood cheese open montagu soup bbq tuna montreal eat\n",
      "Topic 20:\n",
      "staff friendly helpful super attentive clean nice experience fast extremely accommodating quick wonderful professional atmosphere family efficient knowledgeable courteous\n",
      "Topic 21:\n",
      "delicious definitely recommend highly awesome come bbq worth loved absolutely try coming korean recommended got super fresh friends return\n",
      "Topic 22:\n",
      "hotel stay rooms stayed beautiful hotels vegas staying wynn star customer valet service restaurants aria clean lobby venetian las\n",
      "Topic 23:\n",
      "tacos taco asada mexican salsa pork carne pastor el meat adobada guacamole al gordo spicy street fries authentic order\n",
      "Topic 24:\n",
      "ramen broth pork noodles miso rice spicy bowl monta thai soup small tonkotsu shoyu belly sora egg gyoza pho\n",
      "Topic 25:\n",
      "airport terminal security flight easy airports slot machines gate options free tsa terminals people car gates clean wifi baggage\n",
      "Topic 26:\n",
      "food service excellent restaurant quality customer portions atmosphere price fast prices server stars better thai drinks slow mexican average\n",
      "Topic 27:\n",
      "chocolate hot frozen cream ice dessert sweet serendipity cake try desserts sundae like gelato shake coffee cold whipped outside\n",
      "Topic 28:\n",
      "time come second vegas visit times try went ll lunch sure long coming day dinner twice year make going\n",
      "Topic 29:\n",
      "really nice enjoyed like liked cool didn wasn think lot little big super kind feel pretty thing actually thought\n"
     ]
    }
   ],
   "source": [
    "nmf_model = NMF(n_components=30).fit(tfidf_review_text)\n",
    "display_topics(nmf_model, tfidf_feature_names, 20)"
   ]
  },
  {
   "cell_type": "code",
   "execution_count": null,
   "metadata": {
    "collapsed": true
   },
   "outputs": [],
   "source": []
  },
  {
   "cell_type": "code",
   "execution_count": null,
   "metadata": {
    "collapsed": true
   },
   "outputs": [],
   "source": []
  },
  {
   "cell_type": "code",
   "execution_count": 47,
   "metadata": {
    "collapsed": false
   },
   "outputs": [],
   "source": [
    "tagged_doc_list = []\n",
    "for i in range(len(only_text)):\n",
    "    text = only_text[i]\n",
    "    tokens = nltk.word_tokenize(text)\n",
    "    label = ordered_business_id_indices[i]\n",
    "    tagged_doc = TaggedDocument(tokens, [label])\n",
    "    tagged_doc_list.append(tagged_doc)"
   ]
  },
  {
   "cell_type": "code",
   "execution_count": 48,
   "metadata": {
    "collapsed": false
   },
   "outputs": [
    {
     "data": {
      "text/plain": [
       "TaggedDocument(words=[u'I', u'love', u'sushi', u'!', u'Especially', u'with', u'cream', u'cheese', u'!', u'This', u'place', u'hardly', u'had', u'any', u'cream', u'cheese', u'sushi', u'but', u'it', u'is', u'still', u'overall', u'YUM', u'!', u':', u')', u'Service', u'is', u'excellent', u',', u'you', u'never', u'go', u'thirsty', u'as', u'they', u'keep', u'your', u'drink', u'constantly', u'full', u'!', u'Dinner', u'AYCE', u'is', u'around', u'$', u'26', u',', u'while', u'I', u\"'ve\", u'seen', u'lower', u'prices', u'.', u'I', u'tried', u'the', u'Philadelphia', u'roll', u',', u'caterpillar', u'and', u'Dragon', u'roll', u'.', u'philadelphia', u'roll', u'for', u'some', u'reason', u'was', u\"n't\", u'as', u'tasty', u'as', u'I', u'thought', u'.', u'Any', u'eel', u'in', u'the', u'rolls', u'I', u'have', u'tried', u'are', u'not', u'as', u'good', u'to', u'brag', u'about', u'honestly', u'.', u'I', u'give', u'4', u'stars', u'for', u'the', u'great', u'service', u',', u'and', u'it', u\"'s\", u'enough', u'to', u'go', u'back', u'and', u'give', u'them', u'another', u'chance', u'.'], tags=[127])"
      ]
     },
     "execution_count": 48,
     "metadata": {},
     "output_type": "execute_result"
    }
   ],
   "source": [
    "tagged_doc_list[0]"
   ]
  },
  {
   "cell_type": "code",
   "execution_count": 45,
   "metadata": {
    "collapsed": false
   },
   "outputs": [
    {
     "data": {
      "text/plain": [
       "u\"I love sushi! Especially with cream cheese! This place hardly had any cream cheese sushi but it is still overall YUM! :) Service is excellent, you never go thirsty as they keep your drink constantly full!\\n\\nDinner AYCE is around $26, while I've seen lower prices. I tried the Philadelphia roll, caterpillar and Dragon roll. philadelphia roll for some reason wasn't as tasty as I thought. Any eel in the rolls I have tried are not as good to brag about honestly. I give 4 stars for the great service, and it's enough to go back and give them another chance.\""
      ]
     },
     "execution_count": 45,
     "metadata": {},
     "output_type": "execute_result"
    }
   ],
   "source": [
    "only_text[0]"
   ]
  },
  {
   "cell_type": "code",
   "execution_count": 51,
   "metadata": {
    "collapsed": false
   },
   "outputs": [
    {
     "name": "stdout",
     "output_type": "stream",
     "text": [
      "CPU times: user 12min 41s, sys: 9.85 s, total: 12min 51s\n",
      "Wall time: 4min 40s\n"
     ]
    },
    {
     "data": {
      "text/plain": [
       "171043650"
      ]
     },
     "execution_count": 51,
     "metadata": {},
     "output_type": "execute_result"
    }
   ],
   "source": [
    "model = Doc2Vec(size=500, min_count=100, iter=5)\n",
    "model.build_vocab(tagged_doc_list)\n",
    "%time model.train(tagged_doc_list)"
   ]
  },
  {
   "cell_type": "code",
   "execution_count": null,
   "metadata": {
    "collapsed": true
   },
   "outputs": [],
   "source": [
    "model."
   ]
  }
 ],
 "metadata": {
  "kernelspec": {
   "display_name": "Python 2",
   "language": "python",
   "name": "python2"
  },
  "language_info": {
   "codemirror_mode": {
    "name": "ipython",
    "version": 2
   },
   "file_extension": ".py",
   "mimetype": "text/x-python",
   "name": "python",
   "nbconvert_exporter": "python",
   "pygments_lexer": "ipython2",
   "version": "2.7.13"
  }
 },
 "nbformat": 4,
 "nbformat_minor": 2
}
