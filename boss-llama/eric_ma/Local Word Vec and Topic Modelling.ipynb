{
 "cells": [
  {
   "cell_type": "code",
   "execution_count": 1,
   "metadata": {
    "collapsed": false
   },
   "outputs": [
    {
     "name": "stderr",
     "output_type": "stream",
     "text": [
      "C:\\Users\\Eric\\Anaconda2\\lib\\site-packages\\gensim\\utils.py:855: UserWarning: detected Windows; aliasing chunkize to chunkize_serial\n",
      "  warnings.warn(\"detected Windows; aliasing chunkize to chunkize_serial\")\n"
     ]
    }
   ],
   "source": [
    "import string\n",
    "from datetime import datetime\n",
    "import os\n",
    "import numpy as np\n",
    "import pandas as pd\n",
    "import json\n",
    "from collections import defaultdict\n",
    "\n",
    "import nltk\n",
    "# nltk.data.path.append(\"/\")\n",
    "\n",
    "from nltk.tokenize import word_tokenize\n",
    "from nltk.corpus import stopwords\n",
    "from nltk.stem import WordNetLemmatizer\n",
    "\n",
    "from gensim.models.word2vec import Word2Vec\n",
    "from gensim.utils import simple_preprocess\n",
    "from gensim.models.doc2vec import TaggedDocument\n",
    "from gensim.models.doc2vec import Doc2Vec\n",
    "\n",
    "from sklearn.feature_extraction.text import TfidfVectorizer, CountVectorizer\n",
    "from sklearn.decomposition import LatentDirichletAllocation, NMF\n",
    "from sklearn.metrics.pairwise import cosine_similarity"
   ]
  },
  {
   "cell_type": "code",
   "execution_count": 2,
   "metadata": {
    "collapsed": false
   },
   "outputs": [],
   "source": [
    "import plotly\n",
    "plotly.tools.set_credentials_file(username='amcire96', api_key='sej35ud4YbSOfIshhhZg')\n",
    "# print(plotly.__version__)\n",
    "\n",
    "import plotly.plotly as py\n",
    "from plotly.graph_objs import *\n",
    "import requests\n",
    "requests.packages.urllib3.disable_warnings()"
   ]
  },
  {
   "cell_type": "code",
   "execution_count": 3,
   "metadata": {
    "collapsed": false
   },
   "outputs": [
    {
     "name": "stdout",
     "output_type": "stream",
     "text": [
      "hi\n"
     ]
    }
   ],
   "source": [
    "print(\"hi\")"
   ]
  },
  {
   "cell_type": "code",
   "execution_count": null,
   "metadata": {
    "collapsed": true
   },
   "outputs": [],
   "source": []
  },
  {
   "cell_type": "code",
   "execution_count": 4,
   "metadata": {
    "collapsed": false
   },
   "outputs": [],
   "source": [
    "reviews = []\n",
    "with open(\"yelp_academic_dataset_review.json\", \"r\") as f:\n",
    "    for line in f:\n",
    "        json_line = json.loads(line)\n",
    "        reviews.append(json_line)"
   ]
  },
  {
   "cell_type": "code",
   "execution_count": 5,
   "metadata": {
    "collapsed": false
   },
   "outputs": [
    {
     "name": "stdout",
     "output_type": "stream",
     "text": [
      "4153150\n"
     ]
    },
    {
     "data": {
      "text/plain": [
       "{u'business_id': u'2aFiy99vNLklCx3T_tGS9A',\n",
       " u'cool': 0,\n",
       " u'date': u'2011-10-10',\n",
       " u'funny': 0,\n",
       " u'review_id': u'NxL8SIC5yqOdnlXCg18IBg',\n",
       " u'stars': 5,\n",
       " u'text': u\"If you enjoy service by someone who is as competent as he is personable, I would recommend Corey Kaplan highly. The time he has spent here has been very productive and working with him educational and enjoyable. I hope not to need him again (though this is highly unlikely) but knowing he is there if I do is very nice. By the way, I'm not from El Centro, CA. but Scottsdale, AZ.\",\n",
       " u'type': u'review',\n",
       " u'useful': 0,\n",
       " u'user_id': u'KpkOkG6RIf4Ra25Lhhxf1A'}"
      ]
     },
     "execution_count": 5,
     "metadata": {},
     "output_type": "execute_result"
    }
   ],
   "source": [
    "print(len(reviews))\n",
    "reviews[0]"
   ]
  },
  {
   "cell_type": "code",
   "execution_count": null,
   "metadata": {
    "collapsed": true
   },
   "outputs": [],
   "source": []
  },
  {
   "cell_type": "code",
   "execution_count": 6,
   "metadata": {
    "collapsed": false
   },
   "outputs": [],
   "source": [
    "businesses = []\n",
    "with open(\"yelp_academic_dataset_business.json\", \"r\") as f:\n",
    "    for line in f:\n",
    "        json_line = json.loads(line)\n",
    "        businesses.append(json_line)"
   ]
  },
  {
   "cell_type": "code",
   "execution_count": 7,
   "metadata": {
    "collapsed": false
   },
   "outputs": [
    {
     "name": "stdout",
     "output_type": "stream",
     "text": [
      "144072\n"
     ]
    },
    {
     "data": {
      "text/plain": [
       "{u'address': u'227 E Baseline Rd, Ste J2',\n",
       " u'attributes': [u'BikeParking: True',\n",
       "  u'BusinessAcceptsBitcoin: False',\n",
       "  u'BusinessAcceptsCreditCards: True',\n",
       "  u\"BusinessParking: {'garage': False, 'street': False, 'validated': False, 'lot': True, 'valet': False}\",\n",
       "  u'DogsAllowed: False',\n",
       "  u'RestaurantsPriceRange2: 2',\n",
       "  u'WheelchairAccessible: True'],\n",
       " u'business_id': u'0DI8Dt2PJp07XkVvIElIcQ',\n",
       " u'categories': [u'Tobacco Shops', u'Nightlife', u'Vape Shops', u'Shopping'],\n",
       " u'city': u'Tempe',\n",
       " u'hours': [u'Monday 11:0-21:0',\n",
       "  u'Tuesday 11:0-21:0',\n",
       "  u'Wednesday 11:0-21:0',\n",
       "  u'Thursday 11:0-21:0',\n",
       "  u'Friday 11:0-22:0',\n",
       "  u'Saturday 10:0-22:0',\n",
       "  u'Sunday 11:0-18:0'],\n",
       " u'is_open': 0,\n",
       " u'latitude': 33.3782141,\n",
       " u'longitude': -111.936102,\n",
       " u'name': u'Innovative Vapors',\n",
       " u'neighborhood': u'',\n",
       " u'postal_code': u'85283',\n",
       " u'review_count': 17,\n",
       " u'stars': 4.5,\n",
       " u'state': u'AZ',\n",
       " u'type': u'business'}"
      ]
     },
     "execution_count": 7,
     "metadata": {},
     "output_type": "execute_result"
    }
   ],
   "source": [
    "print(len(businesses))\n",
    "businesses[0]"
   ]
  },
  {
   "cell_type": "code",
   "execution_count": 9,
   "metadata": {
    "collapsed": false
   },
   "outputs": [
    {
     "name": "stdout",
     "output_type": "stream",
     "text": [
      "177\n"
     ]
    },
    {
     "data": {
      "text/plain": [
       "{u'--9e1ONYQuAa-CB_Rrw7Tw',\n",
       " u'-ed0Yc9on37RoIoG2ZgxBA',\n",
       " u'0FUtlsQrJI7LhqDPxLumEw',\n",
       " u'0NmTwqYEQiKErDv4a55obg',\n",
       " u'0W4lkclzZThpx3V65bVgig',\n",
       " u'2iTsRqUsPGRH1li1WVRvKQ',\n",
       " u'2weQS-RnoOBhb1KsHKyoSQ',\n",
       " u'3BCsAgo_1i4xMuTyLKMLRQ',\n",
       " u'3GEEy7RP6e4bT4LAiWFMFQ',\n",
       " u'3N9U549Zse8UP-MwKZAjAQ',\n",
       " u'3kdSl5mo9dWC4clrQjEDGg',\n",
       " u'3l54GTr8-E3XPbIxnF_sAA',\n",
       " u'3xmfT7l3xNH5LK1dLzfvGw',\n",
       " u'4GXII-GU7S0ZyU6ElkhscQ',\n",
       " u'4JNXUYY8wbaaDmk3BPzlWw',\n",
       " u'4k3RlMAMd46DZ_JyZU0lMg',\n",
       " u'5LNZ67Yw9RD6nf4_UhXOjw',\n",
       " u'5T6kFKFycym_GkhgOiysIw',\n",
       " u'5iSmZO0SrKU6EoXK_1M8Kw',\n",
       " u'5shgJB7a-2_gdnzc0gsOtg',\n",
       " u'6Ct57qgmXwOnzfSZoUGh0Q',\n",
       " u'6Q7-wkCPc1KF75jZLOTcMw',\n",
       " u'7fxebHYUwIF6CakxSr70iQ',\n",
       " u'7sPNbCx7vGAaH7SbNPZ6oA',\n",
       " u'7sb2FYLS2sejZKxRYF9mtg',\n",
       " u'9SU7ZZhaFUJJ6m2k5HKHeg',\n",
       " u'9a3DrZvpYxVs3k_qwlCNSw',\n",
       " u'A-uZAD4zP3rRxb44WUGV5w',\n",
       " u'A5Rkh7UymKm0_Rxm9K2PJw',\n",
       " u'AV6weBrZFFBfRGCbcRGO4g',\n",
       " u'Az_60nNuh1FH8Ds8oasZjw',\n",
       " u'BH9z7IJ4zydAqgwsbqoVZQ',\n",
       " u'BIBWGO_r_1znnlmLbp4Nxg',\n",
       " u'BLIJ-p5wYuAhw6Pp6mh6mw',\n",
       " u'ByFMv3p5X1aNeZhU61rDcA',\n",
       " u'CiYLq33nAyghFkUR15pP-Q',\n",
       " u'Cni2l-VKG_pdospJ6xliXQ',\n",
       " u'DXlDzOcpdUE_F21tok0fgw',\n",
       " u'DfgZlNgKwBvCpA_0alumXw',\n",
       " u'DkYS3arLOhA8si5uUEmHOw',\n",
       " u'EAwh1OmG6t6p3nRaZOW_AA',\n",
       " u'ECOkEVUodMLUxvI0PMI4gQ',\n",
       " u'El4FC8jcawUVgw_0EIcbaQ',\n",
       " u'EnCIojgP5KTr1leaysFE3A',\n",
       " u'FLMxWQO-ckCQmGZhU9OQgw',\n",
       " u'FaHADZARwnY4yvlvpnsfGA',\n",
       " u'Fi-2ruy5x600SX4avnrFuA',\n",
       " u'G-5kEa6E6PD5fkBRuA7k9Q',\n",
       " u'GI-CAiZ_Gg3h21PwrANB4Q',\n",
       " u'GJ_bXUPv672YwNg4TneJog',\n",
       " u'H8qpFitIesth86zqR4cwYg',\n",
       " u'HhVmDybpU7L50Kb5A0jXTg',\n",
       " u'I6EDDi4-Eq_XlFghcDCUhw',\n",
       " u'IMLrj2klosTFvPRLv56cng',\n",
       " u'IT_4EEIbv6Ox1jBRMyE7pg',\n",
       " u'IsoLzudHC50oJLiEWpwV-w',\n",
       " u'J4CATH00YZrq8Bne2S4_cw',\n",
       " u'JAmQCmczUclNUfZjkNdjQA',\n",
       " u'JDZ6_yycNQFTpUZzLIKHUg',\n",
       " u'JLbgvGM4FXh9zNP4O5ZWjQ',\n",
       " u'JmI9nslLD7KZqRr__Bg6NQ',\n",
       " u'JpgVl3d20CMRNjf1DVnzGA',\n",
       " u'JyxHvtj-syke7m9rbza7mA',\n",
       " u'JzOp695tclcNCNMuBl7oxA',\n",
       " u'K-uQkfSUTwu5LIwPB4b_vg',\n",
       " u'K7lWdNUhCbcnEvI0NhGewg',\n",
       " u'KskYqH1Bi7Z_61pH6Om8pg',\n",
       " u'L2p0vO3fsS2LC6hhQo3CzA',\n",
       " u'LFs5jyYdXlzi0SpAYi1eSA',\n",
       " u'LNGBEEelQx4zbfWnlc66cw',\n",
       " u'LR0qF0FEVsCOhYWUOiH26A',\n",
       " u'MpmFFw0GE_2iRFPdsRpJbA',\n",
       " u'N0apJkxIem2E8irTBRKnHw',\n",
       " u'NCFwm2-TDb-oBQ2medmYDg',\n",
       " u'NY80DkkCfEl198JmwtO4pA',\n",
       " u'NvKNe9DnQavC9GstglcBJQ',\n",
       " u'NwZ39qdA06ROFIIMjAVPgw',\n",
       " u'OARQDsxyoGnnX2FfSl9HjA',\n",
       " u'OETh78qcgDltvHULowwhJg',\n",
       " u'OVTZNSkSfbl3gVB9XQIJfw',\n",
       " u'OgJ0KxwJcJ9R5bUK0ixCbg',\n",
       " u'P7pxQFqr7yBKMMI2J51udw',\n",
       " u'PVTfzxu7of57zo1jZwEzkg',\n",
       " u'PXShA3JZMXr2mEH3on5clw',\n",
       " u'QJR4qBUHegWEozSQrGmBPw',\n",
       " u'QJatAcxYgK1Zp9BRZMAx7g',\n",
       " u'RAh9WCQAuocM7hYM5_6tnw',\n",
       " u'RESDUcs7fIiihp38-d6_6g',\n",
       " u'RJNAeNA-209sctUO0dmwuA',\n",
       " u'RhEvP5flF6KoPriMHmVYGg',\n",
       " u'RwMLuOkImBIqqYj4SSKSPg',\n",
       " u'SMPbvZLSMMb7KU76YNYMGg',\n",
       " u'ThNGovQZjZ5mn-ZwX_N2BQ',\n",
       " u'UNI1agsPX2k3eJSJVB91nw',\n",
       " u'UPIYuRaZvknINOd1w8kqRQ',\n",
       " u'UUGoM4q4i8rK2CBRS0xDAw',\n",
       " u'VsewHMsfj1Mgsl2i_hio7w',\n",
       " u'VyVIneSU7XAWgMBllI6LnQ',\n",
       " u'VyjyHoBg3KC5BSFRlD0ZPQ',\n",
       " u'WUq8HJHIZU4uteB154XN7w',\n",
       " u'WYw3Uf56DT5IwpaLNnCH5Q',\n",
       " u'Wxxvi3LZbHNIDwJ-ZimtnA',\n",
       " u'X8c23dur0ll2D9XTu-I8Qg',\n",
       " u'XXW_OFaYQkkGOGniujZFHg',\n",
       " u'XZbuPXdyA0ZtTu3AzqtQhg',\n",
       " u'Xg5qEQiB-7L6kGJ5F4K3bQ',\n",
       " u'YJ8ljUhLsz6CtT_2ORNFmg',\n",
       " u'YPavuOh2XsnRbLfl0DH2lQ',\n",
       " u'YhCAJ8acd1X7GkCHPhD8Xw',\n",
       " u'ZjSzUWHtnpCfjsa7CksSOg',\n",
       " u'ZkGDCVKSdf8m76cnnalL-A',\n",
       " u'_w5hBpkjHs5_Hv3pLeHtIw',\n",
       " u'aLcFhMe6DDJ430zelCpd2A',\n",
       " u'ajoqEHnCZTD8-8GqGLq9-Q',\n",
       " u'awI4hHMfa7H0Xf0-ChU5hg',\n",
       " u'bpRo8L8dkhgbJhdIKa9mwA',\n",
       " u'bsrj9_hFAql3dlSf244zpg',\n",
       " u'cHdJXLlKNWixBXpDwEGb_A',\n",
       " u'cJWbbvGmyhFiBpG_5hf5LA',\n",
       " u'cYwJA2A6I12KNkm2rtXd5g',\n",
       " u'd10IxZPirVJlOSpdRZJczA',\n",
       " u'd_L-rfS1vT3JMzgCUGtiow',\n",
       " u'dn_ipqbm7_jUz5X3rDez_A',\n",
       " u'eAc9Vd6loOgRQolMXQt6FA',\n",
       " u'eEnNw3_hBvxcFHyr23kAuA',\n",
       " u'eLFfWcdb7VkqNyTONksHiQ',\n",
       " u'eS29S_06lvsDW04wVrIVxg',\n",
       " u'eoHdUeQDNgQ6WYEnP2aiRw',\n",
       " u'f4x1YBxkLrZg652xt2KR5g',\n",
       " u'fL-b760btOaGa85OJ9ut3w',\n",
       " u'fQt4D34vcJNtEf8Q4zte3w',\n",
       " u'faPVqws-x-5k2CQKDNtHxw',\n",
       " u'frCxZS7lPhEnQRJ3UY6m7A',\n",
       " u'g8OnV26ywJlZpezdBnOWUQ',\n",
       " u'gG9z6zr_49LocyCTvSFg0w',\n",
       " u'gTlDDzDEHyDQ6iwjNhpI6A',\n",
       " u'hihud--QRriCYZw1zZvW4g',\n",
       " u'hrhtWc8UcoZqYr2d7YPgEA',\n",
       " u'iCQpiavjjPzJ5_3gPD5Ebg',\n",
       " u'igHYkXZMLAc9UdV5VnR_AA',\n",
       " u'ii8sAGBexBOJoYRFafF9XQ',\n",
       " u'j5nPiTwWEFr-VsePew7Sjg',\n",
       " u'jWv5GUtEp30OD5L5C8c2DQ',\n",
       " u'kRgAf6j2y1eR0wOFdzFAuw',\n",
       " u'l_GV0hgEoTUf70uJVT0_hg',\n",
       " u'mDR12Hafvr84ctpsV6YLag',\n",
       " u'mz9ltimeAIy2c2qf5ctljw',\n",
       " u'na4Th5DrNauOv-c43QQFvA',\n",
       " u'o7AiTlyWUrBSzdz6oMHj5w',\n",
       " u'oVrvzUJczq0e2JzVxSTyag',\n",
       " u'p0iEUamJVp_QpaheE-Nz_g',\n",
       " u'pH0BLkL4cbxKzu471VZnuA',\n",
       " u'pSQFynH1VxkfSmehRXlZWw',\n",
       " u'q-zZgXKAQFLEgMp9ZNllgQ',\n",
       " u'qjnJFZtsY_nfRzoL3J_UWQ',\n",
       " u'rTS8LsUmNIiXsXydE49tPA',\n",
       " u'rcaPajgKOJC2vo_l3xa42A',\n",
       " u'sNVGdeOPeitJ3OWUQBINzQ',\n",
       " u'sqRX-XLlhx4rs2c1TpBf8A',\n",
       " u't-o_Sraneime4DDhWrQRBA',\n",
       " u'ty5KQYqYRxwXDG_e4pz-4w',\n",
       " u'u-SJ5QUwrNquL9VnXwl8cg',\n",
       " u'uGupeWqih0yIcCg8anM1PA',\n",
       " u'u_vPjx925UPEG9DFOAAvFQ',\n",
       " u'uanCi4OGc1mHLGl_AT4JhQ',\n",
       " u'ugLqbAvBdRDc-gS4hpslXw',\n",
       " u'ujHiaprwCQ5ewziu0Vi9rw',\n",
       " u'wUKzaS1MHg94RGM6z8u9mw',\n",
       " u'wl0QZqAzr1DelslQ02JGCQ',\n",
       " u'xVEtGucSRLk5pxxN0t4i6g',\n",
       " u'xkVMIk_Vqh17f48ZQ_6b0w',\n",
       " u'xtYiHTmunjfCN2sUaQxBjA',\n",
       " u'yNPh5SO-7wr8HPpVCDPbXQ',\n",
       " u'yQab5dxZzgBLTEHCw9V7_w',\n",
       " u'yfxDa8RFOvJPQh0rNtakHA',\n",
       " u'z6-reuC5BYf_Rth9gMBfgQ',\n",
       " u'zdE82PiD6wquvjYLyhOJNA'}"
      ]
     },
     "execution_count": 9,
     "metadata": {},
     "output_type": "execute_result"
    }
   ],
   "source": [
    "valid_business_ids = set()\n",
    "business_id_to_index = {}\n",
    "business_index_to_bid = {}\n",
    "c = 0\n",
    "for business in businesses:\n",
    "    if business[\"review_count\"] >= 1000:\n",
    "        valid_business_ids.add(business[\"business_id\"])\n",
    "        if business[\"business_id\"] not in business_id_to_index:\n",
    "            business_id_to_index[business[\"business_id\"]] = c\n",
    "            business_index_to_bid[c] = business[\"business_id\"]\n",
    "            c += 1\n",
    "print(len(valid_business_ids))\n",
    "valid_business_ids"
   ]
  },
  {
   "cell_type": "code",
   "execution_count": null,
   "metadata": {
    "collapsed": false
   },
   "outputs": [],
   "source": [
    "only_text = []\n",
    "ordered_review_ids = []\n",
    "ordered_business_id_indices = []\n",
    "bid_to_rid_dict = defaultdict(list)\n",
    "rid_to_bid_dict = {}\n",
    "for review in reviews:\n",
    "    if review[\"business_id\"] in valid_business_ids:\n",
    "        only_text.append(review[\"text\"])\n",
    "        ordered_review_ids.append(review[\"review_id\"])\n",
    "        ordered_business_id_indices.append(business_id_to_index[review[\"business_id\"]])\n",
    "        bid_to_rid_dict[review[\"business_id\"]].append(review[\"review_id\"])\n",
    "        rid_to_bid_dict[review[\"review_id\"]] = review[\"business_id\"]\n",
    "print(len(only_text))\n",
    "print(len(ordered_review_ids))"
   ]
  },
  {
   "cell_type": "code",
   "execution_count": null,
   "metadata": {
    "collapsed": true
   },
   "outputs": [],
   "source": []
  },
  {
   "cell_type": "code",
   "execution_count": null,
   "metadata": {
    "collapsed": true
   },
   "outputs": [],
   "source": []
  },
  {
   "cell_type": "code",
   "execution_count": null,
   "metadata": {
    "collapsed": false
   },
   "outputs": [],
   "source": [
    "\n",
    "tfidf_vectorizer = TfidfVectorizer(input=only_text, lowercase=True, stop_words=\"english\", max_df=0.9, min_df=100)\n",
    "tfidf_review_text = tfidf_vectorizer.fit_transform(only_text)\n",
    "tfidf_feature_names = tfidf_vectorizer.get_feature_names()\n",
    "\n",
    "print(tfidf_review_text.shape)"
   ]
  },
  {
   "cell_type": "code",
   "execution_count": null,
   "metadata": {
    "collapsed": false
   },
   "outputs": [],
   "source": [
    "count_vectorizer = CountVectorizer(input=only_text, lowercase=True, stop_words=\"english\", max_df=0.9, min_df=100)\n",
    "count_review_text = count_vectorizer.fit_transform(only_text)\n",
    "count_feature_names = count_vectorizer.get_feature_names()\n",
    "\n",
    "print(count_review_text.shape)"
   ]
  },
  {
   "cell_type": "code",
   "execution_count": null,
   "metadata": {
    "collapsed": false
   },
   "outputs": [],
   "source": [
    "print(count_feature_names)"
   ]
  },
  {
   "cell_type": "code",
   "execution_count": null,
   "metadata": {
    "collapsed": true
   },
   "outputs": [],
   "source": []
  },
  {
   "cell_type": "code",
   "execution_count": null,
   "metadata": {
    "collapsed": true
   },
   "outputs": [],
   "source": [
    "def display_topics(model, feature_names, n_top_words):\n",
    "    for topic_index, topic in enumerate(model.components_):\n",
    "        print(\"Topic %d:\" % topic_index)\n",
    "        print(\" \".join([feature_names[i] for i in topic.argsort()[:-n_top_words:-1]]))"
   ]
  },
  {
   "cell_type": "code",
   "execution_count": null,
   "metadata": {
    "collapsed": true
   },
   "outputs": [],
   "source": []
  },
  {
   "cell_type": "code",
   "execution_count": null,
   "metadata": {
    "collapsed": false
   },
   "outputs": [],
   "source": [
    "lda_model = LatentDirichletAllocation(n_topics=30).fit(count_review_text)\n",
    "display_topics(lda_model, count_feature_names, 20)"
   ]
  },
  {
   "cell_type": "code",
   "execution_count": null,
   "metadata": {
    "collapsed": false
   },
   "outputs": [],
   "source": [
    "nmf_model = NMF(n_components=30).fit(tfidf_review_text)\n",
    "display_topics(nmf_model, tfidf_feature_names, 20)"
   ]
  },
  {
   "cell_type": "code",
   "execution_count": null,
   "metadata": {
    "collapsed": true
   },
   "outputs": [],
   "source": []
  },
  {
   "cell_type": "code",
   "execution_count": null,
   "metadata": {
    "collapsed": true
   },
   "outputs": [],
   "source": []
  },
  {
   "cell_type": "code",
   "execution_count": null,
   "metadata": {
    "collapsed": false
   },
   "outputs": [],
   "source": [
    "tagged_doc_list = []\n",
    "for i in range(len(only_text)):\n",
    "    text = only_text[i]\n",
    "    tokens = nltk.word_tokenize(text)\n",
    "    label = ordered_business_id_indices[i]\n",
    "    tagged_doc = TaggedDocument(tokens, [label])\n",
    "    tagged_doc_list.append(tagged_doc)"
   ]
  },
  {
   "cell_type": "code",
   "execution_count": null,
   "metadata": {
    "collapsed": false
   },
   "outputs": [],
   "source": [
    "tagged_doc_list[0]"
   ]
  },
  {
   "cell_type": "code",
   "execution_count": null,
   "metadata": {
    "collapsed": false
   },
   "outputs": [],
   "source": [
    "only_text[0]"
   ]
  },
  {
   "cell_type": "code",
   "execution_count": null,
   "metadata": {
    "collapsed": false
   },
   "outputs": [],
   "source": [
    "model = Doc2Vec(size=500, min_count=100, iter=5)\n",
    "model.build_vocab(tagged_doc_list)\n",
    "%time model.train(tagged_doc_list)"
   ]
  },
  {
   "cell_type": "code",
   "execution_count": null,
   "metadata": {
    "collapsed": true
   },
   "outputs": [],
   "source": [
    "model.save('reviews_doc2vec_model.doc2vec')\n"
   ]
  },
  {
   "cell_type": "code",
   "execution_count": null,
   "metadata": {
    "collapsed": true
   },
   "outputs": [],
   "source": [
    "# load the model back\n",
    "model_loaded = Doc2Vec.load('reviews_doc2vec_model.doc2vec')"
   ]
  },
  {
   "cell_type": "code",
   "execution_count": null,
   "metadata": {
    "collapsed": true
   },
   "outputs": [],
   "source": []
  },
  {
   "cell_type": "code",
   "execution_count": null,
   "metadata": {
    "collapsed": true
   },
   "outputs": [],
   "source": []
  },
  {
   "cell_type": "code",
   "execution_count": null,
   "metadata": {
    "collapsed": true
   },
   "outputs": [],
   "source": [
    "example_index = 100"
   ]
  },
  {
   "cell_type": "code",
   "execution_count": null,
   "metadata": {
    "collapsed": false
   },
   "outputs": [],
   "source": [
    "example_bid = rid_to_bid_dict[ordered_review_ids[example_index]]\n",
    "example_rids_for_business = bid_to_rid_dict[example_bid]"
   ]
  },
  {
   "cell_type": "code",
   "execution_count": null,
   "metadata": {
    "collapsed": false
   },
   "outputs": [],
   "source": []
  },
  {
   "cell_type": "code",
   "execution_count": null,
   "metadata": {
    "collapsed": false
   },
   "outputs": [],
   "source": [
    "print(len(example_rids_for_business))\n",
    "example_bid"
   ]
  },
  {
   "cell_type": "code",
   "execution_count": null,
   "metadata": {
    "collapsed": false
   },
   "outputs": [],
   "source": [
    "\n",
    "print(\"Review Text is:\")\n",
    "print(only_text[example_index])\n",
    "\n",
    "for rid in example_rids_for_business[:5]:\n",
    "    ind = ordered_review_ids.index(rid)\n",
    "    print\n",
    "    print(\"---------------\")\n",
    "    print(\"Review index %d is:\" % ind)\n",
    "    print(only_text[ind])"
   ]
  },
  {
   "cell_type": "code",
   "execution_count": null,
   "metadata": {
    "collapsed": true
   },
   "outputs": [],
   "source": []
  },
  {
   "cell_type": "code",
   "execution_count": null,
   "metadata": {
    "collapsed": true
   },
   "outputs": [],
   "source": []
  },
  {
   "cell_type": "code",
   "execution_count": null,
   "metadata": {
    "collapsed": true
   },
   "outputs": [],
   "source": []
  },
  {
   "cell_type": "code",
   "execution_count": null,
   "metadata": {
    "collapsed": false
   },
   "outputs": [],
   "source": []
  },
  {
   "cell_type": "code",
   "execution_count": null,
   "metadata": {
    "collapsed": false
   },
   "outputs": [],
   "source": [
    "inferred = model.infer_vector(nltk.word_tokenize(only_text[100]))\n",
    "inferred"
   ]
  },
  {
   "cell_type": "code",
   "execution_count": null,
   "metadata": {
    "collapsed": false
   },
   "outputs": [],
   "source": [
    "sims = model.docvecs.most_similar([inferred], topn=len(model.docvecs))\n",
    "sims"
   ]
  },
  {
   "cell_type": "code",
   "execution_count": null,
   "metadata": {
    "collapsed": true
   },
   "outputs": [],
   "source": []
  },
  {
   "cell_type": "code",
   "execution_count": null,
   "metadata": {
    "collapsed": true
   },
   "outputs": [],
   "source": []
  },
  {
   "cell_type": "code",
   "execution_count": null,
   "metadata": {
    "collapsed": true
   },
   "outputs": [],
   "source": []
  },
  {
   "cell_type": "code",
   "execution_count": null,
   "metadata": {
    "collapsed": true
   },
   "outputs": [],
   "source": [
    "def compute_similarities(start_ind, end_ind):\n",
    "    distances = []\n",
    "    c = 0.0\n",
    "    sum_vectors = np.zeros(500)\n",
    "    for i in range(start_ind, end_ind+1):\n",
    "        \n",
    "        text = only_text[i]\n",
    "        word2vec_vector = model.infer_vector(nltk.word_tokenize(text))\n",
    "        curr_business_vector = sum_vectors / max(1.0, c)\n",
    "        distances.append(cosine_similarity(word2vec_vector.reshape(1,-1), curr_business_vector.reshape(1,-1))[0,0])\n",
    "        sum_vectors += word2vec_vector\n",
    "        c += 1\n",
    "    return distances"
   ]
  },
  {
   "cell_type": "code",
   "execution_count": null,
   "metadata": {
    "collapsed": false
   },
   "outputs": [],
   "source": [
    "bid_to_min_ind = {}\n",
    "bid_to_max_ind = {}\n",
    "for i, business_index in enumerate(ordered_business_id_indices):\n",
    "    if business_index_to_bid[business_index] not in bid_to_min_ind:\n",
    "        bid_to_min_ind[business_index_to_bid[business_index]] = i\n",
    "    bid_to_max_ind[business_index_to_bid[business_index]] = i\n"
   ]
  },
  {
   "cell_type": "code",
   "execution_count": null,
   "metadata": {
    "collapsed": false
   },
   "outputs": [],
   "source": []
  },
  {
   "cell_type": "code",
   "execution_count": null,
   "metadata": {
    "collapsed": true
   },
   "outputs": [],
   "source": []
  },
  {
   "cell_type": "code",
   "execution_count": null,
   "metadata": {
    "collapsed": true
   },
   "outputs": [],
   "source": [
    "example_bid_index = 1\n",
    "example_bid = business_index_to_bid[example_bid_index]"
   ]
  },
  {
   "cell_type": "code",
   "execution_count": null,
   "metadata": {
    "collapsed": false
   },
   "outputs": [],
   "source": [
    "similarities = compute_similarities(bid_to_min_ind[example_bid], bid_to_max_ind[example_bid])\n",
    "similarities"
   ]
  },
  {
   "cell_type": "code",
   "execution_count": null,
   "metadata": {
    "collapsed": false
   },
   "outputs": [],
   "source": []
  },
  {
   "cell_type": "code",
   "execution_count": null,
   "metadata": {
    "collapsed": false
   },
   "outputs": [],
   "source": [
    "# Create a trace\n",
    "trace = Scatter(\n",
    "    x = range(len(similarities)),\n",
    "    y = similarities\n",
    ")\n",
    "\n",
    "data = [trace]\n",
    "\n",
    "py.iplot(data)"
   ]
  },
  {
   "cell_type": "code",
   "execution_count": null,
   "metadata": {
    "collapsed": true
   },
   "outputs": [],
   "source": []
  },
  {
   "cell_type": "code",
   "execution_count": null,
   "metadata": {
    "collapsed": true
   },
   "outputs": [],
   "source": []
  },
  {
   "cell_type": "code",
   "execution_count": null,
   "metadata": {
    "collapsed": true
   },
   "outputs": [],
   "source": []
  },
  {
   "cell_type": "code",
   "execution_count": null,
   "metadata": {
    "collapsed": true
   },
   "outputs": [],
   "source": []
  },
  {
   "cell_type": "code",
   "execution_count": null,
   "metadata": {
    "collapsed": true
   },
   "outputs": [],
   "source": []
  },
  {
   "cell_type": "code",
   "execution_count": null,
   "metadata": {
    "collapsed": true
   },
   "outputs": [],
   "source": []
  },
  {
   "cell_type": "code",
   "execution_count": null,
   "metadata": {
    "collapsed": true
   },
   "outputs": [],
   "source": []
  }
 ],
 "metadata": {
  "anaconda-cloud": {},
  "kernelspec": {
   "display_name": "Python [conda root]",
   "language": "python",
   "name": "conda-root-py"
  },
  "language_info": {
   "codemirror_mode": {
    "name": "ipython",
    "version": 2
   },
   "file_extension": ".py",
   "mimetype": "text/x-python",
   "name": "python",
   "nbconvert_exporter": "python",
   "pygments_lexer": "ipython2",
   "version": "2.7.12"
  }
 },
 "nbformat": 4,
 "nbformat_minor": 2
}
